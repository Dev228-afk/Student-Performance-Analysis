{
 "cells": [
  {
   "cell_type": "markdown",
   "id": "4d423bfa",
   "metadata": {},
   "source": [
    "## **Student Performance Data**\n",
    "- The following data was obtained in a survey of students' math course in secondary school. \n",
    "- It contains a lot of interesting Features like social, gender and study information about students."
   ]
  },
  {
   "cell_type": "markdown",
   "id": "f40134b6",
   "metadata": {},
   "source": [
    "**Note:** For Visulization I've used **Plotly** (in case if it's not installed in your pc, just type **pip install plotly** in Cell) and **Seaborn** Library"
   ]
  },
  {
   "cell_type": "markdown",
   "id": "2fc965aa",
   "metadata": {},
   "source": [
    "#### Library Imports"
   ]
  },
  {
   "cell_type": "code",
   "execution_count": 190,
   "id": "b993a252",
   "metadata": {},
   "outputs": [],
   "source": [
    "import pandas as pd\n",
    "import numpy as np\n",
    "import matplotlib.pyplot as plt\n",
    "import plotly \n",
    "import plotly.express as ex\n",
    "import seaborn as sns\n",
    "from plotly.io import templates\n",
    "from sklearn.preprocessing import StandardScaler\n",
    "from scipy.stats import norm\n",
    "from sklearn.preprocessing import LabelEncoder\n",
    "\n",
    "\n",
    "sns.set(style= 'whitegrid', color_codes=True)\n",
    "sns.set_theme(context='notebook',style='darkgrid',\n",
    "              palette='deep',font='sans-serif',font_scale=1,color_codes=True,rc=None)\n",
    "%matplotlib inline"
   ]
  },
  {
   "cell_type": "code",
   "execution_count": 191,
   "id": "4a317c1d",
   "metadata": {},
   "outputs": [],
   "source": [
    "# to measure linear / non-linear relationship B/W two columns\n",
    "# pip install ppscore\n",
    "import ppscore as pps"
   ]
  },
  {
   "cell_type": "code",
   "execution_count": 192,
   "id": "249ac543",
   "metadata": {},
   "outputs": [
    {
     "data": {
      "text/plain": [
       "(395, 33)"
      ]
     },
     "execution_count": 192,
     "metadata": {},
     "output_type": "execute_result"
    }
   ],
   "source": [
    "df= pd.read_csv('student_data.csv')\n",
    "df.shape"
   ]
  },
  {
   "cell_type": "code",
   "execution_count": 193,
   "id": "2d2924da",
   "metadata": {},
   "outputs": [
    {
     "data": {
      "text/html": [
       "<div>\n",
       "<style scoped>\n",
       "    .dataframe tbody tr th:only-of-type {\n",
       "        vertical-align: middle;\n",
       "    }\n",
       "\n",
       "    .dataframe tbody tr th {\n",
       "        vertical-align: top;\n",
       "    }\n",
       "\n",
       "    .dataframe thead th {\n",
       "        text-align: right;\n",
       "    }\n",
       "</style>\n",
       "<table border=\"1\" class=\"dataframe\">\n",
       "  <thead>\n",
       "    <tr style=\"text-align: right;\">\n",
       "      <th></th>\n",
       "      <th>school</th>\n",
       "      <th>sex</th>\n",
       "      <th>age</th>\n",
       "      <th>address</th>\n",
       "      <th>famsize</th>\n",
       "      <th>Pstatus</th>\n",
       "      <th>Medu</th>\n",
       "      <th>Fedu</th>\n",
       "      <th>Mjob</th>\n",
       "      <th>Fjob</th>\n",
       "      <th>...</th>\n",
       "      <th>famrel</th>\n",
       "      <th>freetime</th>\n",
       "      <th>goout</th>\n",
       "      <th>Dalc</th>\n",
       "      <th>Walc</th>\n",
       "      <th>health</th>\n",
       "      <th>absences</th>\n",
       "      <th>G1</th>\n",
       "      <th>G2</th>\n",
       "      <th>G3</th>\n",
       "    </tr>\n",
       "  </thead>\n",
       "  <tbody>\n",
       "    <tr>\n",
       "      <th>83</th>\n",
       "      <td>GP</td>\n",
       "      <td>M</td>\n",
       "      <td>15</td>\n",
       "      <td>U</td>\n",
       "      <td>LE3</td>\n",
       "      <td>T</td>\n",
       "      <td>2</td>\n",
       "      <td>2</td>\n",
       "      <td>services</td>\n",
       "      <td>services</td>\n",
       "      <td>...</td>\n",
       "      <td>5</td>\n",
       "      <td>3</td>\n",
       "      <td>3</td>\n",
       "      <td>1</td>\n",
       "      <td>3</td>\n",
       "      <td>4</td>\n",
       "      <td>4</td>\n",
       "      <td>15</td>\n",
       "      <td>15</td>\n",
       "      <td>15</td>\n",
       "    </tr>\n",
       "    <tr>\n",
       "      <th>256</th>\n",
       "      <td>GP</td>\n",
       "      <td>F</td>\n",
       "      <td>17</td>\n",
       "      <td>U</td>\n",
       "      <td>LE3</td>\n",
       "      <td>T</td>\n",
       "      <td>4</td>\n",
       "      <td>2</td>\n",
       "      <td>teacher</td>\n",
       "      <td>services</td>\n",
       "      <td>...</td>\n",
       "      <td>4</td>\n",
       "      <td>2</td>\n",
       "      <td>3</td>\n",
       "      <td>1</td>\n",
       "      <td>1</td>\n",
       "      <td>4</td>\n",
       "      <td>6</td>\n",
       "      <td>14</td>\n",
       "      <td>12</td>\n",
       "      <td>13</td>\n",
       "    </tr>\n",
       "    <tr>\n",
       "      <th>75</th>\n",
       "      <td>GP</td>\n",
       "      <td>M</td>\n",
       "      <td>15</td>\n",
       "      <td>U</td>\n",
       "      <td>GT3</td>\n",
       "      <td>T</td>\n",
       "      <td>4</td>\n",
       "      <td>3</td>\n",
       "      <td>teacher</td>\n",
       "      <td>other</td>\n",
       "      <td>...</td>\n",
       "      <td>4</td>\n",
       "      <td>3</td>\n",
       "      <td>3</td>\n",
       "      <td>2</td>\n",
       "      <td>3</td>\n",
       "      <td>5</td>\n",
       "      <td>6</td>\n",
       "      <td>9</td>\n",
       "      <td>9</td>\n",
       "      <td>10</td>\n",
       "    </tr>\n",
       "    <tr>\n",
       "      <th>39</th>\n",
       "      <td>GP</td>\n",
       "      <td>F</td>\n",
       "      <td>15</td>\n",
       "      <td>R</td>\n",
       "      <td>GT3</td>\n",
       "      <td>T</td>\n",
       "      <td>2</td>\n",
       "      <td>2</td>\n",
       "      <td>at_home</td>\n",
       "      <td>other</td>\n",
       "      <td>...</td>\n",
       "      <td>4</td>\n",
       "      <td>3</td>\n",
       "      <td>1</td>\n",
       "      <td>1</td>\n",
       "      <td>1</td>\n",
       "      <td>2</td>\n",
       "      <td>8</td>\n",
       "      <td>14</td>\n",
       "      <td>13</td>\n",
       "      <td>13</td>\n",
       "    </tr>\n",
       "  </tbody>\n",
       "</table>\n",
       "<p>4 rows × 33 columns</p>\n",
       "</div>"
      ],
      "text/plain": [
       "    school sex  age address famsize Pstatus  Medu  Fedu      Mjob      Fjob  \\\n",
       "83      GP   M   15       U     LE3       T     2     2  services  services   \n",
       "256     GP   F   17       U     LE3       T     4     2   teacher  services   \n",
       "75      GP   M   15       U     GT3       T     4     3   teacher     other   \n",
       "39      GP   F   15       R     GT3       T     2     2   at_home     other   \n",
       "\n",
       "     ... famrel freetime  goout  Dalc  Walc health absences  G1  G2  G3  \n",
       "83   ...      5        3      3     1     3      4        4  15  15  15  \n",
       "256  ...      4        2      3     1     1      4        6  14  12  13  \n",
       "75   ...      4        3      3     2     3      5        6   9   9  10  \n",
       "39   ...      4        3      1     1     1      2        8  14  13  13  \n",
       "\n",
       "[4 rows x 33 columns]"
      ]
     },
     "execution_count": 193,
     "metadata": {},
     "output_type": "execute_result"
    }
   ],
   "source": [
    "df.sample(4)"
   ]
  },
  {
   "cell_type": "markdown",
   "id": "e6298a8f",
   "metadata": {},
   "source": [
    "### 1. Visualizing the correlations between various features and grades and see which features have a significant impact on grades.\n",
    "- Engineering the three grade parameters (G1, G2 and G3) as one feature for such comparisons."
   ]
  },
  {
   "cell_type": "code",
   "execution_count": 194,
   "id": "7e422bf6",
   "metadata": {},
   "outputs": [
    {
     "data": {
      "text/html": [
       "<div>\n",
       "<style scoped>\n",
       "    .dataframe tbody tr th:only-of-type {\n",
       "        vertical-align: middle;\n",
       "    }\n",
       "\n",
       "    .dataframe tbody tr th {\n",
       "        vertical-align: top;\n",
       "    }\n",
       "\n",
       "    .dataframe thead th {\n",
       "        text-align: right;\n",
       "    }\n",
       "</style>\n",
       "<table border=\"1\" class=\"dataframe\">\n",
       "  <thead>\n",
       "    <tr style=\"text-align: right;\">\n",
       "      <th></th>\n",
       "      <th>school</th>\n",
       "      <th>sex</th>\n",
       "      <th>age</th>\n",
       "      <th>address</th>\n",
       "      <th>famsize</th>\n",
       "      <th>Pstatus</th>\n",
       "      <th>Medu</th>\n",
       "      <th>Fedu</th>\n",
       "      <th>Mjob</th>\n",
       "      <th>Fjob</th>\n",
       "      <th>...</th>\n",
       "      <th>freetime</th>\n",
       "      <th>goout</th>\n",
       "      <th>Dalc</th>\n",
       "      <th>Walc</th>\n",
       "      <th>health</th>\n",
       "      <th>absences</th>\n",
       "      <th>G1</th>\n",
       "      <th>G2</th>\n",
       "      <th>G3</th>\n",
       "      <th>G_Mean</th>\n",
       "    </tr>\n",
       "  </thead>\n",
       "  <tbody>\n",
       "    <tr>\n",
       "      <th>0</th>\n",
       "      <td>GP</td>\n",
       "      <td>F</td>\n",
       "      <td>18</td>\n",
       "      <td>U</td>\n",
       "      <td>GT3</td>\n",
       "      <td>A</td>\n",
       "      <td>4</td>\n",
       "      <td>4</td>\n",
       "      <td>at_home</td>\n",
       "      <td>teacher</td>\n",
       "      <td>...</td>\n",
       "      <td>3</td>\n",
       "      <td>4</td>\n",
       "      <td>1</td>\n",
       "      <td>1</td>\n",
       "      <td>3</td>\n",
       "      <td>6</td>\n",
       "      <td>5</td>\n",
       "      <td>6</td>\n",
       "      <td>6</td>\n",
       "      <td>5.666667</td>\n",
       "    </tr>\n",
       "    <tr>\n",
       "      <th>1</th>\n",
       "      <td>GP</td>\n",
       "      <td>F</td>\n",
       "      <td>17</td>\n",
       "      <td>U</td>\n",
       "      <td>GT3</td>\n",
       "      <td>T</td>\n",
       "      <td>1</td>\n",
       "      <td>1</td>\n",
       "      <td>at_home</td>\n",
       "      <td>other</td>\n",
       "      <td>...</td>\n",
       "      <td>3</td>\n",
       "      <td>3</td>\n",
       "      <td>1</td>\n",
       "      <td>1</td>\n",
       "      <td>3</td>\n",
       "      <td>4</td>\n",
       "      <td>5</td>\n",
       "      <td>5</td>\n",
       "      <td>6</td>\n",
       "      <td>5.333333</td>\n",
       "    </tr>\n",
       "    <tr>\n",
       "      <th>2</th>\n",
       "      <td>GP</td>\n",
       "      <td>F</td>\n",
       "      <td>15</td>\n",
       "      <td>U</td>\n",
       "      <td>LE3</td>\n",
       "      <td>T</td>\n",
       "      <td>1</td>\n",
       "      <td>1</td>\n",
       "      <td>at_home</td>\n",
       "      <td>other</td>\n",
       "      <td>...</td>\n",
       "      <td>3</td>\n",
       "      <td>2</td>\n",
       "      <td>2</td>\n",
       "      <td>3</td>\n",
       "      <td>3</td>\n",
       "      <td>10</td>\n",
       "      <td>7</td>\n",
       "      <td>8</td>\n",
       "      <td>10</td>\n",
       "      <td>8.333333</td>\n",
       "    </tr>\n",
       "    <tr>\n",
       "      <th>3</th>\n",
       "      <td>GP</td>\n",
       "      <td>F</td>\n",
       "      <td>15</td>\n",
       "      <td>U</td>\n",
       "      <td>GT3</td>\n",
       "      <td>T</td>\n",
       "      <td>4</td>\n",
       "      <td>2</td>\n",
       "      <td>health</td>\n",
       "      <td>services</td>\n",
       "      <td>...</td>\n",
       "      <td>2</td>\n",
       "      <td>2</td>\n",
       "      <td>1</td>\n",
       "      <td>1</td>\n",
       "      <td>5</td>\n",
       "      <td>2</td>\n",
       "      <td>15</td>\n",
       "      <td>14</td>\n",
       "      <td>15</td>\n",
       "      <td>14.666667</td>\n",
       "    </tr>\n",
       "    <tr>\n",
       "      <th>4</th>\n",
       "      <td>GP</td>\n",
       "      <td>F</td>\n",
       "      <td>16</td>\n",
       "      <td>U</td>\n",
       "      <td>GT3</td>\n",
       "      <td>T</td>\n",
       "      <td>3</td>\n",
       "      <td>3</td>\n",
       "      <td>other</td>\n",
       "      <td>other</td>\n",
       "      <td>...</td>\n",
       "      <td>3</td>\n",
       "      <td>2</td>\n",
       "      <td>1</td>\n",
       "      <td>2</td>\n",
       "      <td>5</td>\n",
       "      <td>4</td>\n",
       "      <td>6</td>\n",
       "      <td>10</td>\n",
       "      <td>10</td>\n",
       "      <td>8.666667</td>\n",
       "    </tr>\n",
       "    <tr>\n",
       "      <th>...</th>\n",
       "      <td>...</td>\n",
       "      <td>...</td>\n",
       "      <td>...</td>\n",
       "      <td>...</td>\n",
       "      <td>...</td>\n",
       "      <td>...</td>\n",
       "      <td>...</td>\n",
       "      <td>...</td>\n",
       "      <td>...</td>\n",
       "      <td>...</td>\n",
       "      <td>...</td>\n",
       "      <td>...</td>\n",
       "      <td>...</td>\n",
       "      <td>...</td>\n",
       "      <td>...</td>\n",
       "      <td>...</td>\n",
       "      <td>...</td>\n",
       "      <td>...</td>\n",
       "      <td>...</td>\n",
       "      <td>...</td>\n",
       "      <td>...</td>\n",
       "    </tr>\n",
       "    <tr>\n",
       "      <th>390</th>\n",
       "      <td>MS</td>\n",
       "      <td>M</td>\n",
       "      <td>20</td>\n",
       "      <td>U</td>\n",
       "      <td>LE3</td>\n",
       "      <td>A</td>\n",
       "      <td>2</td>\n",
       "      <td>2</td>\n",
       "      <td>services</td>\n",
       "      <td>services</td>\n",
       "      <td>...</td>\n",
       "      <td>5</td>\n",
       "      <td>4</td>\n",
       "      <td>4</td>\n",
       "      <td>5</td>\n",
       "      <td>4</td>\n",
       "      <td>11</td>\n",
       "      <td>9</td>\n",
       "      <td>9</td>\n",
       "      <td>9</td>\n",
       "      <td>9.000000</td>\n",
       "    </tr>\n",
       "    <tr>\n",
       "      <th>391</th>\n",
       "      <td>MS</td>\n",
       "      <td>M</td>\n",
       "      <td>17</td>\n",
       "      <td>U</td>\n",
       "      <td>LE3</td>\n",
       "      <td>T</td>\n",
       "      <td>3</td>\n",
       "      <td>1</td>\n",
       "      <td>services</td>\n",
       "      <td>services</td>\n",
       "      <td>...</td>\n",
       "      <td>4</td>\n",
       "      <td>5</td>\n",
       "      <td>3</td>\n",
       "      <td>4</td>\n",
       "      <td>2</td>\n",
       "      <td>3</td>\n",
       "      <td>14</td>\n",
       "      <td>16</td>\n",
       "      <td>16</td>\n",
       "      <td>15.333333</td>\n",
       "    </tr>\n",
       "    <tr>\n",
       "      <th>392</th>\n",
       "      <td>MS</td>\n",
       "      <td>M</td>\n",
       "      <td>21</td>\n",
       "      <td>R</td>\n",
       "      <td>GT3</td>\n",
       "      <td>T</td>\n",
       "      <td>1</td>\n",
       "      <td>1</td>\n",
       "      <td>other</td>\n",
       "      <td>other</td>\n",
       "      <td>...</td>\n",
       "      <td>5</td>\n",
       "      <td>3</td>\n",
       "      <td>3</td>\n",
       "      <td>3</td>\n",
       "      <td>3</td>\n",
       "      <td>3</td>\n",
       "      <td>10</td>\n",
       "      <td>8</td>\n",
       "      <td>7</td>\n",
       "      <td>8.333333</td>\n",
       "    </tr>\n",
       "    <tr>\n",
       "      <th>393</th>\n",
       "      <td>MS</td>\n",
       "      <td>M</td>\n",
       "      <td>18</td>\n",
       "      <td>R</td>\n",
       "      <td>LE3</td>\n",
       "      <td>T</td>\n",
       "      <td>3</td>\n",
       "      <td>2</td>\n",
       "      <td>services</td>\n",
       "      <td>other</td>\n",
       "      <td>...</td>\n",
       "      <td>4</td>\n",
       "      <td>1</td>\n",
       "      <td>3</td>\n",
       "      <td>4</td>\n",
       "      <td>5</td>\n",
       "      <td>0</td>\n",
       "      <td>11</td>\n",
       "      <td>12</td>\n",
       "      <td>10</td>\n",
       "      <td>11.000000</td>\n",
       "    </tr>\n",
       "    <tr>\n",
       "      <th>394</th>\n",
       "      <td>MS</td>\n",
       "      <td>M</td>\n",
       "      <td>19</td>\n",
       "      <td>U</td>\n",
       "      <td>LE3</td>\n",
       "      <td>T</td>\n",
       "      <td>1</td>\n",
       "      <td>1</td>\n",
       "      <td>other</td>\n",
       "      <td>at_home</td>\n",
       "      <td>...</td>\n",
       "      <td>2</td>\n",
       "      <td>3</td>\n",
       "      <td>3</td>\n",
       "      <td>3</td>\n",
       "      <td>5</td>\n",
       "      <td>5</td>\n",
       "      <td>8</td>\n",
       "      <td>9</td>\n",
       "      <td>9</td>\n",
       "      <td>8.666667</td>\n",
       "    </tr>\n",
       "  </tbody>\n",
       "</table>\n",
       "<p>395 rows × 34 columns</p>\n",
       "</div>"
      ],
      "text/plain": [
       "    school sex  age address famsize Pstatus  Medu  Fedu      Mjob      Fjob  \\\n",
       "0       GP   F   18       U     GT3       A     4     4   at_home   teacher   \n",
       "1       GP   F   17       U     GT3       T     1     1   at_home     other   \n",
       "2       GP   F   15       U     LE3       T     1     1   at_home     other   \n",
       "3       GP   F   15       U     GT3       T     4     2    health  services   \n",
       "4       GP   F   16       U     GT3       T     3     3     other     other   \n",
       "..     ...  ..  ...     ...     ...     ...   ...   ...       ...       ...   \n",
       "390     MS   M   20       U     LE3       A     2     2  services  services   \n",
       "391     MS   M   17       U     LE3       T     3     1  services  services   \n",
       "392     MS   M   21       R     GT3       T     1     1     other     other   \n",
       "393     MS   M   18       R     LE3       T     3     2  services     other   \n",
       "394     MS   M   19       U     LE3       T     1     1     other   at_home   \n",
       "\n",
       "     ... freetime goout  Dalc  Walc  health absences  G1  G2  G3     G_Mean  \n",
       "0    ...        3     4     1     1       3        6   5   6   6   5.666667  \n",
       "1    ...        3     3     1     1       3        4   5   5   6   5.333333  \n",
       "2    ...        3     2     2     3       3       10   7   8  10   8.333333  \n",
       "3    ...        2     2     1     1       5        2  15  14  15  14.666667  \n",
       "4    ...        3     2     1     2       5        4   6  10  10   8.666667  \n",
       "..   ...      ...   ...   ...   ...     ...      ...  ..  ..  ..        ...  \n",
       "390  ...        5     4     4     5       4       11   9   9   9   9.000000  \n",
       "391  ...        4     5     3     4       2        3  14  16  16  15.333333  \n",
       "392  ...        5     3     3     3       3        3  10   8   7   8.333333  \n",
       "393  ...        4     1     3     4       5        0  11  12  10  11.000000  \n",
       "394  ...        2     3     3     3       5        5   8   9   9   8.666667  \n",
       "\n",
       "[395 rows x 34 columns]"
      ]
     },
     "execution_count": 194,
     "metadata": {},
     "output_type": "execute_result"
    }
   ],
   "source": [
    "# AVG grade of each student\n",
    "grad_mean= (df.G1 + df.G2 + df.G3) / 3\n",
    "df['G_Mean'] = grad_mean\n",
    "df"
   ]
  },
  {
   "cell_type": "code",
   "execution_count": 195,
   "id": "22b584ee",
   "metadata": {},
   "outputs": [],
   "source": [
    "# Calculating the Predictive Power Score (PPS) matrix for all columns in the dataframe\n",
    "pps_matrix = pps.matrix(df)"
   ]
  },
  {
   "cell_type": "code",
   "execution_count": 196,
   "id": "efb9a7b5",
   "metadata": {},
   "outputs": [
    {
     "data": {
      "text/html": [
       "<div>\n",
       "<style scoped>\n",
       "    .dataframe tbody tr th:only-of-type {\n",
       "        vertical-align: middle;\n",
       "    }\n",
       "\n",
       "    .dataframe tbody tr th {\n",
       "        vertical-align: top;\n",
       "    }\n",
       "\n",
       "    .dataframe thead th {\n",
       "        text-align: right;\n",
       "    }\n",
       "</style>\n",
       "<table border=\"1\" class=\"dataframe\">\n",
       "  <thead>\n",
       "    <tr style=\"text-align: right;\">\n",
       "      <th></th>\n",
       "      <th>x</th>\n",
       "      <th>y</th>\n",
       "      <th>ppscore</th>\n",
       "      <th>case</th>\n",
       "      <th>is_valid_score</th>\n",
       "      <th>metric</th>\n",
       "      <th>baseline_score</th>\n",
       "      <th>model_score</th>\n",
       "      <th>model</th>\n",
       "    </tr>\n",
       "  </thead>\n",
       "  <tbody>\n",
       "    <tr>\n",
       "      <th>1122</th>\n",
       "      <td>G_Mean</td>\n",
       "      <td>school</td>\n",
       "      <td>0.000000</td>\n",
       "      <td>classification</td>\n",
       "      <td>True</td>\n",
       "      <td>weighted F1</td>\n",
       "      <td>0.828917</td>\n",
       "      <td>0.823841</td>\n",
       "      <td>DecisionTreeClassifier()</td>\n",
       "    </tr>\n",
       "    <tr>\n",
       "      <th>1123</th>\n",
       "      <td>G_Mean</td>\n",
       "      <td>sex</td>\n",
       "      <td>0.000000</td>\n",
       "      <td>classification</td>\n",
       "      <td>True</td>\n",
       "      <td>weighted F1</td>\n",
       "      <td>0.503797</td>\n",
       "      <td>0.450849</td>\n",
       "      <td>DecisionTreeClassifier()</td>\n",
       "    </tr>\n",
       "    <tr>\n",
       "      <th>1124</th>\n",
       "      <td>G_Mean</td>\n",
       "      <td>age</td>\n",
       "      <td>0.000000</td>\n",
       "      <td>regression</td>\n",
       "      <td>True</td>\n",
       "      <td>mean absolute error</td>\n",
       "      <td>1.053165</td>\n",
       "      <td>1.156420</td>\n",
       "      <td>DecisionTreeRegressor()</td>\n",
       "    </tr>\n",
       "    <tr>\n",
       "      <th>1125</th>\n",
       "      <td>G_Mean</td>\n",
       "      <td>address</td>\n",
       "      <td>0.000000</td>\n",
       "      <td>classification</td>\n",
       "      <td>True</td>\n",
       "      <td>weighted F1</td>\n",
       "      <td>0.679787</td>\n",
       "      <td>0.645180</td>\n",
       "      <td>DecisionTreeClassifier()</td>\n",
       "    </tr>\n",
       "    <tr>\n",
       "      <th>1126</th>\n",
       "      <td>G_Mean</td>\n",
       "      <td>famsize</td>\n",
       "      <td>0.000000</td>\n",
       "      <td>classification</td>\n",
       "      <td>True</td>\n",
       "      <td>weighted F1</td>\n",
       "      <td>0.620253</td>\n",
       "      <td>0.601176</td>\n",
       "      <td>DecisionTreeClassifier()</td>\n",
       "    </tr>\n",
       "    <tr>\n",
       "      <th>1127</th>\n",
       "      <td>G_Mean</td>\n",
       "      <td>Pstatus</td>\n",
       "      <td>0.064255</td>\n",
       "      <td>classification</td>\n",
       "      <td>True</td>\n",
       "      <td>weighted F1</td>\n",
       "      <td>0.847145</td>\n",
       "      <td>0.856966</td>\n",
       "      <td>DecisionTreeClassifier()</td>\n",
       "    </tr>\n",
       "    <tr>\n",
       "      <th>1128</th>\n",
       "      <td>G_Mean</td>\n",
       "      <td>Medu</td>\n",
       "      <td>0.000000</td>\n",
       "      <td>regression</td>\n",
       "      <td>True</td>\n",
       "      <td>mean absolute error</td>\n",
       "      <td>0.913924</td>\n",
       "      <td>0.984267</td>\n",
       "      <td>DecisionTreeRegressor()</td>\n",
       "    </tr>\n",
       "    <tr>\n",
       "      <th>1129</th>\n",
       "      <td>G_Mean</td>\n",
       "      <td>Fedu</td>\n",
       "      <td>0.000000</td>\n",
       "      <td>regression</td>\n",
       "      <td>True</td>\n",
       "      <td>mean absolute error</td>\n",
       "      <td>0.956962</td>\n",
       "      <td>1.034284</td>\n",
       "      <td>DecisionTreeRegressor()</td>\n",
       "    </tr>\n",
       "    <tr>\n",
       "      <th>1130</th>\n",
       "      <td>G_Mean</td>\n",
       "      <td>Mjob</td>\n",
       "      <td>0.000000</td>\n",
       "      <td>classification</td>\n",
       "      <td>True</td>\n",
       "      <td>weighted F1</td>\n",
       "      <td>0.230380</td>\n",
       "      <td>0.221438</td>\n",
       "      <td>DecisionTreeClassifier()</td>\n",
       "    </tr>\n",
       "    <tr>\n",
       "      <th>1131</th>\n",
       "      <td>G_Mean</td>\n",
       "      <td>Fjob</td>\n",
       "      <td>0.100538</td>\n",
       "      <td>classification</td>\n",
       "      <td>True</td>\n",
       "      <td>weighted F1</td>\n",
       "      <td>0.389873</td>\n",
       "      <td>0.451214</td>\n",
       "      <td>DecisionTreeClassifier()</td>\n",
       "    </tr>\n",
       "    <tr>\n",
       "      <th>1132</th>\n",
       "      <td>G_Mean</td>\n",
       "      <td>reason</td>\n",
       "      <td>0.022537</td>\n",
       "      <td>classification</td>\n",
       "      <td>True</td>\n",
       "      <td>weighted F1</td>\n",
       "      <td>0.270886</td>\n",
       "      <td>0.287318</td>\n",
       "      <td>DecisionTreeClassifier()</td>\n",
       "    </tr>\n",
       "    <tr>\n",
       "      <th>1133</th>\n",
       "      <td>G_Mean</td>\n",
       "      <td>guardian</td>\n",
       "      <td>0.018960</td>\n",
       "      <td>classification</td>\n",
       "      <td>True</td>\n",
       "      <td>weighted F1</td>\n",
       "      <td>0.564913</td>\n",
       "      <td>0.573163</td>\n",
       "      <td>DecisionTreeClassifier()</td>\n",
       "    </tr>\n",
       "    <tr>\n",
       "      <th>1134</th>\n",
       "      <td>G_Mean</td>\n",
       "      <td>traveltime</td>\n",
       "      <td>0.000000</td>\n",
       "      <td>regression</td>\n",
       "      <td>True</td>\n",
       "      <td>mean absolute error</td>\n",
       "      <td>0.448101</td>\n",
       "      <td>0.600242</td>\n",
       "      <td>DecisionTreeRegressor()</td>\n",
       "    </tr>\n",
       "    <tr>\n",
       "      <th>1135</th>\n",
       "      <td>G_Mean</td>\n",
       "      <td>studytime</td>\n",
       "      <td>0.000000</td>\n",
       "      <td>regression</td>\n",
       "      <td>True</td>\n",
       "      <td>mean absolute error</td>\n",
       "      <td>0.567089</td>\n",
       "      <td>0.723412</td>\n",
       "      <td>DecisionTreeRegressor()</td>\n",
       "    </tr>\n",
       "    <tr>\n",
       "      <th>1136</th>\n",
       "      <td>G_Mean</td>\n",
       "      <td>failures</td>\n",
       "      <td>0.000000</td>\n",
       "      <td>regression</td>\n",
       "      <td>True</td>\n",
       "      <td>mean absolute error</td>\n",
       "      <td>0.334177</td>\n",
       "      <td>0.423487</td>\n",
       "      <td>DecisionTreeRegressor()</td>\n",
       "    </tr>\n",
       "    <tr>\n",
       "      <th>1137</th>\n",
       "      <td>G_Mean</td>\n",
       "      <td>schoolsup</td>\n",
       "      <td>0.000000</td>\n",
       "      <td>classification</td>\n",
       "      <td>True</td>\n",
       "      <td>weighted F1</td>\n",
       "      <td>0.810784</td>\n",
       "      <td>0.803022</td>\n",
       "      <td>DecisionTreeClassifier()</td>\n",
       "    </tr>\n",
       "    <tr>\n",
       "      <th>1138</th>\n",
       "      <td>G_Mean</td>\n",
       "      <td>famsup</td>\n",
       "      <td>0.072943</td>\n",
       "      <td>classification</td>\n",
       "      <td>True</td>\n",
       "      <td>weighted F1</td>\n",
       "      <td>0.503797</td>\n",
       "      <td>0.539992</td>\n",
       "      <td>DecisionTreeClassifier()</td>\n",
       "    </tr>\n",
       "    <tr>\n",
       "      <th>1139</th>\n",
       "      <td>G_Mean</td>\n",
       "      <td>paid</td>\n",
       "      <td>0.076266</td>\n",
       "      <td>classification</td>\n",
       "      <td>True</td>\n",
       "      <td>weighted F1</td>\n",
       "      <td>0.508861</td>\n",
       "      <td>0.546318</td>\n",
       "      <td>DecisionTreeClassifier()</td>\n",
       "    </tr>\n",
       "    <tr>\n",
       "      <th>1140</th>\n",
       "      <td>G_Mean</td>\n",
       "      <td>activities</td>\n",
       "      <td>0.076760</td>\n",
       "      <td>classification</td>\n",
       "      <td>True</td>\n",
       "      <td>weighted F1</td>\n",
       "      <td>0.483544</td>\n",
       "      <td>0.523187</td>\n",
       "      <td>DecisionTreeClassifier()</td>\n",
       "    </tr>\n",
       "    <tr>\n",
       "      <th>1141</th>\n",
       "      <td>G_Mean</td>\n",
       "      <td>nursery</td>\n",
       "      <td>0.000000</td>\n",
       "      <td>classification</td>\n",
       "      <td>True</td>\n",
       "      <td>weighted F1</td>\n",
       "      <td>0.704119</td>\n",
       "      <td>0.677413</td>\n",
       "      <td>DecisionTreeClassifier()</td>\n",
       "    </tr>\n",
       "    <tr>\n",
       "      <th>1142</th>\n",
       "      <td>G_Mean</td>\n",
       "      <td>higher</td>\n",
       "      <td>0.000000</td>\n",
       "      <td>classification</td>\n",
       "      <td>True</td>\n",
       "      <td>weighted F1</td>\n",
       "      <td>0.924708</td>\n",
       "      <td>0.910554</td>\n",
       "      <td>DecisionTreeClassifier()</td>\n",
       "    </tr>\n",
       "    <tr>\n",
       "      <th>1143</th>\n",
       "      <td>G_Mean</td>\n",
       "      <td>internet</td>\n",
       "      <td>0.000000</td>\n",
       "      <td>classification</td>\n",
       "      <td>True</td>\n",
       "      <td>weighted F1</td>\n",
       "      <td>0.762025</td>\n",
       "      <td>0.755722</td>\n",
       "      <td>DecisionTreeClassifier()</td>\n",
       "    </tr>\n",
       "    <tr>\n",
       "      <th>1144</th>\n",
       "      <td>G_Mean</td>\n",
       "      <td>romantic</td>\n",
       "      <td>0.082693</td>\n",
       "      <td>classification</td>\n",
       "      <td>True</td>\n",
       "      <td>weighted F1</td>\n",
       "      <td>0.532253</td>\n",
       "      <td>0.570933</td>\n",
       "      <td>DecisionTreeClassifier()</td>\n",
       "    </tr>\n",
       "    <tr>\n",
       "      <th>1145</th>\n",
       "      <td>G_Mean</td>\n",
       "      <td>famrel</td>\n",
       "      <td>0.000000</td>\n",
       "      <td>regression</td>\n",
       "      <td>True</td>\n",
       "      <td>mean absolute error</td>\n",
       "      <td>0.592405</td>\n",
       "      <td>0.765050</td>\n",
       "      <td>DecisionTreeRegressor()</td>\n",
       "    </tr>\n",
       "    <tr>\n",
       "      <th>1146</th>\n",
       "      <td>G_Mean</td>\n",
       "      <td>freetime</td>\n",
       "      <td>0.000000</td>\n",
       "      <td>regression</td>\n",
       "      <td>True</td>\n",
       "      <td>mean absolute error</td>\n",
       "      <td>0.751899</td>\n",
       "      <td>0.879774</td>\n",
       "      <td>DecisionTreeRegressor()</td>\n",
       "    </tr>\n",
       "    <tr>\n",
       "      <th>1147</th>\n",
       "      <td>G_Mean</td>\n",
       "      <td>goout</td>\n",
       "      <td>0.000000</td>\n",
       "      <td>regression</td>\n",
       "      <td>True</td>\n",
       "      <td>mean absolute error</td>\n",
       "      <td>0.863291</td>\n",
       "      <td>0.970228</td>\n",
       "      <td>DecisionTreeRegressor()</td>\n",
       "    </tr>\n",
       "    <tr>\n",
       "      <th>1148</th>\n",
       "      <td>G_Mean</td>\n",
       "      <td>Dalc</td>\n",
       "      <td>0.000000</td>\n",
       "      <td>regression</td>\n",
       "      <td>True</td>\n",
       "      <td>mean absolute error</td>\n",
       "      <td>0.481013</td>\n",
       "      <td>0.710850</td>\n",
       "      <td>DecisionTreeRegressor()</td>\n",
       "    </tr>\n",
       "    <tr>\n",
       "      <th>1149</th>\n",
       "      <td>G_Mean</td>\n",
       "      <td>Walc</td>\n",
       "      <td>0.000000</td>\n",
       "      <td>regression</td>\n",
       "      <td>True</td>\n",
       "      <td>mean absolute error</td>\n",
       "      <td>1.055696</td>\n",
       "      <td>1.155664</td>\n",
       "      <td>DecisionTreeRegressor()</td>\n",
       "    </tr>\n",
       "    <tr>\n",
       "      <th>1150</th>\n",
       "      <td>G_Mean</td>\n",
       "      <td>health</td>\n",
       "      <td>0.000000</td>\n",
       "      <td>regression</td>\n",
       "      <td>True</td>\n",
       "      <td>mean absolute error</td>\n",
       "      <td>1.184810</td>\n",
       "      <td>1.225348</td>\n",
       "      <td>DecisionTreeRegressor()</td>\n",
       "    </tr>\n",
       "    <tr>\n",
       "      <th>1151</th>\n",
       "      <td>G_Mean</td>\n",
       "      <td>absences</td>\n",
       "      <td>0.000000</td>\n",
       "      <td>regression</td>\n",
       "      <td>True</td>\n",
       "      <td>mean absolute error</td>\n",
       "      <td>4.782278</td>\n",
       "      <td>5.486217</td>\n",
       "      <td>DecisionTreeRegressor()</td>\n",
       "    </tr>\n",
       "    <tr>\n",
       "      <th>1152</th>\n",
       "      <td>G_Mean</td>\n",
       "      <td>G1</td>\n",
       "      <td>0.681588</td>\n",
       "      <td>regression</td>\n",
       "      <td>True</td>\n",
       "      <td>mean absolute error</td>\n",
       "      <td>2.749367</td>\n",
       "      <td>0.875431</td>\n",
       "      <td>DecisionTreeRegressor()</td>\n",
       "    </tr>\n",
       "    <tr>\n",
       "      <th>1153</th>\n",
       "      <td>G_Mean</td>\n",
       "      <td>G2</td>\n",
       "      <td>0.782295</td>\n",
       "      <td>regression</td>\n",
       "      <td>True</td>\n",
       "      <td>mean absolute error</td>\n",
       "      <td>2.934177</td>\n",
       "      <td>0.638786</td>\n",
       "      <td>DecisionTreeRegressor()</td>\n",
       "    </tr>\n",
       "    <tr>\n",
       "      <th>1154</th>\n",
       "      <td>G_Mean</td>\n",
       "      <td>G3</td>\n",
       "      <td>0.788409</td>\n",
       "      <td>regression</td>\n",
       "      <td>True</td>\n",
       "      <td>mean absolute error</td>\n",
       "      <td>3.394937</td>\n",
       "      <td>0.718338</td>\n",
       "      <td>DecisionTreeRegressor()</td>\n",
       "    </tr>\n",
       "    <tr>\n",
       "      <th>1155</th>\n",
       "      <td>G_Mean</td>\n",
       "      <td>G_Mean</td>\n",
       "      <td>1.000000</td>\n",
       "      <td>predict_itself</td>\n",
       "      <td>True</td>\n",
       "      <td>None</td>\n",
       "      <td>0.000000</td>\n",
       "      <td>1.000000</td>\n",
       "      <td>None</td>\n",
       "    </tr>\n",
       "  </tbody>\n",
       "</table>\n",
       "</div>"
      ],
      "text/plain": [
       "           x           y   ppscore            case  is_valid_score  \\\n",
       "1122  G_Mean      school  0.000000  classification            True   \n",
       "1123  G_Mean         sex  0.000000  classification            True   \n",
       "1124  G_Mean         age  0.000000      regression            True   \n",
       "1125  G_Mean     address  0.000000  classification            True   \n",
       "1126  G_Mean     famsize  0.000000  classification            True   \n",
       "1127  G_Mean     Pstatus  0.064255  classification            True   \n",
       "1128  G_Mean        Medu  0.000000      regression            True   \n",
       "1129  G_Mean        Fedu  0.000000      regression            True   \n",
       "1130  G_Mean        Mjob  0.000000  classification            True   \n",
       "1131  G_Mean        Fjob  0.100538  classification            True   \n",
       "1132  G_Mean      reason  0.022537  classification            True   \n",
       "1133  G_Mean    guardian  0.018960  classification            True   \n",
       "1134  G_Mean  traveltime  0.000000      regression            True   \n",
       "1135  G_Mean   studytime  0.000000      regression            True   \n",
       "1136  G_Mean    failures  0.000000      regression            True   \n",
       "1137  G_Mean   schoolsup  0.000000  classification            True   \n",
       "1138  G_Mean      famsup  0.072943  classification            True   \n",
       "1139  G_Mean        paid  0.076266  classification            True   \n",
       "1140  G_Mean  activities  0.076760  classification            True   \n",
       "1141  G_Mean     nursery  0.000000  classification            True   \n",
       "1142  G_Mean      higher  0.000000  classification            True   \n",
       "1143  G_Mean    internet  0.000000  classification            True   \n",
       "1144  G_Mean    romantic  0.082693  classification            True   \n",
       "1145  G_Mean      famrel  0.000000      regression            True   \n",
       "1146  G_Mean    freetime  0.000000      regression            True   \n",
       "1147  G_Mean       goout  0.000000      regression            True   \n",
       "1148  G_Mean        Dalc  0.000000      regression            True   \n",
       "1149  G_Mean        Walc  0.000000      regression            True   \n",
       "1150  G_Mean      health  0.000000      regression            True   \n",
       "1151  G_Mean    absences  0.000000      regression            True   \n",
       "1152  G_Mean          G1  0.681588      regression            True   \n",
       "1153  G_Mean          G2  0.782295      regression            True   \n",
       "1154  G_Mean          G3  0.788409      regression            True   \n",
       "1155  G_Mean      G_Mean  1.000000  predict_itself            True   \n",
       "\n",
       "                   metric  baseline_score  model_score  \\\n",
       "1122          weighted F1        0.828917     0.823841   \n",
       "1123          weighted F1        0.503797     0.450849   \n",
       "1124  mean absolute error        1.053165     1.156420   \n",
       "1125          weighted F1        0.679787     0.645180   \n",
       "1126          weighted F1        0.620253     0.601176   \n",
       "1127          weighted F1        0.847145     0.856966   \n",
       "1128  mean absolute error        0.913924     0.984267   \n",
       "1129  mean absolute error        0.956962     1.034284   \n",
       "1130          weighted F1        0.230380     0.221438   \n",
       "1131          weighted F1        0.389873     0.451214   \n",
       "1132          weighted F1        0.270886     0.287318   \n",
       "1133          weighted F1        0.564913     0.573163   \n",
       "1134  mean absolute error        0.448101     0.600242   \n",
       "1135  mean absolute error        0.567089     0.723412   \n",
       "1136  mean absolute error        0.334177     0.423487   \n",
       "1137          weighted F1        0.810784     0.803022   \n",
       "1138          weighted F1        0.503797     0.539992   \n",
       "1139          weighted F1        0.508861     0.546318   \n",
       "1140          weighted F1        0.483544     0.523187   \n",
       "1141          weighted F1        0.704119     0.677413   \n",
       "1142          weighted F1        0.924708     0.910554   \n",
       "1143          weighted F1        0.762025     0.755722   \n",
       "1144          weighted F1        0.532253     0.570933   \n",
       "1145  mean absolute error        0.592405     0.765050   \n",
       "1146  mean absolute error        0.751899     0.879774   \n",
       "1147  mean absolute error        0.863291     0.970228   \n",
       "1148  mean absolute error        0.481013     0.710850   \n",
       "1149  mean absolute error        1.055696     1.155664   \n",
       "1150  mean absolute error        1.184810     1.225348   \n",
       "1151  mean absolute error        4.782278     5.486217   \n",
       "1152  mean absolute error        2.749367     0.875431   \n",
       "1153  mean absolute error        2.934177     0.638786   \n",
       "1154  mean absolute error        3.394937     0.718338   \n",
       "1155                 None        0.000000     1.000000   \n",
       "\n",
       "                         model  \n",
       "1122  DecisionTreeClassifier()  \n",
       "1123  DecisionTreeClassifier()  \n",
       "1124   DecisionTreeRegressor()  \n",
       "1125  DecisionTreeClassifier()  \n",
       "1126  DecisionTreeClassifier()  \n",
       "1127  DecisionTreeClassifier()  \n",
       "1128   DecisionTreeRegressor()  \n",
       "1129   DecisionTreeRegressor()  \n",
       "1130  DecisionTreeClassifier()  \n",
       "1131  DecisionTreeClassifier()  \n",
       "1132  DecisionTreeClassifier()  \n",
       "1133  DecisionTreeClassifier()  \n",
       "1134   DecisionTreeRegressor()  \n",
       "1135   DecisionTreeRegressor()  \n",
       "1136   DecisionTreeRegressor()  \n",
       "1137  DecisionTreeClassifier()  \n",
       "1138  DecisionTreeClassifier()  \n",
       "1139  DecisionTreeClassifier()  \n",
       "1140  DecisionTreeClassifier()  \n",
       "1141  DecisionTreeClassifier()  \n",
       "1142  DecisionTreeClassifier()  \n",
       "1143  DecisionTreeClassifier()  \n",
       "1144  DecisionTreeClassifier()  \n",
       "1145   DecisionTreeRegressor()  \n",
       "1146   DecisionTreeRegressor()  \n",
       "1147   DecisionTreeRegressor()  \n",
       "1148   DecisionTreeRegressor()  \n",
       "1149   DecisionTreeRegressor()  \n",
       "1150   DecisionTreeRegressor()  \n",
       "1151   DecisionTreeRegressor()  \n",
       "1152   DecisionTreeRegressor()  \n",
       "1153   DecisionTreeRegressor()  \n",
       "1154   DecisionTreeRegressor()  \n",
       "1155                      None  "
      ]
     },
     "execution_count": 196,
     "metadata": {},
     "output_type": "execute_result"
    }
   ],
   "source": [
    "pps_df = pd.DataFrame(pps_matrix)\n",
    "pps_df.loc[pps_df['x'] == 'G_Mean']"
   ]
  },
  {
   "cell_type": "markdown",
   "id": "7d6bbaf4",
   "metadata": {},
   "source": [
    "#### Using the Predictive Power Score, we can observe that School, Medu, Fedu, Pstatus, goout are the important features which impact our target column G_Mean"
   ]
  },
  {
   "cell_type": "code",
   "execution_count": 197,
   "id": "f86bb44c",
   "metadata": {},
   "outputs": [
    {
     "data": {
      "text/plain": [
       "<AxesSubplot:>"
      ]
     },
     "execution_count": 197,
     "metadata": {},
     "output_type": "execute_result"
    },
    {
     "data": {
      "image/png": "[encoded data removed]",
      "text/plain": [
       "<Figure size 1440x1440 with 2 Axes>"
      ]
     },
     "metadata": {
      "needs_background": "light"
     },
     "output_type": "display_data"
    }
   ],
   "source": [
    "plt.figure(figsize=(20,20))\n",
    "sns.heatmap(df.corr(), vmin=-1, cmap=\"plasma_r\", annot=True)\n",
    "#same thing can be seen from the correlation as well"
   ]
  },
  {
   "cell_type": "code",
   "execution_count": 198,
   "id": "b58c325f",
   "metadata": {},
   "outputs": [
    {
     "name": "stderr",
     "output_type": "stream",
     "text": [
      "C:\\Users\\DEV\\anaconda3\\lib\\site-packages\\seaborn\\_decorators.py:36: FutureWarning:\n",
      "\n",
      "Pass the following variable as a keyword arg: x. From version 0.12, the only valid positional argument will be `data`, and passing other arguments without an explicit keyword will result in an error or misinterpretation.\n",
      "\n"
     ]
    },
    {
     "data": {
      "text/plain": [
       "<AxesSubplot:xlabel='sex', ylabel='count'>"
      ]
     },
     "execution_count": 198,
     "metadata": {},
     "output_type": "execute_result"
    },
    {
     "data": {
      "image/png": "[encoded data removed]",
      "text/plain": [
       "<Figure size 576x360 with 1 Axes>"
      ]
     },
     "metadata": {
      "needs_background": "light"
     },
     "output_type": "display_data"
    }
   ],
   "source": [
    "plt.figure(figsize=(8,5))\n",
    "sns.countplot('sex', data = df, color='#00ddff', saturation=0.9)"
   ]
  },
  {
   "cell_type": "code",
   "execution_count": 199,
   "id": "bfde4b78",
   "metadata": {},
   "outputs": [
    {
     "name": "stderr",
     "output_type": "stream",
     "text": [
      "No artists with labels found to put in legend.  Note that artists whose label start with an underscore are ignored when legend() is called with no argument.\n"
     ]
    },
    {
     "data": {
      "text/plain": [
       "<matplotlib.legend.Legend at 0x1f920439a90>"
      ]
     },
     "execution_count": 199,
     "metadata": {},
     "output_type": "execute_result"
    },
    {
     "data": {
      "image/png": "[encoded data removed]",
      "text/plain": [
       "<Figure size 576x360 with 1 Axes>"
      ]
     },
     "metadata": {
      "needs_background": "light"
     },
     "output_type": "display_data"
    }
   ],
   "source": [
    "plt.figure(figsize=(8,5))\n",
    "sns.barplot(x= 'sex', y = 'G_Mean', data = df, errwidth=3,saturation=1, palette='Blues_d') \n",
    "plt.legend(loc='upper left')"
   ]
  },
  {
   "cell_type": "markdown",
   "id": "2673c6f4",
   "metadata": {},
   "source": [
    "#### So we can observe there is not much impact of sex on the average grade column. It was also inferred from Predictive Power Score matrix"
   ]
  },
  {
   "cell_type": "code",
   "execution_count": 200,
   "id": "9ba11ff8",
   "metadata": {},
   "outputs": [
    {
     "data": {
      "text/plain": [
       "<AxesSubplot:xlabel='Pstatus', ylabel='count'>"
      ]
     },
     "execution_count": 200,
     "metadata": {},
     "output_type": "execute_result"
    },
    {
     "data": {
      "image/png": "[encoded data removed]",
      "text/plain": [
       "<Figure size 576x360 with 1 Axes>"
      ]
     },
     "metadata": {
      "needs_background": "light"
     },
     "output_type": "display_data"
    }
   ],
   "source": [
    "plt.figure(figsize=(8,5))\n",
    "sns.countplot(x='Pstatus', data = df, palette='GnBu', saturation=0.9)"
   ]
  },
  {
   "cell_type": "code",
   "execution_count": 201,
   "id": "c93aaa72",
   "metadata": {},
   "outputs": [
    {
     "data": {
      "application/vnd.plotly.v1+json": {
       "config": {
        "plotlyServerURL": "https://plotly.com"
       },
       "data": [
        {
         "alignmentgroup": "True",
         "hovertemplate": "sex=F<br>Pstatus=%{x}<br>G_Mean=%{y}<extra></extra>",
         "legendgroup": "F",
         "marker": {
          "color": "rgb(76,114,176)"
         },
         "name": "F",
         "notched": true,
         "offsetgroup": "F",
         "orientation": "v",
         "showlegend": true,
         "type": "box",
         "x": [
          "A",
          "T",
          "T",
          "T",
          "T",
          "A",
          "T",
          "T",
          "T",
          "T",
          "T",
          "T",
          "T",
          "T",
          "T",
          "T",
          "T",
          "T",
          "A",
          "A",
          "T",
          "T",
          "T",
          "T",
          "A",
          "A",
          "A",
          "T",
          "T",
          "T",
          "T",
          "T",
          "T",
          "T",
          "T",
          "T",
          "T",
          "T",
          "T",
          "T",
          "T",
          "T",
          "T",
          "T",
          "T",
          "T",
          "T",
          "T",
          "T",
          "T",
          "T",
          "T",
          "T",
          "T",
          "T",
          "A",
          "T",
          "T",
          "T",
          "T",
          "T",
          "T",
          "T",
          "A",
          "T",
          "T",
          "T",
          "T",
          "A",
          "T",
          "A",
          "T",
          "T",
          "T",
          "T",
          "T",
          "T",
          "T",
          "T",
          "T",
          "T",
          "T",
          "T",
          "T",
          "T",
          "T",
          "T",
          "T",
          "T",
          "A",
          "T",
          "T",
          "T",
          "T",
          "T",
          "T",
          "T",
          "T",
          "T",
          "T",
          "T",
          "A",
          "T",
          "T",
          "T",
          "T",
          "A",
          "T",
          "T",
          "T",
          "T",
          "T",
          "T",
          "T",
          "T",
          "T",
          "T",
          "T",
          "A",
          "T",
          "T",
          "T",
          "T",
          "T",
          "T",
          "T",
          "T",
          "T",
          "T",
          "T",
          "T",
          "T",
          "T",
          "T",
          "T",
          "A",
          "T",
          "T",
          "T",
          "T",
          "T",
          "T",
          "T",
          "T",
          "T",
          "T",
          "T",
          "T",
          "A",
          "T",
          "T",
          "T",
          "T",
          "T",
          "T",
          "T",
          "T",
          "T",
          "T",
          "T",
          "T",
          "T",
          "A",
          "T",
          "T",
          "T",
          "T",
          "T",
          "T",
          "T",
          "T",
          "T",
          "T",
          "T",
          "A",
          "T",
          "T",
          "A",
          "T",
          "A",
          "T",
          "T",
          "T",
          "T",
          "T",
          "A",
          "T",
          "A",
          "T",
          "T",
          "T",
          "T",
          "T",
          "T",
          "T",
          "T",
          "T",
          "T",
          "T",
          "T",
          "T",
          "T",
          "T",
          "T",
          "T",
          "T",
          "T",
          "T"
         ],
         "x0": " ",
         "xaxis": "x",
         "y": [
          5.666666666666667,
          5.333333333333333,
          8.333333333333334,
          14.666666666666666,
          8.666666666666666,
          5.666666666666667,
          9,
          11.333333333333334,
          14,
          13.666666666666666,
          9.333333333333334,
          9,
          7.666666666666667,
          7,
          11.666666666666666,
          13.333333333333334,
          9.333333333333334,
          9.666666666666666,
          7.333333333333333,
          11.333333333333334,
          7,
          12.666666666666666,
          12.333333333333334,
          9.666666666666666,
          12,
          9,
          14.666666666666666,
          15.666666666666666,
          10.666666666666666,
          9.666666666666666,
          9,
          9.333333333333334,
          10,
          15.333333333333334,
          6.666666666666667,
          8.333333333333334,
          16,
          6.333333333333333,
          11.333333333333334,
          11,
          5,
          6.333333333333333,
          9.666666666666666,
          8,
          7,
          13.666666666666666,
          7.333333333333333,
          17,
          6.333333333333333,
          10.333333333333334,
          9,
          9,
          13,
          8,
          6.333333333333333,
          10.666666666666666,
          7.666666666666667,
          15,
          9,
          12,
          15.333333333333334,
          13,
          7.666666666666667,
          9.333333333333334,
          8,
          4,
          2.6666666666666665,
          11.666666666666666,
          11.333333333333334,
          3.6666666666666665,
          1.3333333333333333,
          15.666666666666666,
          10.333333333333334,
          13.666666666666666,
          10,
          4.333333333333333,
          10.666666666666666,
          10,
          11.333333333333334,
          9,
          15,
          4.333333333333333,
          14,
          5,
          10,
          12.333333333333334,
          16.666666666666668,
          8.666666666666666,
          12.333333333333334,
          8,
          12,
          8.333333333333334,
          14.666666666666666,
          18,
          9.333333333333334,
          16,
          9.333333333333334,
          9.333333333333334,
          6.333333333333333,
          10.333333333333334,
          9.333333333333334,
          7,
          12,
          9.333333333333334,
          7,
          8,
          13,
          9.333333333333334,
          14.666666666666666,
          5.333333333333333,
          7.333333333333333,
          9.666666666666666,
          6,
          3.6666666666666665,
          16.333333333333332,
          13.333333333333334,
          8,
          15.333333333333334,
          11.333333333333334,
          13.333333333333334,
          12.333333333333334,
          11.666666666666666,
          2.3333333333333335,
          13,
          6.333333333333333,
          17.666666666666668,
          9.333333333333334,
          6.333333333333333,
          11,
          2,
          9,
          14.333333333333334,
          11,
          10,
          12,
          9.333333333333334,
          8.333333333333334,
          12,
          9,
          10,
          18.333333333333332,
          12.333333333333334,
          15,
          12.333333333333334,
          18,
          6.333333333333333,
          8.666666666666666,
          13.666666666666666,
          11,
          13.666666666666666,
          17.333333333333332,
          12.666666666666666,
          10.666666666666666,
          6,
          13,
          11.333333333333334,
          13.666666666666666,
          11.666666666666666,
          5.333333333333333,
          9.333333333333334,
          10.666666666666666,
          11,
          13,
          9.666666666666666,
          11,
          13.666666666666666,
          15.333333333333334,
          9.333333333333334,
          14,
          13.333333333333334,
          2.3333333333333335,
          5.333333333333333,
          6.333333333333333,
          15.333333333333334,
          13.333333333333334,
          5,
          16,
          9.666666666666666,
          11.333333333333334,
          5.666666666666667,
          10.333333333333334,
          13.333333333333334,
          14.333333333333334,
          9.333333333333334,
          12.666666666666666,
          11.666666666666666,
          16.666666666666668,
          13,
          10.666666666666666,
          15.333333333333334,
          11.666666666666666,
          4.333333333333333,
          10.333333333333334,
          12.333333333333334,
          7.666666666666667,
          11.666666666666666,
          5.333333333333333,
          18.666666666666668,
          8.666666666666666,
          14.666666666666666,
          9,
          15,
          10,
          9.666666666666666,
          5.666666666666667,
          4,
          8,
          3.6666666666666665
         ],
         "y0": " ",
         "yaxis": "y"
        },
        {
         "alignmentgroup": "True",
         "hovertemplate": "sex=M<br>Pstatus=%{x}<br>G_Mean=%{y}<extra></extra>",
         "legendgroup": "M",
         "marker": {
          "color": "rgb(221,132,82)"
         },
         "name": "M",
         "notched": true,
         "offsetgroup": "M",
         "orientation": "v",
         "showlegend": true,
         "type": "box",
         "x": [
          "T",
          "T",
          "A",
          "T",
          "T",
          "T",
          "A",
          "T",
          "T",
          "T",
          "T",
          "T",
          "T",
          "T",
          "T",
          "A",
          "T",
          "T",
          "T",
          "T",
          "T",
          "T",
          "T",
          "A",
          "T",
          "T",
          "T",
          "T",
          "T",
          "A",
          "T",
          "T",
          "A",
          "T",
          "T",
          "T",
          "T",
          "T",
          "T",
          "T",
          "T",
          "T",
          "T",
          "A",
          "T",
          "T",
          "T",
          "T",
          "T",
          "A",
          "T",
          "T",
          "A",
          "T",
          "T",
          "T",
          "T",
          "T",
          "T",
          "T",
          "T",
          "T",
          "T",
          "T",
          "T",
          "T",
          "T",
          "T",
          "T",
          "T",
          "T",
          "T",
          "A",
          "T",
          "T",
          "T",
          "T",
          "T",
          "T",
          "T",
          "T",
          "T",
          "T",
          "T",
          "T",
          "T",
          "T",
          "T",
          "T",
          "T",
          "T",
          "T",
          "T",
          "T",
          "T",
          "T",
          "T",
          "T",
          "T",
          "T",
          "T",
          "T",
          "T",
          "T",
          "T",
          "T",
          "T",
          "T",
          "T",
          "T",
          "T",
          "T",
          "T",
          "T",
          "T",
          "T",
          "T",
          "T",
          "T",
          "A",
          "T",
          "T",
          "T",
          "T",
          "T",
          "T",
          "T",
          "T",
          "T",
          "T",
          "T",
          "T",
          "T",
          "A",
          "T",
          "T",
          "T",
          "A",
          "T",
          "T",
          "T",
          "T",
          "T",
          "A",
          "A",
          "T",
          "T",
          "A",
          "T",
          "T",
          "T",
          "T",
          "T",
          "T",
          "A",
          "T",
          "T",
          "T",
          "T",
          "T",
          "T",
          "T",
          "T",
          "T",
          "T",
          "T",
          "T",
          "T",
          "T",
          "T",
          "T",
          "T",
          "T",
          "T",
          "T",
          "T",
          "T",
          "T",
          "T",
          "T",
          "T",
          "T",
          "A",
          "T",
          "T",
          "T",
          "T"
         ],
         "x0": " ",
         "xaxis": "x",
         "y": [
          15,
          11.666666666666666,
          17.666666666666668,
          14.666666666666666,
          14,
          10.333333333333334,
          15.333333333333334,
          5.333333333333333,
          9.333333333333334,
          14,
          14,
          15.333333333333334,
          12.666666666666666,
          11.666666666666666,
          15.333333333333334,
          11,
          11,
          10.666666666666666,
          16.666666666666668,
          16.333333333333332,
          10,
          13.666666666666666,
          16.333333333333332,
          15.333333333333334,
          12,
          18.333333333333332,
          9,
          19.333333333333332,
          14.666666666666666,
          10.666666666666666,
          14.666666666666666,
          9.333333333333334,
          12.666666666666666,
          14.333333333333334,
          10,
          12.666666666666666,
          9.333333333333334,
          10.666666666666666,
          8.666666666666666,
          11.333333333333334,
          10.666666666666666,
          15,
          10.333333333333334,
          7,
          12.666666666666666,
          13.666666666666666,
          6.333333333333333,
          16.666666666666668,
          12.333333333333334,
          17.333333333333332,
          17.333333333333332,
          12,
          18.666666666666668,
          18.666666666666668,
          9,
          15.333333333333334,
          12.666666666666666,
          13.333333333333334,
          8,
          13.333333333333334,
          15,
          12.666666666666666,
          12.666666666666666,
          3.6666666666666665,
          18,
          3,
          3.3333333333333335,
          12.666666666666666,
          5.333333333333333,
          9,
          1.6666666666666667,
          4.333333333333333,
          9,
          3.6666666666666665,
          13,
          1.6666666666666667,
          9,
          13.666666666666666,
          15.666666666666666,
          11.333333333333334,
          4.333333333333333,
          7,
          2.3333333333333335,
          10,
          6.666666666666667,
          11.666666666666666,
          10,
          3.6666666666666665,
          14.666666666666666,
          11.333333333333334,
          9.333333333333334,
          5.666666666666667,
          9,
          10.333333333333334,
          8.333333333333334,
          12.333333333333334,
          11.666666666666666,
          11.333333333333334,
          15,
          9,
          7.666666666666667,
          9,
          13.666666666666666,
          16,
          9.333333333333334,
          12.333333333333334,
          7,
          6.666666666666667,
          12.666666666666666,
          11.666666666666666,
          9,
          11,
          9.666666666666666,
          13.333333333333334,
          7.333333333333333,
          10,
          13.333333333333334,
          4.666666666666667,
          12,
          11,
          2,
          12.333333333333334,
          18,
          12.333333333333334,
          7.333333333333333,
          4.333333333333333,
          14.333333333333334,
          7.333333333333333,
          9,
          7.666666666666667,
          8.333333333333334,
          10.666666666666666,
          8,
          11,
          14.333333333333334,
          8,
          12.333333333333334,
          17,
          9.333333333333334,
          9.666666666666666,
          14.333333333333334,
          9,
          10.333333333333334,
          8,
          10,
          11,
          14.333333333333334,
          14.333333333333334,
          11.333333333333334,
          13.666666666666666,
          12.333333333333334,
          15.666666666666666,
          10.666666666666666,
          14,
          17.666666666666668,
          8.333333333333334,
          13,
          11.666666666666666,
          10.666666666666666,
          15,
          10.333333333333334,
          8.333333333333334,
          6.666666666666667,
          15.333333333333334,
          15.666666666666666,
          9.666666666666666,
          12.333333333333334,
          7.666666666666667,
          13,
          7.666666666666667,
          8,
          11.666666666666666,
          10,
          12.333333333333334,
          10,
          13,
          12.666666666666666,
          14.333333333333334,
          6.666666666666667,
          10.666666666666666,
          3.6666666666666665,
          5.333333333333333,
          9,
          15.333333333333334,
          8.333333333333334,
          11,
          8.666666666666666
         ],
         "y0": " ",
         "yaxis": "y"
        }
       ],
       "layout": {
        "boxmode": "group",
        "height": 450,
        "legend": {
         "title": {
          "text": "sex"
         },
         "tracegroupgap": 0
        },
        "margin": {
         "t": 60
        },
        "template": {
         "data": {
          "bar": [
           {
            "error_x": {
             "color": "rgb(36,36,36)"
            },
            "error_y": {
             "color": "rgb(36,36,36)"
            },
            "marker": {
             "line": {
              "color": "rgb(234,234,242)",
              "width": 0.5
             }
            },
            "type": "bar"
           }
          ],
          "barpolar": [
           {
            "marker": {
             "line": {
              "color": "rgb(234,234,242)",
              "width": 0.5
             }
            },
            "type": "barpolar"
           }
          ],
          "carpet": [
           {
            "aaxis": {
             "endlinecolor": "rgb(36,36,36)",
             "gridcolor": "white",
             "linecolor": "white",
             "minorgridcolor": "white",
             "startlinecolor": "rgb(36,36,36)"
            },
            "baxis": {
             "endlinecolor": "rgb(36,36,36)",
             "gridcolor": "white",
             "linecolor": "white",
             "minorgridcolor": "white",
             "startlinecolor": "rgb(36,36,36)"
            },
            "type": "carpet"
           }
          ],
          "choropleth": [
           {
            "colorbar": {
             "outlinewidth": 0,
             "tickcolor": "rgb(36,36,36)",
             "ticklen": 8,
             "ticks": "outside",
             "tickwidth": 2
            },
            "type": "choropleth"
           }
          ],
          "contour": [
           {
            "colorbar": {
             "outlinewidth": 0,
             "tickcolor": "rgb(36,36,36)",
             "ticklen": 8,
             "ticks": "outside",
             "tickwidth": 2
            },
            "colorscale": [
             [
              0,
              "rgb(2,4,25)"
             ],
             [
              0.06274509803921569,
              "rgb(24,15,41)"
             ],
             [
              0.12549019607843137,
              "rgb(47,23,57)"
             ],
             [
              0.18823529411764706,
              "rgb(71,28,72)"
             ],
             [
              0.25098039215686274,
              "rgb(97,30,82)"
             ],
             [
              0.3137254901960784,
              "rgb(123,30,89)"
             ],
             [
              0.3764705882352941,
              "rgb(150,27,91)"
             ],
             [
              0.4392156862745098,
              "rgb(177,22,88)"
             ],
             [
              0.5019607843137255,
              "rgb(203,26,79)"
             ],
             [
              0.5647058823529412,
              "rgb(223,47,67)"
             ],
             [
              0.6274509803921569,
              "rgb(236,76,61)"
             ],
             [
              0.6901960784313725,
              "rgb(242,107,73)"
             ],
             [
              0.7529411764705882,
              "rgb(244,135,95)"
             ],
             [
              0.8156862745098039,
              "rgb(245,162,122)"
             ],
             [
              0.8784313725490196,
              "rgb(246,188,153)"
             ],
             [
              0.9411764705882353,
              "rgb(247,212,187)"
             ],
             [
              1,
              "rgb(250,234,220)"
             ]
            ],
            "type": "contour"
           }
          ],
          "contourcarpet": [
           {
            "colorbar": {
             "outlinewidth": 0,
             "tickcolor": "rgb(36,36,36)",
             "ticklen": 8,
             "ticks": "outside",
             "tickwidth": 2
            },
            "type": "contourcarpet"
           }
          ],
          "heatmap": [
           {
            "colorbar": {
             "outlinewidth": 0,
             "tickcolor": "rgb(36,36,36)",
             "ticklen": 8,
             "ticks": "outside",
             "tickwidth": 2
            },
            "colorscale": [
             [
              0,
              "rgb(2,4,25)"
             ],
             [
              0.06274509803921569,
              "rgb(24,15,41)"
             ],
             [
              0.12549019607843137,
              "rgb(47,23,57)"
             ],
             [
              0.18823529411764706,
              "rgb(71,28,72)"
             ],
             [
              0.25098039215686274,
              "rgb(97,30,82)"
             ],
             [
              0.3137254901960784,
              "rgb(123,30,89)"
             ],
             [
              0.3764705882352941,
              "rgb(150,27,91)"
             ],
             [
              0.4392156862745098,
              "rgb(177,22,88)"
             ],
             [
              0.5019607843137255,
              "rgb(203,26,79)"
             ],
             [
              0.5647058823529412,
              "rgb(223,47,67)"
             ],
             [
              0.6274509803921569,
              "rgb(236,76,61)"
             ],
             [
              0.6901960784313725,
              "rgb(242,107,73)"
             ],
             [
              0.7529411764705882,
              "rgb(244,135,95)"
             ],
             [
              0.8156862745098039,
              "rgb(245,162,122)"
             ],
             [
              0.8784313725490196,
              "rgb(246,188,153)"
             ],
             [
              0.9411764705882353,
              "rgb(247,212,187)"
             ],
             [
              1,
              "rgb(250,234,220)"
             ]
            ],
            "type": "heatmap"
           }
          ],
          "heatmapgl": [
           {
            "colorbar": {
             "outlinewidth": 0,
             "tickcolor": "rgb(36,36,36)",
             "ticklen": 8,
             "ticks": "outside",
             "tickwidth": 2
            },
            "colorscale": [
             [
              0,
              "rgb(2,4,25)"
             ],
             [
              0.06274509803921569,
              "rgb(24,15,41)"
             ],
             [
              0.12549019607843137,
              "rgb(47,23,57)"
             ],
             [
              0.18823529411764706,
              "rgb(71,28,72)"
             ],
             [
              0.25098039215686274,
              "rgb(97,30,82)"
             ],
             [
              0.3137254901960784,
              "rgb(123,30,89)"
             ],
             [
              0.3764705882352941,
              "rgb(150,27,91)"
             ],
             [
              0.4392156862745098,
              "rgb(177,22,88)"
             ],
             [
              0.5019607843137255,
              "rgb(203,26,79)"
             ],
             [
              0.5647058823529412,
              "rgb(223,47,67)"
             ],
             [
              0.6274509803921569,
              "rgb(236,76,61)"
             ],
             [
              0.6901960784313725,
              "rgb(242,107,73)"
             ],
             [
              0.7529411764705882,
              "rgb(244,135,95)"
             ],
             [
              0.8156862745098039,
              "rgb(245,162,122)"
             ],
             [
              0.8784313725490196,
              "rgb(246,188,153)"
             ],
             [
              0.9411764705882353,
              "rgb(247,212,187)"
             ],
             [
              1,
              "rgb(250,234,220)"
             ]
            ],
            "type": "heatmapgl"
           }
          ],
          "histogram": [
           {
            "marker": {
             "colorbar": {
              "outlinewidth": 0,
              "tickcolor": "rgb(36,36,36)",
              "ticklen": 8,
              "ticks": "outside",
              "tickwidth": 2
             }
            },
            "type": "histogram"
           }
          ],
          "histogram2d": [
           {
            "colorbar": {
             "outlinewidth": 0,
             "tickcolor": "rgb(36,36,36)",
             "ticklen": 8,
             "ticks": "outside",
             "tickwidth": 2
            },
            "colorscale": [
             [
              0,
              "rgb(2,4,25)"
             ],
             [
              0.06274509803921569,
              "rgb(24,15,41)"
             ],
             [
              0.12549019607843137,
              "rgb(47,23,57)"
             ],
             [
              0.18823529411764706,
              "rgb(71,28,72)"
             ],
             [
              0.25098039215686274,
              "rgb(97,30,82)"
             ],
             [
              0.3137254901960784,
              "rgb(123,30,89)"
             ],
             [
              0.3764705882352941,
              "rgb(150,27,91)"
             ],
             [
              0.4392156862745098,
              "rgb(177,22,88)"
             ],
             [
              0.5019607843137255,
              "rgb(203,26,79)"
             ],
             [
              0.5647058823529412,
              "rgb(223,47,67)"
             ],
             [
              0.6274509803921569,
              "rgb(236,76,61)"
             ],
             [
              0.6901960784313725,
              "rgb(242,107,73)"
             ],
             [
              0.7529411764705882,
              "rgb(244,135,95)"
             ],
             [
              0.8156862745098039,
              "rgb(245,162,122)"
             ],
             [
              0.8784313725490196,
              "rgb(246,188,153)"
             ],
             [
              0.9411764705882353,
              "rgb(247,212,187)"
             ],
             [
              1,
              "rgb(250,234,220)"
             ]
            ],
            "type": "histogram2d"
           }
          ],
          "histogram2dcontour": [
           {
            "colorbar": {
             "outlinewidth": 0,
             "tickcolor": "rgb(36,36,36)",
             "ticklen": 8,
             "ticks": "outside",
             "tickwidth": 2
            },
            "colorscale": [
             [
              0,
              "rgb(2,4,25)"
             ],
             [
              0.06274509803921569,
              "rgb(24,15,41)"
             ],
             [
              0.12549019607843137,
              "rgb(47,23,57)"
             ],
             [
              0.18823529411764706,
              "rgb(71,28,72)"
             ],
             [
              0.25098039215686274,
              "rgb(97,30,82)"
             ],
             [
              0.3137254901960784,
              "rgb(123,30,89)"
             ],
             [
              0.3764705882352941,
              "rgb(150,27,91)"
             ],
             [
              0.4392156862745098,
              "rgb(177,22,88)"
             ],
             [
              0.5019607843137255,
              "rgb(203,26,79)"
             ],
             [
              0.5647058823529412,
              "rgb(223,47,67)"
             ],
             [
              0.6274509803921569,
              "rgb(236,76,61)"
             ],
             [
              0.6901960784313725,
              "rgb(242,107,73)"
             ],
             [
              0.7529411764705882,
              "rgb(244,135,95)"
             ],
             [
              0.8156862745098039,
              "rgb(245,162,122)"
             ],
             [
              0.8784313725490196,
              "rgb(246,188,153)"
             ],
             [
              0.9411764705882353,
              "rgb(247,212,187)"
             ],
             [
              1,
              "rgb(250,234,220)"
             ]
            ],
            "type": "histogram2dcontour"
           }
          ],
          "mesh3d": [
           {
            "colorbar": {
             "outlinewidth": 0,
             "tickcolor": "rgb(36,36,36)",
             "ticklen": 8,
             "ticks": "outside",
             "tickwidth": 2
            },
            "type": "mesh3d"
           }
          ],
          "parcoords": [
           {
            "line": {
             "colorbar": {
              "outlinewidth": 0,
              "tickcolor": "rgb(36,36,36)",
              "ticklen": 8,
              "ticks": "outside",
              "tickwidth": 2
             }
            },
            "type": "parcoords"
           }
          ],
          "pie": [
           {
            "automargin": true,
            "type": "pie"
           }
          ],
          "scatter": [
           {
            "marker": {
             "colorbar": {
              "outlinewidth": 0,
              "tickcolor": "rgb(36,36,36)",
              "ticklen": 8,
              "ticks": "outside",
              "tickwidth": 2
             }
            },
            "type": "scatter"
           }
          ],
          "scatter3d": [
           {
            "line": {
             "colorbar": {
              "outlinewidth": 0,
              "tickcolor": "rgb(36,36,36)",
              "ticklen": 8,
              "ticks": "outside",
              "tickwidth": 2
             }
            },
            "marker": {
             "colorbar": {
              "outlinewidth": 0,
              "tickcolor": "rgb(36,36,36)",
              "ticklen": 8,
              "ticks": "outside",
              "tickwidth": 2
             }
            },
            "type": "scatter3d"
           }
          ],
          "scattercarpet": [
           {
            "marker": {
             "colorbar": {
              "outlinewidth": 0,
              "tickcolor": "rgb(36,36,36)",
              "ticklen": 8,
              "ticks": "outside",
              "tickwidth": 2
             }
            },
            "type": "scattercarpet"
           }
          ],
          "scattergeo": [
           {
            "marker": {
             "colorbar": {
              "outlinewidth": 0,
              "tickcolor": "rgb(36,36,36)",
              "ticklen": 8,
              "ticks": "outside",
              "tickwidth": 2
             }
            },
            "type": "scattergeo"
           }
          ],
          "scattergl": [
           {
            "marker": {
             "colorbar": {
              "outlinewidth": 0,
              "tickcolor": "rgb(36,36,36)",
              "ticklen": 8,
              "ticks": "outside",
              "tickwidth": 2
             }
            },
            "type": "scattergl"
           }
          ],
          "scattermapbox": [
           {
            "marker": {
             "colorbar": {
              "outlinewidth": 0,
              "tickcolor": "rgb(36,36,36)",
              "ticklen": 8,
              "ticks": "outside",
              "tickwidth": 2
             }
            },
            "type": "scattermapbox"
           }
          ],
          "scatterpolar": [
           {
            "marker": {
             "colorbar": {
              "outlinewidth": 0,
              "tickcolor": "rgb(36,36,36)",
              "ticklen": 8,
              "ticks": "outside",
              "tickwidth": 2
             }
            },
            "type": "scatterpolar"
           }
          ],
          "scatterpolargl": [
           {
            "marker": {
             "colorbar": {
              "outlinewidth": 0,
              "tickcolor": "rgb(36,36,36)",
              "ticklen": 8,
              "ticks": "outside",
              "tickwidth": 2
             }
            },
            "type": "scatterpolargl"
           }
          ],
          "scatterternary": [
           {
            "marker": {
             "colorbar": {
              "outlinewidth": 0,
              "tickcolor": "rgb(36,36,36)",
              "ticklen": 8,
              "ticks": "outside",
              "tickwidth": 2
             }
            },
            "type": "scatterternary"
           }
          ],
          "surface": [
           {
            "colorbar": {
             "outlinewidth": 0,
             "tickcolor": "rgb(36,36,36)",
             "ticklen": 8,
             "ticks": "outside",
             "tickwidth": 2
            },
            "colorscale": [
             [
              0,
              "rgb(2,4,25)"
             ],
             [
              0.06274509803921569,
              "rgb(24,15,41)"
             ],
             [
              0.12549019607843137,
              "rgb(47,23,57)"
             ],
             [
              0.18823529411764706,
              "rgb(71,28,72)"
             ],
             [
              0.25098039215686274,
              "rgb(97,30,82)"
             ],
             [
              0.3137254901960784,
              "rgb(123,30,89)"
             ],
             [
              0.3764705882352941,
              "rgb(150,27,91)"
             ],
             [
              0.4392156862745098,
              "rgb(177,22,88)"
             ],
             [
              0.5019607843137255,
              "rgb(203,26,79)"
             ],
             [
              0.5647058823529412,
              "rgb(223,47,67)"
             ],
             [
              0.6274509803921569,
              "rgb(236,76,61)"
             ],
             [
              0.6901960784313725,
              "rgb(242,107,73)"
             ],
             [
              0.7529411764705882,
              "rgb(244,135,95)"
             ],
             [
              0.8156862745098039,
              "rgb(245,162,122)"
             ],
             [
              0.8784313725490196,
              "rgb(246,188,153)"
             ],
             [
              0.9411764705882353,
              "rgb(247,212,187)"
             ],
             [
              1,
              "rgb(250,234,220)"
             ]
            ],
            "type": "surface"
           }
          ],
          "table": [
           {
            "cells": {
             "fill": {
              "color": "rgb(231,231,240)"
             },
             "line": {
              "color": "white"
             }
            },
            "header": {
             "fill": {
              "color": "rgb(183,183,191)"
             },
             "line": {
              "color": "white"
             }
            },
            "type": "table"
           }
          ]
         },
         "layout": {
          "annotationdefaults": {
           "arrowcolor": "rgb(67,103,167)"
          },
          "autotypenumbers": "strict",
          "coloraxis": {
           "colorbar": {
            "outlinewidth": 0,
            "tickcolor": "rgb(36,36,36)",
            "ticklen": 8,
            "ticks": "outside",
            "tickwidth": 2
           }
          },
          "colorscale": {
           "sequential": [
            [
             0,
             "rgb(2,4,25)"
            ],
            [
             0.06274509803921569,
             "rgb(24,15,41)"
            ],
            [
             0.12549019607843137,
             "rgb(47,23,57)"
            ],
            [
             0.18823529411764706,
             "rgb(71,28,72)"
            ],
            [
             0.25098039215686274,
             "rgb(97,30,82)"
            ],
            [
             0.3137254901960784,
             "rgb(123,30,89)"
            ],
            [
             0.3764705882352941,
             "rgb(150,27,91)"
            ],
            [
             0.4392156862745098,
             "rgb(177,22,88)"
            ],
            [
             0.5019607843137255,
             "rgb(203,26,79)"
            ],
            [
             0.5647058823529412,
             "rgb(223,47,67)"
            ],
            [
             0.6274509803921569,
             "rgb(236,76,61)"
            ],
            [
             0.6901960784313725,
             "rgb(242,107,73)"
            ],
            [
             0.7529411764705882,
             "rgb(244,135,95)"
            ],
            [
             0.8156862745098039,
             "rgb(245,162,122)"
            ],
            [
             0.8784313725490196,
             "rgb(246,188,153)"
            ],
            [
             0.9411764705882353,
             "rgb(247,212,187)"
            ],
            [
             1,
             "rgb(250,234,220)"
            ]
           ],
           "sequentialminus": [
            [
             0,
             "rgb(2,4,25)"
            ],
            [
             0.06274509803921569,
             "rgb(24,15,41)"
            ],
            [
             0.12549019607843137,
             "rgb(47,23,57)"
            ],
            [
             0.18823529411764706,
             "rgb(71,28,72)"
            ],
            [
             0.25098039215686274,
             "rgb(97,30,82)"
            ],
            [
             0.3137254901960784,
             "rgb(123,30,89)"
            ],
            [
             0.3764705882352941,
             "rgb(150,27,91)"
            ],
            [
             0.4392156862745098,
             "rgb(177,22,88)"
            ],
            [
             0.5019607843137255,
             "rgb(203,26,79)"
            ],
            [
             0.5647058823529412,
             "rgb(223,47,67)"
            ],
            [
             0.6274509803921569,
             "rgb(236,76,61)"
            ],
            [
             0.6901960784313725,
             "rgb(242,107,73)"
            ],
            [
             0.7529411764705882,
             "rgb(244,135,95)"
            ],
            [
             0.8156862745098039,
             "rgb(245,162,122)"
            ],
            [
             0.8784313725490196,
             "rgb(246,188,153)"
            ],
            [
             0.9411764705882353,
             "rgb(247,212,187)"
            ],
            [
             1,
             "rgb(250,234,220)"
            ]
           ]
          },
          "colorway": [
           "rgb(76,114,176)",
           "rgb(221,132,82)",
           "rgb(85,168,104)",
           "rgb(196,78,82)",
           "rgb(129,114,179)",
           "rgb(147,120,96)",
           "rgb(218,139,195)",
           "rgb(140,140,140)",
           "rgb(204,185,116)",
           "rgb(100,181,205)"
          ],
          "font": {
           "color": "rgb(36,36,36)"
          },
          "geo": {
           "bgcolor": "white",
           "lakecolor": "white",
           "landcolor": "rgb(234,234,242)",
           "showlakes": true,
           "showland": true,
           "subunitcolor": "white"
          },
          "hoverlabel": {
           "align": "left"
          },
          "hovermode": "closest",
          "paper_bgcolor": "white",
          "plot_bgcolor": "rgb(234,234,242)",
          "polar": {
           "angularaxis": {
            "gridcolor": "white",
            "linecolor": "white",
            "showgrid": true,
            "ticks": ""
           },
           "bgcolor": "rgb(234,234,242)",
           "radialaxis": {
            "gridcolor": "white",
            "linecolor": "white",
            "showgrid": true,
            "ticks": ""
           }
          },
          "scene": {
           "xaxis": {
            "backgroundcolor": "rgb(234,234,242)",
            "gridcolor": "white",
            "gridwidth": 2,
            "linecolor": "white",
            "showbackground": true,
            "showgrid": true,
            "ticks": "",
            "zerolinecolor": "white"
           },
           "yaxis": {
            "backgroundcolor": "rgb(234,234,242)",
            "gridcolor": "white",
            "gridwidth": 2,
            "linecolor": "white",
            "showbackground": true,
            "showgrid": true,
            "ticks": "",
            "zerolinecolor": "white"
           },
           "zaxis": {
            "backgroundcolor": "rgb(234,234,242)",
            "gridcolor": "white",
            "gridwidth": 2,
            "linecolor": "white",
            "showbackground": true,
            "showgrid": true,
            "ticks": "",
            "zerolinecolor": "white"
           }
          },
          "shapedefaults": {
           "fillcolor": "rgb(67,103,167)",
           "line": {
            "width": 0
           },
           "opacity": 0.5
          },
          "ternary": {
           "aaxis": {
            "gridcolor": "white",
            "linecolor": "white",
            "showgrid": true,
            "ticks": ""
           },
           "baxis": {
            "gridcolor": "white",
            "linecolor": "white",
            "showgrid": true,
            "ticks": ""
           },
           "bgcolor": "rgb(234,234,242)",
           "caxis": {
            "gridcolor": "white",
            "linecolor": "white",
            "showgrid": true,
            "ticks": ""
           }
          },
          "xaxis": {
           "automargin": true,
           "gridcolor": "white",
           "linecolor": "white",
           "showgrid": true,
           "ticks": "",
           "title": {
            "standoff": 15
           },
           "zerolinecolor": "white"
          },
          "yaxis": {
           "automargin": true,
           "gridcolor": "white",
           "linecolor": "white",
           "showgrid": true,
           "ticks": "",
           "title": {
            "standoff": 15
           },
           "zerolinecolor": "white"
          }
         }
        },
        "width": 650,
        "xaxis": {
         "anchor": "y",
         "domain": [
          0,
          1
         ],
         "title": {
          "text": "Pstatus"
         }
        },
        "yaxis": {
         "anchor": "x",
         "domain": [
          0,
          1
         ],
         "title": {
          "text": "G_Mean"
         }
        }
       }
      },
      "text/html": [
       "<div>                            <div id=\"7e940c04-4c6c-48d6-a520-e53081f86c12\" class=\"plotly-graph-div\" style=\"height:450px; width:650px;\"></div>            <script type=\"text/javascript\">                require([\"plotly\"], function(Plotly) {                    window.PLOTLYENV=window.PLOTLYENV || {};                                    if (document.getElementById(\"7e940c04-4c6c-48d6-a520-e53081f86c12\")) {                    Plotly.newPlot(                        \"7e940c04-4c6c-48d6-a520-e53081f86c12\",                        [{\"alignmentgroup\": \"True\", \"hovertemplate\": \"sex=F<br>Pstatus=%{x}<br>G_Mean=%{y}<extra></extra>\", \"legendgroup\": \"F\", \"marker\": {\"color\": \"rgb(76,114,176)\"}, \"name\": \"F\", \"notched\": true, \"offsetgroup\": \"F\", \"orientation\": \"v\", \"showlegend\": true, \"type\": \"box\", \"x\": [\"A\", \"T\", \"T\", \"T\", \"T\", \"A\", \"T\", \"T\", \"T\", \"T\", \"T\", \"T\", \"T\", \"T\", \"T\", \"T\", \"T\", \"T\", \"A\", \"A\", \"T\", \"T\", \"T\", \"T\", \"A\", \"A\", \"A\", \"T\", \"T\", \"T\", \"T\", \"T\", \"T\", \"T\", \"T\", \"T\", \"T\", \"T\", \"T\", \"T\", \"T\", \"T\", \"T\", \"T\", \"T\", \"T\", \"T\", \"T\", \"T\", \"T\", \"T\", \"T\", \"T\", \"T\", \"T\", \"A\", \"T\", \"T\", \"T\", \"T\", \"T\", \"T\", \"T\", \"A\", \"T\", \"T\", \"T\", \"T\", \"A\", \"T\", \"A\", \"T\", \"T\", \"T\", \"T\", \"T\", \"T\", \"T\", \"T\", \"T\", \"T\", \"T\", \"T\", \"T\", \"T\", \"T\", \"T\", \"T\", \"T\", \"A\", \"T\", \"T\", \"T\", \"T\", \"T\", \"T\", \"T\", \"T\", \"T\", \"T\", \"T\", \"A\", \"T\", \"T\", \"T\", \"T\", \"A\", \"T\", \"T\", \"T\", \"T\", \"T\", \"T\", \"T\", \"T\", \"T\", \"T\", \"T\", \"A\", \"T\", \"T\", \"T\", \"T\", \"T\", \"T\", \"T\", \"T\", \"T\", \"T\", \"T\", \"T\", \"T\", \"T\", \"T\", \"T\", \"A\", \"T\", \"T\", \"T\", \"T\", \"T\", \"T\", \"T\", \"T\", \"T\", \"T\", \"T\", \"T\", \"A\", \"T\", \"T\", \"T\", \"T\", \"T\", \"T\", \"T\", \"T\", \"T\", \"T\", \"T\", \"T\", \"T\", \"A\", \"T\", \"T\", \"T\", \"T\", \"T\", \"T\", \"T\", \"T\", \"T\", \"T\", \"T\", \"A\", \"T\", \"T\", \"A\", \"T\", \"A\", \"T\", \"T\", \"T\", \"T\", \"T\", \"A\", \"T\", \"A\", \"T\", \"T\", \"T\", \"T\", \"T\", \"T\", \"T\", \"T\", \"T\", \"T\", \"T\", \"T\", \"T\", \"T\", \"T\", \"T\", \"T\", \"T\", \"T\", \"T\"], \"x0\": \" \", \"xaxis\": \"x\", \"y\": [5.666666666666667, 5.333333333333333, 8.333333333333334, 14.666666666666666, 8.666666666666666, 5.666666666666667, 9.0, 11.333333333333334, 14.0, 13.666666666666666, 9.333333333333334, 9.0, 7.666666666666667, 7.0, 11.666666666666666, 13.333333333333334, 9.333333333333334, 9.666666666666666, 7.333333333333333, 11.333333333333334, 7.0, 12.666666666666666, 12.333333333333334, 9.666666666666666, 12.0, 9.0, 14.666666666666666, 15.666666666666666, 10.666666666666666, 9.666666666666666, 9.0, 9.333333333333334, 10.0, 15.333333333333334, 6.666666666666667, 8.333333333333334, 16.0, 6.333333333333333, 11.333333333333334, 11.0, 5.0, 6.333333333333333, 9.666666666666666, 8.0, 7.0, 13.666666666666666, 7.333333333333333, 17.0, 6.333333333333333, 10.333333333333334, 9.0, 9.0, 13.0, 8.0, 6.333333333333333, 10.666666666666666, 7.666666666666667, 15.0, 9.0, 12.0, 15.333333333333334, 13.0, 7.666666666666667, 9.333333333333334, 8.0, 4.0, 2.6666666666666665, 11.666666666666666, 11.333333333333334, 3.6666666666666665, 1.3333333333333333, 15.666666666666666, 10.333333333333334, 13.666666666666666, 10.0, 4.333333333333333, 10.666666666666666, 10.0, 11.333333333333334, 9.0, 15.0, 4.333333333333333, 14.0, 5.0, 10.0, 12.333333333333334, 16.666666666666668, 8.666666666666666, 12.333333333333334, 8.0, 12.0, 8.333333333333334, 14.666666666666666, 18.0, 9.333333333333334, 16.0, 9.333333333333334, 9.333333333333334, 6.333333333333333, 10.333333333333334, 9.333333333333334, 7.0, 12.0, 9.333333333333334, 7.0, 8.0, 13.0, 9.333333333333334, 14.666666666666666, 5.333333333333333, 7.333333333333333, 9.666666666666666, 6.0, 3.6666666666666665, 16.333333333333332, 13.333333333333334, 8.0, 15.333333333333334, 11.333333333333334, 13.333333333333334, 12.333333333333334, 11.666666666666666, 2.3333333333333335, 13.0, 6.333333333333333, 17.666666666666668, 9.333333333333334, 6.333333333333333, 11.0, 2.0, 9.0, 14.333333333333334, 11.0, 10.0, 12.0, 9.333333333333334, 8.333333333333334, 12.0, 9.0, 10.0, 18.333333333333332, 12.333333333333334, 15.0, 12.333333333333334, 18.0, 6.333333333333333, 8.666666666666666, 13.666666666666666, 11.0, 13.666666666666666, 17.333333333333332, 12.666666666666666, 10.666666666666666, 6.0, 13.0, 11.333333333333334, 13.666666666666666, 11.666666666666666, 5.333333333333333, 9.333333333333334, 10.666666666666666, 11.0, 13.0, 9.666666666666666, 11.0, 13.666666666666666, 15.333333333333334, 9.333333333333334, 14.0, 13.333333333333334, 2.3333333333333335, 5.333333333333333, 6.333333333333333, 15.333333333333334, 13.333333333333334, 5.0, 16.0, 9.666666666666666, 11.333333333333334, 5.666666666666667, 10.333333333333334, 13.333333333333334, 14.333333333333334, 9.333333333333334, 12.666666666666666, 11.666666666666666, 16.666666666666668, 13.0, 10.666666666666666, 15.333333333333334, 11.666666666666666, 4.333333333333333, 10.333333333333334, 12.333333333333334, 7.666666666666667, 11.666666666666666, 5.333333333333333, 18.666666666666668, 8.666666666666666, 14.666666666666666, 9.0, 15.0, 10.0, 9.666666666666666, 5.666666666666667, 4.0, 8.0, 3.6666666666666665], \"y0\": \" \", \"yaxis\": \"y\"}, {\"alignmentgroup\": \"True\", \"hovertemplate\": \"sex=M<br>Pstatus=%{x}<br>G_Mean=%{y}<extra></extra>\", \"legendgroup\": \"M\", \"marker\": {\"color\": \"rgb(221,132,82)\"}, \"name\": \"M\", \"notched\": true, \"offsetgroup\": \"M\", \"orientation\": \"v\", \"showlegend\": true, \"type\": \"box\", \"x\": [\"T\", \"T\", \"A\", \"T\", \"T\", \"T\", \"A\", \"T\", \"T\", \"T\", \"T\", \"T\", \"T\", \"T\", \"T\", \"A\", \"T\", \"T\", \"T\", \"T\", \"T\", \"T\", \"T\", \"A\", \"T\", \"T\", \"T\", \"T\", \"T\", \"A\", \"T\", \"T\", \"A\", \"T\", \"T\", \"T\", \"T\", \"T\", \"T\", \"T\", \"T\", \"T\", \"T\", \"A\", \"T\", \"T\", \"T\", \"T\", \"T\", \"A\", \"T\", \"T\", \"A\", \"T\", \"T\", \"T\", \"T\", \"T\", \"T\", \"T\", \"T\", \"T\", \"T\", \"T\", \"T\", \"T\", \"T\", \"T\", \"T\", \"T\", \"T\", \"T\", \"A\", \"T\", \"T\", \"T\", \"T\", \"T\", \"T\", \"T\", \"T\", \"T\", \"T\", \"T\", \"T\", \"T\", \"T\", \"T\", \"T\", \"T\", \"T\", \"T\", \"T\", \"T\", \"T\", \"T\", \"T\", \"T\", \"T\", \"T\", \"T\", \"T\", \"T\", \"T\", \"T\", \"T\", \"T\", \"T\", \"T\", \"T\", \"T\", \"T\", \"T\", \"T\", \"T\", \"T\", \"T\", \"T\", \"T\", \"A\", \"T\", \"T\", \"T\", \"T\", \"T\", \"T\", \"T\", \"T\", \"T\", \"T\", \"T\", \"T\", \"T\", \"A\", \"T\", \"T\", \"T\", \"A\", \"T\", \"T\", \"T\", \"T\", \"T\", \"A\", \"A\", \"T\", \"T\", \"A\", \"T\", \"T\", \"T\", \"T\", \"T\", \"T\", \"A\", \"T\", \"T\", \"T\", \"T\", \"T\", \"T\", \"T\", \"T\", \"T\", \"T\", \"T\", \"T\", \"T\", \"T\", \"T\", \"T\", \"T\", \"T\", \"T\", \"T\", \"T\", \"T\", \"T\", \"T\", \"T\", \"T\", \"T\", \"A\", \"T\", \"T\", \"T\", \"T\"], \"x0\": \" \", \"xaxis\": \"x\", \"y\": [15.0, 11.666666666666666, 17.666666666666668, 14.666666666666666, 14.0, 10.333333333333334, 15.333333333333334, 5.333333333333333, 9.333333333333334, 14.0, 14.0, 15.333333333333334, 12.666666666666666, 11.666666666666666, 15.333333333333334, 11.0, 11.0, 10.666666666666666, 16.666666666666668, 16.333333333333332, 10.0, 13.666666666666666, 16.333333333333332, 15.333333333333334, 12.0, 18.333333333333332, 9.0, 19.333333333333332, 14.666666666666666, 10.666666666666666, 14.666666666666666, 9.333333333333334, 12.666666666666666, 14.333333333333334, 10.0, 12.666666666666666, 9.333333333333334, 10.666666666666666, 8.666666666666666, 11.333333333333334, 10.666666666666666, 15.0, 10.333333333333334, 7.0, 12.666666666666666, 13.666666666666666, 6.333333333333333, 16.666666666666668, 12.333333333333334, 17.333333333333332, 17.333333333333332, 12.0, 18.666666666666668, 18.666666666666668, 9.0, 15.333333333333334, 12.666666666666666, 13.333333333333334, 8.0, 13.333333333333334, 15.0, 12.666666666666666, 12.666666666666666, 3.6666666666666665, 18.0, 3.0, 3.3333333333333335, 12.666666666666666, 5.333333333333333, 9.0, 1.6666666666666667, 4.333333333333333, 9.0, 3.6666666666666665, 13.0, 1.6666666666666667, 9.0, 13.666666666666666, 15.666666666666666, 11.333333333333334, 4.333333333333333, 7.0, 2.3333333333333335, 10.0, 6.666666666666667, 11.666666666666666, 10.0, 3.6666666666666665, 14.666666666666666, 11.333333333333334, 9.333333333333334, 5.666666666666667, 9.0, 10.333333333333334, 8.333333333333334, 12.333333333333334, 11.666666666666666, 11.333333333333334, 15.0, 9.0, 7.666666666666667, 9.0, 13.666666666666666, 16.0, 9.333333333333334, 12.333333333333334, 7.0, 6.666666666666667, 12.666666666666666, 11.666666666666666, 9.0, 11.0, 9.666666666666666, 13.333333333333334, 7.333333333333333, 10.0, 13.333333333333334, 4.666666666666667, 12.0, 11.0, 2.0, 12.333333333333334, 18.0, 12.333333333333334, 7.333333333333333, 4.333333333333333, 14.333333333333334, 7.333333333333333, 9.0, 7.666666666666667, 8.333333333333334, 10.666666666666666, 8.0, 11.0, 14.333333333333334, 8.0, 12.333333333333334, 17.0, 9.333333333333334, 9.666666666666666, 14.333333333333334, 9.0, 10.333333333333334, 8.0, 10.0, 11.0, 14.333333333333334, 14.333333333333334, 11.333333333333334, 13.666666666666666, 12.333333333333334, 15.666666666666666, 10.666666666666666, 14.0, 17.666666666666668, 8.333333333333334, 13.0, 11.666666666666666, 10.666666666666666, 15.0, 10.333333333333334, 8.333333333333334, 6.666666666666667, 15.333333333333334, 15.666666666666666, 9.666666666666666, 12.333333333333334, 7.666666666666667, 13.0, 7.666666666666667, 8.0, 11.666666666666666, 10.0, 12.333333333333334, 10.0, 13.0, 12.666666666666666, 14.333333333333334, 6.666666666666667, 10.666666666666666, 3.6666666666666665, 5.333333333333333, 9.0, 15.333333333333334, 8.333333333333334, 11.0, 8.666666666666666], \"y0\": \" \", \"yaxis\": \"y\"}],                        {\"boxmode\": \"group\", \"height\": 450, \"legend\": {\"title\": {\"text\": \"sex\"}, \"tracegroupgap\": 0}, \"margin\": {\"t\": 60}, \"template\": {\"data\": {\"bar\": [{\"error_x\": {\"color\": \"rgb(36,36,36)\"}, \"error_y\": {\"color\": \"rgb(36,36,36)\"}, \"marker\": {\"line\": {\"color\": \"rgb(234,234,242)\", \"width\": 0.5}}, \"type\": \"bar\"}], \"barpolar\": [{\"marker\": {\"line\": {\"color\": \"rgb(234,234,242)\", \"width\": 0.5}}, \"type\": \"barpolar\"}], \"carpet\": [{\"aaxis\": {\"endlinecolor\": \"rgb(36,36,36)\", \"gridcolor\": \"white\", \"linecolor\": \"white\", \"minorgridcolor\": \"white\", \"startlinecolor\": \"rgb(36,36,36)\"}, \"baxis\": {\"endlinecolor\": \"rgb(36,36,36)\", \"gridcolor\": \"white\", \"linecolor\": \"white\", \"minorgridcolor\": \"white\", \"startlinecolor\": \"rgb(36,36,36)\"}, \"type\": \"carpet\"}], \"choropleth\": [{\"colorbar\": {\"outlinewidth\": 0, \"tickcolor\": \"rgb(36,36,36)\", \"ticklen\": 8, \"ticks\": \"outside\", \"tickwidth\": 2}, \"type\": \"choropleth\"}], \"contour\": [{\"colorbar\": {\"outlinewidth\": 0, \"tickcolor\": \"rgb(36,36,36)\", \"ticklen\": 8, \"ticks\": \"outside\", \"tickwidth\": 2}, \"colorscale\": [[0.0, \"rgb(2,4,25)\"], [0.06274509803921569, \"rgb(24,15,41)\"], [0.12549019607843137, \"rgb(47,23,57)\"], [0.18823529411764706, \"rgb(71,28,72)\"], [0.25098039215686274, \"rgb(97,30,82)\"], [0.3137254901960784, \"rgb(123,30,89)\"], [0.3764705882352941, \"rgb(150,27,91)\"], [0.4392156862745098, \"rgb(177,22,88)\"], [0.5019607843137255, \"rgb(203,26,79)\"], [0.5647058823529412, \"rgb(223,47,67)\"], [0.6274509803921569, \"rgb(236,76,61)\"], [0.6901960784313725, \"rgb(242,107,73)\"], [0.7529411764705882, \"rgb(244,135,95)\"], [0.8156862745098039, \"rgb(245,162,122)\"], [0.8784313725490196, \"rgb(246,188,153)\"], [0.9411764705882353, \"rgb(247,212,187)\"], [1.0, \"rgb(250,234,220)\"]], \"type\": \"contour\"}], \"contourcarpet\": [{\"colorbar\": {\"outlinewidth\": 0, \"tickcolor\": \"rgb(36,36,36)\", \"ticklen\": 8, \"ticks\": \"outside\", \"tickwidth\": 2}, \"type\": \"contourcarpet\"}], \"heatmap\": [{\"colorbar\": {\"outlinewidth\": 0, \"tickcolor\": \"rgb(36,36,36)\", \"ticklen\": 8, \"ticks\": \"outside\", \"tickwidth\": 2}, \"colorscale\": [[0.0, \"rgb(2,4,25)\"], [0.06274509803921569, \"rgb(24,15,41)\"], [0.12549019607843137, \"rgb(47,23,57)\"], [0.18823529411764706, \"rgb(71,28,72)\"], [0.25098039215686274, \"rgb(97,30,82)\"], [0.3137254901960784, \"rgb(123,30,89)\"], [0.3764705882352941, \"rgb(150,27,91)\"], [0.4392156862745098, \"rgb(177,22,88)\"], [0.5019607843137255, \"rgb(203,26,79)\"], [0.5647058823529412, \"rgb(223,47,67)\"], [0.6274509803921569, \"rgb(236,76,61)\"], [0.6901960784313725, \"rgb(242,107,73)\"], [0.7529411764705882, \"rgb(244,135,95)\"], [0.8156862745098039, \"rgb(245,162,122)\"], [0.8784313725490196, \"rgb(246,188,153)\"], [0.9411764705882353, \"rgb(247,212,187)\"], [1.0, \"rgb(250,234,220)\"]], \"type\": \"heatmap\"}], \"heatmapgl\": [{\"colorbar\": {\"outlinewidth\": 0, \"tickcolor\": \"rgb(36,36,36)\", \"ticklen\": 8, \"ticks\": \"outside\", \"tickwidth\": 2}, \"colorscale\": [[0.0, \"rgb(2,4,25)\"], [0.06274509803921569, \"rgb(24,15,41)\"], [0.12549019607843137, \"rgb(47,23,57)\"], [0.18823529411764706, \"rgb(71,28,72)\"], [0.25098039215686274, \"rgb(97,30,82)\"], [0.3137254901960784, \"rgb(123,30,89)\"], [0.3764705882352941, \"rgb(150,27,91)\"], [0.4392156862745098, \"rgb(177,22,88)\"], [0.5019607843137255, \"rgb(203,26,79)\"], [0.5647058823529412, \"rgb(223,47,67)\"], [0.6274509803921569, \"rgb(236,76,61)\"], [0.6901960784313725, \"rgb(242,107,73)\"], [0.7529411764705882, \"rgb(244,135,95)\"], [0.8156862745098039, \"rgb(245,162,122)\"], [0.8784313725490196, \"rgb(246,188,153)\"], [0.9411764705882353, \"rgb(247,212,187)\"], [1.0, \"rgb(250,234,220)\"]], \"type\": \"heatmapgl\"}], \"histogram\": [{\"marker\": {\"colorbar\": {\"outlinewidth\": 0, \"tickcolor\": \"rgb(36,36,36)\", \"ticklen\": 8, \"ticks\": \"outside\", \"tickwidth\": 2}}, \"type\": \"histogram\"}], \"histogram2d\": [{\"colorbar\": {\"outlinewidth\": 0, \"tickcolor\": \"rgb(36,36,36)\", \"ticklen\": 8, \"ticks\": \"outside\", \"tickwidth\": 2}, \"colorscale\": [[0.0, \"rgb(2,4,25)\"], [0.06274509803921569, \"rgb(24,15,41)\"], [0.12549019607843137, \"rgb(47,23,57)\"], [0.18823529411764706, \"rgb(71,28,72)\"], [0.25098039215686274, \"rgb(97,30,82)\"], [0.3137254901960784, \"rgb(123,30,89)\"], [0.3764705882352941, \"rgb(150,27,91)\"], [0.4392156862745098, \"rgb(177,22,88)\"], [0.5019607843137255, \"rgb(203,26,79)\"], [0.5647058823529412, \"rgb(223,47,67)\"], [0.6274509803921569, \"rgb(236,76,61)\"], [0.6901960784313725, \"rgb(242,107,73)\"], [0.7529411764705882, \"rgb(244,135,95)\"], [0.8156862745098039, \"rgb(245,162,122)\"], [0.8784313725490196, \"rgb(246,188,153)\"], [0.9411764705882353, \"rgb(247,212,187)\"], [1.0, \"rgb(250,234,220)\"]], \"type\": \"histogram2d\"}], \"histogram2dcontour\": [{\"colorbar\": {\"outlinewidth\": 0, \"tickcolor\": \"rgb(36,36,36)\", \"ticklen\": 8, \"ticks\": \"outside\", \"tickwidth\": 2}, \"colorscale\": [[0.0, \"rgb(2,4,25)\"], [0.06274509803921569, \"rgb(24,15,41)\"], [0.12549019607843137, \"rgb(47,23,57)\"], [0.18823529411764706, \"rgb(71,28,72)\"], [0.25098039215686274, \"rgb(97,30,82)\"], [0.3137254901960784, \"rgb(123,30,89)\"], [0.3764705882352941, \"rgb(150,27,91)\"], [0.4392156862745098, \"rgb(177,22,88)\"], [0.5019607843137255, \"rgb(203,26,79)\"], [0.5647058823529412, \"rgb(223,47,67)\"], [0.6274509803921569, \"rgb(236,76,61)\"], [0.6901960784313725, \"rgb(242,107,73)\"], [0.7529411764705882, \"rgb(244,135,95)\"], [0.8156862745098039, \"rgb(245,162,122)\"], [0.8784313725490196, \"rgb(246,188,153)\"], [0.9411764705882353, \"rgb(247,212,187)\"], [1.0, \"rgb(250,234,220)\"]], \"type\": \"histogram2dcontour\"}], \"mesh3d\": [{\"colorbar\": {\"outlinewidth\": 0, \"tickcolor\": \"rgb(36,36,36)\", \"ticklen\": 8, \"ticks\": \"outside\", \"tickwidth\": 2}, \"type\": \"mesh3d\"}], \"parcoords\": [{\"line\": {\"colorbar\": {\"outlinewidth\": 0, \"tickcolor\": \"rgb(36,36,36)\", \"ticklen\": 8, \"ticks\": \"outside\", \"tickwidth\": 2}}, \"type\": \"parcoords\"}], \"pie\": [{\"automargin\": true, \"type\": \"pie\"}], \"scatter\": [{\"marker\": {\"colorbar\": {\"outlinewidth\": 0, \"tickcolor\": \"rgb(36,36,36)\", \"ticklen\": 8, \"ticks\": \"outside\", \"tickwidth\": 2}}, \"type\": \"scatter\"}], \"scatter3d\": [{\"line\": {\"colorbar\": {\"outlinewidth\": 0, \"tickcolor\": \"rgb(36,36,36)\", \"ticklen\": 8, \"ticks\": \"outside\", \"tickwidth\": 2}}, \"marker\": {\"colorbar\": {\"outlinewidth\": 0, \"tickcolor\": \"rgb(36,36,36)\", \"ticklen\": 8, \"ticks\": \"outside\", \"tickwidth\": 2}}, \"type\": \"scatter3d\"}], \"scattercarpet\": [{\"marker\": {\"colorbar\": {\"outlinewidth\": 0, \"tickcolor\": \"rgb(36,36,36)\", \"ticklen\": 8, \"ticks\": \"outside\", \"tickwidth\": 2}}, \"type\": \"scattercarpet\"}], \"scattergeo\": [{\"marker\": {\"colorbar\": {\"outlinewidth\": 0, \"tickcolor\": \"rgb(36,36,36)\", \"ticklen\": 8, \"ticks\": \"outside\", \"tickwidth\": 2}}, \"type\": \"scattergeo\"}], \"scattergl\": [{\"marker\": {\"colorbar\": {\"outlinewidth\": 0, \"tickcolor\": \"rgb(36,36,36)\", \"ticklen\": 8, \"ticks\": \"outside\", \"tickwidth\": 2}}, \"type\": \"scattergl\"}], \"scattermapbox\": [{\"marker\": {\"colorbar\": {\"outlinewidth\": 0, \"tickcolor\": \"rgb(36,36,36)\", \"ticklen\": 8, \"ticks\": \"outside\", \"tickwidth\": 2}}, \"type\": \"scattermapbox\"}], \"scatterpolar\": [{\"marker\": {\"colorbar\": {\"outlinewidth\": 0, \"tickcolor\": \"rgb(36,36,36)\", \"ticklen\": 8, \"ticks\": \"outside\", \"tickwidth\": 2}}, \"type\": \"scatterpolar\"}], \"scatterpolargl\": [{\"marker\": {\"colorbar\": {\"outlinewidth\": 0, \"tickcolor\": \"rgb(36,36,36)\", \"ticklen\": 8, \"ticks\": \"outside\", \"tickwidth\": 2}}, \"type\": \"scatterpolargl\"}], \"scatterternary\": [{\"marker\": {\"colorbar\": {\"outlinewidth\": 0, \"tickcolor\": \"rgb(36,36,36)\", \"ticklen\": 8, \"ticks\": \"outside\", \"tickwidth\": 2}}, \"type\": \"scatterternary\"}], \"surface\": [{\"colorbar\": {\"outlinewidth\": 0, \"tickcolor\": \"rgb(36,36,36)\", \"ticklen\": 8, \"ticks\": \"outside\", \"tickwidth\": 2}, \"colorscale\": [[0.0, \"rgb(2,4,25)\"], [0.06274509803921569, \"rgb(24,15,41)\"], [0.12549019607843137, \"rgb(47,23,57)\"], [0.18823529411764706, \"rgb(71,28,72)\"], [0.25098039215686274, \"rgb(97,30,82)\"], [0.3137254901960784, \"rgb(123,30,89)\"], [0.3764705882352941, \"rgb(150,27,91)\"], [0.4392156862745098, \"rgb(177,22,88)\"], [0.5019607843137255, \"rgb(203,26,79)\"], [0.5647058823529412, \"rgb(223,47,67)\"], [0.6274509803921569, \"rgb(236,76,61)\"], [0.6901960784313725, \"rgb(242,107,73)\"], [0.7529411764705882, \"rgb(244,135,95)\"], [0.8156862745098039, \"rgb(245,162,122)\"], [0.8784313725490196, \"rgb(246,188,153)\"], [0.9411764705882353, \"rgb(247,212,187)\"], [1.0, \"rgb(250,234,220)\"]], \"type\": \"surface\"}], \"table\": [{\"cells\": {\"fill\": {\"color\": \"rgb(231,231,240)\"}, \"line\": {\"color\": \"white\"}}, \"header\": {\"fill\": {\"color\": \"rgb(183,183,191)\"}, \"line\": {\"color\": \"white\"}}, \"type\": \"table\"}]}, \"layout\": {\"annotationdefaults\": {\"arrowcolor\": \"rgb(67,103,167)\"}, \"autotypenumbers\": \"strict\", \"coloraxis\": {\"colorbar\": {\"outlinewidth\": 0, \"tickcolor\": \"rgb(36,36,36)\", \"ticklen\": 8, \"ticks\": \"outside\", \"tickwidth\": 2}}, \"colorscale\": {\"sequential\": [[0.0, \"rgb(2,4,25)\"], [0.06274509803921569, \"rgb(24,15,41)\"], [0.12549019607843137, \"rgb(47,23,57)\"], [0.18823529411764706, \"rgb(71,28,72)\"], [0.25098039215686274, \"rgb(97,30,82)\"], [0.3137254901960784, \"rgb(123,30,89)\"], [0.3764705882352941, \"rgb(150,27,91)\"], [0.4392156862745098, \"rgb(177,22,88)\"], [0.5019607843137255, \"rgb(203,26,79)\"], [0.5647058823529412, \"rgb(223,47,67)\"], [0.6274509803921569, \"rgb(236,76,61)\"], [0.6901960784313725, \"rgb(242,107,73)\"], [0.7529411764705882, \"rgb(244,135,95)\"], [0.8156862745098039, \"rgb(245,162,122)\"], [0.8784313725490196, \"rgb(246,188,153)\"], [0.9411764705882353, \"rgb(247,212,187)\"], [1.0, \"rgb(250,234,220)\"]], \"sequentialminus\": [[0.0, \"rgb(2,4,25)\"], [0.06274509803921569, \"rgb(24,15,41)\"], [0.12549019607843137, \"rgb(47,23,57)\"], [0.18823529411764706, \"rgb(71,28,72)\"], [0.25098039215686274, \"rgb(97,30,82)\"], [0.3137254901960784, \"rgb(123,30,89)\"], [0.3764705882352941, \"rgb(150,27,91)\"], [0.4392156862745098, \"rgb(177,22,88)\"], [0.5019607843137255, \"rgb(203,26,79)\"], [0.5647058823529412, \"rgb(223,47,67)\"], [0.6274509803921569, \"rgb(236,76,61)\"], [0.6901960784313725, \"rgb(242,107,73)\"], [0.7529411764705882, \"rgb(244,135,95)\"], [0.8156862745098039, \"rgb(245,162,122)\"], [0.8784313725490196, \"rgb(246,188,153)\"], [0.9411764705882353, \"rgb(247,212,187)\"], [1.0, \"rgb(250,234,220)\"]]}, \"colorway\": [\"rgb(76,114,176)\", \"rgb(221,132,82)\", \"rgb(85,168,104)\", \"rgb(196,78,82)\", \"rgb(129,114,179)\", \"rgb(147,120,96)\", \"rgb(218,139,195)\", \"rgb(140,140,140)\", \"rgb(204,185,116)\", \"rgb(100,181,205)\"], \"font\": {\"color\": \"rgb(36,36,36)\"}, \"geo\": {\"bgcolor\": \"white\", \"lakecolor\": \"white\", \"landcolor\": \"rgb(234,234,242)\", \"showlakes\": true, \"showland\": true, \"subunitcolor\": \"white\"}, \"hoverlabel\": {\"align\": \"left\"}, \"hovermode\": \"closest\", \"paper_bgcolor\": \"white\", \"plot_bgcolor\": \"rgb(234,234,242)\", \"polar\": {\"angularaxis\": {\"gridcolor\": \"white\", \"linecolor\": \"white\", \"showgrid\": true, \"ticks\": \"\"}, \"bgcolor\": \"rgb(234,234,242)\", \"radialaxis\": {\"gridcolor\": \"white\", \"linecolor\": \"white\", \"showgrid\": true, \"ticks\": \"\"}}, \"scene\": {\"xaxis\": {\"backgroundcolor\": \"rgb(234,234,242)\", \"gridcolor\": \"white\", \"gridwidth\": 2, \"linecolor\": \"white\", \"showbackground\": true, \"showgrid\": true, \"ticks\": \"\", \"zerolinecolor\": \"white\"}, \"yaxis\": {\"backgroundcolor\": \"rgb(234,234,242)\", \"gridcolor\": \"white\", \"gridwidth\": 2, \"linecolor\": \"white\", \"showbackground\": true, \"showgrid\": true, \"ticks\": \"\", \"zerolinecolor\": \"white\"}, \"zaxis\": {\"backgroundcolor\": \"rgb(234,234,242)\", \"gridcolor\": \"white\", \"gridwidth\": 2, \"linecolor\": \"white\", \"showbackground\": true, \"showgrid\": true, \"ticks\": \"\", \"zerolinecolor\": \"white\"}}, \"shapedefaults\": {\"fillcolor\": \"rgb(67,103,167)\", \"line\": {\"width\": 0}, \"opacity\": 0.5}, \"ternary\": {\"aaxis\": {\"gridcolor\": \"white\", \"linecolor\": \"white\", \"showgrid\": true, \"ticks\": \"\"}, \"baxis\": {\"gridcolor\": \"white\", \"linecolor\": \"white\", \"showgrid\": true, \"ticks\": \"\"}, \"bgcolor\": \"rgb(234,234,242)\", \"caxis\": {\"gridcolor\": \"white\", \"linecolor\": \"white\", \"showgrid\": true, \"ticks\": \"\"}}, \"xaxis\": {\"automargin\": true, \"gridcolor\": \"white\", \"linecolor\": \"white\", \"showgrid\": true, \"ticks\": \"\", \"title\": {\"standoff\": 15}, \"zerolinecolor\": \"white\"}, \"yaxis\": {\"automargin\": true, \"gridcolor\": \"white\", \"linecolor\": \"white\", \"showgrid\": true, \"ticks\": \"\", \"title\": {\"standoff\": 15}, \"zerolinecolor\": \"white\"}}}, \"width\": 650, \"xaxis\": {\"anchor\": \"y\", \"domain\": [0.0, 1.0], \"title\": {\"text\": \"Pstatus\"}}, \"yaxis\": {\"anchor\": \"x\", \"domain\": [0.0, 1.0], \"title\": {\"text\": \"G_Mean\"}}},                        {\"responsive\": true}                    ).then(function(){\n",
       "                            \n",
       "var gd = document.getElementById('7e940c04-4c6c-48d6-a520-e53081f86c12');\n",
       "var x = new MutationObserver(function (mutations, observer) {{\n",
       "        var display = window.getComputedStyle(gd).display;\n",
       "        if (!display || display === 'none') {{\n",
       "            console.log([gd, 'removed!']);\n",
       "            Plotly.purge(gd);\n",
       "            observer.disconnect();\n",
       "        }}\n",
       "}});\n",
       "\n",
       "// Listen for the removal of the full notebook cells\n",
       "var notebookContainer = gd.closest('#notebook-container');\n",
       "if (notebookContainer) {{\n",
       "    x.observe(notebookContainer, {childList: true});\n",
       "}}\n",
       "\n",
       "// Listen for the clearing of the current output cell\n",
       "var outputEl = gd.closest('.output');\n",
       "if (outputEl) {{\n",
       "    x.observe(outputEl, {childList: true});\n",
       "}}\n",
       "\n",
       "                        })                };                });            </script>        </div>"
      ]
     },
     "metadata": {},
     "output_type": "display_data"
    }
   ],
   "source": [
    "# plt.figure(figsize=(1,1))\n",
    "# sns.boxplot(x = 'Pstatus', y = 'G_Mean', hue='sex', data = df, saturation=1)\n",
    "# plt.legend(loc='upper left')\n",
    "# plt.ylabel('G Mean')\n",
    "# plt.xlabel('P Status')\n",
    "ex.box(x = 'Pstatus', y = 'G_Mean', color='sex', data_frame = df, template='seaborn', \n",
    "       notched=True, width=650, height=450)"
   ]
  },
  {
   "cell_type": "markdown",
   "id": "8415c31c",
   "metadata": {},
   "source": [
    "#### With respect to Pstatus, we can observe that when Pstatus = A, male students are performing better than their female counterpart but when Pstatus = T, there is not much difference between the performance of male and female students."
   ]
  },
  {
   "cell_type": "code",
   "execution_count": 13,
   "id": "a2b54ba6",
   "metadata": {},
   "outputs": [
    {
     "data": {
      "image/png": "[encoded data removed]",
      "text/plain": [
       "<Figure size 432x288 with 1 Axes>"
      ]
     },
     "metadata": {
      "needs_background": "light"
     },
     "output_type": "display_data"
    },
    {
     "data": {
      "image/png": "[encoded data removed]",
      "text/plain": [
       "<Figure size 432x288 with 1 Axes>"
      ]
     },
     "metadata": {
      "needs_background": "light"
     },
     "output_type": "display_data"
    }
   ],
   "source": [
    "sns.countplot(x='Mjob', data = df, palette='rocket', saturation=0.9)\n",
    "plt.show()\n",
    "sns.countplot(x='Fjob', data = df, palette='dark', saturation=0.9)\n",
    "plt.show()"
   ]
  },
  {
   "cell_type": "code",
   "execution_count": 14,
   "id": "f51aed38",
   "metadata": {},
   "outputs": [
    {
     "data": {
      "application/vnd.plotly.v1+json": {
       "config": {
        "plotlyServerURL": "https://plotly.com"
       },
       "data": [
        {
         "alignmentgroup": "True",
         "hovertemplate": "color=at_home<br>x=%{x}<br>y=%{y}<extra></extra>",
         "legendgroup": "at_home",
         "marker": {
          "color": "#636efa"
         },
         "name": "at_home",
         "notched": false,
         "offsetgroup": "at_home",
         "orientation": "v",
         "showlegend": true,
         "type": "box",
         "x": [
          "at_home",
          "at_home",
          "at_home",
          "at_home",
          "at_home",
          "at_home",
          "at_home",
          "at_home",
          "at_home",
          "at_home",
          "at_home",
          "at_home",
          "at_home",
          "at_home",
          "at_home",
          "at_home",
          "at_home",
          "at_home",
          "at_home",
          "at_home",
          "at_home",
          "at_home",
          "at_home",
          "at_home",
          "at_home",
          "at_home",
          "at_home",
          "at_home",
          "at_home",
          "at_home",
          "at_home",
          "at_home",
          "at_home",
          "at_home",
          "at_home",
          "at_home",
          "at_home",
          "at_home",
          "at_home",
          "at_home",
          "at_home",
          "at_home",
          "at_home",
          "at_home",
          "at_home",
          "at_home",
          "at_home",
          "at_home",
          "at_home",
          "at_home",
          "at_home",
          "at_home",
          "at_home",
          "at_home",
          "at_home",
          "at_home",
          "at_home",
          "at_home",
          "at_home"
         ],
         "x0": " ",
         "xaxis": "x",
         "y": [
          5.666666666666667,
          5.333333333333333,
          8.333333333333334,
          13.333333333333334,
          5,
          7,
          9,
          12,
          15.333333333333334,
          8,
          2.6666666666666665,
          3,
          3.3333333333333335,
          13.666666666666666,
          10.666666666666666,
          13,
          9,
          9,
          15.666666666666666,
          4.333333333333333,
          10,
          5,
          9,
          8.333333333333334,
          7.666666666666667,
          9.333333333333334,
          9.333333333333334,
          7.333333333333333,
          9.666666666666666,
          6,
          3.6666666666666665,
          9,
          10,
          11.666666666666666,
          9,
          6.333333333333333,
          14.333333333333334,
          10,
          12,
          18.333333333333332,
          10.666666666666666,
          13,
          13.666666666666666,
          10.666666666666666,
          15.333333333333334,
          13.333333333333334,
          6.333333333333333,
          5.666666666666667,
          10.333333333333334,
          7.666666666666667,
          16.666666666666668,
          13,
          12.333333333333334,
          15.333333333333334,
          10,
          10.333333333333334,
          12.666666666666666,
          10,
          9.666666666666666
         ],
         "y0": " ",
         "yaxis": "y"
        },
        {
         "alignmentgroup": "True",
         "hovertemplate": "color=health<br>x=%{x}<br>y=%{y}<extra></extra>",
         "legendgroup": "health",
         "marker": {
          "color": "#EF553B"
         },
         "name": "health",
         "notched": false,
         "offsetgroup": "health",
         "orientation": "v",
         "showlegend": true,
         "type": "box",
         "x": [
          "health",
          "health",
          "health",
          "health",
          "health",
          "health",
          "health",
          "health",
          "health",
          "health",
          "health",
          "health",
          "health",
          "health",
          "health",
          "health",
          "health",
          "health",
          "health",
          "health",
          "health",
          "health",
          "health",
          "health",
          "health",
          "health",
          "health",
          "health",
          "health",
          "health",
          "health",
          "health",
          "health",
          "health"
         ],
         "x0": " ",
         "xaxis": "x",
         "y": [
          14.666666666666666,
          14,
          14,
          9.333333333333334,
          14,
          15.333333333333334,
          10.666666666666666,
          19.333333333333332,
          12.333333333333334,
          10.666666666666666,
          10.666666666666666,
          8.333333333333334,
          15,
          9,
          12.666666666666666,
          4.333333333333333,
          15,
          14,
          8,
          16,
          13.333333333333334,
          13.333333333333334,
          12,
          8,
          9.666666666666666,
          8.333333333333334,
          15,
          12.333333333333334,
          6.333333333333333,
          11,
          17.333333333333332,
          14.333333333333334,
          13,
          14.666666666666666
         ],
         "y0": " ",
         "yaxis": "y"
        },
        {
         "alignmentgroup": "True",
         "hovertemplate": "color=other<br>x=%{x}<br>y=%{y}<extra></extra>",
         "legendgroup": "other",
         "marker": {
          "color": "#00cc96"
         },
         "name": "other",
         "notched": false,
         "offsetgroup": "other",
         "orientation": "v",
         "showlegend": true,
         "type": "box",
         "x": [
          "other",
          "other",
          "other",
          "other",
          "other",
          "other",
          "other",
          "other",
          "other",
          "other",
          "other",
          "other",
          "other",
          "other",
          "other",
          "other",
          "other",
          "other",
          "other",
          "other",
          "other",
          "other",
          "other",
          "other",
          "other",
          "other",
          "other",
          "other",
          "other",
          "other",
          "other",
          "other",
          "other",
          "other",
          "other",
          "other",
          "other",
          "other",
          "other",
          "other",
          "other",
          "other",
          "other",
          "other",
          "other",
          "other",
          "other",
          "other",
          "other",
          "other",
          "other",
          "other",
          "other",
          "other",
          "other",
          "other",
          "other",
          "other",
          "other",
          "other",
          "other",
          "other",
          "other",
          "other",
          "other",
          "other",
          "other",
          "other",
          "other",
          "other",
          "other",
          "other",
          "other",
          "other",
          "other",
          "other",
          "other",
          "other",
          "other",
          "other",
          "other",
          "other",
          "other",
          "other",
          "other",
          "other",
          "other",
          "other",
          "other",
          "other",
          "other",
          "other",
          "other",
          "other",
          "other",
          "other",
          "other",
          "other",
          "other",
          "other",
          "other",
          "other",
          "other",
          "other",
          "other",
          "other",
          "other",
          "other",
          "other",
          "other",
          "other",
          "other",
          "other",
          "other",
          "other",
          "other",
          "other",
          "other",
          "other",
          "other",
          "other",
          "other",
          "other",
          "other",
          "other",
          "other",
          "other",
          "other",
          "other",
          "other",
          "other",
          "other",
          "other",
          "other",
          "other",
          "other",
          "other",
          "other",
          "other",
          "other",
          "other"
         ],
         "x0": " ",
         "xaxis": "x",
         "y": [
          8.666666666666666,
          11.666666666666666,
          5.666666666666667,
          14.666666666666666,
          15.333333333333334,
          9.333333333333334,
          12.666666666666666,
          11.666666666666666,
          10,
          13.666666666666666,
          7,
          15.333333333333334,
          9.333333333333334,
          9.666666666666666,
          7.333333333333333,
          11.333333333333334,
          12,
          9,
          9.333333333333334,
          9,
          12.666666666666666,
          16,
          14.333333333333334,
          10,
          6.333333333333333,
          12.666666666666666,
          11.333333333333334,
          11,
          8.666666666666666,
          11.333333333333334,
          10.666666666666666,
          9.666666666666666,
          13.666666666666666,
          7.333333333333333,
          6.333333333333333,
          9,
          13,
          8,
          10.666666666666666,
          7.666666666666667,
          12,
          12.666666666666666,
          13.333333333333334,
          8,
          13.333333333333334,
          13,
          7.666666666666667,
          9.333333333333334,
          11.666666666666666,
          1.3333333333333333,
          1.6666666666666667,
          10,
          3.6666666666666665,
          11.333333333333334,
          13.666666666666666,
          11.333333333333334,
          7,
          2.3333333333333335,
          6.666666666666667,
          10,
          4.333333333333333,
          3.6666666666666665,
          14.666666666666666,
          10,
          5.666666666666667,
          10.333333333333334,
          8.666666666666666,
          12.333333333333334,
          15,
          13.666666666666666,
          9.333333333333334,
          9.333333333333334,
          6.333333333333333,
          8,
          13,
          14.666666666666666,
          5.333333333333333,
          12.666666666666666,
          8,
          15.333333333333334,
          11.333333333333334,
          11,
          7.333333333333333,
          13.333333333333334,
          12.333333333333334,
          4.666666666666667,
          2.3333333333333335,
          18,
          12.333333333333334,
          4.333333333333333,
          14.333333333333334,
          8.333333333333334,
          10.666666666666666,
          14.333333333333334,
          12.333333333333334,
          9.333333333333334,
          17,
          2,
          9,
          14.333333333333334,
          11,
          9.333333333333334,
          9,
          10,
          11,
          8.666666666666666,
          13.666666666666666,
          10.666666666666666,
          13.666666666666666,
          14,
          13,
          11.666666666666666,
          11.666666666666666,
          9.333333333333334,
          9.666666666666666,
          10.666666666666666,
          15,
          8.333333333333334,
          5.333333333333333,
          5,
          9.666666666666666,
          13.333333333333334,
          12.333333333333334,
          7.666666666666667,
          8,
          10,
          11.666666666666666,
          4.333333333333333,
          12.333333333333334,
          11.666666666666666,
          5.333333333333333,
          18.666666666666668,
          8.666666666666666,
          15,
          6.666666666666667,
          10.666666666666666,
          3.6666666666666665,
          5.333333333333333,
          3.6666666666666665,
          8.333333333333334,
          8.666666666666666
         ],
         "y0": " ",
         "yaxis": "y"
        },
        {
         "alignmentgroup": "True",
         "hovertemplate": "color=services<br>x=%{x}<br>y=%{y}<extra></extra>",
         "legendgroup": "services",
         "marker": {
          "color": "#ab63fa"
         },
         "name": "services",
         "notched": false,
         "offsetgroup": "services",
         "orientation": "v",
         "showlegend": true,
         "type": "box",
         "x": [
          "services",
          "services",
          "services",
          "services",
          "services",
          "services",
          "services",
          "services",
          "services",
          "services",
          "services",
          "services",
          "services",
          "services",
          "services",
          "services",
          "services",
          "services",
          "services",
          "services",
          "services",
          "services",
          "services",
          "services",
          "services",
          "services",
          "services",
          "services",
          "services",
          "services",
          "services",
          "services",
          "services",
          "services",
          "services",
          "services",
          "services",
          "services",
          "services",
          "services",
          "services",
          "services",
          "services",
          "services",
          "services",
          "services",
          "services",
          "services",
          "services",
          "services",
          "services",
          "services",
          "services",
          "services",
          "services",
          "services",
          "services",
          "services",
          "services",
          "services",
          "services",
          "services",
          "services",
          "services",
          "services",
          "services",
          "services",
          "services",
          "services",
          "services",
          "services",
          "services",
          "services",
          "services",
          "services",
          "services",
          "services",
          "services",
          "services",
          "services",
          "services",
          "services",
          "services",
          "services",
          "services",
          "services",
          "services",
          "services",
          "services",
          "services",
          "services",
          "services",
          "services",
          "services",
          "services",
          "services",
          "services",
          "services",
          "services",
          "services",
          "services",
          "services",
          "services"
         ],
         "x0": " ",
         "xaxis": "x",
         "y": [
          15,
          17.666666666666668,
          11.333333333333334,
          13.666666666666666,
          5.333333333333333,
          9,
          7.666666666666667,
          11,
          16.666666666666668,
          11.666666666666666,
          18.333333333333332,
          9,
          7,
          12.666666666666666,
          9.666666666666666,
          14.666666666666666,
          15.666666666666666,
          9.666666666666666,
          10,
          6.666666666666667,
          6.333333333333333,
          15,
          8,
          10.333333333333334,
          17,
          12.666666666666666,
          13.666666666666666,
          6.333333333333333,
          16.666666666666668,
          12.333333333333334,
          6.333333333333333,
          17.333333333333332,
          17.333333333333332,
          9,
          15,
          12.666666666666666,
          3.6666666666666665,
          4,
          11.333333333333334,
          3.6666666666666665,
          12.666666666666666,
          9,
          9,
          10,
          1.6666666666666667,
          11.666666666666666,
          12.333333333333334,
          12.333333333333334,
          16.666666666666668,
          11.666666666666666,
          11.333333333333334,
          12,
          9,
          14.666666666666666,
          16,
          18,
          10.333333333333334,
          7,
          12.333333333333334,
          7,
          9.333333333333334,
          6.666666666666667,
          16.333333333333332,
          11.666666666666666,
          12.333333333333334,
          7.333333333333333,
          7.333333333333333,
          7.666666666666667,
          11,
          6.333333333333333,
          17.666666666666668,
          9.333333333333334,
          12,
          8,
          12.333333333333334,
          14.333333333333334,
          12.333333333333334,
          18,
          13.666666666666666,
          12.666666666666666,
          17.666666666666668,
          6,
          11.333333333333334,
          5.333333333333333,
          13,
          11,
          13.666666666666666,
          10.333333333333334,
          2.3333333333333335,
          15.333333333333334,
          13.333333333333334,
          16,
          11.333333333333334,
          15.333333333333334,
          11.666666666666666,
          9.333333333333334,
          11.666666666666666,
          10.666666666666666,
          7.666666666666667,
          4,
          9,
          15.333333333333334,
          11
         ],
         "y0": " ",
         "yaxis": "y"
        },
        {
         "alignmentgroup": "True",
         "hovertemplate": "color=teacher<br>x=%{x}<br>y=%{y}<extra></extra>",
         "legendgroup": "teacher",
         "marker": {
          "color": "#FFA15A"
         },
         "name": "teacher",
         "notched": false,
         "offsetgroup": "teacher",
         "orientation": "v",
         "showlegend": true,
         "type": "box",
         "x": [
          "teacher",
          "teacher",
          "teacher",
          "teacher",
          "teacher",
          "teacher",
          "teacher",
          "teacher",
          "teacher",
          "teacher",
          "teacher",
          "teacher",
          "teacher",
          "teacher",
          "teacher",
          "teacher",
          "teacher",
          "teacher",
          "teacher",
          "teacher",
          "teacher",
          "teacher",
          "teacher",
          "teacher",
          "teacher",
          "teacher",
          "teacher",
          "teacher",
          "teacher",
          "teacher",
          "teacher",
          "teacher",
          "teacher",
          "teacher",
          "teacher",
          "teacher",
          "teacher",
          "teacher",
          "teacher",
          "teacher",
          "teacher",
          "teacher",
          "teacher",
          "teacher",
          "teacher",
          "teacher",
          "teacher",
          "teacher",
          "teacher",
          "teacher",
          "teacher",
          "teacher",
          "teacher",
          "teacher",
          "teacher",
          "teacher",
          "teacher",
          "teacher"
         ],
         "x0": " ",
         "xaxis": "x",
         "y": [
          9,
          10.333333333333334,
          14,
          15.333333333333334,
          11,
          16.333333333333332,
          16.333333333333332,
          12,
          14.666666666666666,
          14.666666666666666,
          9.333333333333334,
          15.333333333333334,
          9.333333333333334,
          10.666666666666666,
          7,
          10.333333333333334,
          18.666666666666668,
          18.666666666666668,
          15.333333333333334,
          18,
          15.666666666666666,
          5.333333333333333,
          10.333333333333334,
          4.333333333333333,
          11.333333333333334,
          9.333333333333334,
          9,
          8.333333333333334,
          9.333333333333334,
          9.333333333333334,
          12,
          7,
          13.333333333333334,
          9.666666666666666,
          11,
          2,
          13,
          8,
          11,
          9,
          10.333333333333334,
          10,
          14.333333333333334,
          11.333333333333334,
          15.666666666666666,
          8.333333333333334,
          11,
          9.333333333333334,
          14,
          6.666666666666667,
          15.666666666666666,
          9.666666666666666,
          12.666666666666666,
          13,
          9,
          14.333333333333334,
          5.666666666666667,
          8
         ],
         "y0": " ",
         "yaxis": "y"
        }
       ],
       "layout": {
        "boxmode": "group",
        "height": 330,
        "legend": {
         "title": {
          "text": "color"
         },
         "tracegroupgap": 0
        },
        "margin": {
         "t": 60
        },
        "template": {
         "data": {
          "bar": [
           {
            "error_x": {
             "color": "#2a3f5f"
            },
            "error_y": {
             "color": "#2a3f5f"
            },
            "marker": {
             "line": {
              "color": "#E5ECF6",
              "width": 0.5
             }
            },
            "type": "bar"
           }
          ],
          "barpolar": [
           {
            "marker": {
             "line": {
              "color": "#E5ECF6",
              "width": 0.5
             }
            },
            "type": "barpolar"
           }
          ],
          "carpet": [
           {
            "aaxis": {
             "endlinecolor": "#2a3f5f",
             "gridcolor": "white",
             "linecolor": "white",
             "minorgridcolor": "white",
             "startlinecolor": "#2a3f5f"
            },
            "baxis": {
             "endlinecolor": "#2a3f5f",
             "gridcolor": "white",
             "linecolor": "white",
             "minorgridcolor": "white",
             "startlinecolor": "#2a3f5f"
            },
            "type": "carpet"
           }
          ],
          "choropleth": [
           {
            "colorbar": {
             "outlinewidth": 0,
             "ticks": ""
            },
            "type": "choropleth"
           }
          ],
          "contour": [
           {
            "colorbar": {
             "outlinewidth": 0,
             "ticks": ""
            },
            "colorscale": [
             [
              0,
              "#0d0887"
             ],
             [
              0.1111111111111111,
              "#46039f"
             ],
             [
              0.2222222222222222,
              "#7201a8"
             ],
             [
              0.3333333333333333,
              "#9c179e"
             ],
             [
              0.4444444444444444,
              "#bd3786"
             ],
             [
              0.5555555555555556,
              "#d8576b"
             ],
             [
              0.6666666666666666,
              "#ed7953"
             ],
             [
              0.7777777777777778,
              "#fb9f3a"
             ],
             [
              0.8888888888888888,
              "#fdca26"
             ],
             [
              1,
              "#f0f921"
             ]
            ],
            "type": "contour"
           }
          ],
          "contourcarpet": [
           {
            "colorbar": {
             "outlinewidth": 0,
             "ticks": ""
            },
            "type": "contourcarpet"
           }
          ],
          "heatmap": [
           {
            "colorbar": {
             "outlinewidth": 0,
             "ticks": ""
            },
            "colorscale": [
             [
              0,
              "#0d0887"
             ],
             [
              0.1111111111111111,
              "#46039f"
             ],
             [
              0.2222222222222222,
              "#7201a8"
             ],
             [
              0.3333333333333333,
              "#9c179e"
             ],
             [
              0.4444444444444444,
              "#bd3786"
             ],
             [
              0.5555555555555556,
              "#d8576b"
             ],
             [
              0.6666666666666666,
              "#ed7953"
             ],
             [
              0.7777777777777778,
              "#fb9f3a"
             ],
             [
              0.8888888888888888,
              "#fdca26"
             ],
             [
              1,
              "#f0f921"
             ]
            ],
            "type": "heatmap"
           }
          ],
          "heatmapgl": [
           {
            "colorbar": {
             "outlinewidth": 0,
             "ticks": ""
            },
            "colorscale": [
             [
              0,
              "#0d0887"
             ],
             [
              0.1111111111111111,
              "#46039f"
             ],
             [
              0.2222222222222222,
              "#7201a8"
             ],
             [
              0.3333333333333333,
              "#9c179e"
             ],
             [
              0.4444444444444444,
              "#bd3786"
             ],
             [
              0.5555555555555556,
              "#d8576b"
             ],
             [
              0.6666666666666666,
              "#ed7953"
             ],
             [
              0.7777777777777778,
              "#fb9f3a"
             ],
             [
              0.8888888888888888,
              "#fdca26"
             ],
             [
              1,
              "#f0f921"
             ]
            ],
            "type": "heatmapgl"
           }
          ],
          "histogram": [
           {
            "marker": {
             "colorbar": {
              "outlinewidth": 0,
              "ticks": ""
             }
            },
            "type": "histogram"
           }
          ],
          "histogram2d": [
           {
            "colorbar": {
             "outlinewidth": 0,
             "ticks": ""
            },
            "colorscale": [
             [
              0,
              "#0d0887"
             ],
             [
              0.1111111111111111,
              "#46039f"
             ],
             [
              0.2222222222222222,
              "#7201a8"
             ],
             [
              0.3333333333333333,
              "#9c179e"
             ],
             [
              0.4444444444444444,
              "#bd3786"
             ],
             [
              0.5555555555555556,
              "#d8576b"
             ],
             [
              0.6666666666666666,
              "#ed7953"
             ],
             [
              0.7777777777777778,
              "#fb9f3a"
             ],
             [
              0.8888888888888888,
              "#fdca26"
             ],
             [
              1,
              "#f0f921"
             ]
            ],
            "type": "histogram2d"
           }
          ],
          "histogram2dcontour": [
           {
            "colorbar": {
             "outlinewidth": 0,
             "ticks": ""
            },
            "colorscale": [
             [
              0,
              "#0d0887"
             ],
             [
              0.1111111111111111,
              "#46039f"
             ],
             [
              0.2222222222222222,
              "#7201a8"
             ],
             [
              0.3333333333333333,
              "#9c179e"
             ],
             [
              0.4444444444444444,
              "#bd3786"
             ],
             [
              0.5555555555555556,
              "#d8576b"
             ],
             [
              0.6666666666666666,
              "#ed7953"
             ],
             [
              0.7777777777777778,
              "#fb9f3a"
             ],
             [
              0.8888888888888888,
              "#fdca26"
             ],
             [
              1,
              "#f0f921"
             ]
            ],
            "type": "histogram2dcontour"
           }
          ],
          "mesh3d": [
           {
            "colorbar": {
             "outlinewidth": 0,
             "ticks": ""
            },
            "type": "mesh3d"
           }
          ],
          "parcoords": [
           {
            "line": {
             "colorbar": {
              "outlinewidth": 0,
              "ticks": ""
             }
            },
            "type": "parcoords"
           }
          ],
          "pie": [
           {
            "automargin": true,
            "type": "pie"
           }
          ],
          "scatter": [
           {
            "marker": {
             "colorbar": {
              "outlinewidth": 0,
              "ticks": ""
             }
            },
            "type": "scatter"
           }
          ],
          "scatter3d": [
           {
            "line": {
             "colorbar": {
              "outlinewidth": 0,
              "ticks": ""
             }
            },
            "marker": {
             "colorbar": {
              "outlinewidth": 0,
              "ticks": ""
             }
            },
            "type": "scatter3d"
           }
          ],
          "scattercarpet": [
           {
            "marker": {
             "colorbar": {
              "outlinewidth": 0,
              "ticks": ""
             }
            },
            "type": "scattercarpet"
           }
          ],
          "scattergeo": [
           {
            "marker": {
             "colorbar": {
              "outlinewidth": 0,
              "ticks": ""
             }
            },
            "type": "scattergeo"
           }
          ],
          "scattergl": [
           {
            "marker": {
             "colorbar": {
              "outlinewidth": 0,
              "ticks": ""
             }
            },
            "type": "scattergl"
           }
          ],
          "scattermapbox": [
           {
            "marker": {
             "colorbar": {
              "outlinewidth": 0,
              "ticks": ""
             }
            },
            "type": "scattermapbox"
           }
          ],
          "scatterpolar": [
           {
            "marker": {
             "colorbar": {
              "outlinewidth": 0,
              "ticks": ""
             }
            },
            "type": "scatterpolar"
           }
          ],
          "scatterpolargl": [
           {
            "marker": {
             "colorbar": {
              "outlinewidth": 0,
              "ticks": ""
             }
            },
            "type": "scatterpolargl"
           }
          ],
          "scatterternary": [
           {
            "marker": {
             "colorbar": {
              "outlinewidth": 0,
              "ticks": ""
             }
            },
            "type": "scatterternary"
           }
          ],
          "surface": [
           {
            "colorbar": {
             "outlinewidth": 0,
             "ticks": ""
            },
            "colorscale": [
             [
              0,
              "#0d0887"
             ],
             [
              0.1111111111111111,
              "#46039f"
             ],
             [
              0.2222222222222222,
              "#7201a8"
             ],
             [
              0.3333333333333333,
              "#9c179e"
             ],
             [
              0.4444444444444444,
              "#bd3786"
             ],
             [
              0.5555555555555556,
              "#d8576b"
             ],
             [
              0.6666666666666666,
              "#ed7953"
             ],
             [
              0.7777777777777778,
              "#fb9f3a"
             ],
             [
              0.8888888888888888,
              "#fdca26"
             ],
             [
              1,
              "#f0f921"
             ]
            ],
            "type": "surface"
           }
          ],
          "table": [
           {
            "cells": {
             "fill": {
              "color": "#EBF0F8"
             },
             "line": {
              "color": "white"
             }
            },
            "header": {
             "fill": {
              "color": "#C8D4E3"
             },
             "line": {
              "color": "white"
             }
            },
            "type": "table"
           }
          ]
         },
         "layout": {
          "annotationdefaults": {
           "arrowcolor": "#2a3f5f",
           "arrowhead": 0,
           "arrowwidth": 1
          },
          "autotypenumbers": "strict",
          "coloraxis": {
           "colorbar": {
            "outlinewidth": 0,
            "ticks": ""
           }
          },
          "colorscale": {
           "diverging": [
            [
             0,
             "#8e0152"
            ],
            [
             0.1,
             "#c51b7d"
            ],
            [
             0.2,
             "#de77ae"
            ],
            [
             0.3,
             "#f1b6da"
            ],
            [
             0.4,
             "#fde0ef"
            ],
            [
             0.5,
             "#f7f7f7"
            ],
            [
             0.6,
             "#e6f5d0"
            ],
            [
             0.7,
             "#b8e186"
            ],
            [
             0.8,
             "#7fbc41"
            ],
            [
             0.9,
             "#4d9221"
            ],
            [
             1,
             "#276419"
            ]
           ],
           "sequential": [
            [
             0,
             "#0d0887"
            ],
            [
             0.1111111111111111,
             "#46039f"
            ],
            [
             0.2222222222222222,
             "#7201a8"
            ],
            [
             0.3333333333333333,
             "#9c179e"
            ],
            [
             0.4444444444444444,
             "#bd3786"
            ],
            [
             0.5555555555555556,
             "#d8576b"
            ],
            [
             0.6666666666666666,
             "#ed7953"
            ],
            [
             0.7777777777777778,
             "#fb9f3a"
            ],
            [
             0.8888888888888888,
             "#fdca26"
            ],
            [
             1,
             "#f0f921"
            ]
           ],
           "sequentialminus": [
            [
             0,
             "#0d0887"
            ],
            [
             0.1111111111111111,
             "#46039f"
            ],
            [
             0.2222222222222222,
             "#7201a8"
            ],
            [
             0.3333333333333333,
             "#9c179e"
            ],
            [
             0.4444444444444444,
             "#bd3786"
            ],
            [
             0.5555555555555556,
             "#d8576b"
            ],
            [
             0.6666666666666666,
             "#ed7953"
            ],
            [
             0.7777777777777778,
             "#fb9f3a"
            ],
            [
             0.8888888888888888,
             "#fdca26"
            ],
            [
             1,
             "#f0f921"
            ]
           ]
          },
          "colorway": [
           "#636efa",
           "#EF553B",
           "#00cc96",
           "#ab63fa",
           "#FFA15A",
           "#19d3f3",
           "#FF6692",
           "#B6E880",
           "#FF97FF",
           "#FECB52"
          ],
          "font": {
           "color": "#2a3f5f"
          },
          "geo": {
           "bgcolor": "white",
           "lakecolor": "white",
           "landcolor": "#E5ECF6",
           "showlakes": true,
           "showland": true,
           "subunitcolor": "white"
          },
          "hoverlabel": {
           "align": "left"
          },
          "hovermode": "closest",
          "mapbox": {
           "style": "light"
          },
          "paper_bgcolor": "white",
          "plot_bgcolor": "#E5ECF6",
          "polar": {
           "angularaxis": {
            "gridcolor": "white",
            "linecolor": "white",
            "ticks": ""
           },
           "bgcolor": "#E5ECF6",
           "radialaxis": {
            "gridcolor": "white",
            "linecolor": "white",
            "ticks": ""
           }
          },
          "scene": {
           "xaxis": {
            "backgroundcolor": "#E5ECF6",
            "gridcolor": "white",
            "gridwidth": 2,
            "linecolor": "white",
            "showbackground": true,
            "ticks": "",
            "zerolinecolor": "white"
           },
           "yaxis": {
            "backgroundcolor": "#E5ECF6",
            "gridcolor": "white",
            "gridwidth": 2,
            "linecolor": "white",
            "showbackground": true,
            "ticks": "",
            "zerolinecolor": "white"
           },
           "zaxis": {
            "backgroundcolor": "#E5ECF6",
            "gridcolor": "white",
            "gridwidth": 2,
            "linecolor": "white",
            "showbackground": true,
            "ticks": "",
            "zerolinecolor": "white"
           }
          },
          "shapedefaults": {
           "line": {
            "color": "#2a3f5f"
           }
          },
          "ternary": {
           "aaxis": {
            "gridcolor": "white",
            "linecolor": "white",
            "ticks": ""
           },
           "baxis": {
            "gridcolor": "white",
            "linecolor": "white",
            "ticks": ""
           },
           "bgcolor": "#E5ECF6",
           "caxis": {
            "gridcolor": "white",
            "linecolor": "white",
            "ticks": ""
           }
          },
          "title": {
           "x": 0.05
          },
          "xaxis": {
           "automargin": true,
           "gridcolor": "white",
           "linecolor": "white",
           "ticks": "",
           "title": {
            "standoff": 15
           },
           "zerolinecolor": "white",
           "zerolinewidth": 2
          },
          "yaxis": {
           "automargin": true,
           "gridcolor": "white",
           "linecolor": "white",
           "ticks": "",
           "title": {
            "standoff": 15
           },
           "zerolinecolor": "white",
           "zerolinewidth": 2
          }
         }
        },
        "width": 800,
        "xaxis": {
         "anchor": "y",
         "domain": [
          0,
          1
         ],
         "title": {
          "text": "x"
         }
        },
        "yaxis": {
         "anchor": "x",
         "domain": [
          0,
          1
         ],
         "title": {
          "text": "y"
         }
        }
       }
      },
      "text/html": [
       "<div>                            <div id=\"061030a1-c777-4a89-ba3d-c4d969757c46\" class=\"plotly-graph-div\" style=\"height:330px; width:800px;\"></div>            <script type=\"text/javascript\">                require([\"plotly\"], function(Plotly) {                    window.PLOTLYENV=window.PLOTLYENV || {};                                    if (document.getElementById(\"061030a1-c777-4a89-ba3d-c4d969757c46\")) {                    Plotly.newPlot(                        \"061030a1-c777-4a89-ba3d-c4d969757c46\",                        [{\"alignmentgroup\": \"True\", \"hovertemplate\": \"color=at_home<br>x=%{x}<br>y=%{y}<extra></extra>\", \"legendgroup\": \"at_home\", \"marker\": {\"color\": \"#636efa\"}, \"name\": \"at_home\", \"notched\": false, \"offsetgroup\": \"at_home\", \"orientation\": \"v\", \"showlegend\": true, \"type\": \"box\", \"x\": [\"at_home\", \"at_home\", \"at_home\", \"at_home\", \"at_home\", \"at_home\", \"at_home\", \"at_home\", \"at_home\", \"at_home\", \"at_home\", \"at_home\", \"at_home\", \"at_home\", \"at_home\", \"at_home\", \"at_home\", \"at_home\", \"at_home\", \"at_home\", \"at_home\", \"at_home\", \"at_home\", \"at_home\", \"at_home\", \"at_home\", \"at_home\", \"at_home\", \"at_home\", \"at_home\", \"at_home\", \"at_home\", \"at_home\", \"at_home\", \"at_home\", \"at_home\", \"at_home\", \"at_home\", \"at_home\", \"at_home\", \"at_home\", \"at_home\", \"at_home\", \"at_home\", \"at_home\", \"at_home\", \"at_home\", \"at_home\", \"at_home\", \"at_home\", \"at_home\", \"at_home\", \"at_home\", \"at_home\", \"at_home\", \"at_home\", \"at_home\", \"at_home\", \"at_home\"], \"x0\": \" \", \"xaxis\": \"x\", \"y\": [5.666666666666667, 5.333333333333333, 8.333333333333334, 13.333333333333334, 5.0, 7.0, 9.0, 12.0, 15.333333333333334, 8.0, 2.6666666666666665, 3.0, 3.3333333333333335, 13.666666666666666, 10.666666666666666, 13.0, 9.0, 9.0, 15.666666666666666, 4.333333333333333, 10.0, 5.0, 9.0, 8.333333333333334, 7.666666666666667, 9.333333333333334, 9.333333333333334, 7.333333333333333, 9.666666666666666, 6.0, 3.6666666666666665, 9.0, 10.0, 11.666666666666666, 9.0, 6.333333333333333, 14.333333333333334, 10.0, 12.0, 18.333333333333332, 10.666666666666666, 13.0, 13.666666666666666, 10.666666666666666, 15.333333333333334, 13.333333333333334, 6.333333333333333, 5.666666666666667, 10.333333333333334, 7.666666666666667, 16.666666666666668, 13.0, 12.333333333333334, 15.333333333333334, 10.0, 10.333333333333334, 12.666666666666666, 10.0, 9.666666666666666], \"y0\": \" \", \"yaxis\": \"y\"}, {\"alignmentgroup\": \"True\", \"hovertemplate\": \"color=health<br>x=%{x}<br>y=%{y}<extra></extra>\", \"legendgroup\": \"health\", \"marker\": {\"color\": \"#EF553B\"}, \"name\": \"health\", \"notched\": false, \"offsetgroup\": \"health\", \"orientation\": \"v\", \"showlegend\": true, \"type\": \"box\", \"x\": [\"health\", \"health\", \"health\", \"health\", \"health\", \"health\", \"health\", \"health\", \"health\", \"health\", \"health\", \"health\", \"health\", \"health\", \"health\", \"health\", \"health\", \"health\", \"health\", \"health\", \"health\", \"health\", \"health\", \"health\", \"health\", \"health\", \"health\", \"health\", \"health\", \"health\", \"health\", \"health\", \"health\", \"health\"], \"x0\": \" \", \"xaxis\": \"x\", \"y\": [14.666666666666666, 14.0, 14.0, 9.333333333333334, 14.0, 15.333333333333334, 10.666666666666666, 19.333333333333332, 12.333333333333334, 10.666666666666666, 10.666666666666666, 8.333333333333334, 15.0, 9.0, 12.666666666666666, 4.333333333333333, 15.0, 14.0, 8.0, 16.0, 13.333333333333334, 13.333333333333334, 12.0, 8.0, 9.666666666666666, 8.333333333333334, 15.0, 12.333333333333334, 6.333333333333333, 11.0, 17.333333333333332, 14.333333333333334, 13.0, 14.666666666666666], \"y0\": \" \", \"yaxis\": \"y\"}, {\"alignmentgroup\": \"True\", \"hovertemplate\": \"color=other<br>x=%{x}<br>y=%{y}<extra></extra>\", \"legendgroup\": \"other\", \"marker\": {\"color\": \"#00cc96\"}, \"name\": \"other\", \"notched\": false, \"offsetgroup\": \"other\", \"orientation\": \"v\", \"showlegend\": true, \"type\": \"box\", \"x\": [\"other\", \"other\", \"other\", \"other\", \"other\", \"other\", \"other\", \"other\", \"other\", \"other\", \"other\", \"other\", \"other\", \"other\", \"other\", \"other\", \"other\", \"other\", \"other\", \"other\", \"other\", \"other\", \"other\", \"other\", \"other\", \"other\", \"other\", \"other\", \"other\", \"other\", \"other\", \"other\", \"other\", \"other\", \"other\", \"other\", \"other\", \"other\", \"other\", \"other\", \"other\", \"other\", \"other\", \"other\", \"other\", \"other\", \"other\", \"other\", \"other\", \"other\", \"other\", \"other\", \"other\", \"other\", \"other\", \"other\", \"other\", \"other\", \"other\", \"other\", \"other\", \"other\", \"other\", \"other\", \"other\", \"other\", \"other\", \"other\", \"other\", \"other\", \"other\", \"other\", \"other\", \"other\", \"other\", \"other\", \"other\", \"other\", \"other\", \"other\", \"other\", \"other\", \"other\", \"other\", \"other\", \"other\", \"other\", \"other\", \"other\", \"other\", \"other\", \"other\", \"other\", \"other\", \"other\", \"other\", \"other\", \"other\", \"other\", \"other\", \"other\", \"other\", \"other\", \"other\", \"other\", \"other\", \"other\", \"other\", \"other\", \"other\", \"other\", \"other\", \"other\", \"other\", \"other\", \"other\", \"other\", \"other\", \"other\", \"other\", \"other\", \"other\", \"other\", \"other\", \"other\", \"other\", \"other\", \"other\", \"other\", \"other\", \"other\", \"other\", \"other\", \"other\", \"other\", \"other\", \"other\", \"other\", \"other\", \"other\", \"other\"], \"x0\": \" \", \"xaxis\": \"x\", \"y\": [8.666666666666666, 11.666666666666666, 5.666666666666667, 14.666666666666666, 15.333333333333334, 9.333333333333334, 12.666666666666666, 11.666666666666666, 10.0, 13.666666666666666, 7.0, 15.333333333333334, 9.333333333333334, 9.666666666666666, 7.333333333333333, 11.333333333333334, 12.0, 9.0, 9.333333333333334, 9.0, 12.666666666666666, 16.0, 14.333333333333334, 10.0, 6.333333333333333, 12.666666666666666, 11.333333333333334, 11.0, 8.666666666666666, 11.333333333333334, 10.666666666666666, 9.666666666666666, 13.666666666666666, 7.333333333333333, 6.333333333333333, 9.0, 13.0, 8.0, 10.666666666666666, 7.666666666666667, 12.0, 12.666666666666666, 13.333333333333334, 8.0, 13.333333333333334, 13.0, 7.666666666666667, 9.333333333333334, 11.666666666666666, 1.3333333333333333, 1.6666666666666667, 10.0, 3.6666666666666665, 11.333333333333334, 13.666666666666666, 11.333333333333334, 7.0, 2.3333333333333335, 6.666666666666667, 10.0, 4.333333333333333, 3.6666666666666665, 14.666666666666666, 10.0, 5.666666666666667, 10.333333333333334, 8.666666666666666, 12.333333333333334, 15.0, 13.666666666666666, 9.333333333333334, 9.333333333333334, 6.333333333333333, 8.0, 13.0, 14.666666666666666, 5.333333333333333, 12.666666666666666, 8.0, 15.333333333333334, 11.333333333333334, 11.0, 7.333333333333333, 13.333333333333334, 12.333333333333334, 4.666666666666667, 2.3333333333333335, 18.0, 12.333333333333334, 4.333333333333333, 14.333333333333334, 8.333333333333334, 10.666666666666666, 14.333333333333334, 12.333333333333334, 9.333333333333334, 17.0, 2.0, 9.0, 14.333333333333334, 11.0, 9.333333333333334, 9.0, 10.0, 11.0, 8.666666666666666, 13.666666666666666, 10.666666666666666, 13.666666666666666, 14.0, 13.0, 11.666666666666666, 11.666666666666666, 9.333333333333334, 9.666666666666666, 10.666666666666666, 15.0, 8.333333333333334, 5.333333333333333, 5.0, 9.666666666666666, 13.333333333333334, 12.333333333333334, 7.666666666666667, 8.0, 10.0, 11.666666666666666, 4.333333333333333, 12.333333333333334, 11.666666666666666, 5.333333333333333, 18.666666666666668, 8.666666666666666, 15.0, 6.666666666666667, 10.666666666666666, 3.6666666666666665, 5.333333333333333, 3.6666666666666665, 8.333333333333334, 8.666666666666666], \"y0\": \" \", \"yaxis\": \"y\"}, {\"alignmentgroup\": \"True\", \"hovertemplate\": \"color=services<br>x=%{x}<br>y=%{y}<extra></extra>\", \"legendgroup\": \"services\", \"marker\": {\"color\": \"#ab63fa\"}, \"name\": \"services\", \"notched\": false, \"offsetgroup\": \"services\", \"orientation\": \"v\", \"showlegend\": true, \"type\": \"box\", \"x\": [\"services\", \"services\", \"services\", \"services\", \"services\", \"services\", \"services\", \"services\", \"services\", \"services\", \"services\", \"services\", \"services\", \"services\", \"services\", \"services\", \"services\", \"services\", \"services\", \"services\", \"services\", \"services\", \"services\", \"services\", \"services\", \"services\", \"services\", \"services\", \"services\", \"services\", \"services\", \"services\", \"services\", \"services\", \"services\", \"services\", \"services\", \"services\", \"services\", \"services\", \"services\", \"services\", \"services\", \"services\", \"services\", \"services\", \"services\", \"services\", \"services\", \"services\", \"services\", \"services\", \"services\", \"services\", \"services\", \"services\", \"services\", \"services\", \"services\", \"services\", \"services\", \"services\", \"services\", \"services\", \"services\", \"services\", \"services\", \"services\", \"services\", \"services\", \"services\", \"services\", \"services\", \"services\", \"services\", \"services\", \"services\", \"services\", \"services\", \"services\", \"services\", \"services\", \"services\", \"services\", \"services\", \"services\", \"services\", \"services\", \"services\", \"services\", \"services\", \"services\", \"services\", \"services\", \"services\", \"services\", \"services\", \"services\", \"services\", \"services\", \"services\", \"services\", \"services\"], \"x0\": \" \", \"xaxis\": \"x\", \"y\": [15.0, 17.666666666666668, 11.333333333333334, 13.666666666666666, 5.333333333333333, 9.0, 7.666666666666667, 11.0, 16.666666666666668, 11.666666666666666, 18.333333333333332, 9.0, 7.0, 12.666666666666666, 9.666666666666666, 14.666666666666666, 15.666666666666666, 9.666666666666666, 10.0, 6.666666666666667, 6.333333333333333, 15.0, 8.0, 10.333333333333334, 17.0, 12.666666666666666, 13.666666666666666, 6.333333333333333, 16.666666666666668, 12.333333333333334, 6.333333333333333, 17.333333333333332, 17.333333333333332, 9.0, 15.0, 12.666666666666666, 3.6666666666666665, 4.0, 11.333333333333334, 3.6666666666666665, 12.666666666666666, 9.0, 9.0, 10.0, 1.6666666666666667, 11.666666666666666, 12.333333333333334, 12.333333333333334, 16.666666666666668, 11.666666666666666, 11.333333333333334, 12.0, 9.0, 14.666666666666666, 16.0, 18.0, 10.333333333333334, 7.0, 12.333333333333334, 7.0, 9.333333333333334, 6.666666666666667, 16.333333333333332, 11.666666666666666, 12.333333333333334, 7.333333333333333, 7.333333333333333, 7.666666666666667, 11.0, 6.333333333333333, 17.666666666666668, 9.333333333333334, 12.0, 8.0, 12.333333333333334, 14.333333333333334, 12.333333333333334, 18.0, 13.666666666666666, 12.666666666666666, 17.666666666666668, 6.0, 11.333333333333334, 5.333333333333333, 13.0, 11.0, 13.666666666666666, 10.333333333333334, 2.3333333333333335, 15.333333333333334, 13.333333333333334, 16.0, 11.333333333333334, 15.333333333333334, 11.666666666666666, 9.333333333333334, 11.666666666666666, 10.666666666666666, 7.666666666666667, 4.0, 9.0, 15.333333333333334, 11.0], \"y0\": \" \", \"yaxis\": \"y\"}, {\"alignmentgroup\": \"True\", \"hovertemplate\": \"color=teacher<br>x=%{x}<br>y=%{y}<extra></extra>\", \"legendgroup\": \"teacher\", \"marker\": {\"color\": \"#FFA15A\"}, \"name\": \"teacher\", \"notched\": false, \"offsetgroup\": \"teacher\", \"orientation\": \"v\", \"showlegend\": true, \"type\": \"box\", \"x\": [\"teacher\", \"teacher\", \"teacher\", \"teacher\", \"teacher\", \"teacher\", \"teacher\", \"teacher\", \"teacher\", \"teacher\", \"teacher\", \"teacher\", \"teacher\", \"teacher\", \"teacher\", \"teacher\", \"teacher\", \"teacher\", \"teacher\", \"teacher\", \"teacher\", \"teacher\", \"teacher\", \"teacher\", \"teacher\", \"teacher\", \"teacher\", \"teacher\", \"teacher\", \"teacher\", \"teacher\", \"teacher\", \"teacher\", \"teacher\", \"teacher\", \"teacher\", \"teacher\", \"teacher\", \"teacher\", \"teacher\", \"teacher\", \"teacher\", \"teacher\", \"teacher\", \"teacher\", \"teacher\", \"teacher\", \"teacher\", \"teacher\", \"teacher\", \"teacher\", \"teacher\", \"teacher\", \"teacher\", \"teacher\", \"teacher\", \"teacher\", \"teacher\"], \"x0\": \" \", \"xaxis\": \"x\", \"y\": [9.0, 10.333333333333334, 14.0, 15.333333333333334, 11.0, 16.333333333333332, 16.333333333333332, 12.0, 14.666666666666666, 14.666666666666666, 9.333333333333334, 15.333333333333334, 9.333333333333334, 10.666666666666666, 7.0, 10.333333333333334, 18.666666666666668, 18.666666666666668, 15.333333333333334, 18.0, 15.666666666666666, 5.333333333333333, 10.333333333333334, 4.333333333333333, 11.333333333333334, 9.333333333333334, 9.0, 8.333333333333334, 9.333333333333334, 9.333333333333334, 12.0, 7.0, 13.333333333333334, 9.666666666666666, 11.0, 2.0, 13.0, 8.0, 11.0, 9.0, 10.333333333333334, 10.0, 14.333333333333334, 11.333333333333334, 15.666666666666666, 8.333333333333334, 11.0, 9.333333333333334, 14.0, 6.666666666666667, 15.666666666666666, 9.666666666666666, 12.666666666666666, 13.0, 9.0, 14.333333333333334, 5.666666666666667, 8.0], \"y0\": \" \", \"yaxis\": \"y\"}],                        {\"boxmode\": \"group\", \"height\": 330, \"legend\": {\"title\": {\"text\": \"color\"}, \"tracegroupgap\": 0}, \"margin\": {\"t\": 60}, \"template\": {\"data\": {\"bar\": [{\"error_x\": {\"color\": \"#2a3f5f\"}, \"error_y\": {\"color\": \"#2a3f5f\"}, \"marker\": {\"line\": {\"color\": \"#E5ECF6\", \"width\": 0.5}}, \"type\": \"bar\"}], \"barpolar\": [{\"marker\": {\"line\": {\"color\": \"#E5ECF6\", \"width\": 0.5}}, \"type\": \"barpolar\"}], \"carpet\": [{\"aaxis\": {\"endlinecolor\": \"#2a3f5f\", \"gridcolor\": \"white\", \"linecolor\": \"white\", \"minorgridcolor\": \"white\", \"startlinecolor\": \"#2a3f5f\"}, \"baxis\": {\"endlinecolor\": \"#2a3f5f\", \"gridcolor\": \"white\", \"linecolor\": \"white\", \"minorgridcolor\": \"white\", \"startlinecolor\": \"#2a3f5f\"}, \"type\": \"carpet\"}], \"choropleth\": [{\"colorbar\": {\"outlinewidth\": 0, \"ticks\": \"\"}, \"type\": \"choropleth\"}], \"contour\": [{\"colorbar\": {\"outlinewidth\": 0, \"ticks\": \"\"}, \"colorscale\": [[0.0, \"#0d0887\"], [0.1111111111111111, \"#46039f\"], [0.2222222222222222, \"#7201a8\"], [0.3333333333333333, \"#9c179e\"], [0.4444444444444444, \"#bd3786\"], [0.5555555555555556, \"#d8576b\"], [0.6666666666666666, \"#ed7953\"], [0.7777777777777778, \"#fb9f3a\"], [0.8888888888888888, \"#fdca26\"], [1.0, \"#f0f921\"]], \"type\": \"contour\"}], \"contourcarpet\": [{\"colorbar\": {\"outlinewidth\": 0, \"ticks\": \"\"}, \"type\": \"contourcarpet\"}], \"heatmap\": [{\"colorbar\": {\"outlinewidth\": 0, \"ticks\": \"\"}, \"colorscale\": [[0.0, \"#0d0887\"], [0.1111111111111111, \"#46039f\"], [0.2222222222222222, \"#7201a8\"], [0.3333333333333333, \"#9c179e\"], [0.4444444444444444, \"#bd3786\"], [0.5555555555555556, \"#d8576b\"], [0.6666666666666666, \"#ed7953\"], [0.7777777777777778, \"#fb9f3a\"], [0.8888888888888888, \"#fdca26\"], [1.0, \"#f0f921\"]], \"type\": \"heatmap\"}], \"heatmapgl\": [{\"colorbar\": {\"outlinewidth\": 0, \"ticks\": \"\"}, \"colorscale\": [[0.0, \"#0d0887\"], [0.1111111111111111, \"#46039f\"], [0.2222222222222222, \"#7201a8\"], [0.3333333333333333, \"#9c179e\"], [0.4444444444444444, \"#bd3786\"], [0.5555555555555556, \"#d8576b\"], [0.6666666666666666, \"#ed7953\"], [0.7777777777777778, \"#fb9f3a\"], [0.8888888888888888, \"#fdca26\"], [1.0, \"#f0f921\"]], \"type\": \"heatmapgl\"}], \"histogram\": [{\"marker\": {\"colorbar\": {\"outlinewidth\": 0, \"ticks\": \"\"}}, \"type\": \"histogram\"}], \"histogram2d\": [{\"colorbar\": {\"outlinewidth\": 0, \"ticks\": \"\"}, \"colorscale\": [[0.0, \"#0d0887\"], [0.1111111111111111, \"#46039f\"], [0.2222222222222222, \"#7201a8\"], [0.3333333333333333, \"#9c179e\"], [0.4444444444444444, \"#bd3786\"], [0.5555555555555556, \"#d8576b\"], [0.6666666666666666, \"#ed7953\"], [0.7777777777777778, \"#fb9f3a\"], [0.8888888888888888, \"#fdca26\"], [1.0, \"#f0f921\"]], \"type\": \"histogram2d\"}], \"histogram2dcontour\": [{\"colorbar\": {\"outlinewidth\": 0, \"ticks\": \"\"}, \"colorscale\": [[0.0, \"#0d0887\"], [0.1111111111111111, \"#46039f\"], [0.2222222222222222, \"#7201a8\"], [0.3333333333333333, \"#9c179e\"], [0.4444444444444444, \"#bd3786\"], [0.5555555555555556, \"#d8576b\"], [0.6666666666666666, \"#ed7953\"], [0.7777777777777778, \"#fb9f3a\"], [0.8888888888888888, \"#fdca26\"], [1.0, \"#f0f921\"]], \"type\": \"histogram2dcontour\"}], \"mesh3d\": [{\"colorbar\": {\"outlinewidth\": 0, \"ticks\": \"\"}, \"type\": \"mesh3d\"}], \"parcoords\": [{\"line\": {\"colorbar\": {\"outlinewidth\": 0, \"ticks\": \"\"}}, \"type\": \"parcoords\"}], \"pie\": [{\"automargin\": true, \"type\": \"pie\"}], \"scatter\": [{\"marker\": {\"colorbar\": {\"outlinewidth\": 0, \"ticks\": \"\"}}, \"type\": \"scatter\"}], \"scatter3d\": [{\"line\": {\"colorbar\": {\"outlinewidth\": 0, \"ticks\": \"\"}}, \"marker\": {\"colorbar\": {\"outlinewidth\": 0, \"ticks\": \"\"}}, \"type\": \"scatter3d\"}], \"scattercarpet\": [{\"marker\": {\"colorbar\": {\"outlinewidth\": 0, \"ticks\": \"\"}}, \"type\": \"scattercarpet\"}], \"scattergeo\": [{\"marker\": {\"colorbar\": {\"outlinewidth\": 0, \"ticks\": \"\"}}, \"type\": \"scattergeo\"}], \"scattergl\": [{\"marker\": {\"colorbar\": {\"outlinewidth\": 0, \"ticks\": \"\"}}, \"type\": \"scattergl\"}], \"scattermapbox\": [{\"marker\": {\"colorbar\": {\"outlinewidth\": 0, \"ticks\": \"\"}}, \"type\": \"scattermapbox\"}], \"scatterpolar\": [{\"marker\": {\"colorbar\": {\"outlinewidth\": 0, \"ticks\": \"\"}}, \"type\": \"scatterpolar\"}], \"scatterpolargl\": [{\"marker\": {\"colorbar\": {\"outlinewidth\": 0, \"ticks\": \"\"}}, \"type\": \"scatterpolargl\"}], \"scatterternary\": [{\"marker\": {\"colorbar\": {\"outlinewidth\": 0, \"ticks\": \"\"}}, \"type\": \"scatterternary\"}], \"surface\": [{\"colorbar\": {\"outlinewidth\": 0, \"ticks\": \"\"}, \"colorscale\": [[0.0, \"#0d0887\"], [0.1111111111111111, \"#46039f\"], [0.2222222222222222, \"#7201a8\"], [0.3333333333333333, \"#9c179e\"], [0.4444444444444444, \"#bd3786\"], [0.5555555555555556, \"#d8576b\"], [0.6666666666666666, \"#ed7953\"], [0.7777777777777778, \"#fb9f3a\"], [0.8888888888888888, \"#fdca26\"], [1.0, \"#f0f921\"]], \"type\": \"surface\"}], \"table\": [{\"cells\": {\"fill\": {\"color\": \"#EBF0F8\"}, \"line\": {\"color\": \"white\"}}, \"header\": {\"fill\": {\"color\": \"#C8D4E3\"}, \"line\": {\"color\": \"white\"}}, \"type\": \"table\"}]}, \"layout\": {\"annotationdefaults\": {\"arrowcolor\": \"#2a3f5f\", \"arrowhead\": 0, \"arrowwidth\": 1}, \"autotypenumbers\": \"strict\", \"coloraxis\": {\"colorbar\": {\"outlinewidth\": 0, \"ticks\": \"\"}}, \"colorscale\": {\"diverging\": [[0, \"#8e0152\"], [0.1, \"#c51b7d\"], [0.2, \"#de77ae\"], [0.3, \"#f1b6da\"], [0.4, \"#fde0ef\"], [0.5, \"#f7f7f7\"], [0.6, \"#e6f5d0\"], [0.7, \"#b8e186\"], [0.8, \"#7fbc41\"], [0.9, \"#4d9221\"], [1, \"#276419\"]], \"sequential\": [[0.0, \"#0d0887\"], [0.1111111111111111, \"#46039f\"], [0.2222222222222222, \"#7201a8\"], [0.3333333333333333, \"#9c179e\"], [0.4444444444444444, \"#bd3786\"], [0.5555555555555556, \"#d8576b\"], [0.6666666666666666, \"#ed7953\"], [0.7777777777777778, \"#fb9f3a\"], [0.8888888888888888, \"#fdca26\"], [1.0, \"#f0f921\"]], \"sequentialminus\": [[0.0, \"#0d0887\"], [0.1111111111111111, \"#46039f\"], [0.2222222222222222, \"#7201a8\"], [0.3333333333333333, \"#9c179e\"], [0.4444444444444444, \"#bd3786\"], [0.5555555555555556, \"#d8576b\"], [0.6666666666666666, \"#ed7953\"], [0.7777777777777778, \"#fb9f3a\"], [0.8888888888888888, \"#fdca26\"], [1.0, \"#f0f921\"]]}, \"colorway\": [\"#636efa\", \"#EF553B\", \"#00cc96\", \"#ab63fa\", \"#FFA15A\", \"#19d3f3\", \"#FF6692\", \"#B6E880\", \"#FF97FF\", \"#FECB52\"], \"font\": {\"color\": \"#2a3f5f\"}, \"geo\": {\"bgcolor\": \"white\", \"lakecolor\": \"white\", \"landcolor\": \"#E5ECF6\", \"showlakes\": true, \"showland\": true, \"subunitcolor\": \"white\"}, \"hoverlabel\": {\"align\": \"left\"}, \"hovermode\": \"closest\", \"mapbox\": {\"style\": \"light\"}, \"paper_bgcolor\": \"white\", \"plot_bgcolor\": \"#E5ECF6\", \"polar\": {\"angularaxis\": {\"gridcolor\": \"white\", \"linecolor\": \"white\", \"ticks\": \"\"}, \"bgcolor\": \"#E5ECF6\", \"radialaxis\": {\"gridcolor\": \"white\", \"linecolor\": \"white\", \"ticks\": \"\"}}, \"scene\": {\"xaxis\": {\"backgroundcolor\": \"#E5ECF6\", \"gridcolor\": \"white\", \"gridwidth\": 2, \"linecolor\": \"white\", \"showbackground\": true, \"ticks\": \"\", \"zerolinecolor\": \"white\"}, \"yaxis\": {\"backgroundcolor\": \"#E5ECF6\", \"gridcolor\": \"white\", \"gridwidth\": 2, \"linecolor\": \"white\", \"showbackground\": true, \"ticks\": \"\", \"zerolinecolor\": \"white\"}, \"zaxis\": {\"backgroundcolor\": \"#E5ECF6\", \"gridcolor\": \"white\", \"gridwidth\": 2, \"linecolor\": \"white\", \"showbackground\": true, \"ticks\": \"\", \"zerolinecolor\": \"white\"}}, \"shapedefaults\": {\"line\": {\"color\": \"#2a3f5f\"}}, \"ternary\": {\"aaxis\": {\"gridcolor\": \"white\", \"linecolor\": \"white\", \"ticks\": \"\"}, \"baxis\": {\"gridcolor\": \"white\", \"linecolor\": \"white\", \"ticks\": \"\"}, \"bgcolor\": \"#E5ECF6\", \"caxis\": {\"gridcolor\": \"white\", \"linecolor\": \"white\", \"ticks\": \"\"}}, \"title\": {\"x\": 0.05}, \"xaxis\": {\"automargin\": true, \"gridcolor\": \"white\", \"linecolor\": \"white\", \"ticks\": \"\", \"title\": {\"standoff\": 15}, \"zerolinecolor\": \"white\", \"zerolinewidth\": 2}, \"yaxis\": {\"automargin\": true, \"gridcolor\": \"white\", \"linecolor\": \"white\", \"ticks\": \"\", \"title\": {\"standoff\": 15}, \"zerolinecolor\": \"white\", \"zerolinewidth\": 2}}}, \"width\": 800, \"xaxis\": {\"anchor\": \"y\", \"domain\": [0.0, 1.0], \"title\": {\"text\": \"x\"}}, \"yaxis\": {\"anchor\": \"x\", \"domain\": [0.0, 1.0], \"title\": {\"text\": \"y\"}}},                        {\"responsive\": true}                    ).then(function(){\n",
       "                            \n",
       "var gd = document.getElementById('061030a1-c777-4a89-ba3d-c4d969757c46');\n",
       "var x = new MutationObserver(function (mutations, observer) {{\n",
       "        var display = window.getComputedStyle(gd).display;\n",
       "        if (!display || display === 'none') {{\n",
       "            console.log([gd, 'removed!']);\n",
       "            Plotly.purge(gd);\n",
       "            observer.disconnect();\n",
       "        }}\n",
       "}});\n",
       "\n",
       "// Listen for the removal of the full notebook cells\n",
       "var notebookContainer = gd.closest('#notebook-container');\n",
       "if (notebookContainer) {{\n",
       "    x.observe(notebookContainer, {childList: true});\n",
       "}}\n",
       "\n",
       "// Listen for the clearing of the current output cell\n",
       "var outputEl = gd.closest('.output');\n",
       "if (outputEl) {{\n",
       "    x.observe(outputEl, {childList: true});\n",
       "}}\n",
       "\n",
       "                        })                };                });            </script>        </div>"
      ]
     },
     "metadata": {},
     "output_type": "display_data"
    }
   ],
   "source": [
    "# plt.subplot(2,1,1)\n",
    "# sns.boxplot(x=df['Mjob'], y = df['G_Mean'], palette='rocket', saturation=0.9)\n",
    "ex.box(x=df['Mjob'], y = df['G_Mean'], color=df['Mjob'], height=330, width=800)\n",
    "# plt.show()\n",
    "# plt.subplot(2,1,1)\n",
    "# sns.boxplot(x=df['Fjob'], y = df['G_Mean'], palette='rocket', saturation=0.9)\n",
    "# plt.show()"
   ]
  },
  {
   "cell_type": "code",
   "execution_count": 15,
   "id": "0bcb7af7",
   "metadata": {},
   "outputs": [
    {
     "data": {
      "application/vnd.plotly.v1+json": {
       "config": {
        "plotlyServerURL": "https://plotly.com"
       },
       "data": [
        {
         "alignmentgroup": "True",
         "hovertemplate": "color=teacher<br>x=%{x}<br>y=%{y}<extra></extra>",
         "legendgroup": "teacher",
         "marker": {
          "color": "#636efa"
         },
         "name": "teacher",
         "notched": false,
         "offsetgroup": "teacher",
         "orientation": "v",
         "showlegend": true,
         "type": "box",
         "x": [
          "teacher",
          "teacher",
          "teacher",
          "teacher",
          "teacher",
          "teacher",
          "teacher",
          "teacher",
          "teacher",
          "teacher",
          "teacher",
          "teacher",
          "teacher",
          "teacher",
          "teacher",
          "teacher",
          "teacher",
          "teacher",
          "teacher",
          "teacher",
          "teacher",
          "teacher",
          "teacher",
          "teacher",
          "teacher",
          "teacher",
          "teacher",
          "teacher",
          "teacher"
         ],
         "x0": " ",
         "xaxis": "x",
         "y": [
          5.666666666666667,
          5.666666666666667,
          11,
          15.333333333333334,
          18.333333333333332,
          7,
          10.666666666666666,
          16.666666666666668,
          18.666666666666668,
          15.333333333333334,
          12.666666666666666,
          18,
          4,
          3,
          15.666666666666666,
          4.333333333333333,
          11.333333333333334,
          16,
          18,
          9.333333333333334,
          16.333333333333332,
          9.666666666666666,
          12.333333333333334,
          14.333333333333334,
          15.666666666666666,
          10.666666666666666,
          14,
          12.333333333333334,
          14.333333333333334
         ],
         "y0": " ",
         "yaxis": "y"
        },
        {
         "alignmentgroup": "True",
         "hovertemplate": "color=other<br>x=%{x}<br>y=%{y}<extra></extra>",
         "legendgroup": "other",
         "marker": {
          "color": "#EF553B"
         },
         "name": "other",
         "notched": false,
         "offsetgroup": "other",
         "orientation": "v",
         "showlegend": true,
         "type": "box",
         "x": [
          "other",
          "other",
          "other",
          "other",
          "other",
          "other",
          "other",
          "other",
          "other",
          "other",
          "other",
          "other",
          "other",
          "other",
          "other",
          "other",
          "other",
          "other",
          "other",
          "other",
          "other",
          "other",
          "other",
          "other",
          "other",
          "other",
          "other",
          "other",
          "other",
          "other",
          "other",
          "other",
          "other",
          "other",
          "other",
          "other",
          "other",
          "other",
          "other",
          "other",
          "other",
          "other",
          "other",
          "other",
          "other",
          "other",
          "other",
          "other",
          "other",
          "other",
          "other",
          "other",
          "other",
          "other",
          "other",
          "other",
          "other",
          "other",
          "other",
          "other",
          "other",
          "other",
          "other",
          "other",
          "other",
          "other",
          "other",
          "other",
          "other",
          "other",
          "other",
          "other",
          "other",
          "other",
          "other",
          "other",
          "other",
          "other",
          "other",
          "other",
          "other",
          "other",
          "other",
          "other",
          "other",
          "other",
          "other",
          "other",
          "other",
          "other",
          "other",
          "other",
          "other",
          "other",
          "other",
          "other",
          "other",
          "other",
          "other",
          "other",
          "other",
          "other",
          "other",
          "other",
          "other",
          "other",
          "other",
          "other",
          "other",
          "other",
          "other",
          "other",
          "other",
          "other",
          "other",
          "other",
          "other",
          "other",
          "other",
          "other",
          "other",
          "other",
          "other",
          "other",
          "other",
          "other",
          "other",
          "other",
          "other",
          "other",
          "other",
          "other",
          "other",
          "other",
          "other",
          "other",
          "other",
          "other",
          "other",
          "other",
          "other",
          "other",
          "other",
          "other",
          "other",
          "other",
          "other",
          "other",
          "other",
          "other",
          "other",
          "other",
          "other",
          "other",
          "other",
          "other",
          "other",
          "other",
          "other",
          "other",
          "other",
          "other",
          "other",
          "other",
          "other",
          "other",
          "other",
          "other",
          "other",
          "other",
          "other",
          "other",
          "other",
          "other",
          "other",
          "other",
          "other",
          "other",
          "other",
          "other",
          "other",
          "other",
          "other",
          "other",
          "other",
          "other",
          "other",
          "other",
          "other",
          "other",
          "other",
          "other",
          "other",
          "other",
          "other",
          "other",
          "other",
          "other",
          "other",
          "other",
          "other",
          "other",
          "other",
          "other",
          "other",
          "other",
          "other",
          "other",
          "other",
          "other",
          "other",
          "other",
          "other",
          "other",
          "other",
          "other",
          "other"
         ],
         "x0": " ",
         "xaxis": "x",
         "y": [
          5.333333333333333,
          8.333333333333334,
          8.666666666666666,
          15,
          11.666666666666666,
          17.666666666666668,
          14.666666666666666,
          11.333333333333334,
          10.333333333333334,
          15.333333333333334,
          14,
          9.333333333333334,
          9.333333333333334,
          14,
          15.333333333333334,
          12.666666666666666,
          11.666666666666666,
          11,
          10,
          13.666666666666666,
          7,
          13.333333333333334,
          9.333333333333334,
          12,
          7.333333333333333,
          14.666666666666666,
          12.333333333333334,
          12,
          9,
          15.666666666666666,
          6.666666666666667,
          16,
          14.333333333333334,
          10,
          6.333333333333333,
          12.666666666666666,
          9.333333333333334,
          10.666666666666666,
          11,
          8.666666666666666,
          5,
          10.666666666666666,
          6.333333333333333,
          9.666666666666666,
          7,
          13.666666666666666,
          10.333333333333334,
          7.333333333333333,
          17,
          6.333333333333333,
          9,
          13.666666666666666,
          9,
          13,
          12.333333333333334,
          6.333333333333333,
          17.333333333333332,
          7.666666666666667,
          17.333333333333332,
          12,
          9,
          12,
          18.666666666666668,
          8,
          13.333333333333334,
          12.666666666666666,
          7.666666666666667,
          9.333333333333334,
          8,
          3.6666666666666665,
          2.6666666666666665,
          11.666666666666666,
          11.333333333333334,
          3.3333333333333335,
          1.3333333333333333,
          12.666666666666666,
          1.6666666666666667,
          10.666666666666666,
          9,
          3.6666666666666665,
          13,
          13.666666666666666,
          9,
          15.666666666666666,
          4.333333333333333,
          7,
          2.3333333333333335,
          10,
          4.333333333333333,
          3.6666666666666665,
          14.666666666666666,
          11.333333333333334,
          10,
          9.333333333333334,
          12.333333333333334,
          5.666666666666667,
          10.333333333333334,
          8.333333333333334,
          12.333333333333334,
          8.666666666666666,
          12.333333333333334,
          15,
          8,
          9,
          13.666666666666666,
          9.333333333333334,
          16,
          9.333333333333334,
          9.333333333333334,
          6.333333333333333,
          7,
          12,
          9.333333333333334,
          7,
          8,
          12.333333333333334,
          13,
          7,
          9.333333333333334,
          14.666666666666666,
          5.333333333333333,
          7.333333333333333,
          3.6666666666666665,
          12.666666666666666,
          8,
          15.333333333333334,
          9,
          11.333333333333334,
          13.333333333333334,
          11,
          13.333333333333334,
          7.333333333333333,
          10,
          13.333333333333334,
          12.333333333333334,
          12,
          11,
          2,
          2.3333333333333335,
          18,
          12.333333333333334,
          14.333333333333334,
          7.333333333333333,
          9,
          8.333333333333334,
          10.666666666666666,
          8,
          14.333333333333334,
          17.666666666666668,
          8,
          12.333333333333334,
          9.333333333333334,
          17,
          9.333333333333334,
          11,
          9.666666666666666,
          2,
          11,
          12,
          8,
          12,
          9,
          10,
          11,
          11.333333333333334,
          18,
          13.666666666666666,
          12.333333333333334,
          6.333333333333333,
          8.666666666666666,
          13.666666666666666,
          11,
          13.666666666666666,
          14,
          17.666666666666668,
          10.666666666666666,
          13,
          11.333333333333334,
          11.666666666666666,
          5.333333333333333,
          9.333333333333334,
          11,
          9.666666666666666,
          10.666666666666666,
          10.333333333333334,
          8.333333333333334,
          13.333333333333334,
          5.333333333333333,
          6.333333333333333,
          15.333333333333334,
          5,
          9.666666666666666,
          15.333333333333334,
          10.333333333333334,
          9.666666666666666,
          14.333333333333334,
          12.333333333333334,
          13,
          8,
          11.666666666666666,
          11.666666666666666,
          13,
          12.333333333333334,
          10,
          5.333333333333333,
          18.666666666666668,
          8.666666666666666,
          14.666666666666666,
          15,
          10,
          6.666666666666667,
          5.333333333333333,
          9.666666666666666,
          4,
          3.6666666666666665,
          8.333333333333334,
          11
         ],
         "y0": " ",
         "yaxis": "y"
        },
        {
         "alignmentgroup": "True",
         "hovertemplate": "color=services<br>x=%{x}<br>y=%{y}<extra></extra>",
         "legendgroup": "services",
         "marker": {
          "color": "#00cc96"
         },
         "name": "services",
         "notched": false,
         "offsetgroup": "services",
         "orientation": "v",
         "showlegend": true,
         "type": "box",
         "x": [
          "services",
          "services",
          "services",
          "services",
          "services",
          "services",
          "services",
          "services",
          "services",
          "services",
          "services",
          "services",
          "services",
          "services",
          "services",
          "services",
          "services",
          "services",
          "services",
          "services",
          "services",
          "services",
          "services",
          "services",
          "services",
          "services",
          "services",
          "services",
          "services",
          "services",
          "services",
          "services",
          "services",
          "services",
          "services",
          "services",
          "services",
          "services",
          "services",
          "services",
          "services",
          "services",
          "services",
          "services",
          "services",
          "services",
          "services",
          "services",
          "services",
          "services",
          "services",
          "services",
          "services",
          "services",
          "services",
          "services",
          "services",
          "services",
          "services",
          "services",
          "services",
          "services",
          "services",
          "services",
          "services",
          "services",
          "services",
          "services",
          "services",
          "services",
          "services",
          "services",
          "services",
          "services",
          "services",
          "services",
          "services",
          "services",
          "services",
          "services",
          "services",
          "services",
          "services",
          "services",
          "services",
          "services",
          "services",
          "services",
          "services",
          "services",
          "services",
          "services",
          "services",
          "services",
          "services",
          "services",
          "services",
          "services",
          "services",
          "services",
          "services",
          "services",
          "services",
          "services",
          "services",
          "services",
          "services",
          "services",
          "services",
          "services",
          "services"
         ],
         "x0": " ",
         "xaxis": "x",
         "y": [
          14.666666666666666,
          14,
          13.666666666666666,
          5.333333333333333,
          7.666666666666667,
          15.333333333333334,
          10.666666666666666,
          16.666666666666668,
          16.333333333333332,
          9,
          11.333333333333334,
          19.333333333333332,
          12.666666666666666,
          9.666666666666666,
          14.666666666666666,
          9.666666666666666,
          9,
          10,
          15.333333333333334,
          12.666666666666666,
          8.333333333333334,
          11.333333333333334,
          11.333333333333334,
          15,
          8,
          10.333333333333334,
          6.333333333333333,
          9,
          13.333333333333334,
          15.333333333333334,
          15,
          12.666666666666666,
          5.333333333333333,
          9,
          10.333333333333334,
          10,
          4.333333333333333,
          10,
          9,
          11.333333333333334,
          10,
          6.666666666666667,
          11.666666666666666,
          15,
          5,
          9,
          16.666666666666668,
          11.666666666666666,
          11.333333333333334,
          12,
          8.333333333333334,
          7.666666666666667,
          9,
          14.666666666666666,
          10.333333333333334,
          9.333333333333334,
          6,
          13.333333333333334,
          11.666666666666666,
          11.666666666666666,
          4.666666666666667,
          12.333333333333334,
          7.333333333333333,
          4.333333333333333,
          7.666666666666667,
          13,
          6.333333333333333,
          6.333333333333333,
          9,
          14.333333333333334,
          9.333333333333334,
          9,
          10.333333333333334,
          10,
          14.333333333333334,
          15,
          8.333333333333334,
          13,
          6,
          11.666666666666666,
          10.666666666666666,
          13,
          11,
          13.666666666666666,
          15,
          9.333333333333334,
          2.3333333333333335,
          16,
          11.333333333333334,
          6.666666666666667,
          13.333333333333334,
          15.666666666666666,
          7.666666666666667,
          7.666666666666667,
          9.333333333333334,
          12.666666666666666,
          10,
          16.666666666666668,
          10.666666666666666,
          11.666666666666666,
          13,
          4.333333333333333,
          10.333333333333334,
          7.666666666666667,
          12.666666666666666,
          9,
          10.666666666666666,
          3.6666666666666665,
          8,
          9,
          15.333333333333334
         ],
         "y0": " ",
         "yaxis": "y"
        },
        {
         "alignmentgroup": "True",
         "hovertemplate": "color=health<br>x=%{x}<br>y=%{y}<extra></extra>",
         "legendgroup": "health",
         "marker": {
          "color": "#ab63fa"
         },
         "name": "health",
         "notched": false,
         "offsetgroup": "health",
         "orientation": "v",
         "showlegend": true,
         "type": "box",
         "x": [
          "health",
          "health",
          "health",
          "health",
          "health",
          "health",
          "health",
          "health",
          "health",
          "health",
          "health",
          "health",
          "health",
          "health",
          "health",
          "health",
          "health",
          "health"
         ],
         "x0": " ",
         "xaxis": "x",
         "y": [
          9,
          14,
          9,
          11.666666666666666,
          10.666666666666666,
          14.666666666666666,
          9.333333333333334,
          7,
          12.666666666666666,
          10.666666666666666,
          15,
          13,
          14,
          6.666666666666667,
          10,
          8.333333333333334,
          17.333333333333332,
          13.666666666666666
         ],
         "y0": " ",
         "yaxis": "y"
        },
        {
         "alignmentgroup": "True",
         "hovertemplate": "color=at_home<br>x=%{x}<br>y=%{y}<extra></extra>",
         "legendgroup": "at_home",
         "marker": {
          "color": "#FFA15A"
         },
         "name": "at_home",
         "notched": false,
         "offsetgroup": "at_home",
         "orientation": "v",
         "showlegend": true,
         "type": "box",
         "x": [
          "at_home",
          "at_home",
          "at_home",
          "at_home",
          "at_home",
          "at_home",
          "at_home",
          "at_home",
          "at_home",
          "at_home",
          "at_home",
          "at_home",
          "at_home",
          "at_home",
          "at_home",
          "at_home",
          "at_home",
          "at_home",
          "at_home",
          "at_home"
         ],
         "x0": " ",
         "xaxis": "x",
         "y": [
          16.333333333333332,
          9.666666666666666,
          9.333333333333334,
          8,
          3.6666666666666665,
          13.666666666666666,
          1.6666666666666667,
          9.666666666666666,
          11,
          14.333333333333334,
          18.333333333333332,
          12.333333333333334,
          12.666666666666666,
          15.333333333333334,
          13.333333333333334,
          5.666666666666667,
          15.333333333333334,
          11.666666666666666,
          5.666666666666667,
          8.666666666666666
         ],
         "y0": " ",
         "yaxis": "y"
        }
       ],
       "layout": {
        "boxmode": "group",
        "height": 330,
        "legend": {
         "title": {
          "text": "color"
         },
         "tracegroupgap": 0
        },
        "margin": {
         "t": 60
        },
        "template": {
         "data": {
          "bar": [
           {
            "error_x": {
             "color": "#2a3f5f"
            },
            "error_y": {
             "color": "#2a3f5f"
            },
            "marker": {
             "line": {
              "color": "#E5ECF6",
              "width": 0.5
             }
            },
            "type": "bar"
           }
          ],
          "barpolar": [
           {
            "marker": {
             "line": {
              "color": "#E5ECF6",
              "width": 0.5
             }
            },
            "type": "barpolar"
           }
          ],
          "carpet": [
           {
            "aaxis": {
             "endlinecolor": "#2a3f5f",
             "gridcolor": "white",
             "linecolor": "white",
             "minorgridcolor": "white",
             "startlinecolor": "#2a3f5f"
            },
            "baxis": {
             "endlinecolor": "#2a3f5f",
             "gridcolor": "white",
             "linecolor": "white",
             "minorgridcolor": "white",
             "startlinecolor": "#2a3f5f"
            },
            "type": "carpet"
           }
          ],
          "choropleth": [
           {
            "colorbar": {
             "outlinewidth": 0,
             "ticks": ""
            },
            "type": "choropleth"
           }
          ],
          "contour": [
           {
            "colorbar": {
             "outlinewidth": 0,
             "ticks": ""
            },
            "colorscale": [
             [
              0,
              "#0d0887"
             ],
             [
              0.1111111111111111,
              "#46039f"
             ],
             [
              0.2222222222222222,
              "#7201a8"
             ],
             [
              0.3333333333333333,
              "#9c179e"
             ],
             [
              0.4444444444444444,
              "#bd3786"
             ],
             [
              0.5555555555555556,
              "#d8576b"
             ],
             [
              0.6666666666666666,
              "#ed7953"
             ],
             [
              0.7777777777777778,
              "#fb9f3a"
             ],
             [
              0.8888888888888888,
              "#fdca26"
             ],
             [
              1,
              "#f0f921"
             ]
            ],
            "type": "contour"
           }
          ],
          "contourcarpet": [
           {
            "colorbar": {
             "outlinewidth": 0,
             "ticks": ""
            },
            "type": "contourcarpet"
           }
          ],
          "heatmap": [
           {
            "colorbar": {
             "outlinewidth": 0,
             "ticks": ""
            },
            "colorscale": [
             [
              0,
              "#0d0887"
             ],
             [
              0.1111111111111111,
              "#46039f"
             ],
             [
              0.2222222222222222,
              "#7201a8"
             ],
             [
              0.3333333333333333,
              "#9c179e"
             ],
             [
              0.4444444444444444,
              "#bd3786"
             ],
             [
              0.5555555555555556,
              "#d8576b"
             ],
             [
              0.6666666666666666,
              "#ed7953"
             ],
             [
              0.7777777777777778,
              "#fb9f3a"
             ],
             [
              0.8888888888888888,
              "#fdca26"
             ],
             [
              1,
              "#f0f921"
             ]
            ],
            "type": "heatmap"
           }
          ],
          "heatmapgl": [
           {
            "colorbar": {
             "outlinewidth": 0,
             "ticks": ""
            },
            "colorscale": [
             [
              0,
              "#0d0887"
             ],
             [
              0.1111111111111111,
              "#46039f"
             ],
             [
              0.2222222222222222,
              "#7201a8"
             ],
             [
              0.3333333333333333,
              "#9c179e"
             ],
             [
              0.4444444444444444,
              "#bd3786"
             ],
             [
              0.5555555555555556,
              "#d8576b"
             ],
             [
              0.6666666666666666,
              "#ed7953"
             ],
             [
              0.7777777777777778,
              "#fb9f3a"
             ],
             [
              0.8888888888888888,
              "#fdca26"
             ],
             [
              1,
              "#f0f921"
             ]
            ],
            "type": "heatmapgl"
           }
          ],
          "histogram": [
           {
            "marker": {
             "colorbar": {
              "outlinewidth": 0,
              "ticks": ""
             }
            },
            "type": "histogram"
           }
          ],
          "histogram2d": [
           {
            "colorbar": {
             "outlinewidth": 0,
             "ticks": ""
            },
            "colorscale": [
             [
              0,
              "#0d0887"
             ],
             [
              0.1111111111111111,
              "#46039f"
             ],
             [
              0.2222222222222222,
              "#7201a8"
             ],
             [
              0.3333333333333333,
              "#9c179e"
             ],
             [
              0.4444444444444444,
              "#bd3786"
             ],
             [
              0.5555555555555556,
              "#d8576b"
             ],
             [
              0.6666666666666666,
              "#ed7953"
             ],
             [
              0.7777777777777778,
              "#fb9f3a"
             ],
             [
              0.8888888888888888,
              "#fdca26"
             ],
             [
              1,
              "#f0f921"
             ]
            ],
            "type": "histogram2d"
           }
          ],
          "histogram2dcontour": [
           {
            "colorbar": {
             "outlinewidth": 0,
             "ticks": ""
            },
            "colorscale": [
             [
              0,
              "#0d0887"
             ],
             [
              0.1111111111111111,
              "#46039f"
             ],
             [
              0.2222222222222222,
              "#7201a8"
             ],
             [
              0.3333333333333333,
              "#9c179e"
             ],
             [
              0.4444444444444444,
              "#bd3786"
             ],
             [
              0.5555555555555556,
              "#d8576b"
             ],
             [
              0.6666666666666666,
              "#ed7953"
             ],
             [
              0.7777777777777778,
              "#fb9f3a"
             ],
             [
              0.8888888888888888,
              "#fdca26"
             ],
             [
              1,
              "#f0f921"
             ]
            ],
            "type": "histogram2dcontour"
           }
          ],
          "mesh3d": [
           {
            "colorbar": {
             "outlinewidth": 0,
             "ticks": ""
            },
            "type": "mesh3d"
           }
          ],
          "parcoords": [
           {
            "line": {
             "colorbar": {
              "outlinewidth": 0,
              "ticks": ""
             }
            },
            "type": "parcoords"
           }
          ],
          "pie": [
           {
            "automargin": true,
            "type": "pie"
           }
          ],
          "scatter": [
           {
            "marker": {
             "colorbar": {
              "outlinewidth": 0,
              "ticks": ""
             }
            },
            "type": "scatter"
           }
          ],
          "scatter3d": [
           {
            "line": {
             "colorbar": {
              "outlinewidth": 0,
              "ticks": ""
             }
            },
            "marker": {
             "colorbar": {
              "outlinewidth": 0,
              "ticks": ""
             }
            },
            "type": "scatter3d"
           }
          ],
          "scattercarpet": [
           {
            "marker": {
             "colorbar": {
              "outlinewidth": 0,
              "ticks": ""
             }
            },
            "type": "scattercarpet"
           }
          ],
          "scattergeo": [
           {
            "marker": {
             "colorbar": {
              "outlinewidth": 0,
              "ticks": ""
             }
            },
            "type": "scattergeo"
           }
          ],
          "scattergl": [
           {
            "marker": {
             "colorbar": {
              "outlinewidth": 0,
              "ticks": ""
             }
            },
            "type": "scattergl"
           }
          ],
          "scattermapbox": [
           {
            "marker": {
             "colorbar": {
              "outlinewidth": 0,
              "ticks": ""
             }
            },
            "type": "scattermapbox"
           }
          ],
          "scatterpolar": [
           {
            "marker": {
             "colorbar": {
              "outlinewidth": 0,
              "ticks": ""
             }
            },
            "type": "scatterpolar"
           }
          ],
          "scatterpolargl": [
           {
            "marker": {
             "colorbar": {
              "outlinewidth": 0,
              "ticks": ""
             }
            },
            "type": "scatterpolargl"
           }
          ],
          "scatterternary": [
           {
            "marker": {
             "colorbar": {
              "outlinewidth": 0,
              "ticks": ""
             }
            },
            "type": "scatterternary"
           }
          ],
          "surface": [
           {
            "colorbar": {
             "outlinewidth": 0,
             "ticks": ""
            },
            "colorscale": [
             [
              0,
              "#0d0887"
             ],
             [
              0.1111111111111111,
              "#46039f"
             ],
             [
              0.2222222222222222,
              "#7201a8"
             ],
             [
              0.3333333333333333,
              "#9c179e"
             ],
             [
              0.4444444444444444,
              "#bd3786"
             ],
             [
              0.5555555555555556,
              "#d8576b"
             ],
             [
              0.6666666666666666,
              "#ed7953"
             ],
             [
              0.7777777777777778,
              "#fb9f3a"
             ],
             [
              0.8888888888888888,
              "#fdca26"
             ],
             [
              1,
              "#f0f921"
             ]
            ],
            "type": "surface"
           }
          ],
          "table": [
           {
            "cells": {
             "fill": {
              "color": "#EBF0F8"
             },
             "line": {
              "color": "white"
             }
            },
            "header": {
             "fill": {
              "color": "#C8D4E3"
             },
             "line": {
              "color": "white"
             }
            },
            "type": "table"
           }
          ]
         },
         "layout": {
          "annotationdefaults": {
           "arrowcolor": "#2a3f5f",
           "arrowhead": 0,
           "arrowwidth": 1
          },
          "autotypenumbers": "strict",
          "coloraxis": {
           "colorbar": {
            "outlinewidth": 0,
            "ticks": ""
           }
          },
          "colorscale": {
           "diverging": [
            [
             0,
             "#8e0152"
            ],
            [
             0.1,
             "#c51b7d"
            ],
            [
             0.2,
             "#de77ae"
            ],
            [
             0.3,
             "#f1b6da"
            ],
            [
             0.4,
             "#fde0ef"
            ],
            [
             0.5,
             "#f7f7f7"
            ],
            [
             0.6,
             "#e6f5d0"
            ],
            [
             0.7,
             "#b8e186"
            ],
            [
             0.8,
             "#7fbc41"
            ],
            [
             0.9,
             "#4d9221"
            ],
            [
             1,
             "#276419"
            ]
           ],
           "sequential": [
            [
             0,
             "#0d0887"
            ],
            [
             0.1111111111111111,
             "#46039f"
            ],
            [
             0.2222222222222222,
             "#7201a8"
            ],
            [
             0.3333333333333333,
             "#9c179e"
            ],
            [
             0.4444444444444444,
             "#bd3786"
            ],
            [
             0.5555555555555556,
             "#d8576b"
            ],
            [
             0.6666666666666666,
             "#ed7953"
            ],
            [
             0.7777777777777778,
             "#fb9f3a"
            ],
            [
             0.8888888888888888,
             "#fdca26"
            ],
            [
             1,
             "#f0f921"
            ]
           ],
           "sequentialminus": [
            [
             0,
             "#0d0887"
            ],
            [
             0.1111111111111111,
             "#46039f"
            ],
            [
             0.2222222222222222,
             "#7201a8"
            ],
            [
             0.3333333333333333,
             "#9c179e"
            ],
            [
             0.4444444444444444,
             "#bd3786"
            ],
            [
             0.5555555555555556,
             "#d8576b"
            ],
            [
             0.6666666666666666,
             "#ed7953"
            ],
            [
             0.7777777777777778,
             "#fb9f3a"
            ],
            [
             0.8888888888888888,
             "#fdca26"
            ],
            [
             1,
             "#f0f921"
            ]
           ]
          },
          "colorway": [
           "#636efa",
           "#EF553B",
           "#00cc96",
           "#ab63fa",
           "#FFA15A",
           "#19d3f3",
           "#FF6692",
           "#B6E880",
           "#FF97FF",
           "#FECB52"
          ],
          "font": {
           "color": "#2a3f5f"
          },
          "geo": {
           "bgcolor": "white",
           "lakecolor": "white",
           "landcolor": "#E5ECF6",
           "showlakes": true,
           "showland": true,
           "subunitcolor": "white"
          },
          "hoverlabel": {
           "align": "left"
          },
          "hovermode": "closest",
          "mapbox": {
           "style": "light"
          },
          "paper_bgcolor": "white",
          "plot_bgcolor": "#E5ECF6",
          "polar": {
           "angularaxis": {
            "gridcolor": "white",
            "linecolor": "white",
            "ticks": ""
           },
           "bgcolor": "#E5ECF6",
           "radialaxis": {
            "gridcolor": "white",
            "linecolor": "white",
            "ticks": ""
           }
          },
          "scene": {
           "xaxis": {
            "backgroundcolor": "#E5ECF6",
            "gridcolor": "white",
            "gridwidth": 2,
            "linecolor": "white",
            "showbackground": true,
            "ticks": "",
            "zerolinecolor": "white"
           },
           "yaxis": {
            "backgroundcolor": "#E5ECF6",
            "gridcolor": "white",
            "gridwidth": 2,
            "linecolor": "white",
            "showbackground": true,
            "ticks": "",
            "zerolinecolor": "white"
           },
           "zaxis": {
            "backgroundcolor": "#E5ECF6",
            "gridcolor": "white",
            "gridwidth": 2,
            "linecolor": "white",
            "showbackground": true,
            "ticks": "",
            "zerolinecolor": "white"
           }
          },
          "shapedefaults": {
           "line": {
            "color": "#2a3f5f"
           }
          },
          "ternary": {
           "aaxis": {
            "gridcolor": "white",
            "linecolor": "white",
            "ticks": ""
           },
           "baxis": {
            "gridcolor": "white",
            "linecolor": "white",
            "ticks": ""
           },
           "bgcolor": "#E5ECF6",
           "caxis": {
            "gridcolor": "white",
            "linecolor": "white",
            "ticks": ""
           }
          },
          "title": {
           "x": 0.05
          },
          "xaxis": {
           "automargin": true,
           "gridcolor": "white",
           "linecolor": "white",
           "ticks": "",
           "title": {
            "standoff": 15
           },
           "zerolinecolor": "white",
           "zerolinewidth": 2
          },
          "yaxis": {
           "automargin": true,
           "gridcolor": "white",
           "linecolor": "white",
           "ticks": "",
           "title": {
            "standoff": 15
           },
           "zerolinecolor": "white",
           "zerolinewidth": 2
          }
         }
        },
        "width": 800,
        "xaxis": {
         "anchor": "y",
         "domain": [
          0,
          1
         ],
         "title": {
          "text": "x"
         }
        },
        "yaxis": {
         "anchor": "x",
         "domain": [
          0,
          1
         ],
         "title": {
          "text": "y"
         }
        }
       }
      },
      "text/html": [
       "<div>                            <div id=\"5380ddbc-4667-4277-bd0a-83c9f878d23e\" class=\"plotly-graph-div\" style=\"height:330px; width:800px;\"></div>            <script type=\"text/javascript\">                require([\"plotly\"], function(Plotly) {                    window.PLOTLYENV=window.PLOTLYENV || {};                                    if (document.getElementById(\"5380ddbc-4667-4277-bd0a-83c9f878d23e\")) {                    Plotly.newPlot(                        \"5380ddbc-4667-4277-bd0a-83c9f878d23e\",                        [{\"alignmentgroup\": \"True\", \"hovertemplate\": \"color=teacher<br>x=%{x}<br>y=%{y}<extra></extra>\", \"legendgroup\": \"teacher\", \"marker\": {\"color\": \"#636efa\"}, \"name\": \"teacher\", \"notched\": false, \"offsetgroup\": \"teacher\", \"orientation\": \"v\", \"showlegend\": true, \"type\": \"box\", \"x\": [\"teacher\", \"teacher\", \"teacher\", \"teacher\", \"teacher\", \"teacher\", \"teacher\", \"teacher\", \"teacher\", \"teacher\", \"teacher\", \"teacher\", \"teacher\", \"teacher\", \"teacher\", \"teacher\", \"teacher\", \"teacher\", \"teacher\", \"teacher\", \"teacher\", \"teacher\", \"teacher\", \"teacher\", \"teacher\", \"teacher\", \"teacher\", \"teacher\", \"teacher\"], \"x0\": \" \", \"xaxis\": \"x\", \"y\": [5.666666666666667, 5.666666666666667, 11.0, 15.333333333333334, 18.333333333333332, 7.0, 10.666666666666666, 16.666666666666668, 18.666666666666668, 15.333333333333334, 12.666666666666666, 18.0, 4.0, 3.0, 15.666666666666666, 4.333333333333333, 11.333333333333334, 16.0, 18.0, 9.333333333333334, 16.333333333333332, 9.666666666666666, 12.333333333333334, 14.333333333333334, 15.666666666666666, 10.666666666666666, 14.0, 12.333333333333334, 14.333333333333334], \"y0\": \" \", \"yaxis\": \"y\"}, {\"alignmentgroup\": \"True\", \"hovertemplate\": \"color=other<br>x=%{x}<br>y=%{y}<extra></extra>\", \"legendgroup\": \"other\", \"marker\": {\"color\": \"#EF553B\"}, \"name\": \"other\", \"notched\": false, \"offsetgroup\": \"other\", \"orientation\": \"v\", \"showlegend\": true, \"type\": \"box\", \"x\": [\"other\", \"other\", \"other\", \"other\", \"other\", \"other\", \"other\", \"other\", \"other\", \"other\", \"other\", \"other\", \"other\", \"other\", \"other\", \"other\", \"other\", \"other\", \"other\", \"other\", \"other\", \"other\", \"other\", \"other\", \"other\", \"other\", \"other\", \"other\", \"other\", \"other\", \"other\", \"other\", \"other\", \"other\", \"other\", \"other\", \"other\", \"other\", \"other\", \"other\", \"other\", \"other\", \"other\", \"other\", \"other\", \"other\", \"other\", \"other\", \"other\", \"other\", \"other\", \"other\", \"other\", \"other\", \"other\", \"other\", \"other\", \"other\", \"other\", \"other\", \"other\", \"other\", \"other\", \"other\", \"other\", \"other\", \"other\", \"other\", \"other\", \"other\", \"other\", \"other\", \"other\", \"other\", \"other\", \"other\", \"other\", \"other\", \"other\", \"other\", \"other\", \"other\", \"other\", \"other\", \"other\", \"other\", \"other\", \"other\", \"other\", \"other\", \"other\", \"other\", \"other\", \"other\", \"other\", \"other\", \"other\", \"other\", \"other\", \"other\", \"other\", \"other\", \"other\", \"other\", \"other\", \"other\", \"other\", \"other\", \"other\", \"other\", \"other\", \"other\", \"other\", \"other\", \"other\", \"other\", \"other\", \"other\", \"other\", \"other\", \"other\", \"other\", \"other\", \"other\", \"other\", \"other\", \"other\", \"other\", \"other\", \"other\", \"other\", \"other\", \"other\", \"other\", \"other\", \"other\", \"other\", \"other\", \"other\", \"other\", \"other\", \"other\", \"other\", \"other\", \"other\", \"other\", \"other\", \"other\", \"other\", \"other\", \"other\", \"other\", \"other\", \"other\", \"other\", \"other\", \"other\", \"other\", \"other\", \"other\", \"other\", \"other\", \"other\", \"other\", \"other\", \"other\", \"other\", \"other\", \"other\", \"other\", \"other\", \"other\", \"other\", \"other\", \"other\", \"other\", \"other\", \"other\", \"other\", \"other\", \"other\", \"other\", \"other\", \"other\", \"other\", \"other\", \"other\", \"other\", \"other\", \"other\", \"other\", \"other\", \"other\", \"other\", \"other\", \"other\", \"other\", \"other\", \"other\", \"other\", \"other\", \"other\", \"other\", \"other\", \"other\", \"other\", \"other\", \"other\", \"other\", \"other\", \"other\", \"other\", \"other\", \"other\", \"other\", \"other\", \"other\"], \"x0\": \" \", \"xaxis\": \"x\", \"y\": [5.333333333333333, 8.333333333333334, 8.666666666666666, 15.0, 11.666666666666666, 17.666666666666668, 14.666666666666666, 11.333333333333334, 10.333333333333334, 15.333333333333334, 14.0, 9.333333333333334, 9.333333333333334, 14.0, 15.333333333333334, 12.666666666666666, 11.666666666666666, 11.0, 10.0, 13.666666666666666, 7.0, 13.333333333333334, 9.333333333333334, 12.0, 7.333333333333333, 14.666666666666666, 12.333333333333334, 12.0, 9.0, 15.666666666666666, 6.666666666666667, 16.0, 14.333333333333334, 10.0, 6.333333333333333, 12.666666666666666, 9.333333333333334, 10.666666666666666, 11.0, 8.666666666666666, 5.0, 10.666666666666666, 6.333333333333333, 9.666666666666666, 7.0, 13.666666666666666, 10.333333333333334, 7.333333333333333, 17.0, 6.333333333333333, 9.0, 13.666666666666666, 9.0, 13.0, 12.333333333333334, 6.333333333333333, 17.333333333333332, 7.666666666666667, 17.333333333333332, 12.0, 9.0, 12.0, 18.666666666666668, 8.0, 13.333333333333334, 12.666666666666666, 7.666666666666667, 9.333333333333334, 8.0, 3.6666666666666665, 2.6666666666666665, 11.666666666666666, 11.333333333333334, 3.3333333333333335, 1.3333333333333333, 12.666666666666666, 1.6666666666666667, 10.666666666666666, 9.0, 3.6666666666666665, 13.0, 13.666666666666666, 9.0, 15.666666666666666, 4.333333333333333, 7.0, 2.3333333333333335, 10.0, 4.333333333333333, 3.6666666666666665, 14.666666666666666, 11.333333333333334, 10.0, 9.333333333333334, 12.333333333333334, 5.666666666666667, 10.333333333333334, 8.333333333333334, 12.333333333333334, 8.666666666666666, 12.333333333333334, 15.0, 8.0, 9.0, 13.666666666666666, 9.333333333333334, 16.0, 9.333333333333334, 9.333333333333334, 6.333333333333333, 7.0, 12.0, 9.333333333333334, 7.0, 8.0, 12.333333333333334, 13.0, 7.0, 9.333333333333334, 14.666666666666666, 5.333333333333333, 7.333333333333333, 3.6666666666666665, 12.666666666666666, 8.0, 15.333333333333334, 9.0, 11.333333333333334, 13.333333333333334, 11.0, 13.333333333333334, 7.333333333333333, 10.0, 13.333333333333334, 12.333333333333334, 12.0, 11.0, 2.0, 2.3333333333333335, 18.0, 12.333333333333334, 14.333333333333334, 7.333333333333333, 9.0, 8.333333333333334, 10.666666666666666, 8.0, 14.333333333333334, 17.666666666666668, 8.0, 12.333333333333334, 9.333333333333334, 17.0, 9.333333333333334, 11.0, 9.666666666666666, 2.0, 11.0, 12.0, 8.0, 12.0, 9.0, 10.0, 11.0, 11.333333333333334, 18.0, 13.666666666666666, 12.333333333333334, 6.333333333333333, 8.666666666666666, 13.666666666666666, 11.0, 13.666666666666666, 14.0, 17.666666666666668, 10.666666666666666, 13.0, 11.333333333333334, 11.666666666666666, 5.333333333333333, 9.333333333333334, 11.0, 9.666666666666666, 10.666666666666666, 10.333333333333334, 8.333333333333334, 13.333333333333334, 5.333333333333333, 6.333333333333333, 15.333333333333334, 5.0, 9.666666666666666, 15.333333333333334, 10.333333333333334, 9.666666666666666, 14.333333333333334, 12.333333333333334, 13.0, 8.0, 11.666666666666666, 11.666666666666666, 13.0, 12.333333333333334, 10.0, 5.333333333333333, 18.666666666666668, 8.666666666666666, 14.666666666666666, 15.0, 10.0, 6.666666666666667, 5.333333333333333, 9.666666666666666, 4.0, 3.6666666666666665, 8.333333333333334, 11.0], \"y0\": \" \", \"yaxis\": \"y\"}, {\"alignmentgroup\": \"True\", \"hovertemplate\": \"color=services<br>x=%{x}<br>y=%{y}<extra></extra>\", \"legendgroup\": \"services\", \"marker\": {\"color\": \"#00cc96\"}, \"name\": \"services\", \"notched\": false, \"offsetgroup\": \"services\", \"orientation\": \"v\", \"showlegend\": true, \"type\": \"box\", \"x\": [\"services\", \"services\", \"services\", \"services\", \"services\", \"services\", \"services\", \"services\", \"services\", \"services\", \"services\", \"services\", \"services\", \"services\", \"services\", \"services\", \"services\", \"services\", \"services\", \"services\", \"services\", \"services\", \"services\", \"services\", \"services\", \"services\", \"services\", \"services\", \"services\", \"services\", \"services\", \"services\", \"services\", \"services\", \"services\", \"services\", \"services\", \"services\", \"services\", \"services\", \"services\", \"services\", \"services\", \"services\", \"services\", \"services\", \"services\", \"services\", \"services\", \"services\", \"services\", \"services\", \"services\", \"services\", \"services\", \"services\", \"services\", \"services\", \"services\", \"services\", \"services\", \"services\", \"services\", \"services\", \"services\", \"services\", \"services\", \"services\", \"services\", \"services\", \"services\", \"services\", \"services\", \"services\", \"services\", \"services\", \"services\", \"services\", \"services\", \"services\", \"services\", \"services\", \"services\", \"services\", \"services\", \"services\", \"services\", \"services\", \"services\", \"services\", \"services\", \"services\", \"services\", \"services\", \"services\", \"services\", \"services\", \"services\", \"services\", \"services\", \"services\", \"services\", \"services\", \"services\", \"services\", \"services\", \"services\", \"services\", \"services\", \"services\", \"services\"], \"x0\": \" \", \"xaxis\": \"x\", \"y\": [14.666666666666666, 14.0, 13.666666666666666, 5.333333333333333, 7.666666666666667, 15.333333333333334, 10.666666666666666, 16.666666666666668, 16.333333333333332, 9.0, 11.333333333333334, 19.333333333333332, 12.666666666666666, 9.666666666666666, 14.666666666666666, 9.666666666666666, 9.0, 10.0, 15.333333333333334, 12.666666666666666, 8.333333333333334, 11.333333333333334, 11.333333333333334, 15.0, 8.0, 10.333333333333334, 6.333333333333333, 9.0, 13.333333333333334, 15.333333333333334, 15.0, 12.666666666666666, 5.333333333333333, 9.0, 10.333333333333334, 10.0, 4.333333333333333, 10.0, 9.0, 11.333333333333334, 10.0, 6.666666666666667, 11.666666666666666, 15.0, 5.0, 9.0, 16.666666666666668, 11.666666666666666, 11.333333333333334, 12.0, 8.333333333333334, 7.666666666666667, 9.0, 14.666666666666666, 10.333333333333334, 9.333333333333334, 6.0, 13.333333333333334, 11.666666666666666, 11.666666666666666, 4.666666666666667, 12.333333333333334, 7.333333333333333, 4.333333333333333, 7.666666666666667, 13.0, 6.333333333333333, 6.333333333333333, 9.0, 14.333333333333334, 9.333333333333334, 9.0, 10.333333333333334, 10.0, 14.333333333333334, 15.0, 8.333333333333334, 13.0, 6.0, 11.666666666666666, 10.666666666666666, 13.0, 11.0, 13.666666666666666, 15.0, 9.333333333333334, 2.3333333333333335, 16.0, 11.333333333333334, 6.666666666666667, 13.333333333333334, 15.666666666666666, 7.666666666666667, 7.666666666666667, 9.333333333333334, 12.666666666666666, 10.0, 16.666666666666668, 10.666666666666666, 11.666666666666666, 13.0, 4.333333333333333, 10.333333333333334, 7.666666666666667, 12.666666666666666, 9.0, 10.666666666666666, 3.6666666666666665, 8.0, 9.0, 15.333333333333334], \"y0\": \" \", \"yaxis\": \"y\"}, {\"alignmentgroup\": \"True\", \"hovertemplate\": \"color=health<br>x=%{x}<br>y=%{y}<extra></extra>\", \"legendgroup\": \"health\", \"marker\": {\"color\": \"#ab63fa\"}, \"name\": \"health\", \"notched\": false, \"offsetgroup\": \"health\", \"orientation\": \"v\", \"showlegend\": true, \"type\": \"box\", \"x\": [\"health\", \"health\", \"health\", \"health\", \"health\", \"health\", \"health\", \"health\", \"health\", \"health\", \"health\", \"health\", \"health\", \"health\", \"health\", \"health\", \"health\", \"health\"], \"x0\": \" \", \"xaxis\": \"x\", \"y\": [9.0, 14.0, 9.0, 11.666666666666666, 10.666666666666666, 14.666666666666666, 9.333333333333334, 7.0, 12.666666666666666, 10.666666666666666, 15.0, 13.0, 14.0, 6.666666666666667, 10.0, 8.333333333333334, 17.333333333333332, 13.666666666666666], \"y0\": \" \", \"yaxis\": \"y\"}, {\"alignmentgroup\": \"True\", \"hovertemplate\": \"color=at_home<br>x=%{x}<br>y=%{y}<extra></extra>\", \"legendgroup\": \"at_home\", \"marker\": {\"color\": \"#FFA15A\"}, \"name\": \"at_home\", \"notched\": false, \"offsetgroup\": \"at_home\", \"orientation\": \"v\", \"showlegend\": true, \"type\": \"box\", \"x\": [\"at_home\", \"at_home\", \"at_home\", \"at_home\", \"at_home\", \"at_home\", \"at_home\", \"at_home\", \"at_home\", \"at_home\", \"at_home\", \"at_home\", \"at_home\", \"at_home\", \"at_home\", \"at_home\", \"at_home\", \"at_home\", \"at_home\", \"at_home\"], \"x0\": \" \", \"xaxis\": \"x\", \"y\": [16.333333333333332, 9.666666666666666, 9.333333333333334, 8.0, 3.6666666666666665, 13.666666666666666, 1.6666666666666667, 9.666666666666666, 11.0, 14.333333333333334, 18.333333333333332, 12.333333333333334, 12.666666666666666, 15.333333333333334, 13.333333333333334, 5.666666666666667, 15.333333333333334, 11.666666666666666, 5.666666666666667, 8.666666666666666], \"y0\": \" \", \"yaxis\": \"y\"}],                        {\"boxmode\": \"group\", \"height\": 330, \"legend\": {\"title\": {\"text\": \"color\"}, \"tracegroupgap\": 0}, \"margin\": {\"t\": 60}, \"template\": {\"data\": {\"bar\": [{\"error_x\": {\"color\": \"#2a3f5f\"}, \"error_y\": {\"color\": \"#2a3f5f\"}, \"marker\": {\"line\": {\"color\": \"#E5ECF6\", \"width\": 0.5}}, \"type\": \"bar\"}], \"barpolar\": [{\"marker\": {\"line\": {\"color\": \"#E5ECF6\", \"width\": 0.5}}, \"type\": \"barpolar\"}], \"carpet\": [{\"aaxis\": {\"endlinecolor\": \"#2a3f5f\", \"gridcolor\": \"white\", \"linecolor\": \"white\", \"minorgridcolor\": \"white\", \"startlinecolor\": \"#2a3f5f\"}, \"baxis\": {\"endlinecolor\": \"#2a3f5f\", \"gridcolor\": \"white\", \"linecolor\": \"white\", \"minorgridcolor\": \"white\", \"startlinecolor\": \"#2a3f5f\"}, \"type\": \"carpet\"}], \"choropleth\": [{\"colorbar\": {\"outlinewidth\": 0, \"ticks\": \"\"}, \"type\": \"choropleth\"}], \"contour\": [{\"colorbar\": {\"outlinewidth\": 0, \"ticks\": \"\"}, \"colorscale\": [[0.0, \"#0d0887\"], [0.1111111111111111, \"#46039f\"], [0.2222222222222222, \"#7201a8\"], [0.3333333333333333, \"#9c179e\"], [0.4444444444444444, \"#bd3786\"], [0.5555555555555556, \"#d8576b\"], [0.6666666666666666, \"#ed7953\"], [0.7777777777777778, \"#fb9f3a\"], [0.8888888888888888, \"#fdca26\"], [1.0, \"#f0f921\"]], \"type\": \"contour\"}], \"contourcarpet\": [{\"colorbar\": {\"outlinewidth\": 0, \"ticks\": \"\"}, \"type\": \"contourcarpet\"}], \"heatmap\": [{\"colorbar\": {\"outlinewidth\": 0, \"ticks\": \"\"}, \"colorscale\": [[0.0, \"#0d0887\"], [0.1111111111111111, \"#46039f\"], [0.2222222222222222, \"#7201a8\"], [0.3333333333333333, \"#9c179e\"], [0.4444444444444444, \"#bd3786\"], [0.5555555555555556, \"#d8576b\"], [0.6666666666666666, \"#ed7953\"], [0.7777777777777778, \"#fb9f3a\"], [0.8888888888888888, \"#fdca26\"], [1.0, \"#f0f921\"]], \"type\": \"heatmap\"}], \"heatmapgl\": [{\"colorbar\": {\"outlinewidth\": 0, \"ticks\": \"\"}, \"colorscale\": [[0.0, \"#0d0887\"], [0.1111111111111111, \"#46039f\"], [0.2222222222222222, \"#7201a8\"], [0.3333333333333333, \"#9c179e\"], [0.4444444444444444, \"#bd3786\"], [0.5555555555555556, \"#d8576b\"], [0.6666666666666666, \"#ed7953\"], [0.7777777777777778, \"#fb9f3a\"], [0.8888888888888888, \"#fdca26\"], [1.0, \"#f0f921\"]], \"type\": \"heatmapgl\"}], \"histogram\": [{\"marker\": {\"colorbar\": {\"outlinewidth\": 0, \"ticks\": \"\"}}, \"type\": \"histogram\"}], \"histogram2d\": [{\"colorbar\": {\"outlinewidth\": 0, \"ticks\": \"\"}, \"colorscale\": [[0.0, \"#0d0887\"], [0.1111111111111111, \"#46039f\"], [0.2222222222222222, \"#7201a8\"], [0.3333333333333333, \"#9c179e\"], [0.4444444444444444, \"#bd3786\"], [0.5555555555555556, \"#d8576b\"], [0.6666666666666666, \"#ed7953\"], [0.7777777777777778, \"#fb9f3a\"], [0.8888888888888888, \"#fdca26\"], [1.0, \"#f0f921\"]], \"type\": \"histogram2d\"}], \"histogram2dcontour\": [{\"colorbar\": {\"outlinewidth\": 0, \"ticks\": \"\"}, \"colorscale\": [[0.0, \"#0d0887\"], [0.1111111111111111, \"#46039f\"], [0.2222222222222222, \"#7201a8\"], [0.3333333333333333, \"#9c179e\"], [0.4444444444444444, \"#bd3786\"], [0.5555555555555556, \"#d8576b\"], [0.6666666666666666, \"#ed7953\"], [0.7777777777777778, \"#fb9f3a\"], [0.8888888888888888, \"#fdca26\"], [1.0, \"#f0f921\"]], \"type\": \"histogram2dcontour\"}], \"mesh3d\": [{\"colorbar\": {\"outlinewidth\": 0, \"ticks\": \"\"}, \"type\": \"mesh3d\"}], \"parcoords\": [{\"line\": {\"colorbar\": {\"outlinewidth\": 0, \"ticks\": \"\"}}, \"type\": \"parcoords\"}], \"pie\": [{\"automargin\": true, \"type\": \"pie\"}], \"scatter\": [{\"marker\": {\"colorbar\": {\"outlinewidth\": 0, \"ticks\": \"\"}}, \"type\": \"scatter\"}], \"scatter3d\": [{\"line\": {\"colorbar\": {\"outlinewidth\": 0, \"ticks\": \"\"}}, \"marker\": {\"colorbar\": {\"outlinewidth\": 0, \"ticks\": \"\"}}, \"type\": \"scatter3d\"}], \"scattercarpet\": [{\"marker\": {\"colorbar\": {\"outlinewidth\": 0, \"ticks\": \"\"}}, \"type\": \"scattercarpet\"}], \"scattergeo\": [{\"marker\": {\"colorbar\": {\"outlinewidth\": 0, \"ticks\": \"\"}}, \"type\": \"scattergeo\"}], \"scattergl\": [{\"marker\": {\"colorbar\": {\"outlinewidth\": 0, \"ticks\": \"\"}}, \"type\": \"scattergl\"}], \"scattermapbox\": [{\"marker\": {\"colorbar\": {\"outlinewidth\": 0, \"ticks\": \"\"}}, \"type\": \"scattermapbox\"}], \"scatterpolar\": [{\"marker\": {\"colorbar\": {\"outlinewidth\": 0, \"ticks\": \"\"}}, \"type\": \"scatterpolar\"}], \"scatterpolargl\": [{\"marker\": {\"colorbar\": {\"outlinewidth\": 0, \"ticks\": \"\"}}, \"type\": \"scatterpolargl\"}], \"scatterternary\": [{\"marker\": {\"colorbar\": {\"outlinewidth\": 0, \"ticks\": \"\"}}, \"type\": \"scatterternary\"}], \"surface\": [{\"colorbar\": {\"outlinewidth\": 0, \"ticks\": \"\"}, \"colorscale\": [[0.0, \"#0d0887\"], [0.1111111111111111, \"#46039f\"], [0.2222222222222222, \"#7201a8\"], [0.3333333333333333, \"#9c179e\"], [0.4444444444444444, \"#bd3786\"], [0.5555555555555556, \"#d8576b\"], [0.6666666666666666, \"#ed7953\"], [0.7777777777777778, \"#fb9f3a\"], [0.8888888888888888, \"#fdca26\"], [1.0, \"#f0f921\"]], \"type\": \"surface\"}], \"table\": [{\"cells\": {\"fill\": {\"color\": \"#EBF0F8\"}, \"line\": {\"color\": \"white\"}}, \"header\": {\"fill\": {\"color\": \"#C8D4E3\"}, \"line\": {\"color\": \"white\"}}, \"type\": \"table\"}]}, \"layout\": {\"annotationdefaults\": {\"arrowcolor\": \"#2a3f5f\", \"arrowhead\": 0, \"arrowwidth\": 1}, \"autotypenumbers\": \"strict\", \"coloraxis\": {\"colorbar\": {\"outlinewidth\": 0, \"ticks\": \"\"}}, \"colorscale\": {\"diverging\": [[0, \"#8e0152\"], [0.1, \"#c51b7d\"], [0.2, \"#de77ae\"], [0.3, \"#f1b6da\"], [0.4, \"#fde0ef\"], [0.5, \"#f7f7f7\"], [0.6, \"#e6f5d0\"], [0.7, \"#b8e186\"], [0.8, \"#7fbc41\"], [0.9, \"#4d9221\"], [1, \"#276419\"]], \"sequential\": [[0.0, \"#0d0887\"], [0.1111111111111111, \"#46039f\"], [0.2222222222222222, \"#7201a8\"], [0.3333333333333333, \"#9c179e\"], [0.4444444444444444, \"#bd3786\"], [0.5555555555555556, \"#d8576b\"], [0.6666666666666666, \"#ed7953\"], [0.7777777777777778, \"#fb9f3a\"], [0.8888888888888888, \"#fdca26\"], [1.0, \"#f0f921\"]], \"sequentialminus\": [[0.0, \"#0d0887\"], [0.1111111111111111, \"#46039f\"], [0.2222222222222222, \"#7201a8\"], [0.3333333333333333, \"#9c179e\"], [0.4444444444444444, \"#bd3786\"], [0.5555555555555556, \"#d8576b\"], [0.6666666666666666, \"#ed7953\"], [0.7777777777777778, \"#fb9f3a\"], [0.8888888888888888, \"#fdca26\"], [1.0, \"#f0f921\"]]}, \"colorway\": [\"#636efa\", \"#EF553B\", \"#00cc96\", \"#ab63fa\", \"#FFA15A\", \"#19d3f3\", \"#FF6692\", \"#B6E880\", \"#FF97FF\", \"#FECB52\"], \"font\": {\"color\": \"#2a3f5f\"}, \"geo\": {\"bgcolor\": \"white\", \"lakecolor\": \"white\", \"landcolor\": \"#E5ECF6\", \"showlakes\": true, \"showland\": true, \"subunitcolor\": \"white\"}, \"hoverlabel\": {\"align\": \"left\"}, \"hovermode\": \"closest\", \"mapbox\": {\"style\": \"light\"}, \"paper_bgcolor\": \"white\", \"plot_bgcolor\": \"#E5ECF6\", \"polar\": {\"angularaxis\": {\"gridcolor\": \"white\", \"linecolor\": \"white\", \"ticks\": \"\"}, \"bgcolor\": \"#E5ECF6\", \"radialaxis\": {\"gridcolor\": \"white\", \"linecolor\": \"white\", \"ticks\": \"\"}}, \"scene\": {\"xaxis\": {\"backgroundcolor\": \"#E5ECF6\", \"gridcolor\": \"white\", \"gridwidth\": 2, \"linecolor\": \"white\", \"showbackground\": true, \"ticks\": \"\", \"zerolinecolor\": \"white\"}, \"yaxis\": {\"backgroundcolor\": \"#E5ECF6\", \"gridcolor\": \"white\", \"gridwidth\": 2, \"linecolor\": \"white\", \"showbackground\": true, \"ticks\": \"\", \"zerolinecolor\": \"white\"}, \"zaxis\": {\"backgroundcolor\": \"#E5ECF6\", \"gridcolor\": \"white\", \"gridwidth\": 2, \"linecolor\": \"white\", \"showbackground\": true, \"ticks\": \"\", \"zerolinecolor\": \"white\"}}, \"shapedefaults\": {\"line\": {\"color\": \"#2a3f5f\"}}, \"ternary\": {\"aaxis\": {\"gridcolor\": \"white\", \"linecolor\": \"white\", \"ticks\": \"\"}, \"baxis\": {\"gridcolor\": \"white\", \"linecolor\": \"white\", \"ticks\": \"\"}, \"bgcolor\": \"#E5ECF6\", \"caxis\": {\"gridcolor\": \"white\", \"linecolor\": \"white\", \"ticks\": \"\"}}, \"title\": {\"x\": 0.05}, \"xaxis\": {\"automargin\": true, \"gridcolor\": \"white\", \"linecolor\": \"white\", \"ticks\": \"\", \"title\": {\"standoff\": 15}, \"zerolinecolor\": \"white\", \"zerolinewidth\": 2}, \"yaxis\": {\"automargin\": true, \"gridcolor\": \"white\", \"linecolor\": \"white\", \"ticks\": \"\", \"title\": {\"standoff\": 15}, \"zerolinecolor\": \"white\", \"zerolinewidth\": 2}}}, \"width\": 800, \"xaxis\": {\"anchor\": \"y\", \"domain\": [0.0, 1.0], \"title\": {\"text\": \"x\"}}, \"yaxis\": {\"anchor\": \"x\", \"domain\": [0.0, 1.0], \"title\": {\"text\": \"y\"}}},                        {\"responsive\": true}                    ).then(function(){\n",
       "                            \n",
       "var gd = document.getElementById('5380ddbc-4667-4277-bd0a-83c9f878d23e');\n",
       "var x = new MutationObserver(function (mutations, observer) {{\n",
       "        var display = window.getComputedStyle(gd).display;\n",
       "        if (!display || display === 'none') {{\n",
       "            console.log([gd, 'removed!']);\n",
       "            Plotly.purge(gd);\n",
       "            observer.disconnect();\n",
       "        }}\n",
       "}});\n",
       "\n",
       "// Listen for the removal of the full notebook cells\n",
       "var notebookContainer = gd.closest('#notebook-container');\n",
       "if (notebookContainer) {{\n",
       "    x.observe(notebookContainer, {childList: true});\n",
       "}}\n",
       "\n",
       "// Listen for the clearing of the current output cell\n",
       "var outputEl = gd.closest('.output');\n",
       "if (outputEl) {{\n",
       "    x.observe(outputEl, {childList: true});\n",
       "}}\n",
       "\n",
       "                        })                };                });            </script>        </div>"
      ]
     },
     "metadata": {},
     "output_type": "display_data"
    }
   ],
   "source": [
    "ex.box(x=df['Fjob'], y = df['G_Mean'], color=df['Fjob'], height=330, width=800)"
   ]
  },
  {
   "cell_type": "markdown",
   "id": "5705adb0",
   "metadata": {},
   "source": [
    "#### Based on the Fjob, if Fjob = teacher, the average grade is a bit better. But in case of Mjob, when Mjob = health ie mother's are associated with health related servcies, the average grade is higher. But there also an outlier in case of Mjob = services where the grade goes down much below the average.\n",
    "\n",
    "#### Otherwise Mjob and Fjob doesn't impact much on the average grade."
   ]
  },
  {
   "cell_type": "code",
   "execution_count": 16,
   "id": "fea5eaa0",
   "metadata": {},
   "outputs": [
    {
     "data": {
      "image/png": "[encoded data removed]",
      "text/plain": [
       "<Figure size 432x288 with 1 Axes>"
      ]
     },
     "metadata": {
      "needs_background": "light"
     },
     "output_type": "display_data"
    },
    {
     "data": {
      "image/png": "[encoded data removed]",
      "text/plain": [
       "<Figure size 432x288 with 1 Axes>"
      ]
     },
     "metadata": {
      "needs_background": "light"
     },
     "output_type": "display_data"
    }
   ],
   "source": [
    "sns.scatterplot(x = 'Medu', y = 'G_Mean', data = df)\n",
    "plt.show()\n",
    "sns.scatterplot(x = 'Fedu', y = 'G_Mean', data = df)\n",
    "plt.show()"
   ]
  },
  {
   "cell_type": "markdown",
   "id": "237b89a6",
   "metadata": {},
   "source": [
    "#### As the Medu (Mother Education) and Fedu (Father Education) increases, there is an increase in the average grade as well."
   ]
  },
  {
   "cell_type": "markdown",
   "id": "c1eb8694",
   "metadata": {},
   "source": [
    "## <u> Que- 2:\n",
    "- If there is a need for encoding some of the features, how would you go about it?\n",
    "- can we consider combining certain encodings together ?"
   ]
  },
  {
   "cell_type": "code",
   "execution_count": 19,
   "id": "2096eb95",
   "metadata": {},
   "outputs": [
    {
     "data": {
      "text/html": [
       "<div>\n",
       "<style scoped>\n",
       "    .dataframe tbody tr th:only-of-type {\n",
       "        vertical-align: middle;\n",
       "    }\n",
       "\n",
       "    .dataframe tbody tr th {\n",
       "        vertical-align: top;\n",
       "    }\n",
       "\n",
       "    .dataframe thead th {\n",
       "        text-align: right;\n",
       "    }\n",
       "</style>\n",
       "<table border=\"1\" class=\"dataframe\">\n",
       "  <thead>\n",
       "    <tr style=\"text-align: right;\">\n",
       "      <th></th>\n",
       "      <th>school</th>\n",
       "      <th>sex</th>\n",
       "      <th>address</th>\n",
       "      <th>famsize</th>\n",
       "      <th>Pstatus</th>\n",
       "      <th>Mjob</th>\n",
       "      <th>Fjob</th>\n",
       "      <th>reason</th>\n",
       "      <th>guardian</th>\n",
       "      <th>schoolsup</th>\n",
       "      <th>famsup</th>\n",
       "      <th>paid</th>\n",
       "      <th>activities</th>\n",
       "      <th>nursery</th>\n",
       "      <th>higher</th>\n",
       "      <th>internet</th>\n",
       "      <th>romantic</th>\n",
       "    </tr>\n",
       "  </thead>\n",
       "  <tbody>\n",
       "    <tr>\n",
       "      <th>0</th>\n",
       "      <td>GP</td>\n",
       "      <td>F</td>\n",
       "      <td>U</td>\n",
       "      <td>GT3</td>\n",
       "      <td>A</td>\n",
       "      <td>at_home</td>\n",
       "      <td>teacher</td>\n",
       "      <td>course</td>\n",
       "      <td>mother</td>\n",
       "      <td>yes</td>\n",
       "      <td>no</td>\n",
       "      <td>no</td>\n",
       "      <td>no</td>\n",
       "      <td>yes</td>\n",
       "      <td>yes</td>\n",
       "      <td>no</td>\n",
       "      <td>no</td>\n",
       "    </tr>\n",
       "    <tr>\n",
       "      <th>1</th>\n",
       "      <td>GP</td>\n",
       "      <td>F</td>\n",
       "      <td>U</td>\n",
       "      <td>GT3</td>\n",
       "      <td>T</td>\n",
       "      <td>at_home</td>\n",
       "      <td>other</td>\n",
       "      <td>course</td>\n",
       "      <td>father</td>\n",
       "      <td>no</td>\n",
       "      <td>yes</td>\n",
       "      <td>no</td>\n",
       "      <td>no</td>\n",
       "      <td>no</td>\n",
       "      <td>yes</td>\n",
       "      <td>yes</td>\n",
       "      <td>no</td>\n",
       "    </tr>\n",
       "    <tr>\n",
       "      <th>2</th>\n",
       "      <td>GP</td>\n",
       "      <td>F</td>\n",
       "      <td>U</td>\n",
       "      <td>LE3</td>\n",
       "      <td>T</td>\n",
       "      <td>at_home</td>\n",
       "      <td>other</td>\n",
       "      <td>other</td>\n",
       "      <td>mother</td>\n",
       "      <td>yes</td>\n",
       "      <td>no</td>\n",
       "      <td>yes</td>\n",
       "      <td>no</td>\n",
       "      <td>yes</td>\n",
       "      <td>yes</td>\n",
       "      <td>yes</td>\n",
       "      <td>no</td>\n",
       "    </tr>\n",
       "    <tr>\n",
       "      <th>3</th>\n",
       "      <td>GP</td>\n",
       "      <td>F</td>\n",
       "      <td>U</td>\n",
       "      <td>GT3</td>\n",
       "      <td>T</td>\n",
       "      <td>health</td>\n",
       "      <td>services</td>\n",
       "      <td>home</td>\n",
       "      <td>mother</td>\n",
       "      <td>no</td>\n",
       "      <td>yes</td>\n",
       "      <td>yes</td>\n",
       "      <td>yes</td>\n",
       "      <td>yes</td>\n",
       "      <td>yes</td>\n",
       "      <td>yes</td>\n",
       "      <td>yes</td>\n",
       "    </tr>\n",
       "  </tbody>\n",
       "</table>\n",
       "</div>"
      ],
      "text/plain": [
       "  school sex address famsize Pstatus     Mjob      Fjob  reason guardian  \\\n",
       "0     GP   F       U     GT3       A  at_home   teacher  course   mother   \n",
       "1     GP   F       U     GT3       T  at_home     other  course   father   \n",
       "2     GP   F       U     LE3       T  at_home     other   other   mother   \n",
       "3     GP   F       U     GT3       T   health  services    home   mother   \n",
       "\n",
       "  schoolsup famsup paid activities nursery higher internet romantic  \n",
       "0       yes     no   no         no     yes    yes       no       no  \n",
       "1        no    yes   no         no      no    yes      yes       no  \n",
       "2       yes     no  yes         no     yes    yes      yes       no  \n",
       "3        no    yes  yes        yes     yes    yes      yes      yes  "
      ]
     },
     "execution_count": 19,
     "metadata": {},
     "output_type": "execute_result"
    }
   ],
   "source": [
    "df.select_dtypes(include='object').head(4)"
   ]
  },
  {
   "cell_type": "markdown",
   "id": "ca93cc0f",
   "metadata": {},
   "source": [
    " - There're 17 features having dtypes as object\n",
    "- we've already seen from predictive pre processor matrix that school, pstatus, higher have more impact on the average grade\n",
    "- so we can assign some ranking to these columns and the for the other columns, they are nominal data\n",
    "- for the ordinal columns (in which Ranking is Important) we will go with the Label encoding and for the nominal column we will do One hot encoding"
   ]
  },
  {
   "cell_type": "code",
   "execution_count": 26,
   "id": "ac7429ae",
   "metadata": {},
   "outputs": [],
   "source": [
    "encode_data = df.copy() # keeping a copy and not the same object reference so that we can use new_alcdata later on"
   ]
  },
  {
   "cell_type": "code",
   "execution_count": 41,
   "id": "de04b44f",
   "metadata": {},
   "outputs": [],
   "source": [
    "# Label Encoding the following columns as the student's average grade is better when these have appropriate value.\n",
    "lencoder = LabelEncoder() \n",
    "encode_data['school'] = lencoder.fit_transform(encode_data['school'])\n",
    "encode_data['higher'] = lencoder.fit_transform(encode_data['higher'])\n",
    "encode_data['Pstatus'] = lencoder.fit_transform(encode_data['Pstatus'])"
   ]
  },
  {
   "cell_type": "code",
   "execution_count": 54,
   "id": "25489e04",
   "metadata": {},
   "outputs": [],
   "source": [
    "# for the other categorical columns we'll do One hot encoding\n",
    "for object_feature in encode_data.dtypes[encode_data.dtypes == 'object'].index:\n",
    "     encode_data[object_feature] = encode_data[object_feature].astype('category')\n",
    "\n",
    "for object_feature in encode_data.dtypes[encode_data.dtypes == 'category'].index:\n",
    "        encode_dt = pd.get_dummies(encode_data[object_feature])\n",
    "        encode_data.append(encode_dt)"
   ]
  },
  {
   "cell_type": "code",
   "execution_count": 56,
   "id": "6a950598",
   "metadata": {},
   "outputs": [
    {
     "name": "stdout",
     "output_type": "stream",
     "text": [
      "<class 'pandas.core.frame.DataFrame'>\n",
      "RangeIndex: 395 entries, 0 to 394\n",
      "Data columns (total 34 columns):\n",
      " #   Column      Non-Null Count  Dtype   \n",
      "---  ------      --------------  -----   \n",
      " 0   school      395 non-null    int32   \n",
      " 1   sex         395 non-null    category\n",
      " 2   age         395 non-null    int64   \n",
      " 3   address     395 non-null    category\n",
      " 4   famsize     395 non-null    category\n",
      " 5   Pstatus     395 non-null    int32   \n",
      " 6   Medu        395 non-null    int64   \n",
      " 7   Fedu        395 non-null    int64   \n",
      " 8   Mjob        395 non-null    category\n",
      " 9   Fjob        395 non-null    category\n",
      " 10  reason      395 non-null    category\n",
      " 11  guardian    395 non-null    category\n",
      " 12  traveltime  395 non-null    int64   \n",
      " 13  studytime   395 non-null    int64   \n",
      " 14  failures    395 non-null    int64   \n",
      " 15  schoolsup   395 non-null    category\n",
      " 16  famsup      395 non-null    category\n",
      " 17  paid        395 non-null    category\n",
      " 18  activities  395 non-null    category\n",
      " 19  nursery     395 non-null    category\n",
      " 20  higher      395 non-null    int32   \n",
      " 21  internet    395 non-null    category\n",
      " 22  romantic    395 non-null    category\n",
      " 23  famrel      395 non-null    int64   \n",
      " 24  freetime    395 non-null    int64   \n",
      " 25  goout       395 non-null    int64   \n",
      " 26  Dalc        395 non-null    int64   \n",
      " 27  Walc        395 non-null    int64   \n",
      " 28  health      395 non-null    int64   \n",
      " 29  absences    395 non-null    int64   \n",
      " 30  G1          395 non-null    int64   \n",
      " 31  G2          395 non-null    int64   \n",
      " 32  G3          395 non-null    int64   \n",
      " 33  G_Mean      395 non-null    float64 \n",
      "dtypes: category(14), float64(1), int32(3), int64(16)\n",
      "memory usage: 64.6 KB\n"
     ]
    }
   ],
   "source": [
    "encode_alcdata.info()"
   ]
  },
  {
   "cell_type": "markdown",
   "id": "2e235716",
   "metadata": {},
   "source": [
    "### 3.Figure out how family relation(famrel) and parents cohabitation(Pstatus) affect grades of students."
   ]
  },
  {
   "cell_type": "code",
   "execution_count": 76,
   "id": "3f9f0a8a",
   "metadata": {},
   "outputs": [
    {
     "data": {
      "application/vnd.plotly.v1+json": {
       "config": {
        "plotlyServerURL": "https://plotly.com"
       },
       "data": [
        {
         "alignmentgroup": "True",
         "hovertemplate": "Pstatus=%{x}<br>G_Mean=%{y}<extra></extra>",
         "legendgroup": "A",
         "marker": {
          "color": "#636efa"
         },
         "name": "A",
         "notched": false,
         "offsetgroup": "A",
         "orientation": "v",
         "showlegend": true,
         "type": "box",
         "x": [
          "A",
          "A",
          "A",
          "A",
          "A",
          "A",
          "A",
          "A",
          "A",
          "A",
          "A",
          "A",
          "A",
          "A",
          "A",
          "A",
          "A",
          "A",
          "A",
          "A",
          "A",
          "A",
          "A",
          "A",
          "A",
          "A",
          "A",
          "A",
          "A",
          "A",
          "A",
          "A",
          "A",
          "A",
          "A",
          "A",
          "A",
          "A",
          "A",
          "A",
          "A"
         ],
         "x0": " ",
         "xaxis": "x",
         "y": [
          5.666666666666667,
          5.666666666666667,
          17.666666666666668,
          15.333333333333334,
          11,
          15.333333333333334,
          7.333333333333333,
          11.333333333333334,
          10.666666666666666,
          12,
          9,
          14.666666666666666,
          12.666666666666666,
          7,
          17.333333333333332,
          10.666666666666666,
          18.666666666666668,
          9.333333333333334,
          11.333333333333334,
          1.3333333333333333,
          9,
          8,
          7,
          13,
          11.333333333333334,
          11,
          11,
          17,
          9.333333333333334,
          8,
          10,
          14.333333333333334,
          11,
          17.666666666666668,
          13,
          13.333333333333334,
          9.666666666666666,
          5.666666666666667,
          11.666666666666666,
          13,
          9
         ],
         "y0": " ",
         "yaxis": "y"
        },
        {
         "alignmentgroup": "True",
         "hovertemplate": "Pstatus=%{x}<br>G_Mean=%{y}<extra></extra>",
         "legendgroup": "T",
         "marker": {
          "color": "#EF553B"
         },
         "name": "T",
         "notched": false,
         "offsetgroup": "T",
         "orientation": "v",
         "showlegend": true,
         "type": "box",
         "x": [
          "T",
          "T",
          "T",
          "T",
          "T",
          "T",
          "T",
          "T",
          "T",
          "T",
          "T",
          "T",
          "T",
          "T",
          "T",
          "T",
          "T",
          "T",
          "T",
          "T",
          "T",
          "T",
          "T",
          "T",
          "T",
          "T",
          "T",
          "T",
          "T",
          "T",
          "T",
          "T",
          "T",
          "T",
          "T",
          "T",
          "T",
          "T",
          "T",
          "T",
          "T",
          "T",
          "T",
          "T",
          "T",
          "T",
          "T",
          "T",
          "T",
          "T",
          "T",
          "T",
          "T",
          "T",
          "T",
          "T",
          "T",
          "T",
          "T",
          "T",
          "T",
          "T",
          "T",
          "T",
          "T",
          "T",
          "T",
          "T",
          "T",
          "T",
          "T",
          "T",
          "T",
          "T",
          "T",
          "T",
          "T",
          "T",
          "T",
          "T",
          "T",
          "T",
          "T",
          "T",
          "T",
          "T",
          "T",
          "T",
          "T",
          "T",
          "T",
          "T",
          "T",
          "T",
          "T",
          "T",
          "T",
          "T",
          "T",
          "T",
          "T",
          "T",
          "T",
          "T",
          "T",
          "T",
          "T",
          "T",
          "T",
          "T",
          "T",
          "T",
          "T",
          "T",
          "T",
          "T",
          "T",
          "T",
          "T",
          "T",
          "T",
          "T",
          "T",
          "T",
          "T",
          "T",
          "T",
          "T",
          "T",
          "T",
          "T",
          "T",
          "T",
          "T",
          "T",
          "T",
          "T",
          "T",
          "T",
          "T",
          "T",
          "T",
          "T",
          "T",
          "T",
          "T",
          "T",
          "T",
          "T",
          "T",
          "T",
          "T",
          "T",
          "T",
          "T",
          "T",
          "T",
          "T",
          "T",
          "T",
          "T",
          "T",
          "T",
          "T",
          "T",
          "T",
          "T",
          "T",
          "T",
          "T",
          "T",
          "T",
          "T",
          "T",
          "T",
          "T",
          "T",
          "T",
          "T",
          "T",
          "T",
          "T",
          "T",
          "T",
          "T",
          "T",
          "T",
          "T",
          "T",
          "T",
          "T",
          "T",
          "T",
          "T",
          "T",
          "T",
          "T",
          "T",
          "T",
          "T",
          "T",
          "T",
          "T",
          "T",
          "T",
          "T",
          "T",
          "T",
          "T",
          "T",
          "T",
          "T",
          "T",
          "T",
          "T",
          "T",
          "T",
          "T",
          "T",
          "T",
          "T",
          "T",
          "T",
          "T",
          "T",
          "T",
          "T",
          "T",
          "T",
          "T",
          "T",
          "T",
          "T",
          "T",
          "T",
          "T",
          "T",
          "T",
          "T",
          "T",
          "T",
          "T",
          "T",
          "T",
          "T",
          "T",
          "T",
          "T",
          "T",
          "T",
          "T",
          "T",
          "T",
          "T",
          "T",
          "T",
          "T",
          "T",
          "T",
          "T",
          "T",
          "T",
          "T",
          "T",
          "T",
          "T",
          "T",
          "T",
          "T",
          "T",
          "T",
          "T",
          "T",
          "T",
          "T",
          "T",
          "T",
          "T",
          "T",
          "T",
          "T",
          "T",
          "T",
          "T",
          "T",
          "T",
          "T",
          "T",
          "T",
          "T",
          "T",
          "T",
          "T",
          "T",
          "T",
          "T",
          "T",
          "T",
          "T",
          "T",
          "T",
          "T",
          "T",
          "T",
          "T",
          "T",
          "T",
          "T",
          "T",
          "T",
          "T",
          "T",
          "T",
          "T",
          "T",
          "T",
          "T",
          "T",
          "T",
          "T",
          "T",
          "T",
          "T",
          "T",
          "T",
          "T",
          "T",
          "T",
          "T",
          "T",
          "T",
          "T",
          "T",
          "T",
          "T",
          "T",
          "T",
          "T",
          "T",
          "T",
          "T",
          "T",
          "T",
          "T",
          "T",
          "T",
          "T",
          "T",
          "T",
          "T",
          "T",
          "T",
          "T",
          "T"
         ],
         "x0": " ",
         "xaxis": "x",
         "y": [
          5.333333333333333,
          8.333333333333334,
          14.666666666666666,
          8.666666666666666,
          15,
          11.666666666666666,
          14.666666666666666,
          9,
          11.333333333333334,
          14,
          10.333333333333334,
          14,
          13.666666666666666,
          9.333333333333334,
          5.333333333333333,
          9.333333333333334,
          14,
          14,
          15.333333333333334,
          12.666666666666666,
          9,
          7.666666666666667,
          11.666666666666666,
          15.333333333333334,
          11,
          10.666666666666666,
          16.666666666666668,
          16.333333333333332,
          10,
          13.666666666666666,
          7,
          16.333333333333332,
          11.666666666666666,
          13.333333333333334,
          9.333333333333334,
          12,
          18.333333333333332,
          9,
          9.666666666666666,
          19.333333333333332,
          14.666666666666666,
          7,
          12.666666666666666,
          12.333333333333334,
          9.666666666666666,
          14.666666666666666,
          9.333333333333334,
          15.666666666666666,
          10.666666666666666,
          9.666666666666666,
          9,
          9.333333333333334,
          10,
          15.333333333333334,
          6.666666666666667,
          8.333333333333334,
          16,
          14.333333333333334,
          10,
          6.333333333333333,
          12.666666666666666,
          11.333333333333334,
          9.333333333333334,
          10.666666666666666,
          11,
          8.666666666666666,
          5,
          11.333333333333334,
          10.666666666666666,
          6.333333333333333,
          15,
          9.666666666666666,
          8,
          7,
          13.666666666666666,
          10.333333333333334,
          7.333333333333333,
          17,
          6.333333333333333,
          10.333333333333334,
          12.666666666666666,
          9,
          13.666666666666666,
          9,
          13,
          8,
          6.333333333333333,
          16.666666666666668,
          12.333333333333334,
          6.333333333333333,
          7.666666666666667,
          17.333333333333332,
          12,
          15,
          9,
          12,
          18.666666666666668,
          9,
          15.333333333333334,
          12.666666666666666,
          13.333333333333334,
          8,
          13.333333333333334,
          15.333333333333334,
          15,
          13,
          12.666666666666666,
          7.666666666666667,
          12.666666666666666,
          8,
          3.6666666666666665,
          18,
          4,
          2.6666666666666665,
          11.666666666666666,
          3,
          3.6666666666666665,
          3.3333333333333335,
          12.666666666666666,
          15.666666666666666,
          5.333333333333333,
          9,
          10.333333333333334,
          13.666666666666666,
          1.6666666666666667,
          10,
          4.333333333333333,
          10.666666666666666,
          4.333333333333333,
          3.6666666666666665,
          13,
          10,
          1.6666666666666667,
          11.333333333333334,
          9,
          13.666666666666666,
          9,
          15.666666666666666,
          11.333333333333334,
          4.333333333333333,
          7,
          2.3333333333333335,
          10,
          6.666666666666667,
          11.666666666666666,
          10,
          15,
          4.333333333333333,
          14,
          3.6666666666666665,
          14.666666666666666,
          11.333333333333334,
          5,
          10,
          9.333333333333334,
          12.333333333333334,
          5.666666666666667,
          9,
          10.333333333333334,
          8.333333333333334,
          12.333333333333334,
          16.666666666666668,
          8.666666666666666,
          12.333333333333334,
          11.666666666666666,
          11.333333333333334,
          15,
          9,
          12,
          8.333333333333334,
          7.666666666666667,
          9,
          13.666666666666666,
          14.666666666666666,
          16,
          9.333333333333334,
          18,
          9.333333333333334,
          16,
          9.333333333333334,
          9.333333333333334,
          6.333333333333333,
          10.333333333333334,
          9.333333333333334,
          12,
          9.333333333333334,
          7,
          8,
          12.333333333333334,
          7,
          9.333333333333334,
          14.666666666666666,
          5.333333333333333,
          6.666666666666667,
          7.333333333333333,
          9.666666666666666,
          6,
          3.6666666666666665,
          16.333333333333332,
          12.666666666666666,
          13.333333333333334,
          8,
          15.333333333333334,
          11.666666666666666,
          9,
          13.333333333333334,
          11,
          9.666666666666666,
          13.333333333333334,
          7.333333333333333,
          10,
          13.333333333333334,
          12.333333333333334,
          11.666666666666666,
          4.666666666666667,
          12,
          2,
          12.333333333333334,
          2.3333333333333335,
          18,
          12.333333333333334,
          7.333333333333333,
          4.333333333333333,
          14.333333333333334,
          7.333333333333333,
          9,
          7.666666666666667,
          8.333333333333334,
          10.666666666666666,
          8,
          13,
          14.333333333333334,
          6.333333333333333,
          17.666666666666668,
          8,
          12.333333333333334,
          9.333333333333334,
          6.333333333333333,
          9.333333333333334,
          11,
          9.666666666666666,
          2,
          9,
          14.333333333333334,
          11,
          14.333333333333334,
          10,
          12,
          9,
          8.333333333333334,
          10.333333333333334,
          12,
          9,
          10,
          11,
          18.333333333333332,
          12.333333333333334,
          14.333333333333334,
          11.333333333333334,
          15,
          12.333333333333334,
          18,
          13.666666666666666,
          12.333333333333334,
          6.333333333333333,
          8.666666666666666,
          13.666666666666666,
          15.666666666666666,
          10.666666666666666,
          13.666666666666666,
          17.333333333333332,
          14,
          12.666666666666666,
          8.333333333333334,
          13,
          10.666666666666666,
          6,
          13,
          11.666666666666666,
          11.333333333333334,
          13.666666666666666,
          11.666666666666666,
          5.333333333333333,
          9.333333333333334,
          10.666666666666666,
          11,
          9.666666666666666,
          11,
          13.666666666666666,
          15.333333333333334,
          10.666666666666666,
          15,
          10.333333333333334,
          9.333333333333334,
          14,
          8.333333333333334,
          13.333333333333334,
          2.3333333333333335,
          5.333333333333333,
          6.333333333333333,
          15.333333333333334,
          5,
          16,
          11.333333333333334,
          6.666666666666667,
          15.333333333333334,
          10.333333333333334,
          13.333333333333334,
          15.666666666666666,
          9.666666666666666,
          14.333333333333334,
          12.333333333333334,
          7.666666666666667,
          13,
          7.666666666666667,
          8,
          11.666666666666666,
          9.333333333333334,
          12.666666666666666,
          10,
          16.666666666666668,
          12.333333333333334,
          10.666666666666666,
          15.333333333333334,
          11.666666666666666,
          10,
          13,
          4.333333333333333,
          10.333333333333334,
          12.333333333333334,
          7.666666666666667,
          12.666666666666666,
          11.666666666666666,
          5.333333333333333,
          18.666666666666668,
          8.666666666666666,
          14.666666666666666,
          9,
          15,
          10,
          14.333333333333334,
          6.666666666666667,
          10.666666666666666,
          3.6666666666666665,
          5.333333333333333,
          9.666666666666666,
          5.666666666666667,
          4,
          8,
          3.6666666666666665,
          15.333333333333334,
          8.333333333333334,
          11,
          8.666666666666666
         ],
         "y0": " ",
         "yaxis": "y"
        }
       ],
       "layout": {
        "boxmode": "overlay",
        "height": 350,
        "legend": {
         "title": {
          "text": "Pstatus"
         },
         "tracegroupgap": 0
        },
        "template": {
         "data": {
          "bar": [
           {
            "error_x": {
             "color": "#2a3f5f"
            },
            "error_y": {
             "color": "#2a3f5f"
            },
            "marker": {
             "line": {
              "color": "#E5ECF6",
              "width": 0.5
             }
            },
            "type": "bar"
           }
          ],
          "barpolar": [
           {
            "marker": {
             "line": {
              "color": "#E5ECF6",
              "width": 0.5
             }
            },
            "type": "barpolar"
           }
          ],
          "carpet": [
           {
            "aaxis": {
             "endlinecolor": "#2a3f5f",
             "gridcolor": "white",
             "linecolor": "white",
             "minorgridcolor": "white",
             "startlinecolor": "#2a3f5f"
            },
            "baxis": {
             "endlinecolor": "#2a3f5f",
             "gridcolor": "white",
             "linecolor": "white",
             "minorgridcolor": "white",
             "startlinecolor": "#2a3f5f"
            },
            "type": "carpet"
           }
          ],
          "choropleth": [
           {
            "colorbar": {
             "outlinewidth": 0,
             "ticks": ""
            },
            "type": "choropleth"
           }
          ],
          "contour": [
           {
            "colorbar": {
             "outlinewidth": 0,
             "ticks": ""
            },
            "colorscale": [
             [
              0,
              "#0d0887"
             ],
             [
              0.1111111111111111,
              "#46039f"
             ],
             [
              0.2222222222222222,
              "#7201a8"
             ],
             [
              0.3333333333333333,
              "#9c179e"
             ],
             [
              0.4444444444444444,
              "#bd3786"
             ],
             [
              0.5555555555555556,
              "#d8576b"
             ],
             [
              0.6666666666666666,
              "#ed7953"
             ],
             [
              0.7777777777777778,
              "#fb9f3a"
             ],
             [
              0.8888888888888888,
              "#fdca26"
             ],
             [
              1,
              "#f0f921"
             ]
            ],
            "type": "contour"
           }
          ],
          "contourcarpet": [
           {
            "colorbar": {
             "outlinewidth": 0,
             "ticks": ""
            },
            "type": "contourcarpet"
           }
          ],
          "heatmap": [
           {
            "colorbar": {
             "outlinewidth": 0,
             "ticks": ""
            },
            "colorscale": [
             [
              0,
              "#0d0887"
             ],
             [
              0.1111111111111111,
              "#46039f"
             ],
             [
              0.2222222222222222,
              "#7201a8"
             ],
             [
              0.3333333333333333,
              "#9c179e"
             ],
             [
              0.4444444444444444,
              "#bd3786"
             ],
             [
              0.5555555555555556,
              "#d8576b"
             ],
             [
              0.6666666666666666,
              "#ed7953"
             ],
             [
              0.7777777777777778,
              "#fb9f3a"
             ],
             [
              0.8888888888888888,
              "#fdca26"
             ],
             [
              1,
              "#f0f921"
             ]
            ],
            "type": "heatmap"
           }
          ],
          "heatmapgl": [
           {
            "colorbar": {
             "outlinewidth": 0,
             "ticks": ""
            },
            "colorscale": [
             [
              0,
              "#0d0887"
             ],
             [
              0.1111111111111111,
              "#46039f"
             ],
             [
              0.2222222222222222,
              "#7201a8"
             ],
             [
              0.3333333333333333,
              "#9c179e"
             ],
             [
              0.4444444444444444,
              "#bd3786"
             ],
             [
              0.5555555555555556,
              "#d8576b"
             ],
             [
              0.6666666666666666,
              "#ed7953"
             ],
             [
              0.7777777777777778,
              "#fb9f3a"
             ],
             [
              0.8888888888888888,
              "#fdca26"
             ],
             [
              1,
              "#f0f921"
             ]
            ],
            "type": "heatmapgl"
           }
          ],
          "histogram": [
           {
            "marker": {
             "colorbar": {
              "outlinewidth": 0,
              "ticks": ""
             }
            },
            "type": "histogram"
           }
          ],
          "histogram2d": [
           {
            "colorbar": {
             "outlinewidth": 0,
             "ticks": ""
            },
            "colorscale": [
             [
              0,
              "#0d0887"
             ],
             [
              0.1111111111111111,
              "#46039f"
             ],
             [
              0.2222222222222222,
              "#7201a8"
             ],
             [
              0.3333333333333333,
              "#9c179e"
             ],
             [
              0.4444444444444444,
              "#bd3786"
             ],
             [
              0.5555555555555556,
              "#d8576b"
             ],
             [
              0.6666666666666666,
              "#ed7953"
             ],
             [
              0.7777777777777778,
              "#fb9f3a"
             ],
             [
              0.8888888888888888,
              "#fdca26"
             ],
             [
              1,
              "#f0f921"
             ]
            ],
            "type": "histogram2d"
           }
          ],
          "histogram2dcontour": [
           {
            "colorbar": {
             "outlinewidth": 0,
             "ticks": ""
            },
            "colorscale": [
             [
              0,
              "#0d0887"
             ],
             [
              0.1111111111111111,
              "#46039f"
             ],
             [
              0.2222222222222222,
              "#7201a8"
             ],
             [
              0.3333333333333333,
              "#9c179e"
             ],
             [
              0.4444444444444444,
              "#bd3786"
             ],
             [
              0.5555555555555556,
              "#d8576b"
             ],
             [
              0.6666666666666666,
              "#ed7953"
             ],
             [
              0.7777777777777778,
              "#fb9f3a"
             ],
             [
              0.8888888888888888,
              "#fdca26"
             ],
             [
              1,
              "#f0f921"
             ]
            ],
            "type": "histogram2dcontour"
           }
          ],
          "mesh3d": [
           {
            "colorbar": {
             "outlinewidth": 0,
             "ticks": ""
            },
            "type": "mesh3d"
           }
          ],
          "parcoords": [
           {
            "line": {
             "colorbar": {
              "outlinewidth": 0,
              "ticks": ""
             }
            },
            "type": "parcoords"
           }
          ],
          "pie": [
           {
            "automargin": true,
            "type": "pie"
           }
          ],
          "scatter": [
           {
            "marker": {
             "colorbar": {
              "outlinewidth": 0,
              "ticks": ""
             }
            },
            "type": "scatter"
           }
          ],
          "scatter3d": [
           {
            "line": {
             "colorbar": {
              "outlinewidth": 0,
              "ticks": ""
             }
            },
            "marker": {
             "colorbar": {
              "outlinewidth": 0,
              "ticks": ""
             }
            },
            "type": "scatter3d"
           }
          ],
          "scattercarpet": [
           {
            "marker": {
             "colorbar": {
              "outlinewidth": 0,
              "ticks": ""
             }
            },
            "type": "scattercarpet"
           }
          ],
          "scattergeo": [
           {
            "marker": {
             "colorbar": {
              "outlinewidth": 0,
              "ticks": ""
             }
            },
            "type": "scattergeo"
           }
          ],
          "scattergl": [
           {
            "marker": {
             "colorbar": {
              "outlinewidth": 0,
              "ticks": ""
             }
            },
            "type": "scattergl"
           }
          ],
          "scattermapbox": [
           {
            "marker": {
             "colorbar": {
              "outlinewidth": 0,
              "ticks": ""
             }
            },
            "type": "scattermapbox"
           }
          ],
          "scatterpolar": [
           {
            "marker": {
             "colorbar": {
              "outlinewidth": 0,
              "ticks": ""
             }
            },
            "type": "scatterpolar"
           }
          ],
          "scatterpolargl": [
           {
            "marker": {
             "colorbar": {
              "outlinewidth": 0,
              "ticks": ""
             }
            },
            "type": "scatterpolargl"
           }
          ],
          "scatterternary": [
           {
            "marker": {
             "colorbar": {
              "outlinewidth": 0,
              "ticks": ""
             }
            },
            "type": "scatterternary"
           }
          ],
          "surface": [
           {
            "colorbar": {
             "outlinewidth": 0,
             "ticks": ""
            },
            "colorscale": [
             [
              0,
              "#0d0887"
             ],
             [
              0.1111111111111111,
              "#46039f"
             ],
             [
              0.2222222222222222,
              "#7201a8"
             ],
             [
              0.3333333333333333,
              "#9c179e"
             ],
             [
              0.4444444444444444,
              "#bd3786"
             ],
             [
              0.5555555555555556,
              "#d8576b"
             ],
             [
              0.6666666666666666,
              "#ed7953"
             ],
             [
              0.7777777777777778,
              "#fb9f3a"
             ],
             [
              0.8888888888888888,
              "#fdca26"
             ],
             [
              1,
              "#f0f921"
             ]
            ],
            "type": "surface"
           }
          ],
          "table": [
           {
            "cells": {
             "fill": {
              "color": "#EBF0F8"
             },
             "line": {
              "color": "white"
             }
            },
            "header": {
             "fill": {
              "color": "#C8D4E3"
             },
             "line": {
              "color": "white"
             }
            },
            "type": "table"
           }
          ]
         },
         "layout": {
          "annotationdefaults": {
           "arrowcolor": "#2a3f5f",
           "arrowhead": 0,
           "arrowwidth": 1
          },
          "autotypenumbers": "strict",
          "coloraxis": {
           "colorbar": {
            "outlinewidth": 0,
            "ticks": ""
           }
          },
          "colorscale": {
           "diverging": [
            [
             0,
             "#8e0152"
            ],
            [
             0.1,
             "#c51b7d"
            ],
            [
             0.2,
             "#de77ae"
            ],
            [
             0.3,
             "#f1b6da"
            ],
            [
             0.4,
             "#fde0ef"
            ],
            [
             0.5,
             "#f7f7f7"
            ],
            [
             0.6,
             "#e6f5d0"
            ],
            [
             0.7,
             "#b8e186"
            ],
            [
             0.8,
             "#7fbc41"
            ],
            [
             0.9,
             "#4d9221"
            ],
            [
             1,
             "#276419"
            ]
           ],
           "sequential": [
            [
             0,
             "#0d0887"
            ],
            [
             0.1111111111111111,
             "#46039f"
            ],
            [
             0.2222222222222222,
             "#7201a8"
            ],
            [
             0.3333333333333333,
             "#9c179e"
            ],
            [
             0.4444444444444444,
             "#bd3786"
            ],
            [
             0.5555555555555556,
             "#d8576b"
            ],
            [
             0.6666666666666666,
             "#ed7953"
            ],
            [
             0.7777777777777778,
             "#fb9f3a"
            ],
            [
             0.8888888888888888,
             "#fdca26"
            ],
            [
             1,
             "#f0f921"
            ]
           ],
           "sequentialminus": [
            [
             0,
             "#0d0887"
            ],
            [
             0.1111111111111111,
             "#46039f"
            ],
            [
             0.2222222222222222,
             "#7201a8"
            ],
            [
             0.3333333333333333,
             "#9c179e"
            ],
            [
             0.4444444444444444,
             "#bd3786"
            ],
            [
             0.5555555555555556,
             "#d8576b"
            ],
            [
             0.6666666666666666,
             "#ed7953"
            ],
            [
             0.7777777777777778,
             "#fb9f3a"
            ],
            [
             0.8888888888888888,
             "#fdca26"
            ],
            [
             1,
             "#f0f921"
            ]
           ]
          },
          "colorway": [
           "#636efa",
           "#EF553B",
           "#00cc96",
           "#ab63fa",
           "#FFA15A",
           "#19d3f3",
           "#FF6692",
           "#B6E880",
           "#FF97FF",
           "#FECB52"
          ],
          "font": {
           "color": "#2a3f5f"
          },
          "geo": {
           "bgcolor": "white",
           "lakecolor": "white",
           "landcolor": "#E5ECF6",
           "showlakes": true,
           "showland": true,
           "subunitcolor": "white"
          },
          "hoverlabel": {
           "align": "left"
          },
          "hovermode": "closest",
          "mapbox": {
           "style": "light"
          },
          "paper_bgcolor": "white",
          "plot_bgcolor": "#E5ECF6",
          "polar": {
           "angularaxis": {
            "gridcolor": "white",
            "linecolor": "white",
            "ticks": ""
           },
           "bgcolor": "#E5ECF6",
           "radialaxis": {
            "gridcolor": "white",
            "linecolor": "white",
            "ticks": ""
           }
          },
          "scene": {
           "xaxis": {
            "backgroundcolor": "#E5ECF6",
            "gridcolor": "white",
            "gridwidth": 2,
            "linecolor": "white",
            "showbackground": true,
            "ticks": "",
            "zerolinecolor": "white"
           },
           "yaxis": {
            "backgroundcolor": "#E5ECF6",
            "gridcolor": "white",
            "gridwidth": 2,
            "linecolor": "white",
            "showbackground": true,
            "ticks": "",
            "zerolinecolor": "white"
           },
           "zaxis": {
            "backgroundcolor": "#E5ECF6",
            "gridcolor": "white",
            "gridwidth": 2,
            "linecolor": "white",
            "showbackground": true,
            "ticks": "",
            "zerolinecolor": "white"
           }
          },
          "shapedefaults": {
           "line": {
            "color": "#2a3f5f"
           }
          },
          "ternary": {
           "aaxis": {
            "gridcolor": "white",
            "linecolor": "white",
            "ticks": ""
           },
           "baxis": {
            "gridcolor": "white",
            "linecolor": "white",
            "ticks": ""
           },
           "bgcolor": "#E5ECF6",
           "caxis": {
            "gridcolor": "white",
            "linecolor": "white",
            "ticks": ""
           }
          },
          "title": {
           "x": 0.05
          },
          "xaxis": {
           "automargin": true,
           "gridcolor": "white",
           "linecolor": "white",
           "ticks": "",
           "title": {
            "standoff": 15
           },
           "zerolinecolor": "white",
           "zerolinewidth": 2
          },
          "yaxis": {
           "automargin": true,
           "gridcolor": "white",
           "linecolor": "white",
           "ticks": "",
           "title": {
            "standoff": 15
           },
           "zerolinecolor": "white",
           "zerolinewidth": 2
          }
         }
        },
        "title": {
         "text": "G Mean Vs Pstatus"
        },
        "width": 510,
        "xaxis": {
         "anchor": "y",
         "categoryarray": [
          "A",
          "T"
         ],
         "categoryorder": "array",
         "domain": [
          0,
          1
         ],
         "title": {
          "text": "Pstatus"
         }
        },
        "yaxis": {
         "anchor": "x",
         "domain": [
          0,
          1
         ],
         "title": {
          "text": "G_Mean"
         }
        }
       }
      },
      "text/html": [
       "<div>                            <div id=\"a51faab4-8999-421f-a171-819ac1bf6ac4\" class=\"plotly-graph-div\" style=\"height:350px; width:510px;\"></div>            <script type=\"text/javascript\">                require([\"plotly\"], function(Plotly) {                    window.PLOTLYENV=window.PLOTLYENV || {};                                    if (document.getElementById(\"a51faab4-8999-421f-a171-819ac1bf6ac4\")) {                    Plotly.newPlot(                        \"a51faab4-8999-421f-a171-819ac1bf6ac4\",                        [{\"alignmentgroup\": \"True\", \"hovertemplate\": \"Pstatus=%{x}<br>G_Mean=%{y}<extra></extra>\", \"legendgroup\": \"A\", \"marker\": {\"color\": \"#636efa\"}, \"name\": \"A\", \"notched\": false, \"offsetgroup\": \"A\", \"orientation\": \"v\", \"showlegend\": true, \"type\": \"box\", \"x\": [\"A\", \"A\", \"A\", \"A\", \"A\", \"A\", \"A\", \"A\", \"A\", \"A\", \"A\", \"A\", \"A\", \"A\", \"A\", \"A\", \"A\", \"A\", \"A\", \"A\", \"A\", \"A\", \"A\", \"A\", \"A\", \"A\", \"A\", \"A\", \"A\", \"A\", \"A\", \"A\", \"A\", \"A\", \"A\", \"A\", \"A\", \"A\", \"A\", \"A\", \"A\"], \"x0\": \" \", \"xaxis\": \"x\", \"y\": [5.666666666666667, 5.666666666666667, 17.666666666666668, 15.333333333333334, 11.0, 15.333333333333334, 7.333333333333333, 11.333333333333334, 10.666666666666666, 12.0, 9.0, 14.666666666666666, 12.666666666666666, 7.0, 17.333333333333332, 10.666666666666666, 18.666666666666668, 9.333333333333334, 11.333333333333334, 1.3333333333333333, 9.0, 8.0, 7.0, 13.0, 11.333333333333334, 11.0, 11.0, 17.0, 9.333333333333334, 8.0, 10.0, 14.333333333333334, 11.0, 17.666666666666668, 13.0, 13.333333333333334, 9.666666666666666, 5.666666666666667, 11.666666666666666, 13.0, 9.0], \"y0\": \" \", \"yaxis\": \"y\"}, {\"alignmentgroup\": \"True\", \"hovertemplate\": \"Pstatus=%{x}<br>G_Mean=%{y}<extra></extra>\", \"legendgroup\": \"T\", \"marker\": {\"color\": \"#EF553B\"}, \"name\": \"T\", \"notched\": false, \"offsetgroup\": \"T\", \"orientation\": \"v\", \"showlegend\": true, \"type\": \"box\", \"x\": [\"T\", \"T\", \"T\", \"T\", \"T\", \"T\", \"T\", \"T\", \"T\", \"T\", \"T\", \"T\", \"T\", \"T\", \"T\", \"T\", \"T\", \"T\", \"T\", \"T\", \"T\", \"T\", \"T\", \"T\", \"T\", \"T\", \"T\", \"T\", \"T\", \"T\", \"T\", \"T\", \"T\", \"T\", \"T\", \"T\", \"T\", \"T\", \"T\", \"T\", \"T\", \"T\", \"T\", \"T\", \"T\", \"T\", \"T\", \"T\", \"T\", \"T\", \"T\", \"T\", \"T\", \"T\", \"T\", \"T\", \"T\", \"T\", \"T\", \"T\", \"T\", \"T\", \"T\", \"T\", \"T\", \"T\", \"T\", \"T\", \"T\", \"T\", \"T\", \"T\", \"T\", \"T\", \"T\", \"T\", \"T\", \"T\", \"T\", \"T\", \"T\", \"T\", \"T\", \"T\", \"T\", \"T\", \"T\", \"T\", \"T\", \"T\", \"T\", \"T\", \"T\", \"T\", \"T\", \"T\", \"T\", \"T\", \"T\", \"T\", \"T\", \"T\", \"T\", \"T\", \"T\", \"T\", \"T\", \"T\", \"T\", \"T\", \"T\", \"T\", \"T\", \"T\", \"T\", \"T\", \"T\", \"T\", \"T\", \"T\", \"T\", \"T\", \"T\", \"T\", \"T\", \"T\", \"T\", \"T\", \"T\", \"T\", \"T\", \"T\", \"T\", \"T\", \"T\", \"T\", \"T\", \"T\", \"T\", \"T\", \"T\", \"T\", \"T\", \"T\", \"T\", \"T\", \"T\", \"T\", \"T\", \"T\", \"T\", \"T\", \"T\", \"T\", \"T\", \"T\", \"T\", \"T\", \"T\", \"T\", \"T\", \"T\", \"T\", \"T\", \"T\", \"T\", \"T\", \"T\", \"T\", \"T\", \"T\", \"T\", \"T\", \"T\", \"T\", \"T\", \"T\", \"T\", \"T\", \"T\", \"T\", \"T\", \"T\", \"T\", \"T\", \"T\", \"T\", \"T\", \"T\", \"T\", \"T\", \"T\", \"T\", \"T\", \"T\", \"T\", \"T\", \"T\", \"T\", \"T\", \"T\", \"T\", \"T\", \"T\", \"T\", \"T\", \"T\", \"T\", \"T\", \"T\", \"T\", \"T\", \"T\", \"T\", \"T\", \"T\", \"T\", \"T\", \"T\", \"T\", \"T\", \"T\", \"T\", \"T\", \"T\", \"T\", \"T\", \"T\", \"T\", \"T\", \"T\", \"T\", \"T\", \"T\", \"T\", \"T\", \"T\", \"T\", \"T\", \"T\", \"T\", \"T\", \"T\", \"T\", \"T\", \"T\", \"T\", \"T\", \"T\", \"T\", \"T\", \"T\", \"T\", \"T\", \"T\", \"T\", \"T\", \"T\", \"T\", \"T\", \"T\", \"T\", \"T\", \"T\", \"T\", \"T\", \"T\", \"T\", \"T\", \"T\", \"T\", \"T\", \"T\", \"T\", \"T\", \"T\", \"T\", \"T\", \"T\", \"T\", \"T\", \"T\", \"T\", \"T\", \"T\", \"T\", \"T\", \"T\", \"T\", \"T\", \"T\", \"T\", \"T\", \"T\", \"T\", \"T\", \"T\", \"T\", \"T\", \"T\", \"T\", \"T\", \"T\", \"T\", \"T\", \"T\", \"T\", \"T\", \"T\", \"T\", \"T\", \"T\", \"T\", \"T\", \"T\", \"T\", \"T\", \"T\", \"T\", \"T\", \"T\", \"T\", \"T\", \"T\", \"T\", \"T\", \"T\", \"T\", \"T\", \"T\", \"T\", \"T\", \"T\", \"T\", \"T\", \"T\", \"T\", \"T\", \"T\", \"T\", \"T\", \"T\", \"T\", \"T\", \"T\", \"T\", \"T\", \"T\", \"T\", \"T\", \"T\", \"T\", \"T\", \"T\"], \"x0\": \" \", \"xaxis\": \"x\", \"y\": [5.333333333333333, 8.333333333333334, 14.666666666666666, 8.666666666666666, 15.0, 11.666666666666666, 14.666666666666666, 9.0, 11.333333333333334, 14.0, 10.333333333333334, 14.0, 13.666666666666666, 9.333333333333334, 5.333333333333333, 9.333333333333334, 14.0, 14.0, 15.333333333333334, 12.666666666666666, 9.0, 7.666666666666667, 11.666666666666666, 15.333333333333334, 11.0, 10.666666666666666, 16.666666666666668, 16.333333333333332, 10.0, 13.666666666666666, 7.0, 16.333333333333332, 11.666666666666666, 13.333333333333334, 9.333333333333334, 12.0, 18.333333333333332, 9.0, 9.666666666666666, 19.333333333333332, 14.666666666666666, 7.0, 12.666666666666666, 12.333333333333334, 9.666666666666666, 14.666666666666666, 9.333333333333334, 15.666666666666666, 10.666666666666666, 9.666666666666666, 9.0, 9.333333333333334, 10.0, 15.333333333333334, 6.666666666666667, 8.333333333333334, 16.0, 14.333333333333334, 10.0, 6.333333333333333, 12.666666666666666, 11.333333333333334, 9.333333333333334, 10.666666666666666, 11.0, 8.666666666666666, 5.0, 11.333333333333334, 10.666666666666666, 6.333333333333333, 15.0, 9.666666666666666, 8.0, 7.0, 13.666666666666666, 10.333333333333334, 7.333333333333333, 17.0, 6.333333333333333, 10.333333333333334, 12.666666666666666, 9.0, 13.666666666666666, 9.0, 13.0, 8.0, 6.333333333333333, 16.666666666666668, 12.333333333333334, 6.333333333333333, 7.666666666666667, 17.333333333333332, 12.0, 15.0, 9.0, 12.0, 18.666666666666668, 9.0, 15.333333333333334, 12.666666666666666, 13.333333333333334, 8.0, 13.333333333333334, 15.333333333333334, 15.0, 13.0, 12.666666666666666, 7.666666666666667, 12.666666666666666, 8.0, 3.6666666666666665, 18.0, 4.0, 2.6666666666666665, 11.666666666666666, 3.0, 3.6666666666666665, 3.3333333333333335, 12.666666666666666, 15.666666666666666, 5.333333333333333, 9.0, 10.333333333333334, 13.666666666666666, 1.6666666666666667, 10.0, 4.333333333333333, 10.666666666666666, 4.333333333333333, 3.6666666666666665, 13.0, 10.0, 1.6666666666666667, 11.333333333333334, 9.0, 13.666666666666666, 9.0, 15.666666666666666, 11.333333333333334, 4.333333333333333, 7.0, 2.3333333333333335, 10.0, 6.666666666666667, 11.666666666666666, 10.0, 15.0, 4.333333333333333, 14.0, 3.6666666666666665, 14.666666666666666, 11.333333333333334, 5.0, 10.0, 9.333333333333334, 12.333333333333334, 5.666666666666667, 9.0, 10.333333333333334, 8.333333333333334, 12.333333333333334, 16.666666666666668, 8.666666666666666, 12.333333333333334, 11.666666666666666, 11.333333333333334, 15.0, 9.0, 12.0, 8.333333333333334, 7.666666666666667, 9.0, 13.666666666666666, 14.666666666666666, 16.0, 9.333333333333334, 18.0, 9.333333333333334, 16.0, 9.333333333333334, 9.333333333333334, 6.333333333333333, 10.333333333333334, 9.333333333333334, 12.0, 9.333333333333334, 7.0, 8.0, 12.333333333333334, 7.0, 9.333333333333334, 14.666666666666666, 5.333333333333333, 6.666666666666667, 7.333333333333333, 9.666666666666666, 6.0, 3.6666666666666665, 16.333333333333332, 12.666666666666666, 13.333333333333334, 8.0, 15.333333333333334, 11.666666666666666, 9.0, 13.333333333333334, 11.0, 9.666666666666666, 13.333333333333334, 7.333333333333333, 10.0, 13.333333333333334, 12.333333333333334, 11.666666666666666, 4.666666666666667, 12.0, 2.0, 12.333333333333334, 2.3333333333333335, 18.0, 12.333333333333334, 7.333333333333333, 4.333333333333333, 14.333333333333334, 7.333333333333333, 9.0, 7.666666666666667, 8.333333333333334, 10.666666666666666, 8.0, 13.0, 14.333333333333334, 6.333333333333333, 17.666666666666668, 8.0, 12.333333333333334, 9.333333333333334, 6.333333333333333, 9.333333333333334, 11.0, 9.666666666666666, 2.0, 9.0, 14.333333333333334, 11.0, 14.333333333333334, 10.0, 12.0, 9.0, 8.333333333333334, 10.333333333333334, 12.0, 9.0, 10.0, 11.0, 18.333333333333332, 12.333333333333334, 14.333333333333334, 11.333333333333334, 15.0, 12.333333333333334, 18.0, 13.666666666666666, 12.333333333333334, 6.333333333333333, 8.666666666666666, 13.666666666666666, 15.666666666666666, 10.666666666666666, 13.666666666666666, 17.333333333333332, 14.0, 12.666666666666666, 8.333333333333334, 13.0, 10.666666666666666, 6.0, 13.0, 11.666666666666666, 11.333333333333334, 13.666666666666666, 11.666666666666666, 5.333333333333333, 9.333333333333334, 10.666666666666666, 11.0, 9.666666666666666, 11.0, 13.666666666666666, 15.333333333333334, 10.666666666666666, 15.0, 10.333333333333334, 9.333333333333334, 14.0, 8.333333333333334, 13.333333333333334, 2.3333333333333335, 5.333333333333333, 6.333333333333333, 15.333333333333334, 5.0, 16.0, 11.333333333333334, 6.666666666666667, 15.333333333333334, 10.333333333333334, 13.333333333333334, 15.666666666666666, 9.666666666666666, 14.333333333333334, 12.333333333333334, 7.666666666666667, 13.0, 7.666666666666667, 8.0, 11.666666666666666, 9.333333333333334, 12.666666666666666, 10.0, 16.666666666666668, 12.333333333333334, 10.666666666666666, 15.333333333333334, 11.666666666666666, 10.0, 13.0, 4.333333333333333, 10.333333333333334, 12.333333333333334, 7.666666666666667, 12.666666666666666, 11.666666666666666, 5.333333333333333, 18.666666666666668, 8.666666666666666, 14.666666666666666, 9.0, 15.0, 10.0, 14.333333333333334, 6.666666666666667, 10.666666666666666, 3.6666666666666665, 5.333333333333333, 9.666666666666666, 5.666666666666667, 4.0, 8.0, 3.6666666666666665, 15.333333333333334, 8.333333333333334, 11.0, 8.666666666666666], \"y0\": \" \", \"yaxis\": \"y\"}],                        {\"boxmode\": \"overlay\", \"height\": 350, \"legend\": {\"title\": {\"text\": \"Pstatus\"}, \"tracegroupgap\": 0}, \"template\": {\"data\": {\"bar\": [{\"error_x\": {\"color\": \"#2a3f5f\"}, \"error_y\": {\"color\": \"#2a3f5f\"}, \"marker\": {\"line\": {\"color\": \"#E5ECF6\", \"width\": 0.5}}, \"type\": \"bar\"}], \"barpolar\": [{\"marker\": {\"line\": {\"color\": \"#E5ECF6\", \"width\": 0.5}}, \"type\": \"barpolar\"}], \"carpet\": [{\"aaxis\": {\"endlinecolor\": \"#2a3f5f\", \"gridcolor\": \"white\", \"linecolor\": \"white\", \"minorgridcolor\": \"white\", \"startlinecolor\": \"#2a3f5f\"}, \"baxis\": {\"endlinecolor\": \"#2a3f5f\", \"gridcolor\": \"white\", \"linecolor\": \"white\", \"minorgridcolor\": \"white\", \"startlinecolor\": \"#2a3f5f\"}, \"type\": \"carpet\"}], \"choropleth\": [{\"colorbar\": {\"outlinewidth\": 0, \"ticks\": \"\"}, \"type\": \"choropleth\"}], \"contour\": [{\"colorbar\": {\"outlinewidth\": 0, \"ticks\": \"\"}, \"colorscale\": [[0.0, \"#0d0887\"], [0.1111111111111111, \"#46039f\"], [0.2222222222222222, \"#7201a8\"], [0.3333333333333333, \"#9c179e\"], [0.4444444444444444, \"#bd3786\"], [0.5555555555555556, \"#d8576b\"], [0.6666666666666666, \"#ed7953\"], [0.7777777777777778, \"#fb9f3a\"], [0.8888888888888888, \"#fdca26\"], [1.0, \"#f0f921\"]], \"type\": \"contour\"}], \"contourcarpet\": [{\"colorbar\": {\"outlinewidth\": 0, \"ticks\": \"\"}, \"type\": \"contourcarpet\"}], \"heatmap\": [{\"colorbar\": {\"outlinewidth\": 0, \"ticks\": \"\"}, \"colorscale\": [[0.0, \"#0d0887\"], [0.1111111111111111, \"#46039f\"], [0.2222222222222222, \"#7201a8\"], [0.3333333333333333, \"#9c179e\"], [0.4444444444444444, \"#bd3786\"], [0.5555555555555556, \"#d8576b\"], [0.6666666666666666, \"#ed7953\"], [0.7777777777777778, \"#fb9f3a\"], [0.8888888888888888, \"#fdca26\"], [1.0, \"#f0f921\"]], \"type\": \"heatmap\"}], \"heatmapgl\": [{\"colorbar\": {\"outlinewidth\": 0, \"ticks\": \"\"}, \"colorscale\": [[0.0, \"#0d0887\"], [0.1111111111111111, \"#46039f\"], [0.2222222222222222, \"#7201a8\"], [0.3333333333333333, \"#9c179e\"], [0.4444444444444444, \"#bd3786\"], [0.5555555555555556, \"#d8576b\"], [0.6666666666666666, \"#ed7953\"], [0.7777777777777778, \"#fb9f3a\"], [0.8888888888888888, \"#fdca26\"], [1.0, \"#f0f921\"]], \"type\": \"heatmapgl\"}], \"histogram\": [{\"marker\": {\"colorbar\": {\"outlinewidth\": 0, \"ticks\": \"\"}}, \"type\": \"histogram\"}], \"histogram2d\": [{\"colorbar\": {\"outlinewidth\": 0, \"ticks\": \"\"}, \"colorscale\": [[0.0, \"#0d0887\"], [0.1111111111111111, \"#46039f\"], [0.2222222222222222, \"#7201a8\"], [0.3333333333333333, \"#9c179e\"], [0.4444444444444444, \"#bd3786\"], [0.5555555555555556, \"#d8576b\"], [0.6666666666666666, \"#ed7953\"], [0.7777777777777778, \"#fb9f3a\"], [0.8888888888888888, \"#fdca26\"], [1.0, \"#f0f921\"]], \"type\": \"histogram2d\"}], \"histogram2dcontour\": [{\"colorbar\": {\"outlinewidth\": 0, \"ticks\": \"\"}, \"colorscale\": [[0.0, \"#0d0887\"], [0.1111111111111111, \"#46039f\"], [0.2222222222222222, \"#7201a8\"], [0.3333333333333333, \"#9c179e\"], [0.4444444444444444, \"#bd3786\"], [0.5555555555555556, \"#d8576b\"], [0.6666666666666666, \"#ed7953\"], [0.7777777777777778, \"#fb9f3a\"], [0.8888888888888888, \"#fdca26\"], [1.0, \"#f0f921\"]], \"type\": \"histogram2dcontour\"}], \"mesh3d\": [{\"colorbar\": {\"outlinewidth\": 0, \"ticks\": \"\"}, \"type\": \"mesh3d\"}], \"parcoords\": [{\"line\": {\"colorbar\": {\"outlinewidth\": 0, \"ticks\": \"\"}}, \"type\": \"parcoords\"}], \"pie\": [{\"automargin\": true, \"type\": \"pie\"}], \"scatter\": [{\"marker\": {\"colorbar\": {\"outlinewidth\": 0, \"ticks\": \"\"}}, \"type\": \"scatter\"}], \"scatter3d\": [{\"line\": {\"colorbar\": {\"outlinewidth\": 0, \"ticks\": \"\"}}, \"marker\": {\"colorbar\": {\"outlinewidth\": 0, \"ticks\": \"\"}}, \"type\": \"scatter3d\"}], \"scattercarpet\": [{\"marker\": {\"colorbar\": {\"outlinewidth\": 0, \"ticks\": \"\"}}, \"type\": \"scattercarpet\"}], \"scattergeo\": [{\"marker\": {\"colorbar\": {\"outlinewidth\": 0, \"ticks\": \"\"}}, \"type\": \"scattergeo\"}], \"scattergl\": [{\"marker\": {\"colorbar\": {\"outlinewidth\": 0, \"ticks\": \"\"}}, \"type\": \"scattergl\"}], \"scattermapbox\": [{\"marker\": {\"colorbar\": {\"outlinewidth\": 0, \"ticks\": \"\"}}, \"type\": \"scattermapbox\"}], \"scatterpolar\": [{\"marker\": {\"colorbar\": {\"outlinewidth\": 0, \"ticks\": \"\"}}, \"type\": \"scatterpolar\"}], \"scatterpolargl\": [{\"marker\": {\"colorbar\": {\"outlinewidth\": 0, \"ticks\": \"\"}}, \"type\": \"scatterpolargl\"}], \"scatterternary\": [{\"marker\": {\"colorbar\": {\"outlinewidth\": 0, \"ticks\": \"\"}}, \"type\": \"scatterternary\"}], \"surface\": [{\"colorbar\": {\"outlinewidth\": 0, \"ticks\": \"\"}, \"colorscale\": [[0.0, \"#0d0887\"], [0.1111111111111111, \"#46039f\"], [0.2222222222222222, \"#7201a8\"], [0.3333333333333333, \"#9c179e\"], [0.4444444444444444, \"#bd3786\"], [0.5555555555555556, \"#d8576b\"], [0.6666666666666666, \"#ed7953\"], [0.7777777777777778, \"#fb9f3a\"], [0.8888888888888888, \"#fdca26\"], [1.0, \"#f0f921\"]], \"type\": \"surface\"}], \"table\": [{\"cells\": {\"fill\": {\"color\": \"#EBF0F8\"}, \"line\": {\"color\": \"white\"}}, \"header\": {\"fill\": {\"color\": \"#C8D4E3\"}, \"line\": {\"color\": \"white\"}}, \"type\": \"table\"}]}, \"layout\": {\"annotationdefaults\": {\"arrowcolor\": \"#2a3f5f\", \"arrowhead\": 0, \"arrowwidth\": 1}, \"autotypenumbers\": \"strict\", \"coloraxis\": {\"colorbar\": {\"outlinewidth\": 0, \"ticks\": \"\"}}, \"colorscale\": {\"diverging\": [[0, \"#8e0152\"], [0.1, \"#c51b7d\"], [0.2, \"#de77ae\"], [0.3, \"#f1b6da\"], [0.4, \"#fde0ef\"], [0.5, \"#f7f7f7\"], [0.6, \"#e6f5d0\"], [0.7, \"#b8e186\"], [0.8, \"#7fbc41\"], [0.9, \"#4d9221\"], [1, \"#276419\"]], \"sequential\": [[0.0, \"#0d0887\"], [0.1111111111111111, \"#46039f\"], [0.2222222222222222, \"#7201a8\"], [0.3333333333333333, \"#9c179e\"], [0.4444444444444444, \"#bd3786\"], [0.5555555555555556, \"#d8576b\"], [0.6666666666666666, \"#ed7953\"], [0.7777777777777778, \"#fb9f3a\"], [0.8888888888888888, \"#fdca26\"], [1.0, \"#f0f921\"]], \"sequentialminus\": [[0.0, \"#0d0887\"], [0.1111111111111111, \"#46039f\"], [0.2222222222222222, \"#7201a8\"], [0.3333333333333333, \"#9c179e\"], [0.4444444444444444, \"#bd3786\"], [0.5555555555555556, \"#d8576b\"], [0.6666666666666666, \"#ed7953\"], [0.7777777777777778, \"#fb9f3a\"], [0.8888888888888888, \"#fdca26\"], [1.0, \"#f0f921\"]]}, \"colorway\": [\"#636efa\", \"#EF553B\", \"#00cc96\", \"#ab63fa\", \"#FFA15A\", \"#19d3f3\", \"#FF6692\", \"#B6E880\", \"#FF97FF\", \"#FECB52\"], \"font\": {\"color\": \"#2a3f5f\"}, \"geo\": {\"bgcolor\": \"white\", \"lakecolor\": \"white\", \"landcolor\": \"#E5ECF6\", \"showlakes\": true, \"showland\": true, \"subunitcolor\": \"white\"}, \"hoverlabel\": {\"align\": \"left\"}, \"hovermode\": \"closest\", \"mapbox\": {\"style\": \"light\"}, \"paper_bgcolor\": \"white\", \"plot_bgcolor\": \"#E5ECF6\", \"polar\": {\"angularaxis\": {\"gridcolor\": \"white\", \"linecolor\": \"white\", \"ticks\": \"\"}, \"bgcolor\": \"#E5ECF6\", \"radialaxis\": {\"gridcolor\": \"white\", \"linecolor\": \"white\", \"ticks\": \"\"}}, \"scene\": {\"xaxis\": {\"backgroundcolor\": \"#E5ECF6\", \"gridcolor\": \"white\", \"gridwidth\": 2, \"linecolor\": \"white\", \"showbackground\": true, \"ticks\": \"\", \"zerolinecolor\": \"white\"}, \"yaxis\": {\"backgroundcolor\": \"#E5ECF6\", \"gridcolor\": \"white\", \"gridwidth\": 2, \"linecolor\": \"white\", \"showbackground\": true, \"ticks\": \"\", \"zerolinecolor\": \"white\"}, \"zaxis\": {\"backgroundcolor\": \"#E5ECF6\", \"gridcolor\": \"white\", \"gridwidth\": 2, \"linecolor\": \"white\", \"showbackground\": true, \"ticks\": \"\", \"zerolinecolor\": \"white\"}}, \"shapedefaults\": {\"line\": {\"color\": \"#2a3f5f\"}}, \"ternary\": {\"aaxis\": {\"gridcolor\": \"white\", \"linecolor\": \"white\", \"ticks\": \"\"}, \"baxis\": {\"gridcolor\": \"white\", \"linecolor\": \"white\", \"ticks\": \"\"}, \"bgcolor\": \"#E5ECF6\", \"caxis\": {\"gridcolor\": \"white\", \"linecolor\": \"white\", \"ticks\": \"\"}}, \"title\": {\"x\": 0.05}, \"xaxis\": {\"automargin\": true, \"gridcolor\": \"white\", \"linecolor\": \"white\", \"ticks\": \"\", \"title\": {\"standoff\": 15}, \"zerolinecolor\": \"white\", \"zerolinewidth\": 2}, \"yaxis\": {\"automargin\": true, \"gridcolor\": \"white\", \"linecolor\": \"white\", \"ticks\": \"\", \"title\": {\"standoff\": 15}, \"zerolinecolor\": \"white\", \"zerolinewidth\": 2}}}, \"title\": {\"text\": \"G Mean Vs Pstatus\"}, \"width\": 510, \"xaxis\": {\"anchor\": \"y\", \"categoryarray\": [\"A\", \"T\"], \"categoryorder\": \"array\", \"domain\": [0.0, 1.0], \"title\": {\"text\": \"Pstatus\"}}, \"yaxis\": {\"anchor\": \"x\", \"domain\": [0.0, 1.0], \"title\": {\"text\": \"G_Mean\"}}},                        {\"responsive\": true}                    ).then(function(){\n",
       "                            \n",
       "var gd = document.getElementById('a51faab4-8999-421f-a171-819ac1bf6ac4');\n",
       "var x = new MutationObserver(function (mutations, observer) {{\n",
       "        var display = window.getComputedStyle(gd).display;\n",
       "        if (!display || display === 'none') {{\n",
       "            console.log([gd, 'removed!']);\n",
       "            Plotly.purge(gd);\n",
       "            observer.disconnect();\n",
       "        }}\n",
       "}});\n",
       "\n",
       "// Listen for the removal of the full notebook cells\n",
       "var notebookContainer = gd.closest('#notebook-container');\n",
       "if (notebookContainer) {{\n",
       "    x.observe(notebookContainer, {childList: true});\n",
       "}}\n",
       "\n",
       "// Listen for the clearing of the current output cell\n",
       "var outputEl = gd.closest('.output');\n",
       "if (outputEl) {{\n",
       "    x.observe(outputEl, {childList: true});\n",
       "}}\n",
       "\n",
       "                        })                };                });            </script>        </div>"
      ]
     },
     "metadata": {},
     "output_type": "display_data"
    }
   ],
   "source": [
    "# sns.boxplot(x = 'Pstatus', y = 'G_Mean', data = df)\n",
    "ex.box(x = 'Pstatus', y = 'G_Mean', data_frame= df, color='Pstatus',height=350, width=510, title='G Mean Vs Pstatus')"
   ]
  },
  {
   "cell_type": "code",
   "execution_count": 73,
   "id": "2944b278",
   "metadata": {},
   "outputs": [
    {
     "data": {
      "application/vnd.plotly.v1+json": {
       "config": {
        "plotlyServerURL": "https://plotly.com"
       },
       "data": [
        {
         "alignmentgroup": "True",
         "hovertemplate": "sex=F<br>famrel=%{x}<br>G_Mean=%{y}<extra></extra>",
         "legendgroup": "F",
         "marker": {
          "color": "#636efa"
         },
         "name": "F",
         "notched": false,
         "offsetgroup": "F",
         "orientation": "v",
         "showlegend": true,
         "type": "box",
         "x": [
          4,
          5,
          4,
          3,
          4,
          4,
          3,
          5,
          4,
          3,
          5,
          4,
          1,
          3,
          4,
          4,
          3,
          4,
          5,
          2,
          4,
          4,
          4,
          3,
          5,
          5,
          4,
          4,
          2,
          5,
          4,
          3,
          4,
          5,
          4,
          4,
          4,
          3,
          4,
          5,
          2,
          4,
          4,
          4,
          4,
          5,
          4,
          4,
          3,
          5,
          3,
          4,
          5,
          5,
          4,
          4,
          5,
          5,
          4,
          3,
          3,
          4,
          5,
          5,
          3,
          4,
          4,
          3,
          3,
          4,
          4,
          4,
          4,
          3,
          4,
          3,
          4,
          4,
          4,
          5,
          4,
          5,
          4,
          4,
          4,
          3,
          5,
          5,
          1,
          3,
          4,
          5,
          4,
          4,
          4,
          4,
          4,
          4,
          5,
          5,
          4,
          2,
          1,
          4,
          4,
          4,
          3,
          5,
          4,
          3,
          3,
          4,
          4,
          4,
          2,
          5,
          5,
          5,
          3,
          3,
          4,
          2,
          4,
          4,
          3,
          3,
          3,
          4,
          4,
          4,
          4,
          4,
          4,
          4,
          4,
          4,
          2,
          5,
          5,
          5,
          4,
          4,
          4,
          5,
          3,
          2,
          4,
          4,
          4,
          4,
          5,
          4,
          4,
          4,
          3,
          4,
          4,
          4,
          5,
          4,
          4,
          4,
          5,
          4,
          3,
          3,
          3,
          5,
          4,
          4,
          5,
          4,
          4,
          4,
          5,
          4,
          5,
          4,
          4,
          3,
          4,
          5,
          4,
          5,
          4,
          1,
          5,
          4,
          4,
          2,
          3,
          5,
          5,
          3,
          3,
          3,
          3,
          5,
          4,
          5,
          5,
          4,
          4,
          5,
          4,
          5,
          4,
          1
         ],
         "x0": " ",
         "xaxis": "x",
         "y": [
          5.666666666666667,
          5.333333333333333,
          8.333333333333334,
          14.666666666666666,
          8.666666666666666,
          5.666666666666667,
          9,
          11.333333333333334,
          14,
          13.666666666666666,
          9.333333333333334,
          9,
          7.666666666666667,
          7,
          11.666666666666666,
          13.333333333333334,
          9.333333333333334,
          9.666666666666666,
          7.333333333333333,
          11.333333333333334,
          7,
          12.666666666666666,
          12.333333333333334,
          9.666666666666666,
          12,
          9,
          14.666666666666666,
          15.666666666666666,
          10.666666666666666,
          9.666666666666666,
          9,
          9.333333333333334,
          10,
          15.333333333333334,
          6.666666666666667,
          8.333333333333334,
          16,
          6.333333333333333,
          11.333333333333334,
          11,
          5,
          6.333333333333333,
          9.666666666666666,
          8,
          7,
          13.666666666666666,
          7.333333333333333,
          17,
          6.333333333333333,
          10.333333333333334,
          9,
          9,
          13,
          8,
          6.333333333333333,
          10.666666666666666,
          7.666666666666667,
          15,
          9,
          12,
          15.333333333333334,
          13,
          7.666666666666667,
          9.333333333333334,
          8,
          4,
          2.6666666666666665,
          11.666666666666666,
          11.333333333333334,
          3.6666666666666665,
          1.3333333333333333,
          15.666666666666666,
          10.333333333333334,
          13.666666666666666,
          10,
          4.333333333333333,
          10.666666666666666,
          10,
          11.333333333333334,
          9,
          15,
          4.333333333333333,
          14,
          5,
          10,
          12.333333333333334,
          16.666666666666668,
          8.666666666666666,
          12.333333333333334,
          8,
          12,
          8.333333333333334,
          14.666666666666666,
          18,
          9.333333333333334,
          16,
          9.333333333333334,
          9.333333333333334,
          6.333333333333333,
          10.333333333333334,
          9.333333333333334,
          7,
          12,
          9.333333333333334,
          7,
          8,
          13,
          9.333333333333334,
          14.666666666666666,
          5.333333333333333,
          7.333333333333333,
          9.666666666666666,
          6,
          3.6666666666666665,
          16.333333333333332,
          13.333333333333334,
          8,
          15.333333333333334,
          11.333333333333334,
          13.333333333333334,
          12.333333333333334,
          11.666666666666666,
          2.3333333333333335,
          13,
          6.333333333333333,
          17.666666666666668,
          9.333333333333334,
          6.333333333333333,
          11,
          2,
          9,
          14.333333333333334,
          11,
          10,
          12,
          9.333333333333334,
          8.333333333333334,
          12,
          9,
          10,
          18.333333333333332,
          12.333333333333334,
          15,
          12.333333333333334,
          18,
          6.333333333333333,
          8.666666666666666,
          13.666666666666666,
          11,
          13.666666666666666,
          17.333333333333332,
          12.666666666666666,
          10.666666666666666,
          6,
          13,
          11.333333333333334,
          13.666666666666666,
          11.666666666666666,
          5.333333333333333,
          9.333333333333334,
          10.666666666666666,
          11,
          13,
          9.666666666666666,
          11,
          13.666666666666666,
          15.333333333333334,
          9.333333333333334,
          14,
          13.333333333333334,
          2.3333333333333335,
          5.333333333333333,
          6.333333333333333,
          15.333333333333334,
          13.333333333333334,
          5,
          16,
          9.666666666666666,
          11.333333333333334,
          5.666666666666667,
          10.333333333333334,
          13.333333333333334,
          14.333333333333334,
          9.333333333333334,
          12.666666666666666,
          11.666666666666666,
          16.666666666666668,
          13,
          10.666666666666666,
          15.333333333333334,
          11.666666666666666,
          4.333333333333333,
          10.333333333333334,
          12.333333333333334,
          7.666666666666667,
          11.666666666666666,
          5.333333333333333,
          18.666666666666668,
          8.666666666666666,
          14.666666666666666,
          9,
          15,
          10,
          9.666666666666666,
          5.666666666666667,
          4,
          8,
          3.6666666666666665
         ],
         "y0": " ",
         "yaxis": "y"
        },
        {
         "alignmentgroup": "True",
         "hovertemplate": "sex=M<br>famrel=%{x}<br>G_Mean=%{y}<extra></extra>",
         "legendgroup": "M",
         "marker": {
          "color": "#EF553B"
         },
         "name": "M",
         "notched": false,
         "offsetgroup": "M",
         "orientation": "v",
         "showlegend": true,
         "type": "box",
         "x": [
          5,
          4,
          4,
          5,
          4,
          5,
          4,
          5,
          3,
          4,
          5,
          4,
          5,
          4,
          2,
          5,
          4,
          5,
          4,
          4,
          5,
          5,
          5,
          2,
          5,
          4,
          5,
          4,
          4,
          5,
          3,
          4,
          1,
          4,
          3,
          5,
          4,
          3,
          4,
          3,
          5,
          5,
          4,
          4,
          4,
          3,
          4,
          4,
          5,
          5,
          5,
          1,
          5,
          3,
          5,
          5,
          4,
          5,
          5,
          3,
          5,
          3,
          5,
          3,
          3,
          5,
          5,
          4,
          2,
          2,
          5,
          3,
          4,
          2,
          4,
          4,
          4,
          2,
          4,
          4,
          3,
          4,
          4,
          5,
          5,
          4,
          4,
          3,
          4,
          4,
          4,
          4,
          4,
          5,
          3,
          4,
          4,
          3,
          4,
          3,
          4,
          4,
          5,
          5,
          3,
          5,
          4,
          3,
          3,
          5,
          4,
          4,
          4,
          4,
          3,
          5,
          4,
          5,
          2,
          3,
          5,
          5,
          4,
          5,
          5,
          4,
          4,
          4,
          5,
          3,
          3,
          4,
          4,
          4,
          5,
          4,
          5,
          4,
          5,
          5,
          3,
          3,
          4,
          4,
          4,
          4,
          4,
          5,
          4,
          5,
          4,
          1,
          4,
          4,
          5,
          4,
          4,
          4,
          4,
          4,
          4,
          4,
          4,
          4,
          5,
          5,
          2,
          5,
          4,
          4,
          4,
          4,
          3,
          4,
          3,
          4,
          4,
          3,
          4,
          4,
          4,
          5,
          5,
          2,
          5,
          4,
          3
         ],
         "x0": " ",
         "xaxis": "x",
         "y": [
          15,
          11.666666666666666,
          17.666666666666668,
          14.666666666666666,
          14,
          10.333333333333334,
          15.333333333333334,
          5.333333333333333,
          9.333333333333334,
          14,
          14,
          15.333333333333334,
          12.666666666666666,
          11.666666666666666,
          15.333333333333334,
          11,
          11,
          10.666666666666666,
          16.666666666666668,
          16.333333333333332,
          10,
          13.666666666666666,
          16.333333333333332,
          15.333333333333334,
          12,
          18.333333333333332,
          9,
          19.333333333333332,
          14.666666666666666,
          10.666666666666666,
          14.666666666666666,
          9.333333333333334,
          12.666666666666666,
          14.333333333333334,
          10,
          12.666666666666666,
          9.333333333333334,
          10.666666666666666,
          8.666666666666666,
          11.333333333333334,
          10.666666666666666,
          15,
          10.333333333333334,
          7,
          12.666666666666666,
          13.666666666666666,
          6.333333333333333,
          16.666666666666668,
          12.333333333333334,
          17.333333333333332,
          17.333333333333332,
          12,
          18.666666666666668,
          18.666666666666668,
          9,
          15.333333333333334,
          12.666666666666666,
          13.333333333333334,
          8,
          13.333333333333334,
          15,
          12.666666666666666,
          12.666666666666666,
          3.6666666666666665,
          18,
          3,
          3.3333333333333335,
          12.666666666666666,
          5.333333333333333,
          9,
          1.6666666666666667,
          4.333333333333333,
          9,
          3.6666666666666665,
          13,
          1.6666666666666667,
          9,
          13.666666666666666,
          15.666666666666666,
          11.333333333333334,
          4.333333333333333,
          7,
          2.3333333333333335,
          10,
          6.666666666666667,
          11.666666666666666,
          10,
          3.6666666666666665,
          14.666666666666666,
          11.333333333333334,
          9.333333333333334,
          5.666666666666667,
          9,
          10.333333333333334,
          8.333333333333334,
          12.333333333333334,
          11.666666666666666,
          11.333333333333334,
          15,
          9,
          7.666666666666667,
          9,
          13.666666666666666,
          16,
          9.333333333333334,
          12.333333333333334,
          7,
          6.666666666666667,
          12.666666666666666,
          11.666666666666666,
          9,
          11,
          9.666666666666666,
          13.333333333333334,
          7.333333333333333,
          10,
          13.333333333333334,
          4.666666666666667,
          12,
          11,
          2,
          12.333333333333334,
          18,
          12.333333333333334,
          7.333333333333333,
          4.333333333333333,
          14.333333333333334,
          7.333333333333333,
          9,
          7.666666666666667,
          8.333333333333334,
          10.666666666666666,
          8,
          11,
          14.333333333333334,
          8,
          12.333333333333334,
          17,
          9.333333333333334,
          9.666666666666666,
          14.333333333333334,
          9,
          10.333333333333334,
          8,
          10,
          11,
          14.333333333333334,
          14.333333333333334,
          11.333333333333334,
          13.666666666666666,
          12.333333333333334,
          15.666666666666666,
          10.666666666666666,
          14,
          17.666666666666668,
          8.333333333333334,
          13,
          11.666666666666666,
          10.666666666666666,
          15,
          10.333333333333334,
          8.333333333333334,
          6.666666666666667,
          15.333333333333334,
          15.666666666666666,
          9.666666666666666,
          12.333333333333334,
          7.666666666666667,
          13,
          7.666666666666667,
          8,
          11.666666666666666,
          10,
          12.333333333333334,
          10,
          13,
          12.666666666666666,
          14.333333333333334,
          6.666666666666667,
          10.666666666666666,
          3.6666666666666665,
          5.333333333333333,
          9,
          15.333333333333334,
          8.333333333333334,
          11,
          8.666666666666666
         ],
         "y0": " ",
         "yaxis": "y"
        }
       ],
       "layout": {
        "boxmode": "group",
        "height": 350,
        "legend": {
         "title": {
          "text": "sex"
         },
         "tracegroupgap": 0
        },
        "template": {
         "data": {
          "bar": [
           {
            "error_x": {
             "color": "#2a3f5f"
            },
            "error_y": {
             "color": "#2a3f5f"
            },
            "marker": {
             "line": {
              "color": "#E5ECF6",
              "width": 0.5
             }
            },
            "type": "bar"
           }
          ],
          "barpolar": [
           {
            "marker": {
             "line": {
              "color": "#E5ECF6",
              "width": 0.5
             }
            },
            "type": "barpolar"
           }
          ],
          "carpet": [
           {
            "aaxis": {
             "endlinecolor": "#2a3f5f",
             "gridcolor": "white",
             "linecolor": "white",
             "minorgridcolor": "white",
             "startlinecolor": "#2a3f5f"
            },
            "baxis": {
             "endlinecolor": "#2a3f5f",
             "gridcolor": "white",
             "linecolor": "white",
             "minorgridcolor": "white",
             "startlinecolor": "#2a3f5f"
            },
            "type": "carpet"
           }
          ],
          "choropleth": [
           {
            "colorbar": {
             "outlinewidth": 0,
             "ticks": ""
            },
            "type": "choropleth"
           }
          ],
          "contour": [
           {
            "colorbar": {
             "outlinewidth": 0,
             "ticks": ""
            },
            "colorscale": [
             [
              0,
              "#0d0887"
             ],
             [
              0.1111111111111111,
              "#46039f"
             ],
             [
              0.2222222222222222,
              "#7201a8"
             ],
             [
              0.3333333333333333,
              "#9c179e"
             ],
             [
              0.4444444444444444,
              "#bd3786"
             ],
             [
              0.5555555555555556,
              "#d8576b"
             ],
             [
              0.6666666666666666,
              "#ed7953"
             ],
             [
              0.7777777777777778,
              "#fb9f3a"
             ],
             [
              0.8888888888888888,
              "#fdca26"
             ],
             [
              1,
              "#f0f921"
             ]
            ],
            "type": "contour"
           }
          ],
          "contourcarpet": [
           {
            "colorbar": {
             "outlinewidth": 0,
             "ticks": ""
            },
            "type": "contourcarpet"
           }
          ],
          "heatmap": [
           {
            "colorbar": {
             "outlinewidth": 0,
             "ticks": ""
            },
            "colorscale": [
             [
              0,
              "#0d0887"
             ],
             [
              0.1111111111111111,
              "#46039f"
             ],
             [
              0.2222222222222222,
              "#7201a8"
             ],
             [
              0.3333333333333333,
              "#9c179e"
             ],
             [
              0.4444444444444444,
              "#bd3786"
             ],
             [
              0.5555555555555556,
              "#d8576b"
             ],
             [
              0.6666666666666666,
              "#ed7953"
             ],
             [
              0.7777777777777778,
              "#fb9f3a"
             ],
             [
              0.8888888888888888,
              "#fdca26"
             ],
             [
              1,
              "#f0f921"
             ]
            ],
            "type": "heatmap"
           }
          ],
          "heatmapgl": [
           {
            "colorbar": {
             "outlinewidth": 0,
             "ticks": ""
            },
            "colorscale": [
             [
              0,
              "#0d0887"
             ],
             [
              0.1111111111111111,
              "#46039f"
             ],
             [
              0.2222222222222222,
              "#7201a8"
             ],
             [
              0.3333333333333333,
              "#9c179e"
             ],
             [
              0.4444444444444444,
              "#bd3786"
             ],
             [
              0.5555555555555556,
              "#d8576b"
             ],
             [
              0.6666666666666666,
              "#ed7953"
             ],
             [
              0.7777777777777778,
              "#fb9f3a"
             ],
             [
              0.8888888888888888,
              "#fdca26"
             ],
             [
              1,
              "#f0f921"
             ]
            ],
            "type": "heatmapgl"
           }
          ],
          "histogram": [
           {
            "marker": {
             "colorbar": {
              "outlinewidth": 0,
              "ticks": ""
             }
            },
            "type": "histogram"
           }
          ],
          "histogram2d": [
           {
            "colorbar": {
             "outlinewidth": 0,
             "ticks": ""
            },
            "colorscale": [
             [
              0,
              "#0d0887"
             ],
             [
              0.1111111111111111,
              "#46039f"
             ],
             [
              0.2222222222222222,
              "#7201a8"
             ],
             [
              0.3333333333333333,
              "#9c179e"
             ],
             [
              0.4444444444444444,
              "#bd3786"
             ],
             [
              0.5555555555555556,
              "#d8576b"
             ],
             [
              0.6666666666666666,
              "#ed7953"
             ],
             [
              0.7777777777777778,
              "#fb9f3a"
             ],
             [
              0.8888888888888888,
              "#fdca26"
             ],
             [
              1,
              "#f0f921"
             ]
            ],
            "type": "histogram2d"
           }
          ],
          "histogram2dcontour": [
           {
            "colorbar": {
             "outlinewidth": 0,
             "ticks": ""
            },
            "colorscale": [
             [
              0,
              "#0d0887"
             ],
             [
              0.1111111111111111,
              "#46039f"
             ],
             [
              0.2222222222222222,
              "#7201a8"
             ],
             [
              0.3333333333333333,
              "#9c179e"
             ],
             [
              0.4444444444444444,
              "#bd3786"
             ],
             [
              0.5555555555555556,
              "#d8576b"
             ],
             [
              0.6666666666666666,
              "#ed7953"
             ],
             [
              0.7777777777777778,
              "#fb9f3a"
             ],
             [
              0.8888888888888888,
              "#fdca26"
             ],
             [
              1,
              "#f0f921"
             ]
            ],
            "type": "histogram2dcontour"
           }
          ],
          "mesh3d": [
           {
            "colorbar": {
             "outlinewidth": 0,
             "ticks": ""
            },
            "type": "mesh3d"
           }
          ],
          "parcoords": [
           {
            "line": {
             "colorbar": {
              "outlinewidth": 0,
              "ticks": ""
             }
            },
            "type": "parcoords"
           }
          ],
          "pie": [
           {
            "automargin": true,
            "type": "pie"
           }
          ],
          "scatter": [
           {
            "marker": {
             "colorbar": {
              "outlinewidth": 0,
              "ticks": ""
             }
            },
            "type": "scatter"
           }
          ],
          "scatter3d": [
           {
            "line": {
             "colorbar": {
              "outlinewidth": 0,
              "ticks": ""
             }
            },
            "marker": {
             "colorbar": {
              "outlinewidth": 0,
              "ticks": ""
             }
            },
            "type": "scatter3d"
           }
          ],
          "scattercarpet": [
           {
            "marker": {
             "colorbar": {
              "outlinewidth": 0,
              "ticks": ""
             }
            },
            "type": "scattercarpet"
           }
          ],
          "scattergeo": [
           {
            "marker": {
             "colorbar": {
              "outlinewidth": 0,
              "ticks": ""
             }
            },
            "type": "scattergeo"
           }
          ],
          "scattergl": [
           {
            "marker": {
             "colorbar": {
              "outlinewidth": 0,
              "ticks": ""
             }
            },
            "type": "scattergl"
           }
          ],
          "scattermapbox": [
           {
            "marker": {
             "colorbar": {
              "outlinewidth": 0,
              "ticks": ""
             }
            },
            "type": "scattermapbox"
           }
          ],
          "scatterpolar": [
           {
            "marker": {
             "colorbar": {
              "outlinewidth": 0,
              "ticks": ""
             }
            },
            "type": "scatterpolar"
           }
          ],
          "scatterpolargl": [
           {
            "marker": {
             "colorbar": {
              "outlinewidth": 0,
              "ticks": ""
             }
            },
            "type": "scatterpolargl"
           }
          ],
          "scatterternary": [
           {
            "marker": {
             "colorbar": {
              "outlinewidth": 0,
              "ticks": ""
             }
            },
            "type": "scatterternary"
           }
          ],
          "surface": [
           {
            "colorbar": {
             "outlinewidth": 0,
             "ticks": ""
            },
            "colorscale": [
             [
              0,
              "#0d0887"
             ],
             [
              0.1111111111111111,
              "#46039f"
             ],
             [
              0.2222222222222222,
              "#7201a8"
             ],
             [
              0.3333333333333333,
              "#9c179e"
             ],
             [
              0.4444444444444444,
              "#bd3786"
             ],
             [
              0.5555555555555556,
              "#d8576b"
             ],
             [
              0.6666666666666666,
              "#ed7953"
             ],
             [
              0.7777777777777778,
              "#fb9f3a"
             ],
             [
              0.8888888888888888,
              "#fdca26"
             ],
             [
              1,
              "#f0f921"
             ]
            ],
            "type": "surface"
           }
          ],
          "table": [
           {
            "cells": {
             "fill": {
              "color": "#EBF0F8"
             },
             "line": {
              "color": "white"
             }
            },
            "header": {
             "fill": {
              "color": "#C8D4E3"
             },
             "line": {
              "color": "white"
             }
            },
            "type": "table"
           }
          ]
         },
         "layout": {
          "annotationdefaults": {
           "arrowcolor": "#2a3f5f",
           "arrowhead": 0,
           "arrowwidth": 1
          },
          "autotypenumbers": "strict",
          "coloraxis": {
           "colorbar": {
            "outlinewidth": 0,
            "ticks": ""
           }
          },
          "colorscale": {
           "diverging": [
            [
             0,
             "#8e0152"
            ],
            [
             0.1,
             "#c51b7d"
            ],
            [
             0.2,
             "#de77ae"
            ],
            [
             0.3,
             "#f1b6da"
            ],
            [
             0.4,
             "#fde0ef"
            ],
            [
             0.5,
             "#f7f7f7"
            ],
            [
             0.6,
             "#e6f5d0"
            ],
            [
             0.7,
             "#b8e186"
            ],
            [
             0.8,
             "#7fbc41"
            ],
            [
             0.9,
             "#4d9221"
            ],
            [
             1,
             "#276419"
            ]
           ],
           "sequential": [
            [
             0,
             "#0d0887"
            ],
            [
             0.1111111111111111,
             "#46039f"
            ],
            [
             0.2222222222222222,
             "#7201a8"
            ],
            [
             0.3333333333333333,
             "#9c179e"
            ],
            [
             0.4444444444444444,
             "#bd3786"
            ],
            [
             0.5555555555555556,
             "#d8576b"
            ],
            [
             0.6666666666666666,
             "#ed7953"
            ],
            [
             0.7777777777777778,
             "#fb9f3a"
            ],
            [
             0.8888888888888888,
             "#fdca26"
            ],
            [
             1,
             "#f0f921"
            ]
           ],
           "sequentialminus": [
            [
             0,
             "#0d0887"
            ],
            [
             0.1111111111111111,
             "#46039f"
            ],
            [
             0.2222222222222222,
             "#7201a8"
            ],
            [
             0.3333333333333333,
             "#9c179e"
            ],
            [
             0.4444444444444444,
             "#bd3786"
            ],
            [
             0.5555555555555556,
             "#d8576b"
            ],
            [
             0.6666666666666666,
             "#ed7953"
            ],
            [
             0.7777777777777778,
             "#fb9f3a"
            ],
            [
             0.8888888888888888,
             "#fdca26"
            ],
            [
             1,
             "#f0f921"
            ]
           ]
          },
          "colorway": [
           "#636efa",
           "#EF553B",
           "#00cc96",
           "#ab63fa",
           "#FFA15A",
           "#19d3f3",
           "#FF6692",
           "#B6E880",
           "#FF97FF",
           "#FECB52"
          ],
          "font": {
           "color": "#2a3f5f"
          },
          "geo": {
           "bgcolor": "white",
           "lakecolor": "white",
           "landcolor": "#E5ECF6",
           "showlakes": true,
           "showland": true,
           "subunitcolor": "white"
          },
          "hoverlabel": {
           "align": "left"
          },
          "hovermode": "closest",
          "mapbox": {
           "style": "light"
          },
          "paper_bgcolor": "white",
          "plot_bgcolor": "#E5ECF6",
          "polar": {
           "angularaxis": {
            "gridcolor": "white",
            "linecolor": "white",
            "ticks": ""
           },
           "bgcolor": "#E5ECF6",
           "radialaxis": {
            "gridcolor": "white",
            "linecolor": "white",
            "ticks": ""
           }
          },
          "scene": {
           "xaxis": {
            "backgroundcolor": "#E5ECF6",
            "gridcolor": "white",
            "gridwidth": 2,
            "linecolor": "white",
            "showbackground": true,
            "ticks": "",
            "zerolinecolor": "white"
           },
           "yaxis": {
            "backgroundcolor": "#E5ECF6",
            "gridcolor": "white",
            "gridwidth": 2,
            "linecolor": "white",
            "showbackground": true,
            "ticks": "",
            "zerolinecolor": "white"
           },
           "zaxis": {
            "backgroundcolor": "#E5ECF6",
            "gridcolor": "white",
            "gridwidth": 2,
            "linecolor": "white",
            "showbackground": true,
            "ticks": "",
            "zerolinecolor": "white"
           }
          },
          "shapedefaults": {
           "line": {
            "color": "#2a3f5f"
           }
          },
          "ternary": {
           "aaxis": {
            "gridcolor": "white",
            "linecolor": "white",
            "ticks": ""
           },
           "baxis": {
            "gridcolor": "white",
            "linecolor": "white",
            "ticks": ""
           },
           "bgcolor": "#E5ECF6",
           "caxis": {
            "gridcolor": "white",
            "linecolor": "white",
            "ticks": ""
           }
          },
          "title": {
           "x": 0.05
          },
          "xaxis": {
           "automargin": true,
           "gridcolor": "white",
           "linecolor": "white",
           "ticks": "",
           "title": {
            "standoff": 15
           },
           "zerolinecolor": "white",
           "zerolinewidth": 2
          },
          "yaxis": {
           "automargin": true,
           "gridcolor": "white",
           "linecolor": "white",
           "ticks": "",
           "title": {
            "standoff": 15
           },
           "zerolinecolor": "white",
           "zerolinewidth": 2
          }
         }
        },
        "title": {
         "text": "G Mean Vs Famrel"
        },
        "width": 510,
        "xaxis": {
         "anchor": "y",
         "domain": [
          0,
          1
         ],
         "title": {
          "text": "famrel"
         }
        },
        "yaxis": {
         "anchor": "x",
         "domain": [
          0,
          1
         ],
         "title": {
          "text": "G_Mean"
         }
        }
       }
      },
      "text/html": [
       "<div>                            <div id=\"72fd76b2-7ac2-4c0b-8b87-3cf8158dea9a\" class=\"plotly-graph-div\" style=\"height:350px; width:510px;\"></div>            <script type=\"text/javascript\">                require([\"plotly\"], function(Plotly) {                    window.PLOTLYENV=window.PLOTLYENV || {};                                    if (document.getElementById(\"72fd76b2-7ac2-4c0b-8b87-3cf8158dea9a\")) {                    Plotly.newPlot(                        \"72fd76b2-7ac2-4c0b-8b87-3cf8158dea9a\",                        [{\"alignmentgroup\": \"True\", \"hovertemplate\": \"sex=F<br>famrel=%{x}<br>G_Mean=%{y}<extra></extra>\", \"legendgroup\": \"F\", \"marker\": {\"color\": \"#636efa\"}, \"name\": \"F\", \"notched\": false, \"offsetgroup\": \"F\", \"orientation\": \"v\", \"showlegend\": true, \"type\": \"box\", \"x\": [4, 5, 4, 3, 4, 4, 3, 5, 4, 3, 5, 4, 1, 3, 4, 4, 3, 4, 5, 2, 4, 4, 4, 3, 5, 5, 4, 4, 2, 5, 4, 3, 4, 5, 4, 4, 4, 3, 4, 5, 2, 4, 4, 4, 4, 5, 4, 4, 3, 5, 3, 4, 5, 5, 4, 4, 5, 5, 4, 3, 3, 4, 5, 5, 3, 4, 4, 3, 3, 4, 4, 4, 4, 3, 4, 3, 4, 4, 4, 5, 4, 5, 4, 4, 4, 3, 5, 5, 1, 3, 4, 5, 4, 4, 4, 4, 4, 4, 5, 5, 4, 2, 1, 4, 4, 4, 3, 5, 4, 3, 3, 4, 4, 4, 2, 5, 5, 5, 3, 3, 4, 2, 4, 4, 3, 3, 3, 4, 4, 4, 4, 4, 4, 4, 4, 4, 2, 5, 5, 5, 4, 4, 4, 5, 3, 2, 4, 4, 4, 4, 5, 4, 4, 4, 3, 4, 4, 4, 5, 4, 4, 4, 5, 4, 3, 3, 3, 5, 4, 4, 5, 4, 4, 4, 5, 4, 5, 4, 4, 3, 4, 5, 4, 5, 4, 1, 5, 4, 4, 2, 3, 5, 5, 3, 3, 3, 3, 5, 4, 5, 5, 4, 4, 5, 4, 5, 4, 1], \"x0\": \" \", \"xaxis\": \"x\", \"y\": [5.666666666666667, 5.333333333333333, 8.333333333333334, 14.666666666666666, 8.666666666666666, 5.666666666666667, 9.0, 11.333333333333334, 14.0, 13.666666666666666, 9.333333333333334, 9.0, 7.666666666666667, 7.0, 11.666666666666666, 13.333333333333334, 9.333333333333334, 9.666666666666666, 7.333333333333333, 11.333333333333334, 7.0, 12.666666666666666, 12.333333333333334, 9.666666666666666, 12.0, 9.0, 14.666666666666666, 15.666666666666666, 10.666666666666666, 9.666666666666666, 9.0, 9.333333333333334, 10.0, 15.333333333333334, 6.666666666666667, 8.333333333333334, 16.0, 6.333333333333333, 11.333333333333334, 11.0, 5.0, 6.333333333333333, 9.666666666666666, 8.0, 7.0, 13.666666666666666, 7.333333333333333, 17.0, 6.333333333333333, 10.333333333333334, 9.0, 9.0, 13.0, 8.0, 6.333333333333333, 10.666666666666666, 7.666666666666667, 15.0, 9.0, 12.0, 15.333333333333334, 13.0, 7.666666666666667, 9.333333333333334, 8.0, 4.0, 2.6666666666666665, 11.666666666666666, 11.333333333333334, 3.6666666666666665, 1.3333333333333333, 15.666666666666666, 10.333333333333334, 13.666666666666666, 10.0, 4.333333333333333, 10.666666666666666, 10.0, 11.333333333333334, 9.0, 15.0, 4.333333333333333, 14.0, 5.0, 10.0, 12.333333333333334, 16.666666666666668, 8.666666666666666, 12.333333333333334, 8.0, 12.0, 8.333333333333334, 14.666666666666666, 18.0, 9.333333333333334, 16.0, 9.333333333333334, 9.333333333333334, 6.333333333333333, 10.333333333333334, 9.333333333333334, 7.0, 12.0, 9.333333333333334, 7.0, 8.0, 13.0, 9.333333333333334, 14.666666666666666, 5.333333333333333, 7.333333333333333, 9.666666666666666, 6.0, 3.6666666666666665, 16.333333333333332, 13.333333333333334, 8.0, 15.333333333333334, 11.333333333333334, 13.333333333333334, 12.333333333333334, 11.666666666666666, 2.3333333333333335, 13.0, 6.333333333333333, 17.666666666666668, 9.333333333333334, 6.333333333333333, 11.0, 2.0, 9.0, 14.333333333333334, 11.0, 10.0, 12.0, 9.333333333333334, 8.333333333333334, 12.0, 9.0, 10.0, 18.333333333333332, 12.333333333333334, 15.0, 12.333333333333334, 18.0, 6.333333333333333, 8.666666666666666, 13.666666666666666, 11.0, 13.666666666666666, 17.333333333333332, 12.666666666666666, 10.666666666666666, 6.0, 13.0, 11.333333333333334, 13.666666666666666, 11.666666666666666, 5.333333333333333, 9.333333333333334, 10.666666666666666, 11.0, 13.0, 9.666666666666666, 11.0, 13.666666666666666, 15.333333333333334, 9.333333333333334, 14.0, 13.333333333333334, 2.3333333333333335, 5.333333333333333, 6.333333333333333, 15.333333333333334, 13.333333333333334, 5.0, 16.0, 9.666666666666666, 11.333333333333334, 5.666666666666667, 10.333333333333334, 13.333333333333334, 14.333333333333334, 9.333333333333334, 12.666666666666666, 11.666666666666666, 16.666666666666668, 13.0, 10.666666666666666, 15.333333333333334, 11.666666666666666, 4.333333333333333, 10.333333333333334, 12.333333333333334, 7.666666666666667, 11.666666666666666, 5.333333333333333, 18.666666666666668, 8.666666666666666, 14.666666666666666, 9.0, 15.0, 10.0, 9.666666666666666, 5.666666666666667, 4.0, 8.0, 3.6666666666666665], \"y0\": \" \", \"yaxis\": \"y\"}, {\"alignmentgroup\": \"True\", \"hovertemplate\": \"sex=M<br>famrel=%{x}<br>G_Mean=%{y}<extra></extra>\", \"legendgroup\": \"M\", \"marker\": {\"color\": \"#EF553B\"}, \"name\": \"M\", \"notched\": false, \"offsetgroup\": \"M\", \"orientation\": \"v\", \"showlegend\": true, \"type\": \"box\", \"x\": [5, 4, 4, 5, 4, 5, 4, 5, 3, 4, 5, 4, 5, 4, 2, 5, 4, 5, 4, 4, 5, 5, 5, 2, 5, 4, 5, 4, 4, 5, 3, 4, 1, 4, 3, 5, 4, 3, 4, 3, 5, 5, 4, 4, 4, 3, 4, 4, 5, 5, 5, 1, 5, 3, 5, 5, 4, 5, 5, 3, 5, 3, 5, 3, 3, 5, 5, 4, 2, 2, 5, 3, 4, 2, 4, 4, 4, 2, 4, 4, 3, 4, 4, 5, 5, 4, 4, 3, 4, 4, 4, 4, 4, 5, 3, 4, 4, 3, 4, 3, 4, 4, 5, 5, 3, 5, 4, 3, 3, 5, 4, 4, 4, 4, 3, 5, 4, 5, 2, 3, 5, 5, 4, 5, 5, 4, 4, 4, 5, 3, 3, 4, 4, 4, 5, 4, 5, 4, 5, 5, 3, 3, 4, 4, 4, 4, 4, 5, 4, 5, 4, 1, 4, 4, 5, 4, 4, 4, 4, 4, 4, 4, 4, 4, 5, 5, 2, 5, 4, 4, 4, 4, 3, 4, 3, 4, 4, 3, 4, 4, 4, 5, 5, 2, 5, 4, 3], \"x0\": \" \", \"xaxis\": \"x\", \"y\": [15.0, 11.666666666666666, 17.666666666666668, 14.666666666666666, 14.0, 10.333333333333334, 15.333333333333334, 5.333333333333333, 9.333333333333334, 14.0, 14.0, 15.333333333333334, 12.666666666666666, 11.666666666666666, 15.333333333333334, 11.0, 11.0, 10.666666666666666, 16.666666666666668, 16.333333333333332, 10.0, 13.666666666666666, 16.333333333333332, 15.333333333333334, 12.0, 18.333333333333332, 9.0, 19.333333333333332, 14.666666666666666, 10.666666666666666, 14.666666666666666, 9.333333333333334, 12.666666666666666, 14.333333333333334, 10.0, 12.666666666666666, 9.333333333333334, 10.666666666666666, 8.666666666666666, 11.333333333333334, 10.666666666666666, 15.0, 10.333333333333334, 7.0, 12.666666666666666, 13.666666666666666, 6.333333333333333, 16.666666666666668, 12.333333333333334, 17.333333333333332, 17.333333333333332, 12.0, 18.666666666666668, 18.666666666666668, 9.0, 15.333333333333334, 12.666666666666666, 13.333333333333334, 8.0, 13.333333333333334, 15.0, 12.666666666666666, 12.666666666666666, 3.6666666666666665, 18.0, 3.0, 3.3333333333333335, 12.666666666666666, 5.333333333333333, 9.0, 1.6666666666666667, 4.333333333333333, 9.0, 3.6666666666666665, 13.0, 1.6666666666666667, 9.0, 13.666666666666666, 15.666666666666666, 11.333333333333334, 4.333333333333333, 7.0, 2.3333333333333335, 10.0, 6.666666666666667, 11.666666666666666, 10.0, 3.6666666666666665, 14.666666666666666, 11.333333333333334, 9.333333333333334, 5.666666666666667, 9.0, 10.333333333333334, 8.333333333333334, 12.333333333333334, 11.666666666666666, 11.333333333333334, 15.0, 9.0, 7.666666666666667, 9.0, 13.666666666666666, 16.0, 9.333333333333334, 12.333333333333334, 7.0, 6.666666666666667, 12.666666666666666, 11.666666666666666, 9.0, 11.0, 9.666666666666666, 13.333333333333334, 7.333333333333333, 10.0, 13.333333333333334, 4.666666666666667, 12.0, 11.0, 2.0, 12.333333333333334, 18.0, 12.333333333333334, 7.333333333333333, 4.333333333333333, 14.333333333333334, 7.333333333333333, 9.0, 7.666666666666667, 8.333333333333334, 10.666666666666666, 8.0, 11.0, 14.333333333333334, 8.0, 12.333333333333334, 17.0, 9.333333333333334, 9.666666666666666, 14.333333333333334, 9.0, 10.333333333333334, 8.0, 10.0, 11.0, 14.333333333333334, 14.333333333333334, 11.333333333333334, 13.666666666666666, 12.333333333333334, 15.666666666666666, 10.666666666666666, 14.0, 17.666666666666668, 8.333333333333334, 13.0, 11.666666666666666, 10.666666666666666, 15.0, 10.333333333333334, 8.333333333333334, 6.666666666666667, 15.333333333333334, 15.666666666666666, 9.666666666666666, 12.333333333333334, 7.666666666666667, 13.0, 7.666666666666667, 8.0, 11.666666666666666, 10.0, 12.333333333333334, 10.0, 13.0, 12.666666666666666, 14.333333333333334, 6.666666666666667, 10.666666666666666, 3.6666666666666665, 5.333333333333333, 9.0, 15.333333333333334, 8.333333333333334, 11.0, 8.666666666666666], \"y0\": \" \", \"yaxis\": \"y\"}],                        {\"boxmode\": \"group\", \"height\": 350, \"legend\": {\"title\": {\"text\": \"sex\"}, \"tracegroupgap\": 0}, \"template\": {\"data\": {\"bar\": [{\"error_x\": {\"color\": \"#2a3f5f\"}, \"error_y\": {\"color\": \"#2a3f5f\"}, \"marker\": {\"line\": {\"color\": \"#E5ECF6\", \"width\": 0.5}}, \"type\": \"bar\"}], \"barpolar\": [{\"marker\": {\"line\": {\"color\": \"#E5ECF6\", \"width\": 0.5}}, \"type\": \"barpolar\"}], \"carpet\": [{\"aaxis\": {\"endlinecolor\": \"#2a3f5f\", \"gridcolor\": \"white\", \"linecolor\": \"white\", \"minorgridcolor\": \"white\", \"startlinecolor\": \"#2a3f5f\"}, \"baxis\": {\"endlinecolor\": \"#2a3f5f\", \"gridcolor\": \"white\", \"linecolor\": \"white\", \"minorgridcolor\": \"white\", \"startlinecolor\": \"#2a3f5f\"}, \"type\": \"carpet\"}], \"choropleth\": [{\"colorbar\": {\"outlinewidth\": 0, \"ticks\": \"\"}, \"type\": \"choropleth\"}], \"contour\": [{\"colorbar\": {\"outlinewidth\": 0, \"ticks\": \"\"}, \"colorscale\": [[0.0, \"#0d0887\"], [0.1111111111111111, \"#46039f\"], [0.2222222222222222, \"#7201a8\"], [0.3333333333333333, \"#9c179e\"], [0.4444444444444444, \"#bd3786\"], [0.5555555555555556, \"#d8576b\"], [0.6666666666666666, \"#ed7953\"], [0.7777777777777778, \"#fb9f3a\"], [0.8888888888888888, \"#fdca26\"], [1.0, \"#f0f921\"]], \"type\": \"contour\"}], \"contourcarpet\": [{\"colorbar\": {\"outlinewidth\": 0, \"ticks\": \"\"}, \"type\": \"contourcarpet\"}], \"heatmap\": [{\"colorbar\": {\"outlinewidth\": 0, \"ticks\": \"\"}, \"colorscale\": [[0.0, \"#0d0887\"], [0.1111111111111111, \"#46039f\"], [0.2222222222222222, \"#7201a8\"], [0.3333333333333333, \"#9c179e\"], [0.4444444444444444, \"#bd3786\"], [0.5555555555555556, \"#d8576b\"], [0.6666666666666666, \"#ed7953\"], [0.7777777777777778, \"#fb9f3a\"], [0.8888888888888888, \"#fdca26\"], [1.0, \"#f0f921\"]], \"type\": \"heatmap\"}], \"heatmapgl\": [{\"colorbar\": {\"outlinewidth\": 0, \"ticks\": \"\"}, \"colorscale\": [[0.0, \"#0d0887\"], [0.1111111111111111, \"#46039f\"], [0.2222222222222222, \"#7201a8\"], [0.3333333333333333, \"#9c179e\"], [0.4444444444444444, \"#bd3786\"], [0.5555555555555556, \"#d8576b\"], [0.6666666666666666, \"#ed7953\"], [0.7777777777777778, \"#fb9f3a\"], [0.8888888888888888, \"#fdca26\"], [1.0, \"#f0f921\"]], \"type\": \"heatmapgl\"}], \"histogram\": [{\"marker\": {\"colorbar\": {\"outlinewidth\": 0, \"ticks\": \"\"}}, \"type\": \"histogram\"}], \"histogram2d\": [{\"colorbar\": {\"outlinewidth\": 0, \"ticks\": \"\"}, \"colorscale\": [[0.0, \"#0d0887\"], [0.1111111111111111, \"#46039f\"], [0.2222222222222222, \"#7201a8\"], [0.3333333333333333, \"#9c179e\"], [0.4444444444444444, \"#bd3786\"], [0.5555555555555556, \"#d8576b\"], [0.6666666666666666, \"#ed7953\"], [0.7777777777777778, \"#fb9f3a\"], [0.8888888888888888, \"#fdca26\"], [1.0, \"#f0f921\"]], \"type\": \"histogram2d\"}], \"histogram2dcontour\": [{\"colorbar\": {\"outlinewidth\": 0, \"ticks\": \"\"}, \"colorscale\": [[0.0, \"#0d0887\"], [0.1111111111111111, \"#46039f\"], [0.2222222222222222, \"#7201a8\"], [0.3333333333333333, \"#9c179e\"], [0.4444444444444444, \"#bd3786\"], [0.5555555555555556, \"#d8576b\"], [0.6666666666666666, \"#ed7953\"], [0.7777777777777778, \"#fb9f3a\"], [0.8888888888888888, \"#fdca26\"], [1.0, \"#f0f921\"]], \"type\": \"histogram2dcontour\"}], \"mesh3d\": [{\"colorbar\": {\"outlinewidth\": 0, \"ticks\": \"\"}, \"type\": \"mesh3d\"}], \"parcoords\": [{\"line\": {\"colorbar\": {\"outlinewidth\": 0, \"ticks\": \"\"}}, \"type\": \"parcoords\"}], \"pie\": [{\"automargin\": true, \"type\": \"pie\"}], \"scatter\": [{\"marker\": {\"colorbar\": {\"outlinewidth\": 0, \"ticks\": \"\"}}, \"type\": \"scatter\"}], \"scatter3d\": [{\"line\": {\"colorbar\": {\"outlinewidth\": 0, \"ticks\": \"\"}}, \"marker\": {\"colorbar\": {\"outlinewidth\": 0, \"ticks\": \"\"}}, \"type\": \"scatter3d\"}], \"scattercarpet\": [{\"marker\": {\"colorbar\": {\"outlinewidth\": 0, \"ticks\": \"\"}}, \"type\": \"scattercarpet\"}], \"scattergeo\": [{\"marker\": {\"colorbar\": {\"outlinewidth\": 0, \"ticks\": \"\"}}, \"type\": \"scattergeo\"}], \"scattergl\": [{\"marker\": {\"colorbar\": {\"outlinewidth\": 0, \"ticks\": \"\"}}, \"type\": \"scattergl\"}], \"scattermapbox\": [{\"marker\": {\"colorbar\": {\"outlinewidth\": 0, \"ticks\": \"\"}}, \"type\": \"scattermapbox\"}], \"scatterpolar\": [{\"marker\": {\"colorbar\": {\"outlinewidth\": 0, \"ticks\": \"\"}}, \"type\": \"scatterpolar\"}], \"scatterpolargl\": [{\"marker\": {\"colorbar\": {\"outlinewidth\": 0, \"ticks\": \"\"}}, \"type\": \"scatterpolargl\"}], \"scatterternary\": [{\"marker\": {\"colorbar\": {\"outlinewidth\": 0, \"ticks\": \"\"}}, \"type\": \"scatterternary\"}], \"surface\": [{\"colorbar\": {\"outlinewidth\": 0, \"ticks\": \"\"}, \"colorscale\": [[0.0, \"#0d0887\"], [0.1111111111111111, \"#46039f\"], [0.2222222222222222, \"#7201a8\"], [0.3333333333333333, \"#9c179e\"], [0.4444444444444444, \"#bd3786\"], [0.5555555555555556, \"#d8576b\"], [0.6666666666666666, \"#ed7953\"], [0.7777777777777778, \"#fb9f3a\"], [0.8888888888888888, \"#fdca26\"], [1.0, \"#f0f921\"]], \"type\": \"surface\"}], \"table\": [{\"cells\": {\"fill\": {\"color\": \"#EBF0F8\"}, \"line\": {\"color\": \"white\"}}, \"header\": {\"fill\": {\"color\": \"#C8D4E3\"}, \"line\": {\"color\": \"white\"}}, \"type\": \"table\"}]}, \"layout\": {\"annotationdefaults\": {\"arrowcolor\": \"#2a3f5f\", \"arrowhead\": 0, \"arrowwidth\": 1}, \"autotypenumbers\": \"strict\", \"coloraxis\": {\"colorbar\": {\"outlinewidth\": 0, \"ticks\": \"\"}}, \"colorscale\": {\"diverging\": [[0, \"#8e0152\"], [0.1, \"#c51b7d\"], [0.2, \"#de77ae\"], [0.3, \"#f1b6da\"], [0.4, \"#fde0ef\"], [0.5, \"#f7f7f7\"], [0.6, \"#e6f5d0\"], [0.7, \"#b8e186\"], [0.8, \"#7fbc41\"], [0.9, \"#4d9221\"], [1, \"#276419\"]], \"sequential\": [[0.0, \"#0d0887\"], [0.1111111111111111, \"#46039f\"], [0.2222222222222222, \"#7201a8\"], [0.3333333333333333, \"#9c179e\"], [0.4444444444444444, \"#bd3786\"], [0.5555555555555556, \"#d8576b\"], [0.6666666666666666, \"#ed7953\"], [0.7777777777777778, \"#fb9f3a\"], [0.8888888888888888, \"#fdca26\"], [1.0, \"#f0f921\"]], \"sequentialminus\": [[0.0, \"#0d0887\"], [0.1111111111111111, \"#46039f\"], [0.2222222222222222, \"#7201a8\"], [0.3333333333333333, \"#9c179e\"], [0.4444444444444444, \"#bd3786\"], [0.5555555555555556, \"#d8576b\"], [0.6666666666666666, \"#ed7953\"], [0.7777777777777778, \"#fb9f3a\"], [0.8888888888888888, \"#fdca26\"], [1.0, \"#f0f921\"]]}, \"colorway\": [\"#636efa\", \"#EF553B\", \"#00cc96\", \"#ab63fa\", \"#FFA15A\", \"#19d3f3\", \"#FF6692\", \"#B6E880\", \"#FF97FF\", \"#FECB52\"], \"font\": {\"color\": \"#2a3f5f\"}, \"geo\": {\"bgcolor\": \"white\", \"lakecolor\": \"white\", \"landcolor\": \"#E5ECF6\", \"showlakes\": true, \"showland\": true, \"subunitcolor\": \"white\"}, \"hoverlabel\": {\"align\": \"left\"}, \"hovermode\": \"closest\", \"mapbox\": {\"style\": \"light\"}, \"paper_bgcolor\": \"white\", \"plot_bgcolor\": \"#E5ECF6\", \"polar\": {\"angularaxis\": {\"gridcolor\": \"white\", \"linecolor\": \"white\", \"ticks\": \"\"}, \"bgcolor\": \"#E5ECF6\", \"radialaxis\": {\"gridcolor\": \"white\", \"linecolor\": \"white\", \"ticks\": \"\"}}, \"scene\": {\"xaxis\": {\"backgroundcolor\": \"#E5ECF6\", \"gridcolor\": \"white\", \"gridwidth\": 2, \"linecolor\": \"white\", \"showbackground\": true, \"ticks\": \"\", \"zerolinecolor\": \"white\"}, \"yaxis\": {\"backgroundcolor\": \"#E5ECF6\", \"gridcolor\": \"white\", \"gridwidth\": 2, \"linecolor\": \"white\", \"showbackground\": true, \"ticks\": \"\", \"zerolinecolor\": \"white\"}, \"zaxis\": {\"backgroundcolor\": \"#E5ECF6\", \"gridcolor\": \"white\", \"gridwidth\": 2, \"linecolor\": \"white\", \"showbackground\": true, \"ticks\": \"\", \"zerolinecolor\": \"white\"}}, \"shapedefaults\": {\"line\": {\"color\": \"#2a3f5f\"}}, \"ternary\": {\"aaxis\": {\"gridcolor\": \"white\", \"linecolor\": \"white\", \"ticks\": \"\"}, \"baxis\": {\"gridcolor\": \"white\", \"linecolor\": \"white\", \"ticks\": \"\"}, \"bgcolor\": \"#E5ECF6\", \"caxis\": {\"gridcolor\": \"white\", \"linecolor\": \"white\", \"ticks\": \"\"}}, \"title\": {\"x\": 0.05}, \"xaxis\": {\"automargin\": true, \"gridcolor\": \"white\", \"linecolor\": \"white\", \"ticks\": \"\", \"title\": {\"standoff\": 15}, \"zerolinecolor\": \"white\", \"zerolinewidth\": 2}, \"yaxis\": {\"automargin\": true, \"gridcolor\": \"white\", \"linecolor\": \"white\", \"ticks\": \"\", \"title\": {\"standoff\": 15}, \"zerolinecolor\": \"white\", \"zerolinewidth\": 2}}}, \"title\": {\"text\": \"G Mean Vs Famrel\"}, \"width\": 510, \"xaxis\": {\"anchor\": \"y\", \"domain\": [0.0, 1.0], \"title\": {\"text\": \"famrel\"}}, \"yaxis\": {\"anchor\": \"x\", \"domain\": [0.0, 1.0], \"title\": {\"text\": \"G_Mean\"}}},                        {\"responsive\": true}                    ).then(function(){\n",
       "                            \n",
       "var gd = document.getElementById('72fd76b2-7ac2-4c0b-8b87-3cf8158dea9a');\n",
       "var x = new MutationObserver(function (mutations, observer) {{\n",
       "        var display = window.getComputedStyle(gd).display;\n",
       "        if (!display || display === 'none') {{\n",
       "            console.log([gd, 'removed!']);\n",
       "            Plotly.purge(gd);\n",
       "            observer.disconnect();\n",
       "        }}\n",
       "}});\n",
       "\n",
       "// Listen for the removal of the full notebook cells\n",
       "var notebookContainer = gd.closest('#notebook-container');\n",
       "if (notebookContainer) {{\n",
       "    x.observe(notebookContainer, {childList: true});\n",
       "}}\n",
       "\n",
       "// Listen for the clearing of the current output cell\n",
       "var outputEl = gd.closest('.output');\n",
       "if (outputEl) {{\n",
       "    x.observe(outputEl, {childList: true});\n",
       "}}\n",
       "\n",
       "                        })                };                });            </script>        </div>"
      ]
     },
     "metadata": {},
     "output_type": "display_data"
    }
   ],
   "source": [
    "# sns.boxplot(x = 'famrel', y = 'G_Mean', hue='sex', data = df)\n",
    "ex.box(x = 'famrel', y = 'G_Mean', data_frame= df, color='sex',height=350, width=510, title='G Mean Vs Famrel')"
   ]
  },
  {
   "cell_type": "markdown",
   "id": "e231d76c",
   "metadata": {},
   "source": [
    "#### The Pstatus feature doesn't impact much on the grades of the student. But for famrel, there is an impact. The male students tends to perform better when the famrel is very low comapred to their female counterpart. When famrel >=3, both the male and female students perform at par with each other."
   ]
  },
  {
   "cell_type": "code",
   "execution_count": 118,
   "id": "c63642c0",
   "metadata": {},
   "outputs": [
    {
     "data": {
      "text/html": [
       "<div>\n",
       "<style scoped>\n",
       "    .dataframe tbody tr th:only-of-type {\n",
       "        vertical-align: middle;\n",
       "    }\n",
       "\n",
       "    .dataframe tbody tr th {\n",
       "        vertical-align: top;\n",
       "    }\n",
       "\n",
       "    .dataframe thead th {\n",
       "        text-align: right;\n",
       "    }\n",
       "</style>\n",
       "<table border=\"1\" class=\"dataframe\">\n",
       "  <thead>\n",
       "    <tr style=\"text-align: right;\">\n",
       "      <th></th>\n",
       "      <th>Pstatus</th>\n",
       "      <th>Famrel</th>\n",
       "      <th>G_Mean</th>\n",
       "    </tr>\n",
       "  </thead>\n",
       "  <tbody>\n",
       "    <tr>\n",
       "      <th>174</th>\n",
       "      <td>1</td>\n",
       "      <td>4</td>\n",
       "      <td>10.000000</td>\n",
       "    </tr>\n",
       "    <tr>\n",
       "      <th>296</th>\n",
       "      <td>1</td>\n",
       "      <td>2</td>\n",
       "      <td>6.333333</td>\n",
       "    </tr>\n",
       "    <tr>\n",
       "      <th>79</th>\n",
       "      <td>1</td>\n",
       "      <td>2</td>\n",
       "      <td>5.000000</td>\n",
       "    </tr>\n",
       "    <tr>\n",
       "      <th>394</th>\n",
       "      <td>1</td>\n",
       "      <td>3</td>\n",
       "      <td>8.666667</td>\n",
       "    </tr>\n",
       "  </tbody>\n",
       "</table>\n",
       "</div>"
      ],
      "text/plain": [
       "     Pstatus  Famrel     G_Mean\n",
       "174        1       4  10.000000\n",
       "296        1       2   6.333333\n",
       "79         1       2   5.000000\n",
       "394        1       3   8.666667"
      ]
     },
     "execution_count": 118,
     "metadata": {},
     "output_type": "execute_result"
    }
   ],
   "source": [
    "data = {'Pstatus': encode_data.Pstatus, 'Famrel': encode_data.famrel, 'G_Mean': encode_data.G_Mean}\n",
    "df_2 = pd.DataFrame(data, columns = ['Pstatus', 'Famrel', 'G_Mean'])\n",
    "df_2.sample(4)"
   ]
  },
  {
   "cell_type": "code",
   "execution_count": 119,
   "id": "f2bc2aa1",
   "metadata": {},
   "outputs": [
    {
     "data": {
      "text/plain": [
       "<AxesSubplot:>"
      ]
     },
     "execution_count": 119,
     "metadata": {},
     "output_type": "execute_result"
    },
    {
     "data": {
      "image/png": "[encoded data removed]",
      "text/plain": [
       "<Figure size 648x432 with 2 Axes>"
      ]
     },
     "metadata": {
      "needs_background": "light"
     },
     "output_type": "display_data"
    }
   ],
   "source": [
    "plt.figure(figsize=(9,6))\n",
    "sns.heatmap(df_2.corr(), vmin=-1, annot=True, cmap='YlGnBu_r')"
   ]
  },
  {
   "cell_type": "markdown",
   "id": "fe915088",
   "metadata": {},
   "source": [
    "### 4. Figure out which features in the data are skewed, and propose a way to remove skew from all such columns.\n",
    "- skewness = 0: normally distributed\n",
    "- skewness > 0: more weight in the left tail of the distribution(left skewed)\n",
    "- skewness < 0: more weight in the right tail of the distribution(right skewed)."
   ]
  },
  {
   "cell_type": "code",
   "execution_count": 122,
   "id": "906c00e6",
   "metadata": {},
   "outputs": [
    {
     "name": "stderr",
     "output_type": "stream",
     "text": [
      "C:\\Users\\DEV\\AppData\\Local\\Temp/ipykernel_2552/4052606346.py:1: FutureWarning:\n",
      "\n",
      "Dropping of nuisance columns in DataFrame reductions (with 'numeric_only=None') is deprecated; in a future version this will raise TypeError.  Select only valid columns before calling the reduction.\n",
      "\n"
     ]
    },
    {
     "data": {
      "text/plain": [
       "age           0.466270\n",
       "Medu         -0.318381\n",
       "Fedu         -0.031672\n",
       "traveltime    1.607029\n",
       "studytime     0.632142\n",
       "failures      2.387026\n",
       "famrel       -0.951882\n",
       "freetime     -0.163351\n",
       "goout         0.116502\n",
       "Dalc          2.190762\n",
       "Walc          0.611960\n",
       "health       -0.494604\n",
       "absences      3.671579\n",
       "G1            0.240613\n",
       "G2           -0.431645\n",
       "G3           -0.732672\n",
       "dtype: float64"
      ]
     },
     "execution_count": 122,
     "metadata": {},
     "output_type": "execute_result"
    }
   ],
   "source": [
    "skew_df = df.skew()\n",
    "skew_df"
   ]
  },
  {
   "cell_type": "code",
   "execution_count": 124,
   "id": "50fe2be9",
   "metadata": {},
   "outputs": [
    {
     "data": {
      "text/plain": [
       "5.708860759493671"
      ]
     },
     "execution_count": 124,
     "metadata": {},
     "output_type": "execute_result"
    }
   ],
   "source": [
    "mean_absences = np.average(df.absences)\n",
    "mean_absences"
   ]
  },
  {
   "cell_type": "markdown",
   "id": "de36e80f",
   "metadata": {},
   "source": [
    "#### We can observe from skew matrix values that the feature 'absences' is left skewed. So we can apply log function on it to make it normally distributed. Before applying log function on it, we need to replace the the 0 values with the mean otherwise log function cannot be applied."
   ]
  },
  {
   "cell_type": "code",
   "execution_count": 130,
   "id": "bf1eb5e2",
   "metadata": {},
   "outputs": [],
   "source": [
    "C = df['absences'].replace(0, mean_absences)"
   ]
  },
  {
   "cell_type": "code",
   "execution_count": 154,
   "id": "7305183b",
   "metadata": {},
   "outputs": [
    {
     "name": "stderr",
     "output_type": "stream",
     "text": [
      "C:\\Users\\DEV\\anaconda3\\lib\\site-packages\\seaborn\\distributions.py:2619: FutureWarning:\n",
      "\n",
      "`distplot` is a deprecated function and will be removed in a future version. Please adapt your code to use either `displot` (a figure-level function with similar flexibility) or `histplot` (an axes-level function for histograms).\n",
      "\n"
     ]
    },
    {
     "data": {
      "image/png": "[encoded data removed]",
      "text/plain": [
       "<Figure size 864x360 with 1 Axes>"
      ]
     },
     "metadata": {
      "needs_background": "light"
     },
     "output_type": "display_data"
    }
   ],
   "source": [
    "plt.figure(figsize=(12,5))\n",
    "sns.distplot(np.log(check), kde = True, color='#0011ff', kde_kws={'color':'black'})\n",
    "plt.show()"
   ]
  },
  {
   "cell_type": "code",
   "execution_count": 168,
   "id": "3e617b8a",
   "metadata": {},
   "outputs": [
    {
     "data": {
      "application/vnd.plotly.v1+json": {
       "config": {
        "plotlyServerURL": "https://plotly.com"
       },
       "data": [
        {
         "alignmentgroup": "True",
         "hovertemplate": "x=%{x}<extra></extra>",
         "legendgroup": "",
         "marker": {
          "color": "#636efa"
         },
         "name": "",
         "notched": false,
         "offsetgroup": "",
         "orientation": "h",
         "showlegend": false,
         "type": "box",
         "x": [
          0.09873801634757151,
          0.09006358990067562,
          0.070441022221913,
          0.070441022221913,
          0.0806697636736376,
          0.0806697636736376,
          0.0806697636736376,
          0.09006358990067562,
          0.070441022221913,
          0.070441022221913,
          0.070441022221913,
          0.070441022221913,
          0.070441022221913,
          0.070441022221913,
          0.070441022221913,
          0.0806697636736376,
          0.0806697636736376,
          0.0806697636736376,
          0.09006358990067562,
          0.0806697636736376,
          0.070441022221913,
          0.070441022221913,
          0.0806697636736376,
          0.0806697636736376,
          0.070441022221913,
          0.0806697636736376,
          0.070441022221913,
          0.070441022221913,
          0.0806697636736376,
          0.0806697636736376,
          0.070441022221913,
          0.070441022221913,
          0.070441022221913,
          0.070441022221913,
          0.0806697636736376,
          0.070441022221913,
          0.070441022221913,
          0.0806697636736376,
          0.070441022221913,
          0.070441022221913,
          0.0806697636736376,
          0.070441022221913,
          0.070441022221913,
          0.070441022221913,
          0.0806697636736376,
          0.070441022221913,
          0.0806697636736376,
          0.0806697636736376,
          0.070441022221913,
          0.070441022221913,
          0.0806697636736376,
          0.070441022221913,
          0.070441022221913,
          0.070441022221913,
          0.070441022221913,
          0.0806697636736376,
          0.070441022221913,
          0.070441022221913,
          0.070441022221913,
          0.0806697636736376,
          0.0806697636736376,
          0.0806697636736376,
          0.0806697636736376,
          0.0806697636736376,
          0.070441022221913,
          0.0806697636736376,
          0.070441022221913,
          0.0806697636736376,
          0.070441022221913,
          0.070441022221913,
          0.0806697636736376,
          0.070441022221913,
          0.070441022221913,
          0.0806697636736376,
          0.0806697636736376,
          0.070441022221913,
          0.070441022221913,
          0.0806697636736376,
          0.09006358990067562,
          0.0806697636736376,
          0.070441022221913,
          0.070441022221913,
          0.070441022221913,
          0.070441022221913,
          0.070441022221913,
          0.070441022221913,
          0.0806697636736376,
          0.070441022221913,
          0.0806697636736376,
          0.0806697636736376,
          0.0806697636736376,
          0.070441022221913,
          0.0806697636736376,
          0.0806697636736376,
          0.070441022221913,
          0.070441022221913,
          0.0806697636736376,
          0.0806697636736376,
          0.0806697636736376,
          0.0806697636736376,
          0.0806697636736376,
          0.0806697636736376,
          0.070441022221913,
          0.070441022221913,
          0.070441022221913,
          0.070441022221913,
          0.070441022221913,
          0.0806697636736376,
          0.070441022221913,
          0.0806697636736376,
          0.070441022221913,
          0.0806697636736376,
          0.0806697636736376,
          0.070441022221913,
          0.070441022221913,
          0.0806697636736376,
          0.070441022221913,
          0.0806697636736376,
          0.09006358990067562,
          0.070441022221913,
          0.070441022221913,
          0.070441022221913,
          0.0806697636736376,
          0.0806697636736376,
          0.0806697636736376,
          0.070441022221913,
          0.070441022221913,
          0.10678686968932018,
          0.09873801634757151,
          0.0806697636736376,
          0.070441022221913,
          0.070441022221913,
          0.09006358990067562,
          0.0806697636736376,
          0.070441022221913,
          0.070441022221913,
          0.09006358990067562,
          0.0806697636736376,
          0.0806697636736376,
          0.070441022221913,
          0.070441022221913,
          0.0806697636736376,
          0.070441022221913,
          0.0806697636736376,
          0.09006358990067562,
          0.070441022221913,
          0.070441022221913,
          0.070441022221913,
          0.0806697636736376,
          0.070441022221913,
          0.09873801634757151,
          0.0806697636736376,
          0.070441022221913,
          0.10678686968932018,
          0.09006358990067562,
          0.070441022221913,
          0.09006358990067562,
          0.09873801634757151,
          0.0806697636736376,
          0.0806697636736376,
          0.09006358990067562,
          0.070441022221913,
          0.0806697636736376,
          0.09006358990067562,
          0.09006358990067562,
          0.0806697636736376,
          0.0806697636736376,
          0.0806697636736376,
          0.0806697636736376,
          0.0806697636736376,
          0.0806697636736376,
          0.0806697636736376,
          0.09006358990067562,
          0.0806697636736376,
          0.0806697636736376,
          0.09006358990067562,
          0.0806697636736376,
          0.09006358990067562,
          0.0806697636736376,
          0.09006358990067562,
          0.0806697636736376,
          0.0806697636736376,
          0.09006358990067562,
          0.09006358990067562,
          0.0806697636736376,
          0.09006358990067562,
          0.0806697636736376,
          0.0806697636736376,
          0.09006358990067562,
          0.09006358990067562,
          0.0806697636736376,
          0.09006358990067562,
          0.09006358990067562,
          0.0806697636736376,
          0.0806697636736376,
          0.09006358990067562,
          0.09006358990067562,
          0.0806697636736376,
          0.09006358990067562,
          0.0806697636736376,
          0.0806697636736376,
          0.0806697636736376,
          0.09006358990067562,
          0.09006358990067562,
          0.0806697636736376,
          0.09006358990067562,
          0.0806697636736376,
          0.0806697636736376,
          0.0806697636736376,
          0.09006358990067562,
          0.10678686968932018,
          0.09006358990067562,
          0.0806697636736376,
          0.09873801634757151,
          0.09006358990067562,
          0.09006358990067562,
          0.09006358990067562,
          0.09873801634757151,
          0.09006358990067562,
          0.09006358990067562,
          0.09006358990067562,
          0.09006358990067562,
          0.0806697636736376,
          0.09873801634757151,
          0.0806697636736376,
          0.09873801634757151,
          0.09006358990067562,
          0.09006358990067562,
          0.09873801634757151,
          0.09006358990067562,
          0.09006358990067562,
          0.09006358990067562,
          0.09006358990067562,
          0.0806697636736376,
          0.0806697636736376,
          0.0806697636736376,
          0.09006358990067562,
          0.0806697636736376,
          0.09006358990067562,
          0.09873801634757151,
          0.09006358990067562,
          0.09006358990067562,
          0.0806697636736376,
          0.0806697636736376,
          0.09873801634757151,
          0.0806697636736376,
          0.09006358990067562,
          0.12788928114308554,
          0.09873801634757151,
          0.0806697636736376,
          0.09873801634757151,
          0.0806697636736376,
          0.09873801634757151,
          0.0806697636736376,
          0.09006358990067562,
          0.09006358990067562,
          0.09006358990067562,
          0.10678686968932018,
          0.09873801634757151,
          0.09006358990067562,
          0.09873801634757151,
          0.09873801634757151,
          0.09873801634757151,
          0.09006358990067562,
          0.09873801634757151,
          0.09873801634757151,
          0.09006358990067562,
          0.09873801634757151,
          0.09873801634757151,
          0.09873801634757151,
          0.10678686968932018,
          0.09873801634757151,
          0.09873801634757151,
          0.09006358990067562,
          0.09006358990067562,
          0.09006358990067562,
          0.09873801634757151,
          0.09873801634757151,
          0.09873801634757151,
          0.09873801634757151,
          0.09006358990067562,
          0.09006358990067562,
          0.09873801634757151,
          0.09873801634757151,
          0.09006358990067562,
          0.09006358990067562,
          0.09873801634757151,
          0.09006358990067562,
          0.09873801634757151,
          0.09873801634757151,
          0.09873801634757151,
          0.09006358990067562,
          0.09873801634757151,
          0.09006358990067562,
          0.09873801634757151,
          0.09006358990067562,
          0.10678686968932018,
          0.09873801634757151,
          0.09873801634757151,
          0.09873801634757151,
          0.09873801634757151,
          0.09006358990067562,
          0.09006358990067562,
          0.09006358990067562,
          0.10678686968932018,
          0.09873801634757151,
          0.11428730947563441,
          0.10678686968932018,
          0.10678686968932018,
          0.10678686968932018,
          0.10678686968932018,
          0.10678686968932018,
          0.10678686968932018,
          0.10678686968932018,
          0.10678686968932018,
          0.10678686968932018,
          0.09873801634757151,
          0.09873801634757151,
          0.09006358990067562,
          0.09873801634757151,
          0.09006358990067562,
          0.09006358990067562,
          0.09006358990067562,
          0.09006358990067562,
          0.09006358990067562,
          0.09873801634757151,
          0.09006358990067562,
          0.09006358990067562,
          0.09006358990067562,
          0.09006358990067562,
          0.09873801634757151,
          0.09006358990067562,
          0.09873801634757151,
          0.09873801634757151,
          0.09873801634757151,
          0.09006358990067562,
          0.10678686968932018,
          0.09006358990067562,
          0.09873801634757151,
          0.09006358990067562,
          0.10678686968932018,
          0.09873801634757151,
          0.09873801634757151,
          0.09006358990067562,
          0.09873801634757151,
          0.09873801634757151,
          0.09873801634757151,
          0.09873801634757151,
          0.09006358990067562,
          0.09873801634757151,
          0.10678686968932018,
          0.09006358990067562,
          0.09873801634757151,
          0.10678686968932018,
          0.09006358990067562,
          0.09873801634757151,
          0.09006358990067562,
          0.09006358990067562,
          0.09873801634757151,
          0.09873801634757151,
          0.09873801634757151,
          0.09873801634757151,
          0.09873801634757151,
          0.09006358990067562,
          0.09006358990067562,
          0.09873801634757151,
          0.09873801634757151,
          0.09006358990067562,
          0.09873801634757151,
          0.09873801634757151,
          0.10678686968932018,
          0.09873801634757151,
          0.09006358990067562,
          0.09006358990067562,
          0.09873801634757151,
          0.09873801634757151,
          0.11428730947563441,
          0.09873801634757151,
          0.09873801634757151,
          0.09006358990067562,
          0.09873801634757151,
          0.09873801634757151,
          0.09006358990067562,
          0.10678686968932018,
          0.09873801634757151,
          0.09873801634757151,
          0.09873801634757151,
          0.10678686968932018,
          0.09873801634757151,
          0.09873801634757151,
          0.11428730947563441,
          0.09006358990067562,
          0.12130349039515467,
          0.09873801634757151,
          0.10678686968932018
         ],
         "x0": " ",
         "xaxis": "x",
         "y0": " ",
         "yaxis": "y"
        }
       ],
       "layout": {
        "boxmode": "group",
        "height": 280,
        "legend": {
         "tracegroupgap": 0
        },
        "margin": {
         "t": 60
        },
        "template": {
         "data": {
          "bar": [
           {
            "error_x": {
             "color": "#2a3f5f"
            },
            "error_y": {
             "color": "#2a3f5f"
            },
            "marker": {
             "line": {
              "color": "#E5ECF6",
              "width": 0.5
             }
            },
            "type": "bar"
           }
          ],
          "barpolar": [
           {
            "marker": {
             "line": {
              "color": "#E5ECF6",
              "width": 0.5
             }
            },
            "type": "barpolar"
           }
          ],
          "carpet": [
           {
            "aaxis": {
             "endlinecolor": "#2a3f5f",
             "gridcolor": "white",
             "linecolor": "white",
             "minorgridcolor": "white",
             "startlinecolor": "#2a3f5f"
            },
            "baxis": {
             "endlinecolor": "#2a3f5f",
             "gridcolor": "white",
             "linecolor": "white",
             "minorgridcolor": "white",
             "startlinecolor": "#2a3f5f"
            },
            "type": "carpet"
           }
          ],
          "choropleth": [
           {
            "colorbar": {
             "outlinewidth": 0,
             "ticks": ""
            },
            "type": "choropleth"
           }
          ],
          "contour": [
           {
            "colorbar": {
             "outlinewidth": 0,
             "ticks": ""
            },
            "colorscale": [
             [
              0,
              "#0d0887"
             ],
             [
              0.1111111111111111,
              "#46039f"
             ],
             [
              0.2222222222222222,
              "#7201a8"
             ],
             [
              0.3333333333333333,
              "#9c179e"
             ],
             [
              0.4444444444444444,
              "#bd3786"
             ],
             [
              0.5555555555555556,
              "#d8576b"
             ],
             [
              0.6666666666666666,
              "#ed7953"
             ],
             [
              0.7777777777777778,
              "#fb9f3a"
             ],
             [
              0.8888888888888888,
              "#fdca26"
             ],
             [
              1,
              "#f0f921"
             ]
            ],
            "type": "contour"
           }
          ],
          "contourcarpet": [
           {
            "colorbar": {
             "outlinewidth": 0,
             "ticks": ""
            },
            "type": "contourcarpet"
           }
          ],
          "heatmap": [
           {
            "colorbar": {
             "outlinewidth": 0,
             "ticks": ""
            },
            "colorscale": [
             [
              0,
              "#0d0887"
             ],
             [
              0.1111111111111111,
              "#46039f"
             ],
             [
              0.2222222222222222,
              "#7201a8"
             ],
             [
              0.3333333333333333,
              "#9c179e"
             ],
             [
              0.4444444444444444,
              "#bd3786"
             ],
             [
              0.5555555555555556,
              "#d8576b"
             ],
             [
              0.6666666666666666,
              "#ed7953"
             ],
             [
              0.7777777777777778,
              "#fb9f3a"
             ],
             [
              0.8888888888888888,
              "#fdca26"
             ],
             [
              1,
              "#f0f921"
             ]
            ],
            "type": "heatmap"
           }
          ],
          "heatmapgl": [
           {
            "colorbar": {
             "outlinewidth": 0,
             "ticks": ""
            },
            "colorscale": [
             [
              0,
              "#0d0887"
             ],
             [
              0.1111111111111111,
              "#46039f"
             ],
             [
              0.2222222222222222,
              "#7201a8"
             ],
             [
              0.3333333333333333,
              "#9c179e"
             ],
             [
              0.4444444444444444,
              "#bd3786"
             ],
             [
              0.5555555555555556,
              "#d8576b"
             ],
             [
              0.6666666666666666,
              "#ed7953"
             ],
             [
              0.7777777777777778,
              "#fb9f3a"
             ],
             [
              0.8888888888888888,
              "#fdca26"
             ],
             [
              1,
              "#f0f921"
             ]
            ],
            "type": "heatmapgl"
           }
          ],
          "histogram": [
           {
            "marker": {
             "colorbar": {
              "outlinewidth": 0,
              "ticks": ""
             }
            },
            "type": "histogram"
           }
          ],
          "histogram2d": [
           {
            "colorbar": {
             "outlinewidth": 0,
             "ticks": ""
            },
            "colorscale": [
             [
              0,
              "#0d0887"
             ],
             [
              0.1111111111111111,
              "#46039f"
             ],
             [
              0.2222222222222222,
              "#7201a8"
             ],
             [
              0.3333333333333333,
              "#9c179e"
             ],
             [
              0.4444444444444444,
              "#bd3786"
             ],
             [
              0.5555555555555556,
              "#d8576b"
             ],
             [
              0.6666666666666666,
              "#ed7953"
             ],
             [
              0.7777777777777778,
              "#fb9f3a"
             ],
             [
              0.8888888888888888,
              "#fdca26"
             ],
             [
              1,
              "#f0f921"
             ]
            ],
            "type": "histogram2d"
           }
          ],
          "histogram2dcontour": [
           {
            "colorbar": {
             "outlinewidth": 0,
             "ticks": ""
            },
            "colorscale": [
             [
              0,
              "#0d0887"
             ],
             [
              0.1111111111111111,
              "#46039f"
             ],
             [
              0.2222222222222222,
              "#7201a8"
             ],
             [
              0.3333333333333333,
              "#9c179e"
             ],
             [
              0.4444444444444444,
              "#bd3786"
             ],
             [
              0.5555555555555556,
              "#d8576b"
             ],
             [
              0.6666666666666666,
              "#ed7953"
             ],
             [
              0.7777777777777778,
              "#fb9f3a"
             ],
             [
              0.8888888888888888,
              "#fdca26"
             ],
             [
              1,
              "#f0f921"
             ]
            ],
            "type": "histogram2dcontour"
           }
          ],
          "mesh3d": [
           {
            "colorbar": {
             "outlinewidth": 0,
             "ticks": ""
            },
            "type": "mesh3d"
           }
          ],
          "parcoords": [
           {
            "line": {
             "colorbar": {
              "outlinewidth": 0,
              "ticks": ""
             }
            },
            "type": "parcoords"
           }
          ],
          "pie": [
           {
            "automargin": true,
            "type": "pie"
           }
          ],
          "scatter": [
           {
            "marker": {
             "colorbar": {
              "outlinewidth": 0,
              "ticks": ""
             }
            },
            "type": "scatter"
           }
          ],
          "scatter3d": [
           {
            "line": {
             "colorbar": {
              "outlinewidth": 0,
              "ticks": ""
             }
            },
            "marker": {
             "colorbar": {
              "outlinewidth": 0,
              "ticks": ""
             }
            },
            "type": "scatter3d"
           }
          ],
          "scattercarpet": [
           {
            "marker": {
             "colorbar": {
              "outlinewidth": 0,
              "ticks": ""
             }
            },
            "type": "scattercarpet"
           }
          ],
          "scattergeo": [
           {
            "marker": {
             "colorbar": {
              "outlinewidth": 0,
              "ticks": ""
             }
            },
            "type": "scattergeo"
           }
          ],
          "scattergl": [
           {
            "marker": {
             "colorbar": {
              "outlinewidth": 0,
              "ticks": ""
             }
            },
            "type": "scattergl"
           }
          ],
          "scattermapbox": [
           {
            "marker": {
             "colorbar": {
              "outlinewidth": 0,
              "ticks": ""
             }
            },
            "type": "scattermapbox"
           }
          ],
          "scatterpolar": [
           {
            "marker": {
             "colorbar": {
              "outlinewidth": 0,
              "ticks": ""
             }
            },
            "type": "scatterpolar"
           }
          ],
          "scatterpolargl": [
           {
            "marker": {
             "colorbar": {
              "outlinewidth": 0,
              "ticks": ""
             }
            },
            "type": "scatterpolargl"
           }
          ],
          "scatterternary": [
           {
            "marker": {
             "colorbar": {
              "outlinewidth": 0,
              "ticks": ""
             }
            },
            "type": "scatterternary"
           }
          ],
          "surface": [
           {
            "colorbar": {
             "outlinewidth": 0,
             "ticks": ""
            },
            "colorscale": [
             [
              0,
              "#0d0887"
             ],
             [
              0.1111111111111111,
              "#46039f"
             ],
             [
              0.2222222222222222,
              "#7201a8"
             ],
             [
              0.3333333333333333,
              "#9c179e"
             ],
             [
              0.4444444444444444,
              "#bd3786"
             ],
             [
              0.5555555555555556,
              "#d8576b"
             ],
             [
              0.6666666666666666,
              "#ed7953"
             ],
             [
              0.7777777777777778,
              "#fb9f3a"
             ],
             [
              0.8888888888888888,
              "#fdca26"
             ],
             [
              1,
              "#f0f921"
             ]
            ],
            "type": "surface"
           }
          ],
          "table": [
           {
            "cells": {
             "fill": {
              "color": "#EBF0F8"
             },
             "line": {
              "color": "white"
             }
            },
            "header": {
             "fill": {
              "color": "#C8D4E3"
             },
             "line": {
              "color": "white"
             }
            },
            "type": "table"
           }
          ]
         },
         "layout": {
          "annotationdefaults": {
           "arrowcolor": "#2a3f5f",
           "arrowhead": 0,
           "arrowwidth": 1
          },
          "autotypenumbers": "strict",
          "coloraxis": {
           "colorbar": {
            "outlinewidth": 0,
            "ticks": ""
           }
          },
          "colorscale": {
           "diverging": [
            [
             0,
             "#8e0152"
            ],
            [
             0.1,
             "#c51b7d"
            ],
            [
             0.2,
             "#de77ae"
            ],
            [
             0.3,
             "#f1b6da"
            ],
            [
             0.4,
             "#fde0ef"
            ],
            [
             0.5,
             "#f7f7f7"
            ],
            [
             0.6,
             "#e6f5d0"
            ],
            [
             0.7,
             "#b8e186"
            ],
            [
             0.8,
             "#7fbc41"
            ],
            [
             0.9,
             "#4d9221"
            ],
            [
             1,
             "#276419"
            ]
           ],
           "sequential": [
            [
             0,
             "#0d0887"
            ],
            [
             0.1111111111111111,
             "#46039f"
            ],
            [
             0.2222222222222222,
             "#7201a8"
            ],
            [
             0.3333333333333333,
             "#9c179e"
            ],
            [
             0.4444444444444444,
             "#bd3786"
            ],
            [
             0.5555555555555556,
             "#d8576b"
            ],
            [
             0.6666666666666666,
             "#ed7953"
            ],
            [
             0.7777777777777778,
             "#fb9f3a"
            ],
            [
             0.8888888888888888,
             "#fdca26"
            ],
            [
             1,
             "#f0f921"
            ]
           ],
           "sequentialminus": [
            [
             0,
             "#0d0887"
            ],
            [
             0.1111111111111111,
             "#46039f"
            ],
            [
             0.2222222222222222,
             "#7201a8"
            ],
            [
             0.3333333333333333,
             "#9c179e"
            ],
            [
             0.4444444444444444,
             "#bd3786"
            ],
            [
             0.5555555555555556,
             "#d8576b"
            ],
            [
             0.6666666666666666,
             "#ed7953"
            ],
            [
             0.7777777777777778,
             "#fb9f3a"
            ],
            [
             0.8888888888888888,
             "#fdca26"
            ],
            [
             1,
             "#f0f921"
            ]
           ]
          },
          "colorway": [
           "#636efa",
           "#EF553B",
           "#00cc96",
           "#ab63fa",
           "#FFA15A",
           "#19d3f3",
           "#FF6692",
           "#B6E880",
           "#FF97FF",
           "#FECB52"
          ],
          "font": {
           "color": "#2a3f5f"
          },
          "geo": {
           "bgcolor": "white",
           "lakecolor": "white",
           "landcolor": "#E5ECF6",
           "showlakes": true,
           "showland": true,
           "subunitcolor": "white"
          },
          "hoverlabel": {
           "align": "left"
          },
          "hovermode": "closest",
          "mapbox": {
           "style": "light"
          },
          "paper_bgcolor": "white",
          "plot_bgcolor": "#E5ECF6",
          "polar": {
           "angularaxis": {
            "gridcolor": "white",
            "linecolor": "white",
            "ticks": ""
           },
           "bgcolor": "#E5ECF6",
           "radialaxis": {
            "gridcolor": "white",
            "linecolor": "white",
            "ticks": ""
           }
          },
          "scene": {
           "xaxis": {
            "backgroundcolor": "#E5ECF6",
            "gridcolor": "white",
            "gridwidth": 2,
            "linecolor": "white",
            "showbackground": true,
            "ticks": "",
            "zerolinecolor": "white"
           },
           "yaxis": {
            "backgroundcolor": "#E5ECF6",
            "gridcolor": "white",
            "gridwidth": 2,
            "linecolor": "white",
            "showbackground": true,
            "ticks": "",
            "zerolinecolor": "white"
           },
           "zaxis": {
            "backgroundcolor": "#E5ECF6",
            "gridcolor": "white",
            "gridwidth": 2,
            "linecolor": "white",
            "showbackground": true,
            "ticks": "",
            "zerolinecolor": "white"
           }
          },
          "shapedefaults": {
           "line": {
            "color": "#2a3f5f"
           }
          },
          "ternary": {
           "aaxis": {
            "gridcolor": "white",
            "linecolor": "white",
            "ticks": ""
           },
           "baxis": {
            "gridcolor": "white",
            "linecolor": "white",
            "ticks": ""
           },
           "bgcolor": "#E5ECF6",
           "caxis": {
            "gridcolor": "white",
            "linecolor": "white",
            "ticks": ""
           }
          },
          "title": {
           "x": 0.05
          },
          "xaxis": {
           "automargin": true,
           "gridcolor": "white",
           "linecolor": "white",
           "ticks": "",
           "title": {
            "standoff": 15
           },
           "zerolinecolor": "white",
           "zerolinewidth": 2
          },
          "yaxis": {
           "automargin": true,
           "gridcolor": "white",
           "linecolor": "white",
           "ticks": "",
           "title": {
            "standoff": 15
           },
           "zerolinecolor": "white",
           "zerolinewidth": 2
          }
         }
        },
        "width": 600,
        "xaxis": {
         "anchor": "y",
         "domain": [
          0,
          1
         ],
         "title": {
          "text": "x"
         }
        },
        "yaxis": {
         "anchor": "x",
         "domain": [
          0,
          1
         ]
        }
       }
      },
      "text/html": [
       "<div>                            <div id=\"84cdd34d-592c-405d-a26e-a6b717c2b632\" class=\"plotly-graph-div\" style=\"height:280px; width:600px;\"></div>            <script type=\"text/javascript\">                require([\"plotly\"], function(Plotly) {                    window.PLOTLYENV=window.PLOTLYENV || {};                                    if (document.getElementById(\"84cdd34d-592c-405d-a26e-a6b717c2b632\")) {                    Plotly.newPlot(                        \"84cdd34d-592c-405d-a26e-a6b717c2b632\",                        [{\"alignmentgroup\": \"True\", \"hovertemplate\": \"x=%{x}<extra></extra>\", \"legendgroup\": \"\", \"marker\": {\"color\": \"#636efa\"}, \"name\": \"\", \"notched\": false, \"offsetgroup\": \"\", \"orientation\": \"h\", \"showlegend\": false, \"type\": \"box\", \"x\": [0.09873801634757151, 0.09006358990067562, 0.070441022221913, 0.070441022221913, 0.0806697636736376, 0.0806697636736376, 0.0806697636736376, 0.09006358990067562, 0.070441022221913, 0.070441022221913, 0.070441022221913, 0.070441022221913, 0.070441022221913, 0.070441022221913, 0.070441022221913, 0.0806697636736376, 0.0806697636736376, 0.0806697636736376, 0.09006358990067562, 0.0806697636736376, 0.070441022221913, 0.070441022221913, 0.0806697636736376, 0.0806697636736376, 0.070441022221913, 0.0806697636736376, 0.070441022221913, 0.070441022221913, 0.0806697636736376, 0.0806697636736376, 0.070441022221913, 0.070441022221913, 0.070441022221913, 0.070441022221913, 0.0806697636736376, 0.070441022221913, 0.070441022221913, 0.0806697636736376, 0.070441022221913, 0.070441022221913, 0.0806697636736376, 0.070441022221913, 0.070441022221913, 0.070441022221913, 0.0806697636736376, 0.070441022221913, 0.0806697636736376, 0.0806697636736376, 0.070441022221913, 0.070441022221913, 0.0806697636736376, 0.070441022221913, 0.070441022221913, 0.070441022221913, 0.070441022221913, 0.0806697636736376, 0.070441022221913, 0.070441022221913, 0.070441022221913, 0.0806697636736376, 0.0806697636736376, 0.0806697636736376, 0.0806697636736376, 0.0806697636736376, 0.070441022221913, 0.0806697636736376, 0.070441022221913, 0.0806697636736376, 0.070441022221913, 0.070441022221913, 0.0806697636736376, 0.070441022221913, 0.070441022221913, 0.0806697636736376, 0.0806697636736376, 0.070441022221913, 0.070441022221913, 0.0806697636736376, 0.09006358990067562, 0.0806697636736376, 0.070441022221913, 0.070441022221913, 0.070441022221913, 0.070441022221913, 0.070441022221913, 0.070441022221913, 0.0806697636736376, 0.070441022221913, 0.0806697636736376, 0.0806697636736376, 0.0806697636736376, 0.070441022221913, 0.0806697636736376, 0.0806697636736376, 0.070441022221913, 0.070441022221913, 0.0806697636736376, 0.0806697636736376, 0.0806697636736376, 0.0806697636736376, 0.0806697636736376, 0.0806697636736376, 0.070441022221913, 0.070441022221913, 0.070441022221913, 0.070441022221913, 0.070441022221913, 0.0806697636736376, 0.070441022221913, 0.0806697636736376, 0.070441022221913, 0.0806697636736376, 0.0806697636736376, 0.070441022221913, 0.070441022221913, 0.0806697636736376, 0.070441022221913, 0.0806697636736376, 0.09006358990067562, 0.070441022221913, 0.070441022221913, 0.070441022221913, 0.0806697636736376, 0.0806697636736376, 0.0806697636736376, 0.070441022221913, 0.070441022221913, 0.10678686968932018, 0.09873801634757151, 0.0806697636736376, 0.070441022221913, 0.070441022221913, 0.09006358990067562, 0.0806697636736376, 0.070441022221913, 0.070441022221913, 0.09006358990067562, 0.0806697636736376, 0.0806697636736376, 0.070441022221913, 0.070441022221913, 0.0806697636736376, 0.070441022221913, 0.0806697636736376, 0.09006358990067562, 0.070441022221913, 0.070441022221913, 0.070441022221913, 0.0806697636736376, 0.070441022221913, 0.09873801634757151, 0.0806697636736376, 0.070441022221913, 0.10678686968932018, 0.09006358990067562, 0.070441022221913, 0.09006358990067562, 0.09873801634757151, 0.0806697636736376, 0.0806697636736376, 0.09006358990067562, 0.070441022221913, 0.0806697636736376, 0.09006358990067562, 0.09006358990067562, 0.0806697636736376, 0.0806697636736376, 0.0806697636736376, 0.0806697636736376, 0.0806697636736376, 0.0806697636736376, 0.0806697636736376, 0.09006358990067562, 0.0806697636736376, 0.0806697636736376, 0.09006358990067562, 0.0806697636736376, 0.09006358990067562, 0.0806697636736376, 0.09006358990067562, 0.0806697636736376, 0.0806697636736376, 0.09006358990067562, 0.09006358990067562, 0.0806697636736376, 0.09006358990067562, 0.0806697636736376, 0.0806697636736376, 0.09006358990067562, 0.09006358990067562, 0.0806697636736376, 0.09006358990067562, 0.09006358990067562, 0.0806697636736376, 0.0806697636736376, 0.09006358990067562, 0.09006358990067562, 0.0806697636736376, 0.09006358990067562, 0.0806697636736376, 0.0806697636736376, 0.0806697636736376, 0.09006358990067562, 0.09006358990067562, 0.0806697636736376, 0.09006358990067562, 0.0806697636736376, 0.0806697636736376, 0.0806697636736376, 0.09006358990067562, 0.10678686968932018, 0.09006358990067562, 0.0806697636736376, 0.09873801634757151, 0.09006358990067562, 0.09006358990067562, 0.09006358990067562, 0.09873801634757151, 0.09006358990067562, 0.09006358990067562, 0.09006358990067562, 0.09006358990067562, 0.0806697636736376, 0.09873801634757151, 0.0806697636736376, 0.09873801634757151, 0.09006358990067562, 0.09006358990067562, 0.09873801634757151, 0.09006358990067562, 0.09006358990067562, 0.09006358990067562, 0.09006358990067562, 0.0806697636736376, 0.0806697636736376, 0.0806697636736376, 0.09006358990067562, 0.0806697636736376, 0.09006358990067562, 0.09873801634757151, 0.09006358990067562, 0.09006358990067562, 0.0806697636736376, 0.0806697636736376, 0.09873801634757151, 0.0806697636736376, 0.09006358990067562, 0.12788928114308554, 0.09873801634757151, 0.0806697636736376, 0.09873801634757151, 0.0806697636736376, 0.09873801634757151, 0.0806697636736376, 0.09006358990067562, 0.09006358990067562, 0.09006358990067562, 0.10678686968932018, 0.09873801634757151, 0.09006358990067562, 0.09873801634757151, 0.09873801634757151, 0.09873801634757151, 0.09006358990067562, 0.09873801634757151, 0.09873801634757151, 0.09006358990067562, 0.09873801634757151, 0.09873801634757151, 0.09873801634757151, 0.10678686968932018, 0.09873801634757151, 0.09873801634757151, 0.09006358990067562, 0.09006358990067562, 0.09006358990067562, 0.09873801634757151, 0.09873801634757151, 0.09873801634757151, 0.09873801634757151, 0.09006358990067562, 0.09006358990067562, 0.09873801634757151, 0.09873801634757151, 0.09006358990067562, 0.09006358990067562, 0.09873801634757151, 0.09006358990067562, 0.09873801634757151, 0.09873801634757151, 0.09873801634757151, 0.09006358990067562, 0.09873801634757151, 0.09006358990067562, 0.09873801634757151, 0.09006358990067562, 0.10678686968932018, 0.09873801634757151, 0.09873801634757151, 0.09873801634757151, 0.09873801634757151, 0.09006358990067562, 0.09006358990067562, 0.09006358990067562, 0.10678686968932018, 0.09873801634757151, 0.11428730947563441, 0.10678686968932018, 0.10678686968932018, 0.10678686968932018, 0.10678686968932018, 0.10678686968932018, 0.10678686968932018, 0.10678686968932018, 0.10678686968932018, 0.10678686968932018, 0.09873801634757151, 0.09873801634757151, 0.09006358990067562, 0.09873801634757151, 0.09006358990067562, 0.09006358990067562, 0.09006358990067562, 0.09006358990067562, 0.09006358990067562, 0.09873801634757151, 0.09006358990067562, 0.09006358990067562, 0.09006358990067562, 0.09006358990067562, 0.09873801634757151, 0.09006358990067562, 0.09873801634757151, 0.09873801634757151, 0.09873801634757151, 0.09006358990067562, 0.10678686968932018, 0.09006358990067562, 0.09873801634757151, 0.09006358990067562, 0.10678686968932018, 0.09873801634757151, 0.09873801634757151, 0.09006358990067562, 0.09873801634757151, 0.09873801634757151, 0.09873801634757151, 0.09873801634757151, 0.09006358990067562, 0.09873801634757151, 0.10678686968932018, 0.09006358990067562, 0.09873801634757151, 0.10678686968932018, 0.09006358990067562, 0.09873801634757151, 0.09006358990067562, 0.09006358990067562, 0.09873801634757151, 0.09873801634757151, 0.09873801634757151, 0.09873801634757151, 0.09873801634757151, 0.09006358990067562, 0.09006358990067562, 0.09873801634757151, 0.09873801634757151, 0.09006358990067562, 0.09873801634757151, 0.09873801634757151, 0.10678686968932018, 0.09873801634757151, 0.09006358990067562, 0.09006358990067562, 0.09873801634757151, 0.09873801634757151, 0.11428730947563441, 0.09873801634757151, 0.09873801634757151, 0.09006358990067562, 0.09873801634757151, 0.09873801634757151, 0.09006358990067562, 0.10678686968932018, 0.09873801634757151, 0.09873801634757151, 0.09873801634757151, 0.10678686968932018, 0.09873801634757151, 0.09873801634757151, 0.11428730947563441, 0.09006358990067562, 0.12130349039515467, 0.09873801634757151, 0.10678686968932018], \"x0\": \" \", \"xaxis\": \"x\", \"y0\": \" \", \"yaxis\": \"y\"}],                        {\"boxmode\": \"group\", \"height\": 280, \"legend\": {\"tracegroupgap\": 0}, \"margin\": {\"t\": 60}, \"template\": {\"data\": {\"bar\": [{\"error_x\": {\"color\": \"#2a3f5f\"}, \"error_y\": {\"color\": \"#2a3f5f\"}, \"marker\": {\"line\": {\"color\": \"#E5ECF6\", \"width\": 0.5}}, \"type\": \"bar\"}], \"barpolar\": [{\"marker\": {\"line\": {\"color\": \"#E5ECF6\", \"width\": 0.5}}, \"type\": \"barpolar\"}], \"carpet\": [{\"aaxis\": {\"endlinecolor\": \"#2a3f5f\", \"gridcolor\": \"white\", \"linecolor\": \"white\", \"minorgridcolor\": \"white\", \"startlinecolor\": \"#2a3f5f\"}, \"baxis\": {\"endlinecolor\": \"#2a3f5f\", \"gridcolor\": \"white\", \"linecolor\": \"white\", \"minorgridcolor\": \"white\", \"startlinecolor\": \"#2a3f5f\"}, \"type\": \"carpet\"}], \"choropleth\": [{\"colorbar\": {\"outlinewidth\": 0, \"ticks\": \"\"}, \"type\": \"choropleth\"}], \"contour\": [{\"colorbar\": {\"outlinewidth\": 0, \"ticks\": \"\"}, \"colorscale\": [[0.0, \"#0d0887\"], [0.1111111111111111, \"#46039f\"], [0.2222222222222222, \"#7201a8\"], [0.3333333333333333, \"#9c179e\"], [0.4444444444444444, \"#bd3786\"], [0.5555555555555556, \"#d8576b\"], [0.6666666666666666, \"#ed7953\"], [0.7777777777777778, \"#fb9f3a\"], [0.8888888888888888, \"#fdca26\"], [1.0, \"#f0f921\"]], \"type\": \"contour\"}], \"contourcarpet\": [{\"colorbar\": {\"outlinewidth\": 0, \"ticks\": \"\"}, \"type\": \"contourcarpet\"}], \"heatmap\": [{\"colorbar\": {\"outlinewidth\": 0, \"ticks\": \"\"}, \"colorscale\": [[0.0, \"#0d0887\"], [0.1111111111111111, \"#46039f\"], [0.2222222222222222, \"#7201a8\"], [0.3333333333333333, \"#9c179e\"], [0.4444444444444444, \"#bd3786\"], [0.5555555555555556, \"#d8576b\"], [0.6666666666666666, \"#ed7953\"], [0.7777777777777778, \"#fb9f3a\"], [0.8888888888888888, \"#fdca26\"], [1.0, \"#f0f921\"]], \"type\": \"heatmap\"}], \"heatmapgl\": [{\"colorbar\": {\"outlinewidth\": 0, \"ticks\": \"\"}, \"colorscale\": [[0.0, \"#0d0887\"], [0.1111111111111111, \"#46039f\"], [0.2222222222222222, \"#7201a8\"], [0.3333333333333333, \"#9c179e\"], [0.4444444444444444, \"#bd3786\"], [0.5555555555555556, \"#d8576b\"], [0.6666666666666666, \"#ed7953\"], [0.7777777777777778, \"#fb9f3a\"], [0.8888888888888888, \"#fdca26\"], [1.0, \"#f0f921\"]], \"type\": \"heatmapgl\"}], \"histogram\": [{\"marker\": {\"colorbar\": {\"outlinewidth\": 0, \"ticks\": \"\"}}, \"type\": \"histogram\"}], \"histogram2d\": [{\"colorbar\": {\"outlinewidth\": 0, \"ticks\": \"\"}, \"colorscale\": [[0.0, \"#0d0887\"], [0.1111111111111111, \"#46039f\"], [0.2222222222222222, \"#7201a8\"], [0.3333333333333333, \"#9c179e\"], [0.4444444444444444, \"#bd3786\"], [0.5555555555555556, \"#d8576b\"], [0.6666666666666666, \"#ed7953\"], [0.7777777777777778, \"#fb9f3a\"], [0.8888888888888888, \"#fdca26\"], [1.0, \"#f0f921\"]], \"type\": \"histogram2d\"}], \"histogram2dcontour\": [{\"colorbar\": {\"outlinewidth\": 0, \"ticks\": \"\"}, \"colorscale\": [[0.0, \"#0d0887\"], [0.1111111111111111, \"#46039f\"], [0.2222222222222222, \"#7201a8\"], [0.3333333333333333, \"#9c179e\"], [0.4444444444444444, \"#bd3786\"], [0.5555555555555556, \"#d8576b\"], [0.6666666666666666, \"#ed7953\"], [0.7777777777777778, \"#fb9f3a\"], [0.8888888888888888, \"#fdca26\"], [1.0, \"#f0f921\"]], \"type\": \"histogram2dcontour\"}], \"mesh3d\": [{\"colorbar\": {\"outlinewidth\": 0, \"ticks\": \"\"}, \"type\": \"mesh3d\"}], \"parcoords\": [{\"line\": {\"colorbar\": {\"outlinewidth\": 0, \"ticks\": \"\"}}, \"type\": \"parcoords\"}], \"pie\": [{\"automargin\": true, \"type\": \"pie\"}], \"scatter\": [{\"marker\": {\"colorbar\": {\"outlinewidth\": 0, \"ticks\": \"\"}}, \"type\": \"scatter\"}], \"scatter3d\": [{\"line\": {\"colorbar\": {\"outlinewidth\": 0, \"ticks\": \"\"}}, \"marker\": {\"colorbar\": {\"outlinewidth\": 0, \"ticks\": \"\"}}, \"type\": \"scatter3d\"}], \"scattercarpet\": [{\"marker\": {\"colorbar\": {\"outlinewidth\": 0, \"ticks\": \"\"}}, \"type\": \"scattercarpet\"}], \"scattergeo\": [{\"marker\": {\"colorbar\": {\"outlinewidth\": 0, \"ticks\": \"\"}}, \"type\": \"scattergeo\"}], \"scattergl\": [{\"marker\": {\"colorbar\": {\"outlinewidth\": 0, \"ticks\": \"\"}}, \"type\": \"scattergl\"}], \"scattermapbox\": [{\"marker\": {\"colorbar\": {\"outlinewidth\": 0, \"ticks\": \"\"}}, \"type\": \"scattermapbox\"}], \"scatterpolar\": [{\"marker\": {\"colorbar\": {\"outlinewidth\": 0, \"ticks\": \"\"}}, \"type\": \"scatterpolar\"}], \"scatterpolargl\": [{\"marker\": {\"colorbar\": {\"outlinewidth\": 0, \"ticks\": \"\"}}, \"type\": \"scatterpolargl\"}], \"scatterternary\": [{\"marker\": {\"colorbar\": {\"outlinewidth\": 0, \"ticks\": \"\"}}, \"type\": \"scatterternary\"}], \"surface\": [{\"colorbar\": {\"outlinewidth\": 0, \"ticks\": \"\"}, \"colorscale\": [[0.0, \"#0d0887\"], [0.1111111111111111, \"#46039f\"], [0.2222222222222222, \"#7201a8\"], [0.3333333333333333, \"#9c179e\"], [0.4444444444444444, \"#bd3786\"], [0.5555555555555556, \"#d8576b\"], [0.6666666666666666, \"#ed7953\"], [0.7777777777777778, \"#fb9f3a\"], [0.8888888888888888, \"#fdca26\"], [1.0, \"#f0f921\"]], \"type\": \"surface\"}], \"table\": [{\"cells\": {\"fill\": {\"color\": \"#EBF0F8\"}, \"line\": {\"color\": \"white\"}}, \"header\": {\"fill\": {\"color\": \"#C8D4E3\"}, \"line\": {\"color\": \"white\"}}, \"type\": \"table\"}]}, \"layout\": {\"annotationdefaults\": {\"arrowcolor\": \"#2a3f5f\", \"arrowhead\": 0, \"arrowwidth\": 1}, \"autotypenumbers\": \"strict\", \"coloraxis\": {\"colorbar\": {\"outlinewidth\": 0, \"ticks\": \"\"}}, \"colorscale\": {\"diverging\": [[0, \"#8e0152\"], [0.1, \"#c51b7d\"], [0.2, \"#de77ae\"], [0.3, \"#f1b6da\"], [0.4, \"#fde0ef\"], [0.5, \"#f7f7f7\"], [0.6, \"#e6f5d0\"], [0.7, \"#b8e186\"], [0.8, \"#7fbc41\"], [0.9, \"#4d9221\"], [1, \"#276419\"]], \"sequential\": [[0.0, \"#0d0887\"], [0.1111111111111111, \"#46039f\"], [0.2222222222222222, \"#7201a8\"], [0.3333333333333333, \"#9c179e\"], [0.4444444444444444, \"#bd3786\"], [0.5555555555555556, \"#d8576b\"], [0.6666666666666666, \"#ed7953\"], [0.7777777777777778, \"#fb9f3a\"], [0.8888888888888888, \"#fdca26\"], [1.0, \"#f0f921\"]], \"sequentialminus\": [[0.0, \"#0d0887\"], [0.1111111111111111, \"#46039f\"], [0.2222222222222222, \"#7201a8\"], [0.3333333333333333, \"#9c179e\"], [0.4444444444444444, \"#bd3786\"], [0.5555555555555556, \"#d8576b\"], [0.6666666666666666, \"#ed7953\"], [0.7777777777777778, \"#fb9f3a\"], [0.8888888888888888, \"#fdca26\"], [1.0, \"#f0f921\"]]}, \"colorway\": [\"#636efa\", \"#EF553B\", \"#00cc96\", \"#ab63fa\", \"#FFA15A\", \"#19d3f3\", \"#FF6692\", \"#B6E880\", \"#FF97FF\", \"#FECB52\"], \"font\": {\"color\": \"#2a3f5f\"}, \"geo\": {\"bgcolor\": \"white\", \"lakecolor\": \"white\", \"landcolor\": \"#E5ECF6\", \"showlakes\": true, \"showland\": true, \"subunitcolor\": \"white\"}, \"hoverlabel\": {\"align\": \"left\"}, \"hovermode\": \"closest\", \"mapbox\": {\"style\": \"light\"}, \"paper_bgcolor\": \"white\", \"plot_bgcolor\": \"#E5ECF6\", \"polar\": {\"angularaxis\": {\"gridcolor\": \"white\", \"linecolor\": \"white\", \"ticks\": \"\"}, \"bgcolor\": \"#E5ECF6\", \"radialaxis\": {\"gridcolor\": \"white\", \"linecolor\": \"white\", \"ticks\": \"\"}}, \"scene\": {\"xaxis\": {\"backgroundcolor\": \"#E5ECF6\", \"gridcolor\": \"white\", \"gridwidth\": 2, \"linecolor\": \"white\", \"showbackground\": true, \"ticks\": \"\", \"zerolinecolor\": \"white\"}, \"yaxis\": {\"backgroundcolor\": \"#E5ECF6\", \"gridcolor\": \"white\", \"gridwidth\": 2, \"linecolor\": \"white\", \"showbackground\": true, \"ticks\": \"\", \"zerolinecolor\": \"white\"}, \"zaxis\": {\"backgroundcolor\": \"#E5ECF6\", \"gridcolor\": \"white\", \"gridwidth\": 2, \"linecolor\": \"white\", \"showbackground\": true, \"ticks\": \"\", \"zerolinecolor\": \"white\"}}, \"shapedefaults\": {\"line\": {\"color\": \"#2a3f5f\"}}, \"ternary\": {\"aaxis\": {\"gridcolor\": \"white\", \"linecolor\": \"white\", \"ticks\": \"\"}, \"baxis\": {\"gridcolor\": \"white\", \"linecolor\": \"white\", \"ticks\": \"\"}, \"bgcolor\": \"#E5ECF6\", \"caxis\": {\"gridcolor\": \"white\", \"linecolor\": \"white\", \"ticks\": \"\"}}, \"title\": {\"x\": 0.05}, \"xaxis\": {\"automargin\": true, \"gridcolor\": \"white\", \"linecolor\": \"white\", \"ticks\": \"\", \"title\": {\"standoff\": 15}, \"zerolinecolor\": \"white\", \"zerolinewidth\": 2}, \"yaxis\": {\"automargin\": true, \"gridcolor\": \"white\", \"linecolor\": \"white\", \"ticks\": \"\", \"title\": {\"standoff\": 15}, \"zerolinecolor\": \"white\", \"zerolinewidth\": 2}}}, \"width\": 600, \"xaxis\": {\"anchor\": \"y\", \"domain\": [0.0, 1.0], \"title\": {\"text\": \"x\"}}, \"yaxis\": {\"anchor\": \"x\", \"domain\": [0.0, 1.0]}},                        {\"responsive\": true}                    ).then(function(){\n",
       "                            \n",
       "var gd = document.getElementById('84cdd34d-592c-405d-a26e-a6b717c2b632');\n",
       "var x = new MutationObserver(function (mutations, observer) {{\n",
       "        var display = window.getComputedStyle(gd).display;\n",
       "        if (!display || display === 'none') {{\n",
       "            console.log([gd, 'removed!']);\n",
       "            Plotly.purge(gd);\n",
       "            observer.disconnect();\n",
       "        }}\n",
       "}});\n",
       "\n",
       "// Listen for the removal of the full notebook cells\n",
       "var notebookContainer = gd.closest('#notebook-container');\n",
       "if (notebookContainer) {{\n",
       "    x.observe(notebookContainer, {childList: true});\n",
       "}}\n",
       "\n",
       "// Listen for the clearing of the current output cell\n",
       "var outputEl = gd.closest('.output');\n",
       "if (outputEl) {{\n",
       "    x.observe(outputEl, {childList: true});\n",
       "}}\n",
       "\n",
       "                        })                };                });            </script>        </div>"
      ]
     },
     "metadata": {},
     "output_type": "display_data"
    }
   ],
   "source": [
    "ex.box(x= np.log10( np.log10(df.age) ), height=280, width=600)\n",
    "# sns.boxplot(np.log10(np.log10(new_alcdata.age)))"
   ]
  },
  {
   "cell_type": "code",
   "execution_count": 170,
   "id": "7f22886d",
   "metadata": {},
   "outputs": [
    {
     "data": {
      "text/plain": [
       "0      0.000000\n",
       "1      0.000000\n",
       "2      0.693147\n",
       "3      0.000000\n",
       "4      0.000000\n",
       "         ...   \n",
       "390    1.386294\n",
       "391    1.098612\n",
       "392    1.098612\n",
       "393    1.098612\n",
       "394    1.098612\n",
       "Name: Dalc, Length: 395, dtype: float64"
      ]
     },
     "execution_count": 170,
     "metadata": {},
     "output_type": "execute_result"
    }
   ],
   "source": [
    "np.log(df['Dalc'])"
   ]
  },
  {
   "cell_type": "markdown",
   "id": "d43e0685",
   "metadata": {},
   "source": [
    "#### In the Workday Alcohol Consumption(Dalc) feature also, it's left skewed and hence we apply log on it. But before apply for the second time, we replace the 0's generated by the previous log function with the mean of the log values generated earlier."
   ]
  },
  {
   "cell_type": "code",
   "execution_count": 179,
   "id": "1e559d4d",
   "metadata": {},
   "outputs": [
    {
     "name": "stderr",
     "output_type": "stream",
     "text": [
      "C:\\Users\\DEV\\anaconda3\\lib\\site-packages\\pandas\\core\\arraylike.py:364: RuntimeWarning:\n",
      "\n",
      "invalid value encountered in log\n",
      "\n",
      "C:\\Users\\DEV\\anaconda3\\lib\\site-packages\\seaborn\\distributions.py:2619: FutureWarning:\n",
      "\n",
      "`distplot` is a deprecated function and will be removed in a future version. Please adapt your code to use either `displot` (a figure-level function with similar flexibility) or `histplot` (an axes-level function for histograms).\n",
      "\n"
     ]
    },
    {
     "data": {
      "text/plain": [
       "<AxesSubplot:xlabel='Dalc', ylabel='Density'>"
      ]
     },
     "execution_count": 179,
     "metadata": {},
     "output_type": "execute_result"
    },
    {
     "data": {
      "image/png": "[encoded data removed]",
      "text/plain": [
       "<Figure size 648x288 with 1 Axes>"
      ]
     },
     "metadata": {
      "needs_background": "light"
     },
     "output_type": "display_data"
    }
   ],
   "source": [
    "plt.figure(figsize=(9,4))\n",
    "sns.distplot(np.log(np.log(np.log(df['Dalc']).replace(0, np.mean(np.log(df['Dalc']))))), kde=True,\n",
    "             color='#0011ff', kde_kws={'color':'black'})"
   ]
  },
  {
   "cell_type": "markdown",
   "id": "8b55f293",
   "metadata": {},
   "source": [
    "#### From the skew matrix, it can be seen that that the 'famrel' feature is having negative skew that is it's right skewed. To remove the skewness from the data we apply the power function it."
   ]
  },
  {
   "cell_type": "code",
   "execution_count": 185,
   "id": "6c43c200",
   "metadata": {},
   "outputs": [
    {
     "name": "stderr",
     "output_type": "stream",
     "text": [
      "C:\\Users\\DEV\\anaconda3\\lib\\site-packages\\seaborn\\distributions.py:2619: FutureWarning:\n",
      "\n",
      "`distplot` is a deprecated function and will be removed in a future version. Please adapt your code to use either `displot` (a figure-level function with similar flexibility) or `histplot` (an axes-level function for histograms).\n",
      "\n"
     ]
    },
    {
     "data": {
      "text/plain": [
       "<AxesSubplot:xlabel='famrel', ylabel='Density'>"
      ]
     },
     "execution_count": 185,
     "metadata": {},
     "output_type": "execute_result"
    },
    {
     "data": {
      "image/png": "[encoded data removed]",
      "text/plain": [
       "<Figure size 792x360 with 1 Axes>"
      ]
     },
     "metadata": {
      "needs_background": "light"
     },
     "output_type": "display_data"
    }
   ],
   "source": [
    "plt.figure(figsize=(11,5))\n",
    "sns.distplot( np.power(df['famrel'],3), kde=True,\n",
    "             color='#0011ff', kde_kws={'color':'black'} )"
   ]
  },
  {
   "cell_type": "markdown",
   "id": "49c23bef",
   "metadata": {},
   "source": [
    "### I Hope You Liked the Notebook and Learned something new from the Notebook"
   ]
  },
  {
   "cell_type": "code",
   "execution_count": null,
   "id": "1a2b24f4",
   "metadata": {},
   "outputs": [],
   "source": []
  }
 ],
 "metadata": {
  "kernelspec": {
   "display_name": "Python 3",
   "language": "python",
   "name": "python3"
  },
  "language_info": {
   "codemirror_mode": {
    "name": "ipython",
    "version": 3
   },
   "file_extension": ".py",
   "mimetype": "text/x-python",
   "name": "python",
   "nbconvert_exporter": "python",
   "pygments_lexer": "ipython3",
   "version": "3.8.5"
  }
 },
 "nbformat": 4,
 "nbformat_minor": 5
}
